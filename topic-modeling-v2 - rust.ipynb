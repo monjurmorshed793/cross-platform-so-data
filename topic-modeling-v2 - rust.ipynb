{
 "cells": [
  {
   "cell_type": "code",
   "execution_count": 1,
   "metadata": {
    "scrolled": true
   },
   "outputs": [],
   "source": [
    "import sys\n",
    "# !{sys.executable} -m pip install spacy\n",
    "# !{sys.executable} -m pip install pyldavis\n",
    "# !{sys.executable} -m spacy download en"
   ]
  },
  {
   "cell_type": "code",
   "execution_count": 2,
   "metadata": {},
   "outputs": [],
   "source": [
    "# Gensim\n",
    "import gensim\n",
    "import gensim.corpora as corpora\n",
    "from gensim.utils import simple_preprocess\n",
    "from gensim import models\n",
    "from gensim.models import LdaModel, CoherenceModel\n",
    "from gensim.models.wrappers import LdaMallet\n",
    "import pprint\n",
    "\n",
    "# spacy for lemmatization\n",
    "import spacy\n",
    "from spacy.lang.en import English\n",
    "\n",
    "# Plotting tools\n",
    "import pyLDAvis\n",
    "import pyLDAvis.gensim_models\n",
    "import matplotlib.pyplot as plt\n",
    "get_ipython().run_line_magic('matplotlib', 'inline')\n",
    "\n",
    "import pandas as pd\n",
    "import numpy as np"
   ]
  },
  {
   "cell_type": "code",
   "execution_count": 3,
   "metadata": {},
   "outputs": [
    {
     "name": "stderr",
     "output_type": "stream",
     "text": [
      "C:\\tools\\Anaconda3\\lib\\site-packages\\ipykernel\\ipkernel.py:287: DeprecationWarning: `should_run_async` will not call `transform_cell` automatically in the future. Please pass the result to `transformed_cell` argument and any exception that happen during thetransform in `preprocessing_exc_tuple` in IPython 7.17 and above.\n",
      "  and should_run_async(code)\n",
      "<>:1: DeprecationWarning: invalid escape sequence \\s\n",
      "<>:1: DeprecationWarning: invalid escape sequence \\s\n",
      "<ipython-input-3-4e304a545dff>:1: DeprecationWarning: invalid escape sequence \\s\n",
      "  reviews_datasets=pd.read_csv('D:\\so-data\\PostsChosenV1.csv' , index_col='Id' )\n"
     ]
    },
    {
     "name": "stdout",
     "output_type": "stream",
     "text": [
      "         AcceptedAnswerId  AnswerCount  \\\n",
      "Id                                       \n",
      "1468404           1549052            3   \n",
      "1583856           1634592           14   \n",
      "1914947           1915407            4   \n",
      "1961341           1961838            1   \n",
      "2039387           2044192            4   \n",
      "2583326           2583456            1   \n",
      "2597198           2597594            1   \n",
      "2604033           2604075           18   \n",
      "2625210           2625240           19   \n",
      "2855574           2858108            1   \n",
      "2920069           4503153            1   \n",
      "3155711           3156721            1   \n",
      "3813715           3813880            2   \n",
      "3819748           3819855            2   \n",
      "4028356           4093283            1   \n",
      "4105249           4105267            2   \n",
      "4239115           4437224            1   \n",
      "4278606           4285903            2   \n",
      "4455224           4500915            1   \n",
      "4517228           5799982            3   \n",
      "\n",
      "                                                      Body  \\\n",
      "Id                                                           \n",
      "1468404  <p>Does mono touch allow you to do cross iPhon...   \n",
      "1583856  <p>After sitting through a session today on Mo...   \n",
      "1914947  <p>What is the best approach to implement tabs...   \n",
      "1961341  <p>How can I check internet access with MonoTo...   \n",
      "2039387  <p>I'm new to MonoTouch and iPhone development...   \n",
      "2583326  <p>This is not a really Programming Question, ...   \n",
      "2597198  <p>This question is a duplicate of <a href=\"ht...   \n",
      "2604033  <p>A recent post by <a href=\"http://daringfire...   \n",
      "2625210  <p>Is it possible to implement \"long press\" in...   \n",
      "2855574  <p>In my ap we serilaize the data locally for ...   \n",
      "2920069  <p>I'm trying to use the code posted here: <a ...   \n",
      "3155711  <p>With the new additions to the OS and the ha...   \n",
      "3813715  <p>Monotouch compiles the app into the native ...   \n",
      "3819748  <p>Is it possible to use 3rd party libraries w...   \n",
      "4028356  <p>I am using MonoTouch.Dialog's OwnerDrawnEle...   \n",
      "4105249  <p>I have created a small iPhone app using Mon...   \n",
      "4239115  <p>new to jquery and jquerymobile.</p>\\n\\n<p>A...   \n",
      "4278606  <p>Is it possible to get both the MonoTouch an...   \n",
      "4455224  <p>Is there a quick way to populate a UIPicker...   \n",
      "4517228  <p>I working on a multicolumn layout in Jquery...   \n",
      "\n",
      "                      ClosedDate  CommentCount CommunityOwnedDate  \\\n",
      "Id                                                                  \n",
      "1468404                      NaN             0                NaN   \n",
      "1583856  2019-09-23 16:34:03.127             1                NaN   \n",
      "1914947                      NaN             0                NaN   \n",
      "1961341                      NaN             1                NaN   \n",
      "2039387                      NaN             1                NaN   \n",
      "2583326                      NaN             2                NaN   \n",
      "2597198                      NaN             0                NaN   \n",
      "2604033  2012-12-05 12:52:02.217             6                NaN   \n",
      "2625210                      NaN             2                NaN   \n",
      "2855574                      NaN             0                NaN   \n",
      "2920069                      NaN             0                NaN   \n",
      "3155711                      NaN             0                NaN   \n",
      "3813715                      NaN             0                NaN   \n",
      "3819748                      NaN             0                NaN   \n",
      "4028356                      NaN             0                NaN   \n",
      "4105249                      NaN             0                NaN   \n",
      "4239115                      NaN             0                NaN   \n",
      "4278606                      NaN             0                NaN   \n",
      "4455224                      NaN             0                NaN   \n",
      "4517228                      NaN             0                NaN   \n",
      "\n",
      "                    CreationDate  FavoriteCount         LastActivityDate  \\\n",
      "Id                                                                         \n",
      "1468404  2009-09-23 20:42:43.883              2  2009-10-10 20:52:40.330   \n",
      "1583856  2009-10-18 02:47:39.653             91  2019-09-23 14:03:02.387   \n",
      "1914947  2009-12-16 14:23:59.397              5  2019-05-21 10:06:27.997   \n",
      "1961341  2009-12-25 15:38:21.420              2  2012-05-23 07:10:33.650   \n",
      "2039387  2010-01-11 01:12:49.940              2  2014-01-19 15:43:12.283   \n",
      "2583326  2010-04-06 07:39:54.897              0  2010-04-06 14:38:38.320   \n",
      "2597198  2010-04-08 02:28:41.863              2  2010-04-08 04:34:30.573   \n",
      "2604033  2010-04-08 23:02:26.587             28  2017-11-07 07:51:04.140   \n",
      "2625210  2010-04-12 20:29:23.897             57  2019-12-17 06:36:51.870   \n",
      "2855574  2010-05-18 08:23:12.677              0  2010-05-18 14:22:17.367   \n",
      "2920069  2010-05-27 09:56:29.943              0  2010-12-21 19:32:07.280   \n",
      "3155711  2010-07-01 07:10:25.257              0  2010-07-01 09:58:30.393   \n",
      "3813715  2010-09-28 14:20:47.650              0  2011-04-06 19:58:24.213   \n",
      "3819748  2010-09-29 07:59:50.230              2  2011-11-24 16:35:57.680   \n",
      "4028356  2010-10-26 21:55:19.683              0  2010-11-04 02:01:09.413   \n",
      "4105249  2010-11-05 10:58:53.267              1  2010-11-05 14:12:56.453   \n",
      "4239115  2010-11-21 17:14:22.267              0  2011-02-01 18:38:52.697   \n",
      "4278606  2010-11-25 15:28:08.910              0  2011-04-16 16:52:32.440   \n",
      "4455224  2010-12-15 21:41:46.617              0  2010-12-21 15:31:59.493   \n",
      "4517228  2010-12-23 09:05:40.800              3  2012-05-04 14:58:57.910   \n",
      "\n",
      "                    LastEditDate LastEditorDisplayName  LastEditorUserId  \\\n",
      "Id                                                                         \n",
      "1468404  2009-09-23 20:45:37.153                   NaN             25981   \n",
      "1583856  2012-03-07 16:08:46.430              user1228                 0   \n",
      "1914947  2019-05-21 10:06:27.997                   NaN           4751173   \n",
      "1961341  2009-12-25 18:33:38.633                   NaN             30618   \n",
      "2039387  2014-01-19 15:43:12.283                   NaN            578411   \n",
      "2583326  2010-04-06 08:21:45.890                   NaN             28004   \n",
      "2597198  2017-05-23 11:50:42.387                   NaN                -1   \n",
      "2604033  2012-12-05 12:52:27.283                   NaN             50776   \n",
      "2625210  2019-07-22 21:08:33.480                   NaN           4751173   \n",
      "2855574                      NaN                   NaN                 0   \n",
      "2920069                      NaN                   NaN                 0   \n",
      "3155711                      NaN                   NaN                 0   \n",
      "3813715                      NaN                   NaN                 0   \n",
      "3819748  2011-11-24 16:35:57.680                   NaN            162671   \n",
      "4028356                      NaN                   NaN                 0   \n",
      "4105249                      NaN                   NaN                 0   \n",
      "4239115  2010-11-21 19:49:47.460                   NaN            216135   \n",
      "4278606                      NaN                   NaN                 0   \n",
      "4455224                      NaN                   NaN                 0   \n",
      "4517228                      NaN                   NaN                 0   \n",
      "\n",
      "         OwnerUserId  ParentId  PostTypeId  Score  \\\n",
      "Id                                                  \n",
      "1468404       139096         0           1      3   \n",
      "1583856       142017         0           1    273   \n",
      "1914947        78101         0           1      6   \n",
      "1961341        34155         0           1     14   \n",
      "2039387       247706         0           1     14   \n",
      "2583326        28004         0           1      1   \n",
      "2597198        10116         0           1      2   \n",
      "2604033       139096         0           1    155   \n",
      "2625210       313632         0           1    121   \n",
      "2855574            0         0           1      0   \n",
      "2920069            0         0           1      1   \n",
      "3155711            0         0           1      0   \n",
      "3813715       437039         0           1      2   \n",
      "3819748       390198         0           1      2   \n",
      "4028356       488160         0           1      3   \n",
      "4105249       258354         0           1      0   \n",
      "4239115       216135         0           1      1   \n",
      "4278606       335794         0           1      0   \n",
      "4455224       382140         0           1      2   \n",
      "4517228       536768         0           1      4   \n",
      "\n",
      "                                                      Tags  \\\n",
      "Id                                                           \n",
      "1468404               <iphone><communication><xamarin.ios>   \n",
      "1583856               <c#><objective-c><mono><xamarin.ios>   \n",
      "1914947    <iphone><uiview><uiviewcontroller><xamarin.ios>   \n",
      "1961341                              <iphone><xamarin.ios>   \n",
      "2039387                              <iphone><xamarin.ios>   \n",
      "2583326        <iphone><project><xamarin.ios><monodevelop>   \n",
      "2597198       <uikit><uiimage><xamarin.ios><pixel><unsafe>   \n",
      "2604033                              <iphone><xamarin.ios>   \n",
      "2625210  <javascript><jquery><jquery-ui><jquery-mobile>...   \n",
      "2855574                                 <wcf><xamarin.ios>   \n",
      "2920069                   <xamarin.ios><augmented-reality>   \n",
      "3155711  <iphone><objective-c><xamarin.ios><augmented-r...   \n",
      "3813715                                      <xamarin.ios>   \n",
      "3819748                     <c#><objective-c><xamarin.ios>   \n",
      "4028356                              <dialog><xamarin.ios>   \n",
      "4105249                              <iphone><xamarin.ios>   \n",
      "4239115                            <jquery><jquery-mobile>   \n",
      "4278606        <xamarin.ios><license-key><xamarin.android>   \n",
      "4455224                        <xamarin.ios><uipickerview>   \n",
      "4517228                            <jquery><jquery-mobile>   \n",
      "\n",
      "                                                     Title  ViewCount  \n",
      "Id                                                                     \n",
      "1468404        Cross iPhone communication using mono touch       1464  \n",
      "1583856   How to decide between MonoTouch and Objective-C?      28366  \n",
      "1914947                       Web-like tabs for the iPhone       1053  \n",
      "1961341           Check for internet access with monotouch       5548  \n",
      "2039387   Images in Interface Builder when using MonoTouch       4257  \n",
      "2583326                            Can't run MonoTouch App        849  \n",
      "2597198  Retrieving a pixel alpha value for a UIImage (...       2657  \n",
      "2604033             Is MonoTouch now banned on the iPhone?      12385  \n",
      "2625210                          Long Press in JavaScript?     174737  \n",
      "2855574                  monotouch - updating data locally        119  \n",
      "2920069                        Monotouch Augmented Reality        580  \n",
      "3155711  iPhone Augmented reality with iOS4 obj c + and...        881  \n",
      "3813715  How can Apple tell if an app was built in Mono...        659  \n",
      "3819748                  3rd party libraries in MonoTouch?       1035  \n",
      "4028356  MonoTouch.Dialog's OwnerDrawnElement highlight...        626  \n",
      "4105249  iPhone App using MonoTouch - which files/folde...        789  \n",
      "4239115      Help with making menu button for jQueryMobile       3434  \n",
      "4278606  Buy licenses for MonoTouch and MonoDroid together        812  \n",
      "4455224                Monotouch - Populate a UIViewPicker       1658  \n",
      "4517228  jquery-mobile - how can I bind disable ajax li...       7667  \n"
     ]
    },
    {
     "name": "stderr",
     "output_type": "stream",
     "text": [
      "C:\\tools\\Anaconda3\\lib\\site-packages\\IPython\\core\\interactiveshell.py:3146: DtypeWarning: Columns (6) have mixed types.Specify dtype option on import or set low_memory=False.\n",
      "  has_raised = await self.run_ast_nodes(code_ast.body, cell_name,\n"
     ]
    }
   ],
   "source": [
    "reviews_datasets=pd.read_csv('D:\\so-data\\PostsChosenV1.csv' , index_col='Id' )\n",
    "# reviews_datasets=reviews_datasets.head(1000)\n",
    "# postTagsRawData = pd.read_csv('PostTagsV3.csv', chunksize=1000)\n",
    "# postTagsRawData = pd.read_excel('PostsTags2.xlsx')\n",
    "print(reviews_datasets.head(20))"
   ]
  },
  {
   "cell_type": "code",
   "execution_count": 4,
   "metadata": {},
   "outputs": [
    {
     "name": "stderr",
     "output_type": "stream",
     "text": [
      "C:\\tools\\Anaconda3\\lib\\site-packages\\ipykernel\\ipkernel.py:287: DeprecationWarning: `should_run_async` will not call `transform_cell` automatically in the future. Please pass the result to `transformed_cell` argument and any exception that happen during thetransform in `preprocessing_exc_tuple` in IPython 7.17 and above.\n",
      "  and should_run_async(code)\n"
     ]
    }
   ],
   "source": [
    "reviews_datasets.dropna()\n",
    "\n",
    "# obody = reviews_datasets['Body']\n",
    "\n",
    "# changed to append both title and body\n",
    "reviews_datasets['CombinedTitleBody'] = reviews_datasets['Body']+reviews_datasets['Title']\n",
    "obody = reviews_datasets['CombinedTitleBody']"
   ]
  },
  {
   "cell_type": "code",
   "execution_count": 5,
   "metadata": {},
   "outputs": [
    {
     "name": "stderr",
     "output_type": "stream",
     "text": [
      "C:\\tools\\Anaconda3\\lib\\site-packages\\ipykernel\\ipkernel.py:287: DeprecationWarning: `should_run_async` will not call `transform_cell` automatically in the future. Please pass the result to `transformed_cell` argument and any exception that happen during thetransform in `preprocessing_exc_tuple` in IPython 7.17 and above.\n",
      "  and should_run_async(code)\n"
     ]
    },
    {
     "data": {
      "text/plain": "         AcceptedAnswerId  AnswerCount  \\\nId                                       \n1468404           1549052            3   \n1583856           1634592           14   \n1914947           1915407            4   \n1961341           1961838            1   \n2039387           2044192            4   \n\n                                                      Body  \\\nId                                                           \n1468404  <p>Does mono touch allow you to do cross iPhon...   \n1583856  <p>After sitting through a session today on Mo...   \n1914947  <p>What is the best approach to implement tabs...   \n1961341  <p>How can I check internet access with MonoTo...   \n2039387  <p>I'm new to MonoTouch and iPhone development...   \n\n                      ClosedDate  CommentCount CommunityOwnedDate  \\\nId                                                                  \n1468404                      NaN             0                NaN   \n1583856  2019-09-23 16:34:03.127             1                NaN   \n1914947                      NaN             0                NaN   \n1961341                      NaN             1                NaN   \n2039387                      NaN             1                NaN   \n\n                    CreationDate  FavoriteCount         LastActivityDate  \\\nId                                                                         \n1468404  2009-09-23 20:42:43.883              2  2009-10-10 20:52:40.330   \n1583856  2009-10-18 02:47:39.653             91  2019-09-23 14:03:02.387   \n1914947  2009-12-16 14:23:59.397              5  2019-05-21 10:06:27.997   \n1961341  2009-12-25 15:38:21.420              2  2012-05-23 07:10:33.650   \n2039387  2010-01-11 01:12:49.940              2  2014-01-19 15:43:12.283   \n\n                    LastEditDate LastEditorDisplayName  LastEditorUserId  \\\nId                                                                         \n1468404  2009-09-23 20:45:37.153                   NaN             25981   \n1583856  2012-03-07 16:08:46.430              user1228                 0   \n1914947  2019-05-21 10:06:27.997                   NaN           4751173   \n1961341  2009-12-25 18:33:38.633                   NaN             30618   \n2039387  2014-01-19 15:43:12.283                   NaN            578411   \n\n         OwnerUserId  ParentId  PostTypeId  Score  \\\nId                                                  \n1468404       139096         0           1      3   \n1583856       142017         0           1    273   \n1914947        78101         0           1      6   \n1961341        34155         0           1     14   \n2039387       247706         0           1     14   \n\n                                                    Tags  \\\nId                                                         \n1468404             <iphone><communication><xamarin.ios>   \n1583856             <c#><objective-c><mono><xamarin.ios>   \n1914947  <iphone><uiview><uiviewcontroller><xamarin.ios>   \n1961341                            <iphone><xamarin.ios>   \n2039387                            <iphone><xamarin.ios>   \n\n                                                    Title  ViewCount  \\\nId                                                                     \n1468404       Cross iPhone communication using mono touch       1464   \n1583856  How to decide between MonoTouch and Objective-C?      28366   \n1914947                      Web-like tabs for the iPhone       1053   \n1961341          Check for internet access with monotouch       5548   \n2039387  Images in Interface Builder when using MonoTouch       4257   \n\n                                         CombinedTitleBody  \nId                                                          \n1468404  <p>Does mono touch allow you to do cross iPhon...  \n1583856  <p>After sitting through a session today on Mo...  \n1914947  <p>What is the best approach to implement tabs...  \n1961341  <p>How can I check internet access with MonoTo...  \n2039387  <p>I'm new to MonoTouch and iPhone development...  ",
      "text/html": "<div>\n<style scoped>\n    .dataframe tbody tr th:only-of-type {\n        vertical-align: middle;\n    }\n\n    .dataframe tbody tr th {\n        vertical-align: top;\n    }\n\n    .dataframe thead th {\n        text-align: right;\n    }\n</style>\n<table border=\"1\" class=\"dataframe\">\n  <thead>\n    <tr style=\"text-align: right;\">\n      <th></th>\n      <th>AcceptedAnswerId</th>\n      <th>AnswerCount</th>\n      <th>Body</th>\n      <th>ClosedDate</th>\n      <th>CommentCount</th>\n      <th>CommunityOwnedDate</th>\n      <th>CreationDate</th>\n      <th>FavoriteCount</th>\n      <th>LastActivityDate</th>\n      <th>LastEditDate</th>\n      <th>LastEditorDisplayName</th>\n      <th>LastEditorUserId</th>\n      <th>OwnerUserId</th>\n      <th>ParentId</th>\n      <th>PostTypeId</th>\n      <th>Score</th>\n      <th>Tags</th>\n      <th>Title</th>\n      <th>ViewCount</th>\n      <th>CombinedTitleBody</th>\n    </tr>\n    <tr>\n      <th>Id</th>\n      <th></th>\n      <th></th>\n      <th></th>\n      <th></th>\n      <th></th>\n      <th></th>\n      <th></th>\n      <th></th>\n      <th></th>\n      <th></th>\n      <th></th>\n      <th></th>\n      <th></th>\n      <th></th>\n      <th></th>\n      <th></th>\n      <th></th>\n      <th></th>\n      <th></th>\n      <th></th>\n    </tr>\n  </thead>\n  <tbody>\n    <tr>\n      <th>1468404</th>\n      <td>1549052</td>\n      <td>3</td>\n      <td>&lt;p&gt;Does mono touch allow you to do cross iPhon...</td>\n      <td>NaN</td>\n      <td>0</td>\n      <td>NaN</td>\n      <td>2009-09-23 20:42:43.883</td>\n      <td>2</td>\n      <td>2009-10-10 20:52:40.330</td>\n      <td>2009-09-23 20:45:37.153</td>\n      <td>NaN</td>\n      <td>25981</td>\n      <td>139096</td>\n      <td>0</td>\n      <td>1</td>\n      <td>3</td>\n      <td>&lt;iphone&gt;&lt;communication&gt;&lt;xamarin.ios&gt;</td>\n      <td>Cross iPhone communication using mono touch</td>\n      <td>1464</td>\n      <td>&lt;p&gt;Does mono touch allow you to do cross iPhon...</td>\n    </tr>\n    <tr>\n      <th>1583856</th>\n      <td>1634592</td>\n      <td>14</td>\n      <td>&lt;p&gt;After sitting through a session today on Mo...</td>\n      <td>2019-09-23 16:34:03.127</td>\n      <td>1</td>\n      <td>NaN</td>\n      <td>2009-10-18 02:47:39.653</td>\n      <td>91</td>\n      <td>2019-09-23 14:03:02.387</td>\n      <td>2012-03-07 16:08:46.430</td>\n      <td>user1228</td>\n      <td>0</td>\n      <td>142017</td>\n      <td>0</td>\n      <td>1</td>\n      <td>273</td>\n      <td>&lt;c#&gt;&lt;objective-c&gt;&lt;mono&gt;&lt;xamarin.ios&gt;</td>\n      <td>How to decide between MonoTouch and Objective-C?</td>\n      <td>28366</td>\n      <td>&lt;p&gt;After sitting through a session today on Mo...</td>\n    </tr>\n    <tr>\n      <th>1914947</th>\n      <td>1915407</td>\n      <td>4</td>\n      <td>&lt;p&gt;What is the best approach to implement tabs...</td>\n      <td>NaN</td>\n      <td>0</td>\n      <td>NaN</td>\n      <td>2009-12-16 14:23:59.397</td>\n      <td>5</td>\n      <td>2019-05-21 10:06:27.997</td>\n      <td>2019-05-21 10:06:27.997</td>\n      <td>NaN</td>\n      <td>4751173</td>\n      <td>78101</td>\n      <td>0</td>\n      <td>1</td>\n      <td>6</td>\n      <td>&lt;iphone&gt;&lt;uiview&gt;&lt;uiviewcontroller&gt;&lt;xamarin.ios&gt;</td>\n      <td>Web-like tabs for the iPhone</td>\n      <td>1053</td>\n      <td>&lt;p&gt;What is the best approach to implement tabs...</td>\n    </tr>\n    <tr>\n      <th>1961341</th>\n      <td>1961838</td>\n      <td>1</td>\n      <td>&lt;p&gt;How can I check internet access with MonoTo...</td>\n      <td>NaN</td>\n      <td>1</td>\n      <td>NaN</td>\n      <td>2009-12-25 15:38:21.420</td>\n      <td>2</td>\n      <td>2012-05-23 07:10:33.650</td>\n      <td>2009-12-25 18:33:38.633</td>\n      <td>NaN</td>\n      <td>30618</td>\n      <td>34155</td>\n      <td>0</td>\n      <td>1</td>\n      <td>14</td>\n      <td>&lt;iphone&gt;&lt;xamarin.ios&gt;</td>\n      <td>Check for internet access with monotouch</td>\n      <td>5548</td>\n      <td>&lt;p&gt;How can I check internet access with MonoTo...</td>\n    </tr>\n    <tr>\n      <th>2039387</th>\n      <td>2044192</td>\n      <td>4</td>\n      <td>&lt;p&gt;I'm new to MonoTouch and iPhone development...</td>\n      <td>NaN</td>\n      <td>1</td>\n      <td>NaN</td>\n      <td>2010-01-11 01:12:49.940</td>\n      <td>2</td>\n      <td>2014-01-19 15:43:12.283</td>\n      <td>2014-01-19 15:43:12.283</td>\n      <td>NaN</td>\n      <td>578411</td>\n      <td>247706</td>\n      <td>0</td>\n      <td>1</td>\n      <td>14</td>\n      <td>&lt;iphone&gt;&lt;xamarin.ios&gt;</td>\n      <td>Images in Interface Builder when using MonoTouch</td>\n      <td>4257</td>\n      <td>&lt;p&gt;I'm new to MonoTouch and iPhone development...</td>\n    </tr>\n  </tbody>\n</table>\n</div>"
     },
     "execution_count": 5,
     "metadata": {},
     "output_type": "execute_result"
    }
   ],
   "source": [
    "reviews_datasets.head()\n",
    "#print(obody)"
   ]
  },
  {
   "cell_type": "code",
   "execution_count": 6,
   "metadata": {},
   "outputs": [
    {
     "name": "stderr",
     "output_type": "stream",
     "text": [
      "C:\\tools\\Anaconda3\\lib\\site-packages\\ipykernel\\ipkernel.py:287: DeprecationWarning: `should_run_async` will not call `transform_cell` automatically in the future. Please pass the result to `transformed_cell` argument and any exception that happen during thetransform in `preprocessing_exc_tuple` in IPython 7.17 and above.\n",
      "  and should_run_async(code)\n"
     ]
    }
   ],
   "source": [
    "from nltk import ngrams\n",
    "from nltk.tokenize import sent_tokenize\n",
    "import nltk\n",
    "\n",
    "import re\n",
    "from nltk.corpus import stopwords\n",
    "from nltk.tokenize import ToktokTokenizer\n",
    "from nltk.stem.snowball import SnowballStemmer\n",
    "\n",
    "tokenizer = ToktokTokenizer()\n",
    "stemmer = SnowballStemmer('english')\n",
    "stop_words = set(stopwords.words('english'))"
   ]
  },
  {
   "cell_type": "code",
   "execution_count": 7,
   "metadata": {},
   "outputs": [
    {
     "name": "stderr",
     "output_type": "stream",
     "text": [
      "C:\\tools\\Anaconda3\\lib\\site-packages\\ipykernel\\ipkernel.py:287: DeprecationWarning: `should_run_async` will not call `transform_cell` automatically in the future. Please pass the result to `transformed_cell` argument and any exception that happen during thetransform in `preprocessing_exc_tuple` in IPython 7.17 and above.\n",
      "  and should_run_async(code)\n"
     ]
    },
    {
     "name": "stdout",
     "output_type": "stream",
     "text": [
      "['<p>Does mono touch allow you to do cross iPhone communication? (iPhones in the same room) If so, whats the API?</p> ', '<p>After sitting through a session today on Mono at a local .Net event, the use of MonoTouch was touched upon as an alternative for iPhone development. Being very comfortable in C# and .Net, it seems like an appealing option, despite some of the quirkiness of the Mono stack. However, since MonoTouch costs $400, Im somewhat torn on if this is the way to go for iPhone development.</p> <p>Anyone have an experience developing with MonoTouch and Objective-C, and if so is developing with MonoTouch that much simpler and quicker than learning Objective-C, and in turn worth the $400?</p> ', '<p>What is the best approach to implement tabs that look like web applications on the iPhone, like the screenshot below (notice the Checkin-Info-Friends tabs)? These are not part of the UIKit standard library, but seems to be very common lately.</p> <p>Ive spent considerable time developing applications for the iPhone, but not developing controls like that one. What would be the best approach here</p> <ul> <li>create a new UIView for each tab content, and add the three subviews to the mainview straight away?</li> <li>create new UIViews only when the user clicks on each of the tabs?</li> <li>Put all the content in a UIScrollView, and just change the page as the user clicks on each tab?</li> </ul> <p>Maybe there are open source controls for this out there? I couldnt find anything.</p> <p><a href=https//i.stack.imgur.com/cRg7i.jpg rel=nofollow noreferrer><img src=https//i.stack.imgur.com/cRg7i.jpg alt=alt text></a><br> <sub>(source <a href=http//www.foursquaregame.com/foursquare-game-images/foursquare-game-mobile-app.jpg rel=nofollow noreferrer>foursquaregame.com</a>)</sub> </p> ']\n"
     ]
    }
   ],
   "source": [
    "import re\n",
    "\n",
    "# Convert to list\n",
    "data = reviews_datasets.Body.values.tolist()\n",
    "\n",
    "# Remove new line characters\n",
    "data = [re.sub(r'\\s+', ' ', sent) for sent in data]\n",
    "\n",
    "# Remove distracting single and double quotes\n",
    "data = [re.sub(\"\\'\", \"\", sent) for sent in data]\n",
    "data = [re.sub('\\\", \"', '', sent) for sent in data]\n",
    "data = [re.sub('\\\\\"', '', sent) for sent in data]\n",
    "data = [re.sub('\\\"', '', sent) for sent in data]\n",
    "data = [re.sub('[\\\\:\"]', '', sent) for sent in data]\n",
    "\n",
    "# Remove web links\n",
    "data = [re.sub(r'^https?:\\/\\/.*[\\r\\n]*', '', sent) for sent in data]\n",
    "\n",
    "print(data[:3])"
   ]
  },
  {
   "cell_type": "code",
   "execution_count": 8,
   "metadata": {},
   "outputs": [
    {
     "name": "stderr",
     "output_type": "stream",
     "text": [
      "C:\\tools\\Anaconda3\\lib\\site-packages\\ipykernel\\ipkernel.py:287: DeprecationWarning: `should_run_async` will not call `transform_cell` automatically in the future. Please pass the result to `transformed_cell` argument and any exception that happen during thetransform in `preprocessing_exc_tuple` in IPython 7.17 and above.\n",
      "  and should_run_async(code)\n"
     ]
    },
    {
     "name": "stdout",
     "output_type": "stream",
     "text": [
      "[['does', 'mono', 'touch', 'allow', 'you', 'to', 'do', 'cross', 'iphone', 'communication', 'iphones', 'in', 'the', 'same', 'room', 'if', 'so', 'whats', 'the', 'api'], ['after', 'sitting', 'through', 'session', 'today', 'on', 'mono', 'at', 'local', 'net', 'event', 'the', 'use', 'of', 'monotouch', 'was', 'touched', 'upon', 'as', 'an', 'alternative', 'for', 'iphone', 'development', 'being', 'very', 'comfortable', 'in', 'and', 'net', 'it', 'seems', 'like', 'an', 'appealing', 'option', 'despite', 'some', 'of', 'the', 'quirkiness', 'of', 'the', 'mono', 'stack', 'however', 'since', 'monotouch', 'costs', 'im', 'somewhat', 'torn', 'on', 'if', 'this', 'is', 'the', 'way', 'to', 'go', 'for', 'iphone', 'development', 'anyone', 'have', 'an', 'experience', 'developing', 'with', 'monotouch', 'and', 'objective', 'and', 'if', 'so', 'is', 'developing', 'with', 'monotouch', 'that', 'much', 'simpler', 'and', 'quicker', 'than', 'learning', 'objective', 'and', 'in', 'turn', 'worth', 'the'], ['what', 'is', 'the', 'best', 'approach', 'to', 'implement', 'tabs', 'that', 'look', 'like', 'web', 'applications', 'on', 'the', 'iphone', 'like', 'the', 'screenshot', 'below', 'notice', 'the', 'checkin', 'info', 'friends', 'tabs', 'these', 'are', 'not', 'part', 'of', 'the', 'uikit', 'standard', 'library', 'but', 'seems', 'to', 'be', 'very', 'common', 'lately', 'ive', 'spent', 'considerable', 'time', 'developing', 'applications', 'for', 'the', 'iphone', 'but', 'not', 'developing', 'controls', 'like', 'that', 'one', 'what', 'would', 'be', 'the', 'best', 'approach', 'here', 'ul', 'li', 'create', 'new', 'uiview', 'for', 'each', 'tab', 'content', 'and', 'add', 'the', 'three', 'subviews', 'to', 'the', 'mainview', 'straight', 'away', 'li', 'li', 'create', 'new', 'uiviews', 'only', 'when', 'the', 'user', 'clicks', 'on', 'each', 'of', 'the', 'tabs', 'li', 'li', 'put', 'all', 'the', 'content', 'in', 'uiscrollview', 'and', 'just', 'change', 'the', 'page', 'as', 'the', 'user', 'clicks', 'on', 'each', 'tab', 'li', 'ul', 'maybe', 'there', 'are', 'open', 'source', 'controls', 'for', 'this', 'out', 'there', 'couldnt', 'find', 'anything', 'href', 'https', 'stack', 'imgur', 'com', 'crg', 'jpg', 'rel', 'nofollow', 'noreferrer', 'img', 'src', 'https', 'stack', 'imgur', 'com', 'crg', 'jpg', 'alt', 'alt', 'text', 'br', 'sub', 'source', 'href', 'http', 'www', 'foursquaregame', 'com', 'foursquare', 'game', 'images', 'foursquare', 'game', 'mobile', 'app', 'jpg', 'rel', 'nofollow', 'noreferrer', 'foursquaregame', 'com', 'sub']]\n"
     ]
    }
   ],
   "source": [
    "# Tokenize words and text clean up\n",
    "def sent_to_words(sentences):\n",
    "    for sentence in sentences:\n",
    "        yield(gensim.utils.simple_preprocess(str(sentence), deacc=True))  # deacc=True removes punctuations\n",
    "\n",
    "data_words = list(sent_to_words(data))\n",
    "\n",
    "print(data_words[:3])"
   ]
  },
  {
   "cell_type": "code",
   "execution_count": 9,
   "metadata": {},
   "outputs": [
    {
     "name": "stderr",
     "output_type": "stream",
     "text": [
      "C:\\tools\\Anaconda3\\lib\\site-packages\\ipykernel\\ipkernel.py:287: DeprecationWarning: `should_run_async` will not call `transform_cell` automatically in the future. Please pass the result to `transformed_cell` argument and any exception that happen during thetransform in `preprocessing_exc_tuple` in IPython 7.17 and above.\n",
      "  and should_run_async(code)\n"
     ]
    }
   ],
   "source": [
    "# Build the bigram and trigram models\n",
    "bigram = gensim.models.Phrases(data_words, min_count=5, threshold=75) # higher threshold fewer phrases.\n",
    "trigram = gensim.models.Phrases(bigram[data_words], threshold=75)  \n"
   ]
  },
  {
   "cell_type": "code",
   "execution_count": 10,
   "metadata": {},
   "outputs": [
    {
     "name": "stderr",
     "output_type": "stream",
     "text": [
      "C:\\tools\\Anaconda3\\lib\\site-packages\\ipykernel\\ipkernel.py:287: DeprecationWarning: `should_run_async` will not call `transform_cell` automatically in the future. Please pass the result to `transformed_cell` argument and any exception that happen during thetransform in `preprocessing_exc_tuple` in IPython 7.17 and above.\n",
      "  and should_run_async(code)\n"
     ]
    }
   ],
   "source": [
    "# Faster way to get a sentence clubbed as a trigram/bigram\n",
    "bigram_mod = gensim.models.phrases.Phraser(bigram)\n",
    "trigram_mod = gensim.models.phrases.Phraser(trigram)"
   ]
  },
  {
   "cell_type": "code",
   "execution_count": 11,
   "metadata": {},
   "outputs": [
    {
     "name": "stdout",
     "output_type": "stream",
     "text": [
      "['how', 'can', 'check', 'internet', 'access', 'with', 'monotouch', 'dont', 'care', 'if', 'the', 'internet', 'comes', 'from', 'wifi', 'or', 'the', 'cell', 'network', 'all', 'care', 'is', 'whether', 'there', 'is', 'internet', 'access', 'or', 'not']\n"
     ]
    },
    {
     "name": "stderr",
     "output_type": "stream",
     "text": [
      "C:\\tools\\Anaconda3\\lib\\site-packages\\ipykernel\\ipkernel.py:287: DeprecationWarning: `should_run_async` will not call `transform_cell` automatically in the future. Please pass the result to `transformed_cell` argument and any exception that happen during thetransform in `preprocessing_exc_tuple` in IPython 7.17 and above.\n",
      "  and should_run_async(code)\n"
     ]
    }
   ],
   "source": [
    "# See trigram example\n",
    "print(trigram_mod[bigram_mod[data_words[3]]])"
   ]
  },
  {
   "cell_type": "code",
   "execution_count": 12,
   "metadata": {},
   "outputs": [
    {
     "name": "stderr",
     "output_type": "stream",
     "text": [
      "C:\\tools\\Anaconda3\\lib\\site-packages\\ipykernel\\ipkernel.py:287: DeprecationWarning: `should_run_async` will not call `transform_cell` automatically in the future. Please pass the result to `transformed_cell` argument and any exception that happen during thetransform in `preprocessing_exc_tuple` in IPython 7.17 and above.\n",
      "  and should_run_async(code)\n"
     ]
    }
   ],
   "source": [
    "# Define functions for stopwords, bigrams, trigrams and lemmatization\n",
    "def remove_stopwords(texts):\n",
    "    return [[word for word in simple_preprocess(str(doc)) if word not in stop_words] for doc in texts]\n",
    "\n",
    "def make_bigrams(texts):\n",
    "    return [bigram_mod[doc] for doc in texts]\n",
    "\n",
    "def make_trigrams(texts):\n",
    "    return [trigram_mod[bigram_mod[doc]] for doc in texts]\n",
    "\n",
    "def lemmatization(texts, allowed_postags=['NOUN', 'ADJ', 'VERB', 'ADV']):\n",
    "    \"\"\"https://spacy.io/api/annotation\"\"\"\n",
    "    texts_out = []\n",
    "    for sent in texts:\n",
    "        doc = nlp(\" \".join(sent)) \n",
    "        texts_out.append([token.lemma_ for token in doc if token.pos_ in allowed_postags])\n",
    "    return texts_out"
   ]
  },
  {
   "cell_type": "code",
   "execution_count": 13,
   "metadata": {},
   "outputs": [
    {
     "name": "stderr",
     "output_type": "stream",
     "text": [
      "C:\\tools\\Anaconda3\\lib\\site-packages\\ipykernel\\ipkernel.py:287: DeprecationWarning: `should_run_async` will not call `transform_cell` automatically in the future. Please pass the result to `transformed_cell` argument and any exception that happen during thetransform in `preprocessing_exc_tuple` in IPython 7.17 and above.\n",
      "  and should_run_async(code)\n"
     ]
    },
    {
     "data": {
      "text/plain": "<spacy.lang.en.English at 0x218d3c54970>"
     },
     "execution_count": 13,
     "metadata": {},
     "output_type": "execute_result"
    }
   ],
   "source": [
    "spacy.load('en_core_web_sm')"
   ]
  },
  {
   "cell_type": "code",
   "execution_count": 14,
   "metadata": {
    "scrolled": true
   },
   "outputs": [
    {
     "name": "stderr",
     "output_type": "stream",
     "text": [
      "C:\\tools\\Anaconda3\\lib\\site-packages\\ipykernel\\ipkernel.py:287: DeprecationWarning: `should_run_async` will not call `transform_cell` automatically in the future. Please pass the result to `transformed_cell` argument and any exception that happen during thetransform in `preprocessing_exc_tuple` in IPython 7.17 and above.\n",
      "  and should_run_async(code)\n"
     ]
    }
   ],
   "source": [
    "data_words_nostops = remove_stopwords(data_words)\n",
    "\n",
    "# Form Bigrams\n",
    "data_words_bigrams = make_bigrams(data_words_nostops)\n",
    "\n",
    "# Initialize spacy 'en' model, keeping only tagger component (for efficiency)\n",
    "# python3 -m spacy download en\n",
    "nlp = spacy.load('en_core_web_sm', disable=['parser', 'ner'])\n",
    "#spacy.load('en_core_web_sm')\n",
    "\n",
    "# Do lemmatization keeping only noun, adj, vb, adv\n",
    "data_lemmatized = lemmatization(data_words_bigrams, allowed_postags=['NOUN', 'ADJ', 'VERB', 'ADV'])"
   ]
  },
  {
   "cell_type": "code",
   "execution_count": 15,
   "metadata": {},
   "outputs": [
    {
     "name": "stdout",
     "output_type": "stream",
     "text": [
      "[['mono', 'touch', 'allow', 'cross', 'iphone', 'communication', 'iphone', 'room', 's', 'api'], ['sit', 'session', 'today', 'mono', 'local', 'net', 'event', 'use', 'monotouch', 'touch', 'alternative', 'iphone', 'development', 'comfortable', 'net', 'seem', 'appeal', 'option', 'quirkiness', 'mono', 'stack', 'however', 'monotouch', 'cost', 'm', 'somewhat', 'torn', 'way', 'go', 'iphone', 'development', 'experience', 'develop', 'monotouch', 'objective', 'develop', 'monotouch', 'much', 'simple', 'quick', 'learn', 'objective', 'turn', 'worth']]\n"
     ]
    },
    {
     "name": "stderr",
     "output_type": "stream",
     "text": [
      "C:\\tools\\Anaconda3\\lib\\site-packages\\ipykernel\\ipkernel.py:287: DeprecationWarning: `should_run_async` will not call `transform_cell` automatically in the future. Please pass the result to `transformed_cell` argument and any exception that happen during thetransform in `preprocessing_exc_tuple` in IPython 7.17 and above.\n",
      "  and should_run_async(code)\n"
     ]
    },
    {
     "data": {
      "text/plain": "         AcceptedAnswerId  AnswerCount  \\\nId                                       \n1468404           1549052            3   \n1583856           1634592           14   \n1914947           1915407            4   \n1961341           1961838            1   \n2039387           2044192            4   \n2583326           2583456            1   \n2597198           2597594            1   \n2604033           2604075           18   \n2625210           2625240           19   \n2855574           2858108            1   \n2920069           4503153            1   \n3155711           3156721            1   \n3813715           3813880            2   \n3819748           3819855            2   \n4028356           4093283            1   \n4105249           4105267            2   \n4239115           4437224            1   \n4278606           4285903            2   \n4455224           4500915            1   \n4517228           5799982            3   \n\n                                                      Body  \\\nId                                                           \n1468404  <p>Does mono touch allow you to do cross iPhon...   \n1583856  <p>After sitting through a session today on Mo...   \n1914947  <p>What is the best approach to implement tabs...   \n1961341  <p>How can I check internet access with MonoTo...   \n2039387  <p>I'm new to MonoTouch and iPhone development...   \n2583326  <p>This is not a really Programming Question, ...   \n2597198  <p>This question is a duplicate of <a href=\"ht...   \n2604033  <p>A recent post by <a href=\"http://daringfire...   \n2625210  <p>Is it possible to implement \"long press\" in...   \n2855574  <p>In my ap we serilaize the data locally for ...   \n2920069  <p>I'm trying to use the code posted here: <a ...   \n3155711  <p>With the new additions to the OS and the ha...   \n3813715  <p>Monotouch compiles the app into the native ...   \n3819748  <p>Is it possible to use 3rd party libraries w...   \n4028356  <p>I am using MonoTouch.Dialog's OwnerDrawnEle...   \n4105249  <p>I have created a small iPhone app using Mon...   \n4239115  <p>new to jquery and jquerymobile.</p>\\n\\n<p>A...   \n4278606  <p>Is it possible to get both the MonoTouch an...   \n4455224  <p>Is there a quick way to populate a UIPicker...   \n4517228  <p>I working on a multicolumn layout in Jquery...   \n\n                      ClosedDate  CommentCount CommunityOwnedDate  \\\nId                                                                  \n1468404                      NaN             0                NaN   \n1583856  2019-09-23 16:34:03.127             1                NaN   \n1914947                      NaN             0                NaN   \n1961341                      NaN             1                NaN   \n2039387                      NaN             1                NaN   \n2583326                      NaN             2                NaN   \n2597198                      NaN             0                NaN   \n2604033  2012-12-05 12:52:02.217             6                NaN   \n2625210                      NaN             2                NaN   \n2855574                      NaN             0                NaN   \n2920069                      NaN             0                NaN   \n3155711                      NaN             0                NaN   \n3813715                      NaN             0                NaN   \n3819748                      NaN             0                NaN   \n4028356                      NaN             0                NaN   \n4105249                      NaN             0                NaN   \n4239115                      NaN             0                NaN   \n4278606                      NaN             0                NaN   \n4455224                      NaN             0                NaN   \n4517228                      NaN             0                NaN   \n\n                    CreationDate  FavoriteCount         LastActivityDate  \\\nId                                                                         \n1468404  2009-09-23 20:42:43.883              2  2009-10-10 20:52:40.330   \n1583856  2009-10-18 02:47:39.653             91  2019-09-23 14:03:02.387   \n1914947  2009-12-16 14:23:59.397              5  2019-05-21 10:06:27.997   \n1961341  2009-12-25 15:38:21.420              2  2012-05-23 07:10:33.650   \n2039387  2010-01-11 01:12:49.940              2  2014-01-19 15:43:12.283   \n2583326  2010-04-06 07:39:54.897              0  2010-04-06 14:38:38.320   \n2597198  2010-04-08 02:28:41.863              2  2010-04-08 04:34:30.573   \n2604033  2010-04-08 23:02:26.587             28  2017-11-07 07:51:04.140   \n2625210  2010-04-12 20:29:23.897             57  2019-12-17 06:36:51.870   \n2855574  2010-05-18 08:23:12.677              0  2010-05-18 14:22:17.367   \n2920069  2010-05-27 09:56:29.943              0  2010-12-21 19:32:07.280   \n3155711  2010-07-01 07:10:25.257              0  2010-07-01 09:58:30.393   \n3813715  2010-09-28 14:20:47.650              0  2011-04-06 19:58:24.213   \n3819748  2010-09-29 07:59:50.230              2  2011-11-24 16:35:57.680   \n4028356  2010-10-26 21:55:19.683              0  2010-11-04 02:01:09.413   \n4105249  2010-11-05 10:58:53.267              1  2010-11-05 14:12:56.453   \n4239115  2010-11-21 17:14:22.267              0  2011-02-01 18:38:52.697   \n4278606  2010-11-25 15:28:08.910              0  2011-04-16 16:52:32.440   \n4455224  2010-12-15 21:41:46.617              0  2010-12-21 15:31:59.493   \n4517228  2010-12-23 09:05:40.800              3  2012-05-04 14:58:57.910   \n\n                    LastEditDate  ... OwnerUserId  ParentId  PostTypeId  \\\nId                                ...                                     \n1468404  2009-09-23 20:45:37.153  ...      139096         0           1   \n1583856  2012-03-07 16:08:46.430  ...      142017         0           1   \n1914947  2019-05-21 10:06:27.997  ...       78101         0           1   \n1961341  2009-12-25 18:33:38.633  ...       34155         0           1   \n2039387  2014-01-19 15:43:12.283  ...      247706         0           1   \n2583326  2010-04-06 08:21:45.890  ...       28004         0           1   \n2597198  2017-05-23 11:50:42.387  ...       10116         0           1   \n2604033  2012-12-05 12:52:27.283  ...      139096         0           1   \n2625210  2019-07-22 21:08:33.480  ...      313632         0           1   \n2855574                      NaN  ...           0         0           1   \n2920069                      NaN  ...           0         0           1   \n3155711                      NaN  ...           0         0           1   \n3813715                      NaN  ...      437039         0           1   \n3819748  2011-11-24 16:35:57.680  ...      390198         0           1   \n4028356                      NaN  ...      488160         0           1   \n4105249                      NaN  ...      258354         0           1   \n4239115  2010-11-21 19:49:47.460  ...      216135         0           1   \n4278606                      NaN  ...      335794         0           1   \n4455224                      NaN  ...      382140         0           1   \n4517228                      NaN  ...      536768         0           1   \n\n         Score                                               Tags  \\\nId                                                                  \n1468404      3               <iphone><communication><xamarin.ios>   \n1583856    273               <c#><objective-c><mono><xamarin.ios>   \n1914947      6    <iphone><uiview><uiviewcontroller><xamarin.ios>   \n1961341     14                              <iphone><xamarin.ios>   \n2039387     14                              <iphone><xamarin.ios>   \n2583326      1        <iphone><project><xamarin.ios><monodevelop>   \n2597198      2       <uikit><uiimage><xamarin.ios><pixel><unsafe>   \n2604033    155                              <iphone><xamarin.ios>   \n2625210    121  <javascript><jquery><jquery-ui><jquery-mobile>...   \n2855574      0                                 <wcf><xamarin.ios>   \n2920069      1                   <xamarin.ios><augmented-reality>   \n3155711      0  <iphone><objective-c><xamarin.ios><augmented-r...   \n3813715      2                                      <xamarin.ios>   \n3819748      2                     <c#><objective-c><xamarin.ios>   \n4028356      3                              <dialog><xamarin.ios>   \n4105249      0                              <iphone><xamarin.ios>   \n4239115      1                            <jquery><jquery-mobile>   \n4278606      0        <xamarin.ios><license-key><xamarin.android>   \n4455224      2                        <xamarin.ios><uipickerview>   \n4517228      4                            <jquery><jquery-mobile>   \n\n                                                     Title ViewCount  \\\nId                                                                     \n1468404        Cross iPhone communication using mono touch      1464   \n1583856   How to decide between MonoTouch and Objective-C?     28366   \n1914947                       Web-like tabs for the iPhone      1053   \n1961341           Check for internet access with monotouch      5548   \n2039387   Images in Interface Builder when using MonoTouch      4257   \n2583326                            Can't run MonoTouch App       849   \n2597198  Retrieving a pixel alpha value for a UIImage (...      2657   \n2604033             Is MonoTouch now banned on the iPhone?     12385   \n2625210                          Long Press in JavaScript?    174737   \n2855574                  monotouch - updating data locally       119   \n2920069                        Monotouch Augmented Reality       580   \n3155711  iPhone Augmented reality with iOS4 obj c + and...       881   \n3813715  How can Apple tell if an app was built in Mono...       659   \n3819748                  3rd party libraries in MonoTouch?      1035   \n4028356  MonoTouch.Dialog's OwnerDrawnElement highlight...       626   \n4105249  iPhone App using MonoTouch - which files/folde...       789   \n4239115      Help with making menu button for jQueryMobile      3434   \n4278606  Buy licenses for MonoTouch and MonoDroid together       812   \n4455224                Monotouch - Populate a UIViewPicker      1658   \n4517228  jquery-mobile - how can I bind disable ajax li...      7667   \n\n                                         CombinedTitleBody  \\\nId                                                           \n1468404  <p>Does mono touch allow you to do cross iPhon...   \n1583856  <p>After sitting through a session today on Mo...   \n1914947  <p>What is the best approach to implement tabs...   \n1961341  <p>How can I check internet access with MonoTo...   \n2039387  <p>I'm new to MonoTouch and iPhone development...   \n2583326  <p>This is not a really Programming Question, ...   \n2597198  <p>This question is a duplicate of <a href=\"ht...   \n2604033  <p>A recent post by <a href=\"http://daringfire...   \n2625210  <p>Is it possible to implement \"long press\" in...   \n2855574  <p>In my ap we serilaize the data locally for ...   \n2920069  <p>I'm trying to use the code posted here: <a ...   \n3155711  <p>With the new additions to the OS and the ha...   \n3813715  <p>Monotouch compiles the app into the native ...   \n3819748  <p>Is it possible to use 3rd party libraries w...   \n4028356  <p>I am using MonoTouch.Dialog's OwnerDrawnEle...   \n4105249  <p>I have created a small iPhone app using Mon...   \n4239115  <p>new to jquery and jquerymobile.</p>\\n\\n<p>A...   \n4278606  <p>Is it possible to get both the MonoTouch an...   \n4455224  <p>Is there a quick way to populate a UIPicker...   \n4517228  <p>I working on a multicolumn layout in Jquery...   \n\n                                                    topics  \\\nId                                                           \n1468404  [mono, touch, allow, cross, iphone, communicat...   \n1583856  [sit, session, today, mono, local, net, event,...   \n1914947  [good, approach, implement, tab, look, web, ap...   \n1961341  [check, internet, access, monotouch, do, care,...   \n2039387  [m, new, monotouch, iphone, development, image...   \n2583326  [really, program, question, please_bear, relat...   \n2597198  [question, duplicate, href, https, stackoverfl...   \n2604033  [recent, post, href, http, daringfireball, net...   \n2625210  [possible, implement, long, press, javascript,...   \n2855574  [serilaize, datum, locally, offline, use, ensu...   \n2920069  [m, try, use, code, post, href, http, seanho, ...   \n3155711  [new, addition, hardware, iphone, app, serious...   \n3813715  [monotouch, compile, app, native, code, apple,...   \n3819748  [possible, use, rd_party, library, write, mono...   \n4028356  [use, monotouch, dialog, do, seem, allow, user...   \n4105249  [create, small, iphone, app, use, monotouch, g...   \n4239115  [new, jquery, jquerymobile, want, hide, main, ...   \n4278606  [possible, get, monotouch, monodroid, license,...   \n4455224  [quick, way, populate, uipickerview, value, pi...   \n4517228  [work, multicolumn, layout, jquery_mobile, use...   \n\n                                                     obody  \nId                                                          \n1468404  <p>Does mono touch allow you to do cross iPhon...  \n1583856  <p>After sitting through a session today on Mo...  \n1914947  <p>What is the best approach to implement tabs...  \n1961341  <p>How can I check internet access with MonoTo...  \n2039387  <p>I'm new to MonoTouch and iPhone development...  \n2583326  <p>This is not a really Programming Question, ...  \n2597198  <p>This question is a duplicate of <a href=\"ht...  \n2604033  <p>A recent post by <a href=\"http://daringfire...  \n2625210  <p>Is it possible to implement \"long press\" in...  \n2855574  <p>In my ap we serilaize the data locally for ...  \n2920069  <p>I'm trying to use the code posted here: <a ...  \n3155711  <p>With the new additions to the OS and the ha...  \n3813715  <p>Monotouch compiles the app into the native ...  \n3819748  <p>Is it possible to use 3rd party libraries w...  \n4028356  <p>I am using MonoTouch.Dialog's OwnerDrawnEle...  \n4105249  <p>I have created a small iPhone app using Mon...  \n4239115  <p>new to jquery and jquerymobile.</p>\\n\\n<p>A...  \n4278606  <p>Is it possible to get both the MonoTouch an...  \n4455224  <p>Is there a quick way to populate a UIPicker...  \n4517228  <p>I working on a multicolumn layout in Jquery...  \n\n[20 rows x 22 columns]",
      "text/html": "<div>\n<style scoped>\n    .dataframe tbody tr th:only-of-type {\n        vertical-align: middle;\n    }\n\n    .dataframe tbody tr th {\n        vertical-align: top;\n    }\n\n    .dataframe thead th {\n        text-align: right;\n    }\n</style>\n<table border=\"1\" class=\"dataframe\">\n  <thead>\n    <tr style=\"text-align: right;\">\n      <th></th>\n      <th>AcceptedAnswerId</th>\n      <th>AnswerCount</th>\n      <th>Body</th>\n      <th>ClosedDate</th>\n      <th>CommentCount</th>\n      <th>CommunityOwnedDate</th>\n      <th>CreationDate</th>\n      <th>FavoriteCount</th>\n      <th>LastActivityDate</th>\n      <th>LastEditDate</th>\n      <th>...</th>\n      <th>OwnerUserId</th>\n      <th>ParentId</th>\n      <th>PostTypeId</th>\n      <th>Score</th>\n      <th>Tags</th>\n      <th>Title</th>\n      <th>ViewCount</th>\n      <th>CombinedTitleBody</th>\n      <th>topics</th>\n      <th>obody</th>\n    </tr>\n    <tr>\n      <th>Id</th>\n      <th></th>\n      <th></th>\n      <th></th>\n      <th></th>\n      <th></th>\n      <th></th>\n      <th></th>\n      <th></th>\n      <th></th>\n      <th></th>\n      <th></th>\n      <th></th>\n      <th></th>\n      <th></th>\n      <th></th>\n      <th></th>\n      <th></th>\n      <th></th>\n      <th></th>\n      <th></th>\n      <th></th>\n    </tr>\n  </thead>\n  <tbody>\n    <tr>\n      <th>1468404</th>\n      <td>1549052</td>\n      <td>3</td>\n      <td>&lt;p&gt;Does mono touch allow you to do cross iPhon...</td>\n      <td>NaN</td>\n      <td>0</td>\n      <td>NaN</td>\n      <td>2009-09-23 20:42:43.883</td>\n      <td>2</td>\n      <td>2009-10-10 20:52:40.330</td>\n      <td>2009-09-23 20:45:37.153</td>\n      <td>...</td>\n      <td>139096</td>\n      <td>0</td>\n      <td>1</td>\n      <td>3</td>\n      <td>&lt;iphone&gt;&lt;communication&gt;&lt;xamarin.ios&gt;</td>\n      <td>Cross iPhone communication using mono touch</td>\n      <td>1464</td>\n      <td>&lt;p&gt;Does mono touch allow you to do cross iPhon...</td>\n      <td>[mono, touch, allow, cross, iphone, communicat...</td>\n      <td>&lt;p&gt;Does mono touch allow you to do cross iPhon...</td>\n    </tr>\n    <tr>\n      <th>1583856</th>\n      <td>1634592</td>\n      <td>14</td>\n      <td>&lt;p&gt;After sitting through a session today on Mo...</td>\n      <td>2019-09-23 16:34:03.127</td>\n      <td>1</td>\n      <td>NaN</td>\n      <td>2009-10-18 02:47:39.653</td>\n      <td>91</td>\n      <td>2019-09-23 14:03:02.387</td>\n      <td>2012-03-07 16:08:46.430</td>\n      <td>...</td>\n      <td>142017</td>\n      <td>0</td>\n      <td>1</td>\n      <td>273</td>\n      <td>&lt;c#&gt;&lt;objective-c&gt;&lt;mono&gt;&lt;xamarin.ios&gt;</td>\n      <td>How to decide between MonoTouch and Objective-C?</td>\n      <td>28366</td>\n      <td>&lt;p&gt;After sitting through a session today on Mo...</td>\n      <td>[sit, session, today, mono, local, net, event,...</td>\n      <td>&lt;p&gt;After sitting through a session today on Mo...</td>\n    </tr>\n    <tr>\n      <th>1914947</th>\n      <td>1915407</td>\n      <td>4</td>\n      <td>&lt;p&gt;What is the best approach to implement tabs...</td>\n      <td>NaN</td>\n      <td>0</td>\n      <td>NaN</td>\n      <td>2009-12-16 14:23:59.397</td>\n      <td>5</td>\n      <td>2019-05-21 10:06:27.997</td>\n      <td>2019-05-21 10:06:27.997</td>\n      <td>...</td>\n      <td>78101</td>\n      <td>0</td>\n      <td>1</td>\n      <td>6</td>\n      <td>&lt;iphone&gt;&lt;uiview&gt;&lt;uiviewcontroller&gt;&lt;xamarin.ios&gt;</td>\n      <td>Web-like tabs for the iPhone</td>\n      <td>1053</td>\n      <td>&lt;p&gt;What is the best approach to implement tabs...</td>\n      <td>[good, approach, implement, tab, look, web, ap...</td>\n      <td>&lt;p&gt;What is the best approach to implement tabs...</td>\n    </tr>\n    <tr>\n      <th>1961341</th>\n      <td>1961838</td>\n      <td>1</td>\n      <td>&lt;p&gt;How can I check internet access with MonoTo...</td>\n      <td>NaN</td>\n      <td>1</td>\n      <td>NaN</td>\n      <td>2009-12-25 15:38:21.420</td>\n      <td>2</td>\n      <td>2012-05-23 07:10:33.650</td>\n      <td>2009-12-25 18:33:38.633</td>\n      <td>...</td>\n      <td>34155</td>\n      <td>0</td>\n      <td>1</td>\n      <td>14</td>\n      <td>&lt;iphone&gt;&lt;xamarin.ios&gt;</td>\n      <td>Check for internet access with monotouch</td>\n      <td>5548</td>\n      <td>&lt;p&gt;How can I check internet access with MonoTo...</td>\n      <td>[check, internet, access, monotouch, do, care,...</td>\n      <td>&lt;p&gt;How can I check internet access with MonoTo...</td>\n    </tr>\n    <tr>\n      <th>2039387</th>\n      <td>2044192</td>\n      <td>4</td>\n      <td>&lt;p&gt;I'm new to MonoTouch and iPhone development...</td>\n      <td>NaN</td>\n      <td>1</td>\n      <td>NaN</td>\n      <td>2010-01-11 01:12:49.940</td>\n      <td>2</td>\n      <td>2014-01-19 15:43:12.283</td>\n      <td>2014-01-19 15:43:12.283</td>\n      <td>...</td>\n      <td>247706</td>\n      <td>0</td>\n      <td>1</td>\n      <td>14</td>\n      <td>&lt;iphone&gt;&lt;xamarin.ios&gt;</td>\n      <td>Images in Interface Builder when using MonoTouch</td>\n      <td>4257</td>\n      <td>&lt;p&gt;I'm new to MonoTouch and iPhone development...</td>\n      <td>[m, new, monotouch, iphone, development, image...</td>\n      <td>&lt;p&gt;I'm new to MonoTouch and iPhone development...</td>\n    </tr>\n    <tr>\n      <th>2583326</th>\n      <td>2583456</td>\n      <td>1</td>\n      <td>&lt;p&gt;This is not a really Programming Question, ...</td>\n      <td>NaN</td>\n      <td>2</td>\n      <td>NaN</td>\n      <td>2010-04-06 07:39:54.897</td>\n      <td>0</td>\n      <td>2010-04-06 14:38:38.320</td>\n      <td>2010-04-06 08:21:45.890</td>\n      <td>...</td>\n      <td>28004</td>\n      <td>0</td>\n      <td>1</td>\n      <td>1</td>\n      <td>&lt;iphone&gt;&lt;project&gt;&lt;xamarin.ios&gt;&lt;monodevelop&gt;</td>\n      <td>Can't run MonoTouch App</td>\n      <td>849</td>\n      <td>&lt;p&gt;This is not a really Programming Question, ...</td>\n      <td>[really, program, question, please_bear, relat...</td>\n      <td>&lt;p&gt;This is not a really Programming Question, ...</td>\n    </tr>\n    <tr>\n      <th>2597198</th>\n      <td>2597594</td>\n      <td>1</td>\n      <td>&lt;p&gt;This question is a duplicate of &lt;a href=\"ht...</td>\n      <td>NaN</td>\n      <td>0</td>\n      <td>NaN</td>\n      <td>2010-04-08 02:28:41.863</td>\n      <td>2</td>\n      <td>2010-04-08 04:34:30.573</td>\n      <td>2017-05-23 11:50:42.387</td>\n      <td>...</td>\n      <td>10116</td>\n      <td>0</td>\n      <td>1</td>\n      <td>2</td>\n      <td>&lt;uikit&gt;&lt;uiimage&gt;&lt;xamarin.ios&gt;&lt;pixel&gt;&lt;unsafe&gt;</td>\n      <td>Retrieving a pixel alpha value for a UIImage (...</td>\n      <td>2657</td>\n      <td>&lt;p&gt;This question is a duplicate of &lt;a href=\"ht...</td>\n      <td>[question, duplicate, href, https, stackoverfl...</td>\n      <td>&lt;p&gt;This question is a duplicate of &lt;a href=\"ht...</td>\n    </tr>\n    <tr>\n      <th>2604033</th>\n      <td>2604075</td>\n      <td>18</td>\n      <td>&lt;p&gt;A recent post by &lt;a href=\"http://daringfire...</td>\n      <td>2012-12-05 12:52:02.217</td>\n      <td>6</td>\n      <td>NaN</td>\n      <td>2010-04-08 23:02:26.587</td>\n      <td>28</td>\n      <td>2017-11-07 07:51:04.140</td>\n      <td>2012-12-05 12:52:27.283</td>\n      <td>...</td>\n      <td>139096</td>\n      <td>0</td>\n      <td>1</td>\n      <td>155</td>\n      <td>&lt;iphone&gt;&lt;xamarin.ios&gt;</td>\n      <td>Is MonoTouch now banned on the iPhone?</td>\n      <td>12385</td>\n      <td>&lt;p&gt;A recent post by &lt;a href=\"http://daringfire...</td>\n      <td>[recent, post, href, http, daringfireball, net...</td>\n      <td>&lt;p&gt;A recent post by &lt;a href=\"http://daringfire...</td>\n    </tr>\n    <tr>\n      <th>2625210</th>\n      <td>2625240</td>\n      <td>19</td>\n      <td>&lt;p&gt;Is it possible to implement \"long press\" in...</td>\n      <td>NaN</td>\n      <td>2</td>\n      <td>NaN</td>\n      <td>2010-04-12 20:29:23.897</td>\n      <td>57</td>\n      <td>2019-12-17 06:36:51.870</td>\n      <td>2019-07-22 21:08:33.480</td>\n      <td>...</td>\n      <td>313632</td>\n      <td>0</td>\n      <td>1</td>\n      <td>121</td>\n      <td>&lt;javascript&gt;&lt;jquery&gt;&lt;jquery-ui&gt;&lt;jquery-mobile&gt;...</td>\n      <td>Long Press in JavaScript?</td>\n      <td>174737</td>\n      <td>&lt;p&gt;Is it possible to implement \"long press\" in...</td>\n      <td>[possible, implement, long, press, javascript,...</td>\n      <td>&lt;p&gt;Is it possible to implement \"long press\" in...</td>\n    </tr>\n    <tr>\n      <th>2855574</th>\n      <td>2858108</td>\n      <td>1</td>\n      <td>&lt;p&gt;In my ap we serilaize the data locally for ...</td>\n      <td>NaN</td>\n      <td>0</td>\n      <td>NaN</td>\n      <td>2010-05-18 08:23:12.677</td>\n      <td>0</td>\n      <td>2010-05-18 14:22:17.367</td>\n      <td>NaN</td>\n      <td>...</td>\n      <td>0</td>\n      <td>0</td>\n      <td>1</td>\n      <td>0</td>\n      <td>&lt;wcf&gt;&lt;xamarin.ios&gt;</td>\n      <td>monotouch - updating data locally</td>\n      <td>119</td>\n      <td>&lt;p&gt;In my ap we serilaize the data locally for ...</td>\n      <td>[serilaize, datum, locally, offline, use, ensu...</td>\n      <td>&lt;p&gt;In my ap we serilaize the data locally for ...</td>\n    </tr>\n    <tr>\n      <th>2920069</th>\n      <td>4503153</td>\n      <td>1</td>\n      <td>&lt;p&gt;I'm trying to use the code posted here: &lt;a ...</td>\n      <td>NaN</td>\n      <td>0</td>\n      <td>NaN</td>\n      <td>2010-05-27 09:56:29.943</td>\n      <td>0</td>\n      <td>2010-12-21 19:32:07.280</td>\n      <td>NaN</td>\n      <td>...</td>\n      <td>0</td>\n      <td>0</td>\n      <td>1</td>\n      <td>1</td>\n      <td>&lt;xamarin.ios&gt;&lt;augmented-reality&gt;</td>\n      <td>Monotouch Augmented Reality</td>\n      <td>580</td>\n      <td>&lt;p&gt;I'm trying to use the code posted here: &lt;a ...</td>\n      <td>[m, try, use, code, post, href, http, seanho, ...</td>\n      <td>&lt;p&gt;I'm trying to use the code posted here: &lt;a ...</td>\n    </tr>\n    <tr>\n      <th>3155711</th>\n      <td>3156721</td>\n      <td>1</td>\n      <td>&lt;p&gt;With the new additions to the OS and the ha...</td>\n      <td>NaN</td>\n      <td>0</td>\n      <td>NaN</td>\n      <td>2010-07-01 07:10:25.257</td>\n      <td>0</td>\n      <td>2010-07-01 09:58:30.393</td>\n      <td>NaN</td>\n      <td>...</td>\n      <td>0</td>\n      <td>0</td>\n      <td>1</td>\n      <td>0</td>\n      <td>&lt;iphone&gt;&lt;objective-c&gt;&lt;xamarin.ios&gt;&lt;augmented-r...</td>\n      <td>iPhone Augmented reality with iOS4 obj c + and...</td>\n      <td>881</td>\n      <td>&lt;p&gt;With the new additions to the OS and the ha...</td>\n      <td>[new, addition, hardware, iphone, app, serious...</td>\n      <td>&lt;p&gt;With the new additions to the OS and the ha...</td>\n    </tr>\n    <tr>\n      <th>3813715</th>\n      <td>3813880</td>\n      <td>2</td>\n      <td>&lt;p&gt;Monotouch compiles the app into the native ...</td>\n      <td>NaN</td>\n      <td>0</td>\n      <td>NaN</td>\n      <td>2010-09-28 14:20:47.650</td>\n      <td>0</td>\n      <td>2011-04-06 19:58:24.213</td>\n      <td>NaN</td>\n      <td>...</td>\n      <td>437039</td>\n      <td>0</td>\n      <td>1</td>\n      <td>2</td>\n      <td>&lt;xamarin.ios&gt;</td>\n      <td>How can Apple tell if an app was built in Mono...</td>\n      <td>659</td>\n      <td>&lt;p&gt;Monotouch compiles the app into the native ...</td>\n      <td>[monotouch, compile, app, native, code, apple,...</td>\n      <td>&lt;p&gt;Monotouch compiles the app into the native ...</td>\n    </tr>\n    <tr>\n      <th>3819748</th>\n      <td>3819855</td>\n      <td>2</td>\n      <td>&lt;p&gt;Is it possible to use 3rd party libraries w...</td>\n      <td>NaN</td>\n      <td>0</td>\n      <td>NaN</td>\n      <td>2010-09-29 07:59:50.230</td>\n      <td>2</td>\n      <td>2011-11-24 16:35:57.680</td>\n      <td>2011-11-24 16:35:57.680</td>\n      <td>...</td>\n      <td>390198</td>\n      <td>0</td>\n      <td>1</td>\n      <td>2</td>\n      <td>&lt;c#&gt;&lt;objective-c&gt;&lt;xamarin.ios&gt;</td>\n      <td>3rd party libraries in MonoTouch?</td>\n      <td>1035</td>\n      <td>&lt;p&gt;Is it possible to use 3rd party libraries w...</td>\n      <td>[possible, use, rd_party, library, write, mono...</td>\n      <td>&lt;p&gt;Is it possible to use 3rd party libraries w...</td>\n    </tr>\n    <tr>\n      <th>4028356</th>\n      <td>4093283</td>\n      <td>1</td>\n      <td>&lt;p&gt;I am using MonoTouch.Dialog's OwnerDrawnEle...</td>\n      <td>NaN</td>\n      <td>0</td>\n      <td>NaN</td>\n      <td>2010-10-26 21:55:19.683</td>\n      <td>0</td>\n      <td>2010-11-04 02:01:09.413</td>\n      <td>NaN</td>\n      <td>...</td>\n      <td>488160</td>\n      <td>0</td>\n      <td>1</td>\n      <td>3</td>\n      <td>&lt;dialog&gt;&lt;xamarin.ios&gt;</td>\n      <td>MonoTouch.Dialog's OwnerDrawnElement highlight...</td>\n      <td>626</td>\n      <td>&lt;p&gt;I am using MonoTouch.Dialog's OwnerDrawnEle...</td>\n      <td>[use, monotouch, dialog, do, seem, allow, user...</td>\n      <td>&lt;p&gt;I am using MonoTouch.Dialog's OwnerDrawnEle...</td>\n    </tr>\n    <tr>\n      <th>4105249</th>\n      <td>4105267</td>\n      <td>2</td>\n      <td>&lt;p&gt;I have created a small iPhone app using Mon...</td>\n      <td>NaN</td>\n      <td>0</td>\n      <td>NaN</td>\n      <td>2010-11-05 10:58:53.267</td>\n      <td>1</td>\n      <td>2010-11-05 14:12:56.453</td>\n      <td>NaN</td>\n      <td>...</td>\n      <td>258354</td>\n      <td>0</td>\n      <td>1</td>\n      <td>0</td>\n      <td>&lt;iphone&gt;&lt;xamarin.ios&gt;</td>\n      <td>iPhone App using MonoTouch - which files/folde...</td>\n      <td>789</td>\n      <td>&lt;p&gt;I have created a small iPhone app using Mon...</td>\n      <td>[create, small, iphone, app, use, monotouch, g...</td>\n      <td>&lt;p&gt;I have created a small iPhone app using Mon...</td>\n    </tr>\n    <tr>\n      <th>4239115</th>\n      <td>4437224</td>\n      <td>1</td>\n      <td>&lt;p&gt;new to jquery and jquerymobile.&lt;/p&gt;\\n\\n&lt;p&gt;A...</td>\n      <td>NaN</td>\n      <td>0</td>\n      <td>NaN</td>\n      <td>2010-11-21 17:14:22.267</td>\n      <td>0</td>\n      <td>2011-02-01 18:38:52.697</td>\n      <td>2010-11-21 19:49:47.460</td>\n      <td>...</td>\n      <td>216135</td>\n      <td>0</td>\n      <td>1</td>\n      <td>1</td>\n      <td>&lt;jquery&gt;&lt;jquery-mobile&gt;</td>\n      <td>Help with making menu button for jQueryMobile</td>\n      <td>3434</td>\n      <td>&lt;p&gt;new to jquery and jquerymobile.&lt;/p&gt;\\n\\n&lt;p&gt;A...</td>\n      <td>[new, jquery, jquerymobile, want, hide, main, ...</td>\n      <td>&lt;p&gt;new to jquery and jquerymobile.&lt;/p&gt;\\n\\n&lt;p&gt;A...</td>\n    </tr>\n    <tr>\n      <th>4278606</th>\n      <td>4285903</td>\n      <td>2</td>\n      <td>&lt;p&gt;Is it possible to get both the MonoTouch an...</td>\n      <td>NaN</td>\n      <td>0</td>\n      <td>NaN</td>\n      <td>2010-11-25 15:28:08.910</td>\n      <td>0</td>\n      <td>2011-04-16 16:52:32.440</td>\n      <td>NaN</td>\n      <td>...</td>\n      <td>335794</td>\n      <td>0</td>\n      <td>1</td>\n      <td>0</td>\n      <td>&lt;xamarin.ios&gt;&lt;license-key&gt;&lt;xamarin.android&gt;</td>\n      <td>Buy licenses for MonoTouch and MonoDroid together</td>\n      <td>812</td>\n      <td>&lt;p&gt;Is it possible to get both the MonoTouch an...</td>\n      <td>[possible, get, monotouch, monodroid, license,...</td>\n      <td>&lt;p&gt;Is it possible to get both the MonoTouch an...</td>\n    </tr>\n    <tr>\n      <th>4455224</th>\n      <td>4500915</td>\n      <td>1</td>\n      <td>&lt;p&gt;Is there a quick way to populate a UIPicker...</td>\n      <td>NaN</td>\n      <td>0</td>\n      <td>NaN</td>\n      <td>2010-12-15 21:41:46.617</td>\n      <td>0</td>\n      <td>2010-12-21 15:31:59.493</td>\n      <td>NaN</td>\n      <td>...</td>\n      <td>382140</td>\n      <td>0</td>\n      <td>1</td>\n      <td>2</td>\n      <td>&lt;xamarin.ios&gt;&lt;uipickerview&gt;</td>\n      <td>Monotouch - Populate a UIViewPicker</td>\n      <td>1658</td>\n      <td>&lt;p&gt;Is there a quick way to populate a UIPicker...</td>\n      <td>[quick, way, populate, uipickerview, value, pi...</td>\n      <td>&lt;p&gt;Is there a quick way to populate a UIPicker...</td>\n    </tr>\n    <tr>\n      <th>4517228</th>\n      <td>5799982</td>\n      <td>3</td>\n      <td>&lt;p&gt;I working on a multicolumn layout in Jquery...</td>\n      <td>NaN</td>\n      <td>0</td>\n      <td>NaN</td>\n      <td>2010-12-23 09:05:40.800</td>\n      <td>3</td>\n      <td>2012-05-04 14:58:57.910</td>\n      <td>NaN</td>\n      <td>...</td>\n      <td>536768</td>\n      <td>0</td>\n      <td>1</td>\n      <td>4</td>\n      <td>&lt;jquery&gt;&lt;jquery-mobile&gt;</td>\n      <td>jquery-mobile - how can I bind disable ajax li...</td>\n      <td>7667</td>\n      <td>&lt;p&gt;I working on a multicolumn layout in Jquery...</td>\n      <td>[work, multicolumn, layout, jquery_mobile, use...</td>\n      <td>&lt;p&gt;I working on a multicolumn layout in Jquery...</td>\n    </tr>\n  </tbody>\n</table>\n<p>20 rows × 22 columns</p>\n</div>"
     },
     "execution_count": 15,
     "metadata": {},
     "output_type": "execute_result"
    }
   ],
   "source": [
    "print(data_lemmatized[:2])\n",
    "\n",
    "reviews_datasets['topics']=data_lemmatized\n",
    "reviews_datasets['obody']=obody\n",
    "reviews_datasets.head(20)\n",
    "#reset option to default value"
   ]
  },
  {
   "cell_type": "code",
   "execution_count": 16,
   "metadata": {
    "pycharm": {
     "name": "#%%\n"
    }
   },
   "outputs": [
    {
     "name": "stderr",
     "output_type": "stream",
     "text": [
      "C:\\tools\\Anaconda3\\lib\\site-packages\\ipykernel\\ipkernel.py:287: DeprecationWarning: `should_run_async` will not call `transform_cell` automatically in the future. Please pass the result to `transformed_cell` argument and any exception that happen during thetransform in `preprocessing_exc_tuple` in IPython 7.17 and above.\n",
      "  and should_run_async(code)\n"
     ]
    }
   ],
   "source": [
    "reviews_datasets.to_csv(\"E:/so-data/output1.csv\")"
   ]
  },
  {
   "cell_type": "code",
   "execution_count": 17,
   "metadata": {},
   "outputs": [
    {
     "name": "stderr",
     "output_type": "stream",
     "text": [
      "C:\\tools\\Anaconda3\\lib\\site-packages\\ipykernel\\ipkernel.py:287: DeprecationWarning: `should_run_async` will not call `transform_cell` automatically in the future. Please pass the result to `transformed_cell` argument and any exception that happen during thetransform in `preprocessing_exc_tuple` in IPython 7.17 and above.\n",
      "  and should_run_async(code)\n"
     ]
    }
   ],
   "source": [
    "# Create Dictionary\n",
    "id2word = corpora.Dictionary(data_lemmatized)\n",
    "\n",
    "# Create Corpus\n",
    "texts = data_lemmatized\n",
    "\n",
    "# Term Document Frequency\n",
    "corpus = [id2word.doc2bow(text) for text in texts]"
   ]
  },
  {
   "cell_type": "code",
   "execution_count": 18,
   "metadata": {
    "pycharm": {
     "name": "#%%\n"
    }
   },
   "outputs": [
    {
     "name": "stderr",
     "output_type": "stream",
     "text": [
      "C:\\tools\\Anaconda3\\lib\\site-packages\\ipykernel\\ipkernel.py:287: DeprecationWarning: `should_run_async` will not call `transform_cell` automatically in the future. Please pass the result to `transformed_cell` argument and any exception that happen during thetransform in `preprocessing_exc_tuple` in IPython 7.17 and above.\n",
      "  and should_run_async(code)\n"
     ]
    }
   ],
   "source": [
    "import os\n",
    "from gensim.models.wrappers import LdaMallet\n",
    "\n",
    "os.environ['MALLET_HOME'] = 'E:\\\\so-data\\\\mallet-2.0.8\\\\mallet-2.0.8'\n",
    "\n",
    "mallet_path = 'E:\\\\so-data\\\\mallet-2.0.8\\\\mallet-2.0.8\\\\bin\\\\mallet'"
   ]
  },
  {
   "cell_type": "code",
   "execution_count": 19,
   "metadata": {
    "pycharm": {
     "name": "#%%\n"
    }
   },
   "outputs": [
    {
     "name": "stderr",
     "output_type": "stream",
     "text": [
      "C:\\tools\\Anaconda3\\lib\\site-packages\\ipykernel\\ipkernel.py:287: DeprecationWarning: `should_run_async` will not call `transform_cell` automatically in the future. Please pass the result to `transformed_cell` argument and any exception that happen during thetransform in `preprocessing_exc_tuple` in IPython 7.17 and above.\n",
      "  and should_run_async(code)\n"
     ]
    }
   ],
   "source": [
    "# lda_mallet = gensim.models.wrappers.LdaMallet(mallet_path, corpus=corpus, num_topics=30, id2word=id2word, optimize_interval=10, iterations=1500)"
   ]
  },
  {
   "cell_type": "code",
   "execution_count": 20,
   "metadata": {},
   "outputs": [
    {
     "name": "stderr",
     "output_type": "stream",
     "text": [
      "C:\\tools\\Anaconda3\\lib\\site-packages\\ipykernel\\ipkernel.py:287: DeprecationWarning: `should_run_async` will not call `transform_cell` automatically in the future. Please pass the result to `transformed_cell` argument and any exception that happen during thetransform in `preprocessing_exc_tuple` in IPython 7.17 and above.\n",
      "  and should_run_async(code)\n"
     ]
    }
   ],
   "source": [
    "# gensim.models.LdaModel?"
   ]
  },
  {
   "cell_type": "code",
   "execution_count": 21,
   "metadata": {
    "pycharm": {
     "name": "#%%\n"
    }
   },
   "outputs": [
    {
     "name": "stderr",
     "output_type": "stream",
     "text": [
      "C:\\tools\\Anaconda3\\lib\\site-packages\\ipykernel\\ipkernel.py:287: DeprecationWarning: `should_run_async` will not call `transform_cell` automatically in the future. Please pass the result to `transformed_cell` argument and any exception that happen during thetransform in `preprocessing_exc_tuple` in IPython 7.17 and above.\n",
      "  and should_run_async(code)\n"
     ]
    }
   ],
   "source": [
    "# Compute Coherence Score\n",
    "# coherence_model_ldamallet = CoherenceModel(model=lda_mallet, texts=data_lemmatized, dictionary=id2word, coherence='c_v')\n",
    "# coherence_ldamallet = coherence_model_ldamallet.get_coherence()\n",
    "# print('\\nCoherence Score: ', coherence_ldamallet)"
   ]
  },
  {
   "cell_type": "code",
   "execution_count": 22,
   "metadata": {
    "pycharm": {
     "name": "#%%\n"
    }
   },
   "outputs": [
    {
     "name": "stderr",
     "output_type": "stream",
     "text": [
      "C:\\tools\\Anaconda3\\lib\\site-packages\\ipykernel\\ipkernel.py:287: DeprecationWarning: `should_run_async` will not call `transform_cell` automatically in the future. Please pass the result to `transformed_cell` argument and any exception that happen during thetransform in `preprocessing_exc_tuple` in IPython 7.17 and above.\n",
      "  and should_run_async(code)\n"
     ]
    }
   ],
   "source": [
    "def compute_coherence_values(dictionary, corpus, texts, limit, start=15, step=5):\n",
    "    \"\"\"\n",
    "    Compute c_v coherence for various number of topics\n",
    "    Parameters:\n",
    "    ----------\n",
    "    dictionary : Gensim dictionary\n",
    "    corpus : Gensim corpus\n",
    "    texts : List of input texts\n",
    "    limit : Max num of topics\n",
    "    Returns:\n",
    "    -------\n",
    "    model_list : List of LDA topic models\n",
    "    coherence_values : Coherence values corresponding to the LDA model with respective number of topics\n",
    "    \"\"\"\n",
    "    coherence_values = []\n",
    "    model_list = []\n",
    "    for num_topics in range(start, limit, step):\n",
    "        print(num_topics)\n",
    "        model = gensim.models.wrappers.LdaMallet(mallet_path, corpus=corpus, num_topics=num_topics, id2word=id2word)\n",
    "        model_list.append(model)\n",
    "        coherencemodel = CoherenceModel(model=model, texts=texts, dictionary=dictionary, coherence='c_v')\n",
    "        coherence_values.append(coherencemodel.get_coherence())\n",
    "\n",
    "    return model_list, coherence_values"
   ]
  },
  {
   "cell_type": "code",
   "execution_count": 23,
   "metadata": {
    "pycharm": {
     "name": "#%%\n"
    }
   },
   "outputs": [
    {
     "name": "stderr",
     "output_type": "stream",
     "text": [
      "C:\\tools\\Anaconda3\\lib\\site-packages\\ipykernel\\ipkernel.py:287: DeprecationWarning: `should_run_async` will not call `transform_cell` automatically in the future. Please pass the result to `transformed_cell` argument and any exception that happen during thetransform in `preprocessing_exc_tuple` in IPython 7.17 and above.\n",
      "  and should_run_async(code)\n"
     ]
    }
   ],
   "source": [
    "#model_list, coherence_values = compute_coherence_values(dictionary=id2word, corpus=corpus, texts=data_lemmatized, start=15, limit=45, step=5)"
   ]
  },
  {
   "cell_type": "code",
   "execution_count": 24,
   "outputs": [
    {
     "name": "stderr",
     "output_type": "stream",
     "text": [
      "C:\\tools\\Anaconda3\\lib\\site-packages\\ipykernel\\ipkernel.py:287: DeprecationWarning: `should_run_async` will not call `transform_cell` automatically in the future. Please pass the result to `transformed_cell` argument and any exception that happen during thetransform in `preprocessing_exc_tuple` in IPython 7.17 and above.\n",
      "  and should_run_async(code)\n"
     ]
    },
    {
     "ename": "NameError",
     "evalue": "name 'coherence_values' is not defined",
     "output_type": "error",
     "traceback": [
      "\u001B[1;31m---------------------------------------------------------------------------\u001B[0m",
      "\u001B[1;31mNameError\u001B[0m                                 Traceback (most recent call last)",
      "\u001B[1;32m<ipython-input-24-4ac01495b61f>\u001B[0m in \u001B[0;36m<module>\u001B[1;34m\u001B[0m\n\u001B[0;32m      2\u001B[0m \u001B[0mlimit\u001B[0m\u001B[1;33m=\u001B[0m\u001B[1;36m45\u001B[0m\u001B[1;33m;\u001B[0m \u001B[0mstart\u001B[0m\u001B[1;33m=\u001B[0m\u001B[1;36m15\u001B[0m\u001B[1;33m;\u001B[0m \u001B[0mstep\u001B[0m\u001B[1;33m=\u001B[0m\u001B[1;36m5\u001B[0m\u001B[1;33m;\u001B[0m\u001B[1;33m\u001B[0m\u001B[1;33m\u001B[0m\u001B[0m\n\u001B[0;32m      3\u001B[0m \u001B[0mx\u001B[0m \u001B[1;33m=\u001B[0m \u001B[0mrange\u001B[0m\u001B[1;33m(\u001B[0m\u001B[0mstart\u001B[0m\u001B[1;33m,\u001B[0m \u001B[0mlimit\u001B[0m\u001B[1;33m,\u001B[0m \u001B[0mstep\u001B[0m\u001B[1;33m)\u001B[0m\u001B[1;33m\u001B[0m\u001B[1;33m\u001B[0m\u001B[0m\n\u001B[1;32m----> 4\u001B[1;33m \u001B[0mplt\u001B[0m\u001B[1;33m.\u001B[0m\u001B[0mplot\u001B[0m\u001B[1;33m(\u001B[0m\u001B[0mx\u001B[0m\u001B[1;33m,\u001B[0m \u001B[0mcoherence_values\u001B[0m\u001B[1;33m)\u001B[0m\u001B[1;33m\u001B[0m\u001B[1;33m\u001B[0m\u001B[0m\n\u001B[0m\u001B[0;32m      5\u001B[0m \u001B[0mplt\u001B[0m\u001B[1;33m.\u001B[0m\u001B[0mxlabel\u001B[0m\u001B[1;33m(\u001B[0m\u001B[1;34m\"Num Topics\"\u001B[0m\u001B[1;33m)\u001B[0m\u001B[1;33m\u001B[0m\u001B[1;33m\u001B[0m\u001B[0m\n\u001B[0;32m      6\u001B[0m \u001B[0mplt\u001B[0m\u001B[1;33m.\u001B[0m\u001B[0mylabel\u001B[0m\u001B[1;33m(\u001B[0m\u001B[1;34m\"Coherence score\"\u001B[0m\u001B[1;33m)\u001B[0m\u001B[1;33m\u001B[0m\u001B[1;33m\u001B[0m\u001B[0m\n",
      "\u001B[1;31mNameError\u001B[0m: name 'coherence_values' is not defined"
     ]
    }
   ],
   "source": [
    "# #Show graph\n",
    "# limit=45; start=15; step=5;\n",
    "# x = range(start, limit, step)\n",
    "# plt.plot(x, coherence_values)\n",
    "# plt.xlabel(\"Num Topics\")\n",
    "# plt.ylabel(\"Coherence score\")\n",
    "# plt.legend((\"coherence_values\"), loc='best')\n",
    "# plt.show()"
   ],
   "metadata": {
    "collapsed": false,
    "pycharm": {
     "name": "#%%\n"
    }
   }
  },
  {
   "cell_type": "code",
   "execution_count": null,
   "outputs": [],
   "source": [
    "# print(coherence_values)"
   ],
   "metadata": {
    "collapsed": false,
    "pycharm": {
     "name": "#%%\n"
    }
   }
  },
  {
   "cell_type": "code",
   "execution_count": 25,
   "outputs": [
    {
     "name": "stderr",
     "output_type": "stream",
     "text": [
      "C:\\tools\\Anaconda3\\lib\\site-packages\\ipykernel\\ipkernel.py:287: DeprecationWarning: `should_run_async` will not call `transform_cell` automatically in the future. Please pass the result to `transformed_cell` argument and any exception that happen during thetransform in `preprocessing_exc_tuple` in IPython 7.17 and above.\n",
      "  and should_run_async(code)\n"
     ]
    }
   ],
   "source": [
    "def calculate_best_iterations(number_of_topics, number_of_iterations):\n",
    "    print(number_of_iterations)\n",
    "    lda_mallet = gensim.models.wrappers.LdaMallet(mallet_path, corpus = corpus, num_topics= number_of_topics, id2word= id2word, optimize_interval=10, iterations= number_of_iterations)\n",
    "    coherence_model_ldamallet = CoherenceModel(model=lda_mallet, texts=data_lemmatized, dictionary=id2word, coherence='c_v')\n",
    "    iterations.append(number_of_iterations)\n",
    "    iteration_based_coherence_values.append(coherence_model_ldamallet.get_coherence())"
   ],
   "metadata": {
    "collapsed": false,
    "pycharm": {
     "name": "#%%\n"
    }
   }
  },
  {
   "cell_type": "code",
   "execution_count": 26,
   "outputs": [
    {
     "name": "stderr",
     "output_type": "stream",
     "text": [
      "C:\\tools\\Anaconda3\\lib\\site-packages\\ipykernel\\ipkernel.py:287: DeprecationWarning: `should_run_async` will not call `transform_cell` automatically in the future. Please pass the result to `transformed_cell` argument and any exception that happen during thetransform in `preprocessing_exc_tuple` in IPython 7.17 and above.\n",
      "  and should_run_async(code)\n"
     ]
    },
    {
     "name": "stdout",
     "output_type": "stream",
     "text": [
      "500\n",
      "1000\n",
      "1500\n",
      "2000\n",
      "2500\n",
      "3000\n"
     ]
    },
    {
     "ename": "NotImplementedError",
     "evalue": "cannot instantiate abstract base class",
     "output_type": "error",
     "traceback": [
      "\u001B[1;31m---------------------------------------------------------------------------\u001B[0m",
      "\u001B[1;31mNotImplementedError\u001B[0m                       Traceback (most recent call last)",
      "\u001B[1;32m<ipython-input-26-37b5fbabff2c>\u001B[0m in \u001B[0;36m<module>\u001B[1;34m\u001B[0m\n\u001B[0;32m      8\u001B[0m \u001B[0mlimit\u001B[0m\u001B[1;33m=\u001B[0m\u001B[1;36m3000\u001B[0m\u001B[1;33m;\u001B[0m \u001B[0mstart\u001B[0m\u001B[1;33m=\u001B[0m\u001B[1;36m500\u001B[0m\u001B[1;33m;\u001B[0m \u001B[0mstep\u001B[0m\u001B[1;33m=\u001B[0m\u001B[1;36m500\u001B[0m\u001B[1;33m;\u001B[0m\u001B[1;33m\u001B[0m\u001B[1;33m\u001B[0m\u001B[0m\n\u001B[0;32m      9\u001B[0m \u001B[0mx\u001B[0m \u001B[1;33m=\u001B[0m \u001B[0mrange\u001B[0m\u001B[1;33m(\u001B[0m\u001B[0mstart\u001B[0m\u001B[1;33m,\u001B[0m \u001B[0mlimit\u001B[0m\u001B[1;33m,\u001B[0m \u001B[0mstep\u001B[0m\u001B[1;33m)\u001B[0m\u001B[1;33m\u001B[0m\u001B[1;33m\u001B[0m\u001B[0m\n\u001B[1;32m---> 10\u001B[1;33m \u001B[0mplt\u001B[0m\u001B[1;33m.\u001B[0m\u001B[0mplot\u001B[0m\u001B[1;33m(\u001B[0m\u001B[0mx\u001B[0m\u001B[1;33m,\u001B[0m \u001B[0miteration_based_coherence_values\u001B[0m\u001B[1;33m)\u001B[0m\u001B[1;33m\u001B[0m\u001B[1;33m\u001B[0m\u001B[0m\n\u001B[0m\u001B[0;32m     11\u001B[0m \u001B[0mplt\u001B[0m\u001B[1;33m.\u001B[0m\u001B[0mxlabel\u001B[0m\u001B[1;33m(\u001B[0m\u001B[1;34m\"Num of iterations\"\u001B[0m\u001B[1;33m)\u001B[0m\u001B[1;33m\u001B[0m\u001B[1;33m\u001B[0m\u001B[0m\n\u001B[0;32m     12\u001B[0m \u001B[0mplt\u001B[0m\u001B[1;33m.\u001B[0m\u001B[0mylabel\u001B[0m\u001B[1;33m(\u001B[0m\u001B[1;34m\"Coherence score\"\u001B[0m\u001B[1;33m)\u001B[0m\u001B[1;33m\u001B[0m\u001B[1;33m\u001B[0m\u001B[0m\n",
      "\u001B[1;32mC:\\tools\\Anaconda3\\lib\\site-packages\\matplotlib\\pyplot.py\u001B[0m in \u001B[0;36mplot\u001B[1;34m(scalex, scaley, data, *args, **kwargs)\u001B[0m\n\u001B[0;32m   2838\u001B[0m \u001B[1;33m@\u001B[0m\u001B[0m_copy_docstring_and_deprecators\u001B[0m\u001B[1;33m(\u001B[0m\u001B[0mAxes\u001B[0m\u001B[1;33m.\u001B[0m\u001B[0mplot\u001B[0m\u001B[1;33m)\u001B[0m\u001B[1;33m\u001B[0m\u001B[1;33m\u001B[0m\u001B[0m\n\u001B[0;32m   2839\u001B[0m \u001B[1;32mdef\u001B[0m \u001B[0mplot\u001B[0m\u001B[1;33m(\u001B[0m\u001B[1;33m*\u001B[0m\u001B[0margs\u001B[0m\u001B[1;33m,\u001B[0m \u001B[0mscalex\u001B[0m\u001B[1;33m=\u001B[0m\u001B[1;32mTrue\u001B[0m\u001B[1;33m,\u001B[0m \u001B[0mscaley\u001B[0m\u001B[1;33m=\u001B[0m\u001B[1;32mTrue\u001B[0m\u001B[1;33m,\u001B[0m \u001B[0mdata\u001B[0m\u001B[1;33m=\u001B[0m\u001B[1;32mNone\u001B[0m\u001B[1;33m,\u001B[0m \u001B[1;33m**\u001B[0m\u001B[0mkwargs\u001B[0m\u001B[1;33m)\u001B[0m\u001B[1;33m:\u001B[0m\u001B[1;33m\u001B[0m\u001B[1;33m\u001B[0m\u001B[0m\n\u001B[1;32m-> 2840\u001B[1;33m     return gca().plot(\n\u001B[0m\u001B[0;32m   2841\u001B[0m         \u001B[1;33m*\u001B[0m\u001B[0margs\u001B[0m\u001B[1;33m,\u001B[0m \u001B[0mscalex\u001B[0m\u001B[1;33m=\u001B[0m\u001B[0mscalex\u001B[0m\u001B[1;33m,\u001B[0m \u001B[0mscaley\u001B[0m\u001B[1;33m=\u001B[0m\u001B[0mscaley\u001B[0m\u001B[1;33m,\u001B[0m\u001B[1;33m\u001B[0m\u001B[1;33m\u001B[0m\u001B[0m\n\u001B[0;32m   2842\u001B[0m         **({\"data\": data} if data is not None else {}), **kwargs)\n",
      "\u001B[1;32mC:\\tools\\Anaconda3\\lib\\site-packages\\matplotlib\\axes\\_axes.py\u001B[0m in \u001B[0;36mplot\u001B[1;34m(self, scalex, scaley, data, *args, **kwargs)\u001B[0m\n\u001B[0;32m   1741\u001B[0m         \"\"\"\n\u001B[0;32m   1742\u001B[0m         \u001B[0mkwargs\u001B[0m \u001B[1;33m=\u001B[0m \u001B[0mcbook\u001B[0m\u001B[1;33m.\u001B[0m\u001B[0mnormalize_kwargs\u001B[0m\u001B[1;33m(\u001B[0m\u001B[0mkwargs\u001B[0m\u001B[1;33m,\u001B[0m \u001B[0mmlines\u001B[0m\u001B[1;33m.\u001B[0m\u001B[0mLine2D\u001B[0m\u001B[1;33m)\u001B[0m\u001B[1;33m\u001B[0m\u001B[1;33m\u001B[0m\u001B[0m\n\u001B[1;32m-> 1743\u001B[1;33m         \u001B[0mlines\u001B[0m \u001B[1;33m=\u001B[0m \u001B[1;33m[\u001B[0m\u001B[1;33m*\u001B[0m\u001B[0mself\u001B[0m\u001B[1;33m.\u001B[0m\u001B[0m_get_lines\u001B[0m\u001B[1;33m(\u001B[0m\u001B[1;33m*\u001B[0m\u001B[0margs\u001B[0m\u001B[1;33m,\u001B[0m \u001B[0mdata\u001B[0m\u001B[1;33m=\u001B[0m\u001B[0mdata\u001B[0m\u001B[1;33m,\u001B[0m \u001B[1;33m**\u001B[0m\u001B[0mkwargs\u001B[0m\u001B[1;33m)\u001B[0m\u001B[1;33m]\u001B[0m\u001B[1;33m\u001B[0m\u001B[1;33m\u001B[0m\u001B[0m\n\u001B[0m\u001B[0;32m   1744\u001B[0m         \u001B[1;32mfor\u001B[0m \u001B[0mline\u001B[0m \u001B[1;32min\u001B[0m \u001B[0mlines\u001B[0m\u001B[1;33m:\u001B[0m\u001B[1;33m\u001B[0m\u001B[1;33m\u001B[0m\u001B[0m\n\u001B[0;32m   1745\u001B[0m             \u001B[0mself\u001B[0m\u001B[1;33m.\u001B[0m\u001B[0madd_line\u001B[0m\u001B[1;33m(\u001B[0m\u001B[0mline\u001B[0m\u001B[1;33m)\u001B[0m\u001B[1;33m\u001B[0m\u001B[1;33m\u001B[0m\u001B[0m\n",
      "\u001B[1;32mC:\\tools\\Anaconda3\\lib\\site-packages\\matplotlib\\axes\\_base.py\u001B[0m in \u001B[0;36m__call__\u001B[1;34m(self, data, *args, **kwargs)\u001B[0m\n\u001B[0;32m    271\u001B[0m                 \u001B[0mthis\u001B[0m \u001B[1;33m+=\u001B[0m \u001B[0margs\u001B[0m\u001B[1;33m[\u001B[0m\u001B[1;36m0\u001B[0m\u001B[1;33m]\u001B[0m\u001B[1;33m,\u001B[0m\u001B[1;33m\u001B[0m\u001B[1;33m\u001B[0m\u001B[0m\n\u001B[0;32m    272\u001B[0m                 \u001B[0margs\u001B[0m \u001B[1;33m=\u001B[0m \u001B[0margs\u001B[0m\u001B[1;33m[\u001B[0m\u001B[1;36m1\u001B[0m\u001B[1;33m:\u001B[0m\u001B[1;33m]\u001B[0m\u001B[1;33m\u001B[0m\u001B[1;33m\u001B[0m\u001B[0m\n\u001B[1;32m--> 273\u001B[1;33m             \u001B[1;32myield\u001B[0m \u001B[1;32mfrom\u001B[0m \u001B[0mself\u001B[0m\u001B[1;33m.\u001B[0m\u001B[0m_plot_args\u001B[0m\u001B[1;33m(\u001B[0m\u001B[0mthis\u001B[0m\u001B[1;33m,\u001B[0m \u001B[0mkwargs\u001B[0m\u001B[1;33m)\u001B[0m\u001B[1;33m\u001B[0m\u001B[1;33m\u001B[0m\u001B[0m\n\u001B[0m\u001B[0;32m    274\u001B[0m \u001B[1;33m\u001B[0m\u001B[0m\n\u001B[0;32m    275\u001B[0m     \u001B[1;32mdef\u001B[0m \u001B[0mget_next_color\u001B[0m\u001B[1;33m(\u001B[0m\u001B[0mself\u001B[0m\u001B[1;33m)\u001B[0m\u001B[1;33m:\u001B[0m\u001B[1;33m\u001B[0m\u001B[1;33m\u001B[0m\u001B[0m\n",
      "\u001B[1;32mC:\\tools\\Anaconda3\\lib\\site-packages\\matplotlib\\axes\\_base.py\u001B[0m in \u001B[0;36m_plot_args\u001B[1;34m(self, tup, kwargs)\u001B[0m\n\u001B[0;32m    394\u001B[0m             \u001B[0mself\u001B[0m\u001B[1;33m.\u001B[0m\u001B[0maxes\u001B[0m\u001B[1;33m.\u001B[0m\u001B[0mxaxis\u001B[0m\u001B[1;33m.\u001B[0m\u001B[0mupdate_units\u001B[0m\u001B[1;33m(\u001B[0m\u001B[0mx\u001B[0m\u001B[1;33m)\u001B[0m\u001B[1;33m\u001B[0m\u001B[1;33m\u001B[0m\u001B[0m\n\u001B[0;32m    395\u001B[0m         \u001B[1;32mif\u001B[0m \u001B[0mself\u001B[0m\u001B[1;33m.\u001B[0m\u001B[0maxes\u001B[0m\u001B[1;33m.\u001B[0m\u001B[0myaxis\u001B[0m \u001B[1;32mis\u001B[0m \u001B[1;32mnot\u001B[0m \u001B[1;32mNone\u001B[0m\u001B[1;33m:\u001B[0m\u001B[1;33m\u001B[0m\u001B[1;33m\u001B[0m\u001B[0m\n\u001B[1;32m--> 396\u001B[1;33m             \u001B[0mself\u001B[0m\u001B[1;33m.\u001B[0m\u001B[0maxes\u001B[0m\u001B[1;33m.\u001B[0m\u001B[0myaxis\u001B[0m\u001B[1;33m.\u001B[0m\u001B[0mupdate_units\u001B[0m\u001B[1;33m(\u001B[0m\u001B[0my\u001B[0m\u001B[1;33m)\u001B[0m\u001B[1;33m\u001B[0m\u001B[1;33m\u001B[0m\u001B[0m\n\u001B[0m\u001B[0;32m    397\u001B[0m \u001B[1;33m\u001B[0m\u001B[0m\n\u001B[0;32m    398\u001B[0m         \u001B[1;32mif\u001B[0m \u001B[0mx\u001B[0m\u001B[1;33m.\u001B[0m\u001B[0mshape\u001B[0m\u001B[1;33m[\u001B[0m\u001B[1;36m0\u001B[0m\u001B[1;33m]\u001B[0m \u001B[1;33m!=\u001B[0m \u001B[0my\u001B[0m\u001B[1;33m.\u001B[0m\u001B[0mshape\u001B[0m\u001B[1;33m[\u001B[0m\u001B[1;36m0\u001B[0m\u001B[1;33m]\u001B[0m\u001B[1;33m:\u001B[0m\u001B[1;33m\u001B[0m\u001B[1;33m\u001B[0m\u001B[0m\n",
      "\u001B[1;32mC:\\tools\\Anaconda3\\lib\\site-packages\\matplotlib\\axis.py\u001B[0m in \u001B[0;36mupdate_units\u001B[1;34m(self, data)\u001B[0m\n\u001B[0;32m   1455\u001B[0m         \u001B[1;32mif\u001B[0m \u001B[1;33m*\u001B[0m\u001B[0mdata\u001B[0m\u001B[1;33m*\u001B[0m \u001B[1;32mis\u001B[0m \u001B[0mregistered\u001B[0m \u001B[1;32mfor\u001B[0m \u001B[0munit\u001B[0m \u001B[0mconversion\u001B[0m\u001B[1;33m.\u001B[0m\u001B[1;33m\u001B[0m\u001B[1;33m\u001B[0m\u001B[0m\n\u001B[0;32m   1456\u001B[0m         \"\"\"\n\u001B[1;32m-> 1457\u001B[1;33m         \u001B[0mconverter\u001B[0m \u001B[1;33m=\u001B[0m \u001B[0mmunits\u001B[0m\u001B[1;33m.\u001B[0m\u001B[0mregistry\u001B[0m\u001B[1;33m.\u001B[0m\u001B[0mget_converter\u001B[0m\u001B[1;33m(\u001B[0m\u001B[0mdata\u001B[0m\u001B[1;33m)\u001B[0m\u001B[1;33m\u001B[0m\u001B[1;33m\u001B[0m\u001B[0m\n\u001B[0m\u001B[0;32m   1458\u001B[0m         \u001B[1;32mif\u001B[0m \u001B[0mconverter\u001B[0m \u001B[1;32mis\u001B[0m \u001B[1;32mNone\u001B[0m\u001B[1;33m:\u001B[0m\u001B[1;33m\u001B[0m\u001B[1;33m\u001B[0m\u001B[0m\n\u001B[0;32m   1459\u001B[0m             \u001B[1;32mreturn\u001B[0m \u001B[1;32mFalse\u001B[0m\u001B[1;33m\u001B[0m\u001B[1;33m\u001B[0m\u001B[0m\n",
      "\u001B[1;32mC:\\tools\\Anaconda3\\lib\\site-packages\\matplotlib\\units.py\u001B[0m in \u001B[0;36mget_converter\u001B[1;34m(self, x)\u001B[0m\n\u001B[0;32m    215\u001B[0m             \u001B[1;31m# which indexing returns instances of the same iterable class.\u001B[0m\u001B[1;33m\u001B[0m\u001B[1;33m\u001B[0m\u001B[1;33m\u001B[0m\u001B[0m\n\u001B[0;32m    216\u001B[0m             \u001B[1;32mif\u001B[0m \u001B[0mtype\u001B[0m\u001B[1;33m(\u001B[0m\u001B[0mfirst\u001B[0m\u001B[1;33m)\u001B[0m \u001B[1;32mis\u001B[0m \u001B[1;32mnot\u001B[0m \u001B[0mtype\u001B[0m\u001B[1;33m(\u001B[0m\u001B[0mx\u001B[0m\u001B[1;33m)\u001B[0m\u001B[1;33m:\u001B[0m\u001B[1;33m\u001B[0m\u001B[1;33m\u001B[0m\u001B[0m\n\u001B[1;32m--> 217\u001B[1;33m                 \u001B[1;32mreturn\u001B[0m \u001B[0mself\u001B[0m\u001B[1;33m.\u001B[0m\u001B[0mget_converter\u001B[0m\u001B[1;33m(\u001B[0m\u001B[0mfirst\u001B[0m\u001B[1;33m)\u001B[0m\u001B[1;33m\u001B[0m\u001B[1;33m\u001B[0m\u001B[0m\n\u001B[0m\u001B[0;32m    218\u001B[0m         \u001B[1;32mreturn\u001B[0m \u001B[1;32mNone\u001B[0m\u001B[1;33m\u001B[0m\u001B[1;33m\u001B[0m\u001B[0m\n\u001B[0;32m    219\u001B[0m \u001B[1;33m\u001B[0m\u001B[0m\n",
      "\u001B[1;32mC:\\tools\\Anaconda3\\lib\\site-packages\\matplotlib\\units.py\u001B[0m in \u001B[0;36mget_converter\u001B[1;34m(self, x)\u001B[0m\n\u001B[0;32m    208\u001B[0m                 \u001B[1;32mpass\u001B[0m\u001B[1;33m\u001B[0m\u001B[1;33m\u001B[0m\u001B[0m\n\u001B[0;32m    209\u001B[0m         \u001B[1;32mtry\u001B[0m\u001B[1;33m:\u001B[0m  \u001B[1;31m# If cache lookup fails, look up based on first element...\u001B[0m\u001B[1;33m\u001B[0m\u001B[1;33m\u001B[0m\u001B[0m\n\u001B[1;32m--> 210\u001B[1;33m             \u001B[0mfirst\u001B[0m \u001B[1;33m=\u001B[0m \u001B[0mcbook\u001B[0m\u001B[1;33m.\u001B[0m\u001B[0msafe_first_element\u001B[0m\u001B[1;33m(\u001B[0m\u001B[0mx\u001B[0m\u001B[1;33m)\u001B[0m\u001B[1;33m\u001B[0m\u001B[1;33m\u001B[0m\u001B[0m\n\u001B[0m\u001B[0;32m    211\u001B[0m         \u001B[1;32mexcept\u001B[0m \u001B[1;33m(\u001B[0m\u001B[0mTypeError\u001B[0m\u001B[1;33m,\u001B[0m \u001B[0mStopIteration\u001B[0m\u001B[1;33m)\u001B[0m\u001B[1;33m:\u001B[0m\u001B[1;33m\u001B[0m\u001B[1;33m\u001B[0m\u001B[0m\n\u001B[0;32m    212\u001B[0m             \u001B[1;32mpass\u001B[0m\u001B[1;33m\u001B[0m\u001B[1;33m\u001B[0m\u001B[0m\n",
      "\u001B[1;32mC:\\tools\\Anaconda3\\lib\\site-packages\\matplotlib\\cbook\\__init__.py\u001B[0m in \u001B[0;36msafe_first_element\u001B[1;34m(obj)\u001B[0m\n\u001B[0;32m   1669\u001B[0m         raise RuntimeError(\"matplotlib does not support generators \"\n\u001B[0;32m   1670\u001B[0m                            \"as input\")\n\u001B[1;32m-> 1671\u001B[1;33m     \u001B[1;32mreturn\u001B[0m \u001B[0mnext\u001B[0m\u001B[1;33m(\u001B[0m\u001B[0miter\u001B[0m\u001B[1;33m(\u001B[0m\u001B[0mobj\u001B[0m\u001B[1;33m)\u001B[0m\u001B[1;33m)\u001B[0m\u001B[1;33m\u001B[0m\u001B[1;33m\u001B[0m\u001B[0m\n\u001B[0m\u001B[0;32m   1672\u001B[0m \u001B[1;33m\u001B[0m\u001B[0m\n\u001B[0;32m   1673\u001B[0m \u001B[1;33m\u001B[0m\u001B[0m\n",
      "\u001B[1;32mC:\\tools\\Anaconda3\\lib\\site-packages\\gensim\\interfaces.py\u001B[0m in \u001B[0;36m__getitem__\u001B[1;34m(self, vec)\u001B[0m\n\u001B[0;32m    235\u001B[0m \u001B[1;33m\u001B[0m\u001B[0m\n\u001B[0;32m    236\u001B[0m         \"\"\"\n\u001B[1;32m--> 237\u001B[1;33m         \u001B[1;32mraise\u001B[0m \u001B[0mNotImplementedError\u001B[0m\u001B[1;33m(\u001B[0m\u001B[1;34m'cannot instantiate abstract base class'\u001B[0m\u001B[1;33m)\u001B[0m\u001B[1;33m\u001B[0m\u001B[1;33m\u001B[0m\u001B[0m\n\u001B[0m\u001B[0;32m    238\u001B[0m \u001B[1;33m\u001B[0m\u001B[0m\n\u001B[0;32m    239\u001B[0m     \u001B[1;32mdef\u001B[0m \u001B[0m_apply\u001B[0m\u001B[1;33m(\u001B[0m\u001B[0mself\u001B[0m\u001B[1;33m,\u001B[0m \u001B[0mcorpus\u001B[0m\u001B[1;33m,\u001B[0m \u001B[0mchunksize\u001B[0m\u001B[1;33m=\u001B[0m\u001B[1;32mNone\u001B[0m\u001B[1;33m,\u001B[0m \u001B[1;33m**\u001B[0m\u001B[0mkwargs\u001B[0m\u001B[1;33m)\u001B[0m\u001B[1;33m:\u001B[0m\u001B[1;33m\u001B[0m\u001B[1;33m\u001B[0m\u001B[0m\n",
      "\u001B[1;31mNotImplementedError\u001B[0m: cannot instantiate abstract base class"
     ]
    },
    {
     "data": {
      "text/plain": "<Figure size 432x288 with 1 Axes>",
      "image/png": "[encoded data removed]"
     },
     "metadata": {
      "needs_background": "light"
     },
     "output_type": "display_data"
    }
   ],
   "source": [
    "iterations = []\n",
    "iteration_based_coherence_values = []\n",
    "\n",
    "for i in [500,1000,1500,2000,2500, 3000]:\n",
    "    calculate_best_iterations(35, i)\n",
    "\n",
    "#Show graph\n",
    "limit=3000; start=500; step=500;\n",
    "x = range(start, limit, step)\n",
    "plt.plot(x, iteration_based_coherence_values)\n",
    "plt.xlabel(\"Num of iterations\")\n",
    "plt.ylabel(\"Coherence score\")\n",
    "plt.legend((\"coherence_values\"), loc='best')\n",
    "plt.show()"
   ],
   "metadata": {
    "collapsed": false,
    "pycharm": {
     "name": "#%%\n"
    }
   }
  },
  {
   "cell_type": "code",
   "execution_count": null,
   "outputs": [],
   "source": [
    "for i in iteration_based_coherence_values:\n",
    "    print(i)"
   ],
   "metadata": {
    "collapsed": false,
    "pycharm": {
     "name": "#%%\n",
     "is_executing": true
    }
   }
  },
  {
   "cell_type": "code",
   "execution_count": null,
   "outputs": [],
   "source": [
    "#Show graph\n",
    "limit=3000; start=500; step=500;\n",
    "x = range(start, limit, step)\n",
    "plt.plot(x, iteration_based_coherence_values)\n",
    "plt.xlabel(\"Num of iterations\")\n",
    "plt.ylabel(\"Coherence score\")\n",
    "plt.legend((\"coherence_values\"), loc='best')\n",
    "plt.show()"
   ],
   "metadata": {
    "collapsed": false,
    "pycharm": {
     "name": "#%%\n"
    }
   }
  }
 ],
 "metadata": {
  "kernelspec": {
   "display_name": "Python 3",
   "language": "python",
   "name": "python3"
  },
  "language_info": {
   "codemirror_mode": {
    "name": "ipython",
    "version": 3
   },
   "file_extension": ".py",
   "mimetype": "text/x-python",
   "name": "python",
   "nbconvert_exporter": "python",
   "pygments_lexer": "ipython3",
   "version": "3.8.5"
  }
 },
 "nbformat": 4,
 "nbformat_minor": 4
}