{
 "cells": [
  {
   "cell_type": "code",
   "execution_count": 3,
   "metadata": {
    "scrolled": true
   },
   "outputs": [
    {
     "name": "stdout",
     "output_type": "stream",
     "text": [
      "Requirement already satisfied: numpy in c:\\tools\\anaconda3\\lib\\site-packages (1.19.2)\n",
      "Requirement already satisfied: biopython in c:\\tools\\anaconda3\\lib\\site-packages (1.78)\n",
      "Requirement already satisfied: numpy in c:\\tools\\anaconda3\\lib\\site-packages (from biopython) (1.19.2)\n",
      "Requirement already satisfied: pandas in c:\\tools\\anaconda3\\lib\\site-packages (1.1.3)\n",
      "Requirement already satisfied: numpy>=1.15.4 in c:\\tools\\anaconda3\\lib\\site-packages (from pandas) (1.19.2)\n",
      "Requirement already satisfied: python-dateutil>=2.7.3 in c:\\tools\\anaconda3\\lib\\site-packages (from pandas) (2.8.1)\n",
      "Requirement already satisfied: pytz>=2017.2 in c:\\tools\\anaconda3\\lib\\site-packages (from pandas) (2020.1)\n",
      "Requirement already satisfied: six>=1.5 in c:\\tools\\anaconda3\\lib\\site-packages (from python-dateutil>=2.7.3->pandas) (1.15.0)\n",
      "Requirement already satisfied: tensorflow in c:\\tools\\anaconda3\\lib\\site-packages (2.5.0)\n",
      "Requirement already satisfied: wheel~=0.35 in c:\\tools\\anaconda3\\lib\\site-packages (from tensorflow) (0.35.1)\n",
      "Requirement already satisfied: keras-nightly~=2.5.0.dev in c:\\tools\\anaconda3\\lib\\site-packages (from tensorflow) (2.5.0.dev2021032900)\n",
      "Requirement already satisfied: flatbuffers~=1.12.0 in c:\\tools\\anaconda3\\lib\\site-packages (from tensorflow) (1.12)\n",
      "Requirement already satisfied: tensorboard~=2.5 in c:\\tools\\anaconda3\\lib\\site-packages (from tensorflow) (2.5.0)\n",
      "Requirement already satisfied: google-pasta~=0.2 in c:\\tools\\anaconda3\\lib\\site-packages (from tensorflow) (0.2.0)\n",
      "Requirement already satisfied: opt-einsum~=3.3.0 in c:\\tools\\anaconda3\\lib\\site-packages (from tensorflow) (3.3.0)\n",
      "Requirement already satisfied: absl-py~=0.10 in c:\\tools\\anaconda3\\lib\\site-packages (from tensorflow) (0.12.0)\n",
      "Requirement already satisfied: keras-preprocessing~=1.1.2 in c:\\tools\\anaconda3\\lib\\site-packages (from tensorflow) (1.1.2)\n",
      "Requirement already satisfied: numpy~=1.19.2 in c:\\tools\\anaconda3\\lib\\site-packages (from tensorflow) (1.19.2)\n",
      "Requirement already satisfied: typing-extensions~=3.7.4 in c:\\tools\\anaconda3\\lib\\site-packages (from tensorflow) (3.7.4.3)\n",
      "Requirement already satisfied: grpcio~=1.34.0 in c:\\tools\\anaconda3\\lib\\site-packages (from tensorflow) (1.34.1)\n",
      "Requirement already satisfied: tensorflow-estimator<2.6.0,>=2.5.0rc0 in c:\\tools\\anaconda3\\lib\\site-packages (from tensorflow) (2.5.0)\n",
      "Requirement already satisfied: gast==0.4.0 in c:\\tools\\anaconda3\\lib\\site-packages (from tensorflow) (0.4.0)\n",
      "Requirement already satisfied: protobuf>=3.9.2 in c:\\tools\\anaconda3\\lib\\site-packages (from tensorflow) (3.17.1)\n",
      "Requirement already satisfied: termcolor~=1.1.0 in c:\\tools\\anaconda3\\lib\\site-packages (from tensorflow) (1.1.0)\n",
      "Requirement already satisfied: six~=1.15.0 in c:\\tools\\anaconda3\\lib\\site-packages (from tensorflow) (1.15.0)\n",
      "Requirement already satisfied: wrapt~=1.12.1 in c:\\tools\\anaconda3\\lib\\site-packages (from tensorflow) (1.12.1)\n",
      "Requirement already satisfied: h5py~=3.1.0 in c:\\tools\\anaconda3\\lib\\site-packages (from tensorflow) (3.1.0)\n",
      "Requirement already satisfied: astunparse~=1.6.3 in c:\\tools\\anaconda3\\lib\\site-packages (from tensorflow) (1.6.3)\n",
      "Requirement already satisfied: setuptools>=41.0.0 in c:\\tools\\anaconda3\\lib\\site-packages (from tensorboard~=2.5->tensorflow) (50.3.1.post20201107)\n",
      "Requirement already satisfied: markdown>=2.6.8 in c:\\tools\\anaconda3\\lib\\site-packages (from tensorboard~=2.5->tensorflow) (3.3.4)\n",
      "Requirement already satisfied: werkzeug>=0.11.15 in c:\\tools\\anaconda3\\lib\\site-packages (from tensorboard~=2.5->tensorflow) (1.0.1)\n",
      "Requirement already satisfied: requests<3,>=2.21.0 in c:\\tools\\anaconda3\\lib\\site-packages (from tensorboard~=2.5->tensorflow) (2.24.0)\n",
      "Requirement already satisfied: google-auth-oauthlib<0.5,>=0.4.1 in c:\\tools\\anaconda3\\lib\\site-packages (from tensorboard~=2.5->tensorflow) (0.4.4)\n",
      "Requirement already satisfied: tensorboard-plugin-wit>=1.6.0 in c:\\tools\\anaconda3\\lib\\site-packages (from tensorboard~=2.5->tensorflow) (1.8.0)\n",
      "Requirement already satisfied: tensorboard-data-server<0.7.0,>=0.6.0 in c:\\tools\\anaconda3\\lib\\site-packages (from tensorboard~=2.5->tensorflow) (0.6.1)\n",
      "Requirement already satisfied: google-auth<2,>=1.6.3 in c:\\tools\\anaconda3\\lib\\site-packages (from tensorboard~=2.5->tensorflow) (1.30.1)\n",
      "Requirement already satisfied: chardet<4,>=3.0.2 in c:\\tools\\anaconda3\\lib\\site-packages (from requests<3,>=2.21.0->tensorboard~=2.5->tensorflow) (3.0.4)\n",
      "Requirement already satisfied: idna<3,>=2.5 in c:\\tools\\anaconda3\\lib\\site-packages (from requests<3,>=2.21.0->tensorboard~=2.5->tensorflow) (2.10)\n",
      "Requirement already satisfied: urllib3!=1.25.0,!=1.25.1,<1.26,>=1.21.1 in c:\\tools\\anaconda3\\lib\\site-packages (from requests<3,>=2.21.0->tensorboard~=2.5->tensorflow) (1.25.11)\n",
      "Requirement already satisfied: certifi>=2017.4.17 in c:\\tools\\anaconda3\\lib\\site-packages (from requests<3,>=2.21.0->tensorboard~=2.5->tensorflow) (2020.6.20)\n",
      "Requirement already satisfied: requests-oauthlib>=0.7.0 in c:\\tools\\anaconda3\\lib\\site-packages (from google-auth-oauthlib<0.5,>=0.4.1->tensorboard~=2.5->tensorflow) (1.3.0)\n",
      "Requirement already satisfied: rsa<5,>=3.1.4; python_version >= \"3.6\" in c:\\tools\\anaconda3\\lib\\site-packages (from google-auth<2,>=1.6.3->tensorboard~=2.5->tensorflow) (4.7.2)\n",
      "Requirement already satisfied: pyasn1-modules>=0.2.1 in c:\\tools\\anaconda3\\lib\\site-packages (from google-auth<2,>=1.6.3->tensorboard~=2.5->tensorflow) (0.2.8)\n",
      "Requirement already satisfied: cachetools<5.0,>=2.0.0 in c:\\tools\\anaconda3\\lib\\site-packages (from google-auth<2,>=1.6.3->tensorboard~=2.5->tensorflow) (4.2.2)\n",
      "Requirement already satisfied: oauthlib>=3.0.0 in c:\\tools\\anaconda3\\lib\\site-packages (from requests-oauthlib>=0.7.0->google-auth-oauthlib<0.5,>=0.4.1->tensorboard~=2.5->tensorflow) (3.1.0)\n",
      "Requirement already satisfied: pyasn1>=0.1.3 in c:\\tools\\anaconda3\\lib\\site-packages (from rsa<5,>=3.1.4; python_version >= \"3.6\"->google-auth<2,>=1.6.3->tensorboard~=2.5->tensorflow) (0.4.8)\n",
      "Requirement already satisfied: imblearn in c:\\tools\\anaconda3\\lib\\site-packages (0.0)\n",
      "Requirement already satisfied: imbalanced-learn in c:\\tools\\anaconda3\\lib\\site-packages (from imblearn) (0.8.0)\n",
      "Requirement already satisfied: scikit-learn>=0.24 in c:\\tools\\anaconda3\\lib\\site-packages (from imbalanced-learn->imblearn) (0.24.2)\n",
      "Requirement already satisfied: scipy>=0.19.1 in c:\\tools\\anaconda3\\lib\\site-packages (from imbalanced-learn->imblearn) (1.5.2)\n",
      "Requirement already satisfied: numpy>=1.13.3 in c:\\tools\\anaconda3\\lib\\site-packages (from imbalanced-learn->imblearn) (1.19.2)\n",
      "Requirement already satisfied: joblib>=0.11 in c:\\tools\\anaconda3\\lib\\site-packages (from imbalanced-learn->imblearn) (0.17.0)\n",
      "Requirement already satisfied: threadpoolctl>=2.0.0 in c:\\tools\\anaconda3\\lib\\site-packages (from scikit-learn>=0.24->imbalanced-learn->imblearn) (2.1.0)\n",
      "Requirement already satisfied: sklearn in c:\\tools\\anaconda3\\lib\\site-packages (0.0)\n",
      "Requirement already satisfied: scikit-learn in c:\\tools\\anaconda3\\lib\\site-packages (from sklearn) (0.24.2)\n",
      "Requirement already satisfied: threadpoolctl>=2.0.0 in c:\\tools\\anaconda3\\lib\\site-packages (from scikit-learn->sklearn) (2.1.0)\n",
      "Requirement already satisfied: scipy>=0.19.1 in c:\\tools\\anaconda3\\lib\\site-packages (from scikit-learn->sklearn) (1.5.2)\n",
      "Requirement already satisfied: joblib>=0.11 in c:\\tools\\anaconda3\\lib\\site-packages (from scikit-learn->sklearn) (0.17.0)\n",
      "Requirement already satisfied: numpy>=1.13.3 in c:\\tools\\anaconda3\\lib\\site-packages (from scikit-learn->sklearn) (1.19.2)\n",
      "Requirement already satisfied: matplotlib in c:\\tools\\anaconda3\\lib\\site-packages (3.3.2)\n",
      "Requirement already satisfied: numpy>=1.15 in c:\\tools\\anaconda3\\lib\\site-packages (from matplotlib) (1.19.2)\n",
      "Requirement already satisfied: pyparsing!=2.0.4,!=2.1.2,!=2.1.6,>=2.0.3 in c:\\tools\\anaconda3\\lib\\site-packages (from matplotlib) (2.4.7)\n",
      "Requirement already satisfied: python-dateutil>=2.1 in c:\\tools\\anaconda3\\lib\\site-packages (from matplotlib) (2.8.1)\n",
      "Requirement already satisfied: kiwisolver>=1.0.1 in c:\\tools\\anaconda3\\lib\\site-packages (from matplotlib) (1.3.0)\n",
      "Requirement already satisfied: certifi>=2020.06.20 in c:\\tools\\anaconda3\\lib\\site-packages (from matplotlib) (2020.6.20)\n",
      "Requirement already satisfied: pillow>=6.2.0 in c:\\tools\\anaconda3\\lib\\site-packages (from matplotlib) (8.0.1)\n",
      "Requirement already satisfied: cycler>=0.10 in c:\\tools\\anaconda3\\lib\\site-packages (from matplotlib) (0.10.0)\n",
      "Requirement already satisfied: six>=1.5 in c:\\tools\\anaconda3\\lib\\site-packages (from python-dateutil>=2.1->matplotlib) (1.15.0)\n"
     ]
    },
    {
     "name": "stdout",
     "output_type": "stream",
     "text": [
      "Requirement already satisfied: xgboost in c:\\tools\\anaconda3\\lib\\site-packages (1.4.2)\n",
      "Requirement already satisfied: scipy in c:\\tools\\anaconda3\\lib\\site-packages (from xgboost) (1.5.2)\n",
      "Requirement already satisfied: numpy in c:\\tools\\anaconda3\\lib\\site-packages (from xgboost) (1.19.2)\n",
      "Requirement already satisfied: pyod in c:\\tools\\anaconda3\\lib\\site-packages (0.8.8)\n",
      "Requirement already satisfied: scipy>=0.19.1 in c:\\tools\\anaconda3\\lib\\site-packages (from pyod) (1.5.2)\n",
      "Requirement already satisfied: joblib in c:\\tools\\anaconda3\\lib\\site-packages (from pyod) (0.17.0)\n",
      "Requirement already satisfied: scikit-learn>=0.19.1 in c:\\tools\\anaconda3\\lib\\site-packages (from pyod) (0.24.2)\n",
      "Requirement already satisfied: statsmodels in c:\\tools\\anaconda3\\lib\\site-packages (from pyod) (0.12.0)\n",
      "Requirement already satisfied: numpy>=1.13 in c:\\tools\\anaconda3\\lib\\site-packages (from pyod) (1.19.2)\n",
      "Requirement already satisfied: numba>=0.35 in c:\\tools\\anaconda3\\lib\\site-packages (from pyod) (0.51.2)\n",
      "Requirement already satisfied: matplotlib in c:\\tools\\anaconda3\\lib\\site-packages (from pyod) (3.3.2)\n",
      "Requirement already satisfied: pandas>=0.25 in c:\\tools\\anaconda3\\lib\\site-packages (from pyod) (1.1.3)\n",
      "Requirement already satisfied: six in c:\\tools\\anaconda3\\lib\\site-packages (from pyod) (1.15.0)\n",
      "Requirement already satisfied: threadpoolctl>=2.0.0 in c:\\tools\\anaconda3\\lib\\site-packages (from scikit-learn>=0.19.1->pyod) (2.1.0)\n",
      "Requirement already satisfied: patsy>=0.5 in c:\\tools\\anaconda3\\lib\\site-packages (from statsmodels->pyod) (0.5.1)\n",
      "Requirement already satisfied: llvmlite<0.35,>=0.34.0.dev0 in c:\\tools\\anaconda3\\lib\\site-packages (from numba>=0.35->pyod) (0.34.0)\n",
      "Requirement already satisfied: setuptools in c:\\tools\\anaconda3\\lib\\site-packages (from numba>=0.35->pyod) (50.3.1.post20201107)\n",
      "Requirement already satisfied: pyparsing!=2.0.4,!=2.1.2,!=2.1.6,>=2.0.3 in c:\\tools\\anaconda3\\lib\\site-packages (from matplotlib->pyod) (2.4.7)\n",
      "Requirement already satisfied: cycler>=0.10 in c:\\tools\\anaconda3\\lib\\site-packages (from matplotlib->pyod) (0.10.0)\n",
      "Requirement already satisfied: certifi>=2020.06.20 in c:\\tools\\anaconda3\\lib\\site-packages (from matplotlib->pyod) (2020.6.20)\n",
      "Requirement already satisfied: pillow>=6.2.0 in c:\\tools\\anaconda3\\lib\\site-packages (from matplotlib->pyod) (8.0.1)\n",
      "Requirement already satisfied: kiwisolver>=1.0.1 in c:\\tools\\anaconda3\\lib\\site-packages (from matplotlib->pyod) (1.3.0)\n",
      "Requirement already satisfied: python-dateutil>=2.1 in c:\\tools\\anaconda3\\lib\\site-packages (from matplotlib->pyod) (2.8.1)\n",
      "Requirement already satisfied: pytz>=2017.2 in c:\\tools\\anaconda3\\lib\\site-packages (from pandas>=0.25->pyod) (2020.1)\n",
      "Requirement already satisfied: lightgbm in c:\\tools\\anaconda3\\lib\\site-packages (3.2.1)\n",
      "Requirement already satisfied: scipy in c:\\tools\\anaconda3\\lib\\site-packages (from lightgbm) (1.5.2)\n",
      "Requirement already satisfied: numpy in c:\\tools\\anaconda3\\lib\\site-packages (from lightgbm) (1.19.2)\n",
      "Requirement already satisfied: scikit-learn!=0.22.0 in c:\\tools\\anaconda3\\lib\\site-packages (from lightgbm) (0.24.2)\n",
      "Requirement already satisfied: wheel in c:\\tools\\anaconda3\\lib\\site-packages (from lightgbm) (0.35.1)\n",
      "Requirement already satisfied: threadpoolctl>=2.0.0 in c:\\tools\\anaconda3\\lib\\site-packages (from scikit-learn!=0.22.0->lightgbm) (2.1.0)\n",
      "Requirement already satisfied: joblib>=0.11 in c:\\tools\\anaconda3\\lib\\site-packages (from scikit-learn!=0.22.0->lightgbm) (0.17.0)\n",
      "Requirement already satisfied: catboost in c:\\tools\\anaconda3\\lib\\site-packages (0.25.1)\n",
      "Requirement already satisfied: six in c:\\tools\\anaconda3\\lib\\site-packages (from catboost) (1.15.0)\n",
      "Requirement already satisfied: graphviz in c:\\tools\\anaconda3\\lib\\site-packages (from catboost) (0.16)\n",
      "Requirement already satisfied: matplotlib in c:\\tools\\anaconda3\\lib\\site-packages (from catboost) (3.3.2)\n",
      "Requirement already satisfied: scipy in c:\\tools\\anaconda3\\lib\\site-packages (from catboost) (1.5.2)\n",
      "Requirement already satisfied: numpy>=1.16.0 in c:\\tools\\anaconda3\\lib\\site-packages (from catboost) (1.19.2)\n",
      "Requirement already satisfied: pandas>=0.24.0 in c:\\tools\\anaconda3\\lib\\site-packages (from catboost) (1.1.3)\n",
      "Requirement already satisfied: plotly in c:\\tools\\anaconda3\\lib\\site-packages (from catboost) (4.14.3)\n",
      "Requirement already satisfied: cycler>=0.10 in c:\\tools\\anaconda3\\lib\\site-packages (from matplotlib->catboost) (0.10.0)\n",
      "Requirement already satisfied: certifi>=2020.06.20 in c:\\tools\\anaconda3\\lib\\site-packages (from matplotlib->catboost) (2020.6.20)\n",
      "Requirement already satisfied: kiwisolver>=1.0.1 in c:\\tools\\anaconda3\\lib\\site-packages (from matplotlib->catboost) (1.3.0)\n",
      "Requirement already satisfied: pillow>=6.2.0 in c:\\tools\\anaconda3\\lib\\site-packages (from matplotlib->catboost) (8.0.1)\n",
      "Requirement already satisfied: pyparsing!=2.0.4,!=2.1.2,!=2.1.6,>=2.0.3 in c:\\tools\\anaconda3\\lib\\site-packages (from matplotlib->catboost) (2.4.7)\n",
      "Requirement already satisfied: python-dateutil>=2.1 in c:\\tools\\anaconda3\\lib\\site-packages (from matplotlib->catboost) (2.8.1)\n",
      "Requirement already satisfied: pytz>=2017.2 in c:\\tools\\anaconda3\\lib\\site-packages (from pandas>=0.24.0->catboost) (2020.1)\n",
      "Requirement already satisfied: retrying>=1.3.3 in c:\\tools\\anaconda3\\lib\\site-packages (from plotly->catboost) (1.3.3)\n",
      "Requirement already satisfied: plotly in c:\\tools\\anaconda3\\lib\\site-packages (4.14.3)\n",
      "Requirement already satisfied: retrying>=1.3.3 in c:\\tools\\anaconda3\\lib\\site-packages (from plotly) (1.3.3)\n",
      "Requirement already satisfied: six in c:\\tools\\anaconda3\\lib\\site-packages (from plotly) (1.15.0)\n",
      "Requirement already satisfied: cufflinks in c:\\tools\\anaconda3\\lib\\site-packages (0.17.3)\n",
      "Requirement already satisfied: ipython>=5.3.0 in c:\\tools\\anaconda3\\lib\\site-packages (from cufflinks) (7.19.0)\n",
      "Requirement already satisfied: six>=1.9.0 in c:\\tools\\anaconda3\\lib\\site-packages (from cufflinks) (1.15.0)\n",
      "Requirement already satisfied: setuptools>=34.4.1 in c:\\tools\\anaconda3\\lib\\site-packages (from cufflinks) (50.3.1.post20201107)\n",
      "Requirement already satisfied: ipywidgets>=7.0.0 in c:\\tools\\anaconda3\\lib\\site-packages (from cufflinks) (7.5.1)\n",
      "Requirement already satisfied: colorlover>=0.2.1 in c:\\tools\\anaconda3\\lib\\site-packages (from cufflinks) (0.3.0)\n",
      "Requirement already satisfied: plotly>=4.1.1 in c:\\tools\\anaconda3\\lib\\site-packages (from cufflinks) (4.14.3)\n",
      "Requirement already satisfied: pandas>=0.19.2 in c:\\tools\\anaconda3\\lib\\site-packages (from cufflinks) (1.1.3)\n",
      "Requirement already satisfied: numpy>=1.9.2 in c:\\tools\\anaconda3\\lib\\site-packages (from cufflinks) (1.19.2)\n",
      "Requirement already satisfied: pygments in c:\\tools\\anaconda3\\lib\\site-packages (from ipython>=5.3.0->cufflinks) (2.7.2)\n",
      "Requirement already satisfied: pickleshare in c:\\tools\\anaconda3\\lib\\site-packages (from ipython>=5.3.0->cufflinks) (0.7.5)\n",
      "Requirement already satisfied: decorator in c:\\tools\\anaconda3\\lib\\site-packages (from ipython>=5.3.0->cufflinks) (4.4.2)\n",
      "Requirement already satisfied: jedi>=0.10 in c:\\tools\\anaconda3\\lib\\site-packages (from ipython>=5.3.0->cufflinks) (0.17.1)\n",
      "Requirement already satisfied: colorama; sys_platform == \"win32\" in c:\\tools\\anaconda3\\lib\\site-packages (from ipython>=5.3.0->cufflinks) (0.4.4)\n",
      "Requirement already satisfied: backcall in c:\\tools\\anaconda3\\lib\\site-packages (from ipython>=5.3.0->cufflinks) (0.2.0)\n",
      "Requirement already satisfied: prompt-toolkit!=3.0.0,!=3.0.1,<3.1.0,>=2.0.0 in c:\\tools\\anaconda3\\lib\\site-packages (from ipython>=5.3.0->cufflinks) (3.0.8)\n",
      "Requirement already satisfied: traitlets>=4.2 in c:\\tools\\anaconda3\\lib\\site-packages (from ipython>=5.3.0->cufflinks) (5.0.5)\n",
      "Requirement already satisfied: widgetsnbextension~=3.5.0 in c:\\tools\\anaconda3\\lib\\site-packages (from ipywidgets>=7.0.0->cufflinks) (3.5.1)\n",
      "Requirement already satisfied: nbformat>=4.2.0 in c:\\tools\\anaconda3\\lib\\site-packages (from ipywidgets>=7.0.0->cufflinks) (5.0.8)\n",
      "Requirement already satisfied: ipykernel>=4.5.1 in c:\\tools\\anaconda3\\lib\\site-packages (from ipywidgets>=7.0.0->cufflinks) (5.3.4)\n",
      "Requirement already satisfied: retrying>=1.3.3 in c:\\tools\\anaconda3\\lib\\site-packages (from plotly>=4.1.1->cufflinks) (1.3.3)\n",
      "Requirement already satisfied: python-dateutil>=2.7.3 in c:\\tools\\anaconda3\\lib\\site-packages (from pandas>=0.19.2->cufflinks) (2.8.1)\n",
      "Requirement already satisfied: pytz>=2017.2 in c:\\tools\\anaconda3\\lib\\site-packages (from pandas>=0.19.2->cufflinks) (2020.1)\n",
      "Requirement already satisfied: parso<0.8.0,>=0.7.0 in c:\\tools\\anaconda3\\lib\\site-packages (from jedi>=0.10->ipython>=5.3.0->cufflinks) (0.7.0)\n",
      "Requirement already satisfied: wcwidth in c:\\tools\\anaconda3\\lib\\site-packages (from prompt-toolkit!=3.0.0,!=3.0.1,<3.1.0,>=2.0.0->ipython>=5.3.0->cufflinks) (0.2.5)\n",
      "Requirement already satisfied: ipython-genutils in c:\\tools\\anaconda3\\lib\\site-packages (from traitlets>=4.2->ipython>=5.3.0->cufflinks) (0.2.0)\n",
      "Requirement already satisfied: notebook>=4.4.1 in c:\\tools\\anaconda3\\lib\\site-packages (from widgetsnbextension~=3.5.0->ipywidgets>=7.0.0->cufflinks) (6.1.4)\n",
      "Requirement already satisfied: jsonschema!=2.5.0,>=2.4 in c:\\tools\\anaconda3\\lib\\site-packages (from nbformat>=4.2.0->ipywidgets>=7.0.0->cufflinks) (3.2.0)\n",
      "Requirement already satisfied: jupyter-core in c:\\tools\\anaconda3\\lib\\site-packages (from nbformat>=4.2.0->ipywidgets>=7.0.0->cufflinks) (4.6.3)\n",
      "Requirement already satisfied: jupyter-client in c:\\tools\\anaconda3\\lib\\site-packages (from ipykernel>=4.5.1->ipywidgets>=7.0.0->cufflinks) (6.1.7)\n",
      "Requirement already satisfied: tornado>=4.2 in c:\\tools\\anaconda3\\lib\\site-packages (from ipykernel>=4.5.1->ipywidgets>=7.0.0->cufflinks) (6.0.4)\n",
      "Requirement already satisfied: pyzmq>=17 in c:\\tools\\anaconda3\\lib\\site-packages (from notebook>=4.4.1->widgetsnbextension~=3.5.0->ipywidgets>=7.0.0->cufflinks) (19.0.2)\n",
      "Requirement already satisfied: terminado>=0.8.3 in c:\\tools\\anaconda3\\lib\\site-packages (from notebook>=4.4.1->widgetsnbextension~=3.5.0->ipywidgets>=7.0.0->cufflinks) (0.9.1)\n",
      "Requirement already satisfied: jinja2 in c:\\tools\\anaconda3\\lib\\site-packages (from notebook>=4.4.1->widgetsnbextension~=3.5.0->ipywidgets>=7.0.0->cufflinks) (2.11.2)\n",
      "Requirement already satisfied: Send2Trash in c:\\tools\\anaconda3\\lib\\site-packages (from notebook>=4.4.1->widgetsnbextension~=3.5.0->ipywidgets>=7.0.0->cufflinks) (1.5.0)\n",
      "Requirement already satisfied: prometheus-client in c:\\tools\\anaconda3\\lib\\site-packages (from notebook>=4.4.1->widgetsnbextension~=3.5.0->ipywidgets>=7.0.0->cufflinks) (0.8.0)\n",
      "Requirement already satisfied: argon2-cffi in c:\\tools\\anaconda3\\lib\\site-packages (from notebook>=4.4.1->widgetsnbextension~=3.5.0->ipywidgets>=7.0.0->cufflinks) (20.1.0)\n",
      "Requirement already satisfied: nbconvert in c:\\tools\\anaconda3\\lib\\site-packages (from notebook>=4.4.1->widgetsnbextension~=3.5.0->ipywidgets>=7.0.0->cufflinks) (6.0.7)\n",
      "Requirement already satisfied: attrs>=17.4.0 in c:\\tools\\anaconda3\\lib\\site-packages (from jsonschema!=2.5.0,>=2.4->nbformat>=4.2.0->ipywidgets>=7.0.0->cufflinks) (20.3.0)\n",
      "Requirement already satisfied: pyrsistent>=0.14.0 in c:\\tools\\anaconda3\\lib\\site-packages (from jsonschema!=2.5.0,>=2.4->nbformat>=4.2.0->ipywidgets>=7.0.0->cufflinks) (0.17.3)\n",
      "Requirement already satisfied: pywin32>=1.0; sys_platform == \"win32\" in c:\\tools\\anaconda3\\lib\\site-packages (from jupyter-core->nbformat>=4.2.0->ipywidgets>=7.0.0->cufflinks) (227)\n",
      "Requirement already satisfied: pywinpty>=0.5 in c:\\tools\\anaconda3\\lib\\site-packages (from terminado>=0.8.3->notebook>=4.4.1->widgetsnbextension~=3.5.0->ipywidgets>=7.0.0->cufflinks) (0.5.7)\n",
      "Requirement already satisfied: MarkupSafe>=0.23 in c:\\tools\\anaconda3\\lib\\site-packages (from jinja2->notebook>=4.4.1->widgetsnbextension~=3.5.0->ipywidgets>=7.0.0->cufflinks) (1.1.1)\n",
      "Requirement already satisfied: cffi>=1.0.0 in c:\\tools\\anaconda3\\lib\\site-packages (from argon2-cffi->notebook>=4.4.1->widgetsnbextension~=3.5.0->ipywidgets>=7.0.0->cufflinks) (1.14.3)\n",
      "Requirement already satisfied: jupyterlab-pygments in c:\\tools\\anaconda3\\lib\\site-packages (from nbconvert->notebook>=4.4.1->widgetsnbextension~=3.5.0->ipywidgets>=7.0.0->cufflinks) (0.1.2)\n",
      "Requirement already satisfied: pandocfilters>=1.4.1 in c:\\tools\\anaconda3\\lib\\site-packages (from nbconvert->notebook>=4.4.1->widgetsnbextension~=3.5.0->ipywidgets>=7.0.0->cufflinks) (1.4.3)\n",
      "Requirement already satisfied: testpath in c:\\tools\\anaconda3\\lib\\site-packages (from nbconvert->notebook>=4.4.1->widgetsnbextension~=3.5.0->ipywidgets>=7.0.0->cufflinks) (0.4.4)\n",
      "Requirement already satisfied: bleach in c:\\tools\\anaconda3\\lib\\site-packages (from nbconvert->notebook>=4.4.1->widgetsnbextension~=3.5.0->ipywidgets>=7.0.0->cufflinks) (3.2.1)\n",
      "Requirement already satisfied: entrypoints>=0.2.2 in c:\\tools\\anaconda3\\lib\\site-packages (from nbconvert->notebook>=4.4.1->widgetsnbextension~=3.5.0->ipywidgets>=7.0.0->cufflinks) (0.3)\n",
      "Requirement already satisfied: defusedxml in c:\\tools\\anaconda3\\lib\\site-packages (from nbconvert->notebook>=4.4.1->widgetsnbextension~=3.5.0->ipywidgets>=7.0.0->cufflinks) (0.6.0)\n",
      "Requirement already satisfied: mistune<2,>=0.8.1 in c:\\tools\\anaconda3\\lib\\site-packages (from nbconvert->notebook>=4.4.1->widgetsnbextension~=3.5.0->ipywidgets>=7.0.0->cufflinks) (0.8.4)\n",
      "Requirement already satisfied: nbclient<0.6.0,>=0.5.0 in c:\\tools\\anaconda3\\lib\\site-packages (from nbconvert->notebook>=4.4.1->widgetsnbextension~=3.5.0->ipywidgets>=7.0.0->cufflinks) (0.5.1)\n",
      "Requirement already satisfied: pycparser in c:\\tools\\anaconda3\\lib\\site-packages (from cffi>=1.0.0->argon2-cffi->notebook>=4.4.1->widgetsnbextension~=3.5.0->ipywidgets>=7.0.0->cufflinks) (2.20)\n",
      "Requirement already satisfied: webencodings in c:\\tools\\anaconda3\\lib\\site-packages (from bleach->nbconvert->notebook>=4.4.1->widgetsnbextension~=3.5.0->ipywidgets>=7.0.0->cufflinks) (0.5.1)\n",
      "Requirement already satisfied: packaging in c:\\tools\\anaconda3\\lib\\site-packages (from bleach->nbconvert->notebook>=4.4.1->widgetsnbextension~=3.5.0->ipywidgets>=7.0.0->cufflinks) (20.4)\n",
      "Requirement already satisfied: async-generator in c:\\tools\\anaconda3\\lib\\site-packages (from nbclient<0.6.0,>=0.5.0->nbconvert->notebook>=4.4.1->widgetsnbextension~=3.5.0->ipywidgets>=7.0.0->cufflinks) (1.10)\n",
      "Requirement already satisfied: nest-asyncio in c:\\tools\\anaconda3\\lib\\site-packages (from nbclient<0.6.0,>=0.5.0->nbconvert->notebook>=4.4.1->widgetsnbextension~=3.5.0->ipywidgets>=7.0.0->cufflinks) (1.4.2)\n",
      "Requirement already satisfied: pyparsing>=2.0.2 in c:\\tools\\anaconda3\\lib\\site-packages (from packaging->bleach->nbconvert->notebook>=4.4.1->widgetsnbextension~=3.5.0->ipywidgets>=7.0.0->cufflinks) (2.4.7)\n"
     ]
    },
    {
     "name": "stdout",
     "output_type": "stream",
     "text": [
      "Requirement already satisfied: pyclustering in c:\\tools\\anaconda3\\lib\\site-packages (0.10.1.2)\n",
      "Requirement already satisfied: matplotlib>=3.0.0 in c:\\tools\\anaconda3\\lib\\site-packages (from pyclustering) (3.3.2)\n",
      "Requirement already satisfied: numpy>=1.15.2 in c:\\tools\\anaconda3\\lib\\site-packages (from pyclustering) (1.19.2)\n",
      "Requirement already satisfied: Pillow>=5.2.0 in c:\\tools\\anaconda3\\lib\\site-packages (from pyclustering) (8.0.1)\n",
      "Requirement already satisfied: scipy>=1.1.0 in c:\\tools\\anaconda3\\lib\\site-packages (from pyclustering) (1.5.2)\n",
      "Requirement already satisfied: python-dateutil>=2.1 in c:\\tools\\anaconda3\\lib\\site-packages (from matplotlib>=3.0.0->pyclustering) (2.8.1)\n",
      "Requirement already satisfied: cycler>=0.10 in c:\\tools\\anaconda3\\lib\\site-packages (from matplotlib>=3.0.0->pyclustering) (0.10.0)\n",
      "Requirement already satisfied: kiwisolver>=1.0.1 in c:\\tools\\anaconda3\\lib\\site-packages (from matplotlib>=3.0.0->pyclustering) (1.3.0)\n",
      "Requirement already satisfied: certifi>=2020.06.20 in c:\\tools\\anaconda3\\lib\\site-packages (from matplotlib>=3.0.0->pyclustering) (2020.6.20)\n",
      "Requirement already satisfied: pyparsing!=2.0.4,!=2.1.2,!=2.1.6,>=2.0.3 in c:\\tools\\anaconda3\\lib\\site-packages (from matplotlib>=3.0.0->pyclustering) (2.4.7)\n",
      "Requirement already satisfied: six>=1.5 in c:\\tools\\anaconda3\\lib\\site-packages (from python-dateutil>=2.1->matplotlib>=3.0.0->pyclustering) (1.15.0)\n",
      "Requirement already satisfied: beautifulsoup4 in c:\\tools\\anaconda3\\lib\\site-packages (4.9.3)\n",
      "Requirement already satisfied: soupsieve>1.2; python_version >= \"3.0\" in c:\\tools\\anaconda3\\lib\\site-packages (from beautifulsoup4) (2.0.1)\n",
      "Requirement already satisfied: algorithmia in c:\\tools\\anaconda3\\lib\\site-packages (1.8.1)\n",
      "Requirement already satisfied: algorithmia-adk<1.1,>=1.0.2 in c:\\tools\\anaconda3\\lib\\site-packages (from algorithmia) (1.0.3)\n",
      "Requirement already satisfied: algorithmia-api-client==1.3.1 in c:\\tools\\anaconda3\\lib\\site-packages (from algorithmia) (1.3.1)\n",
      "Requirement already satisfied: requests in c:\\tools\\anaconda3\\lib\\site-packages (from algorithmia) (2.24.0)\n",
      "Requirement already satisfied: enum-compat in c:\\tools\\anaconda3\\lib\\site-packages (from algorithmia) (0.0.3)\n",
      "Requirement already satisfied: argparse in c:\\tools\\anaconda3\\lib\\site-packages (from algorithmia) (1.4.0)\n",
      "Requirement already satisfied: six in c:\\tools\\anaconda3\\lib\\site-packages (from algorithmia) (1.15.0)\n",
      "Requirement already satisfied: toml in c:\\tools\\anaconda3\\lib\\site-packages (from algorithmia) (0.10.1)\n",
      "Requirement already satisfied: certifi in c:\\tools\\anaconda3\\lib\\site-packages (from algorithmia-api-client==1.3.1->algorithmia) (2020.6.20)\n",
      "Requirement already satisfied: urllib3>=1.15 in c:\\tools\\anaconda3\\lib\\site-packages (from algorithmia-api-client==1.3.1->algorithmia) (1.25.11)\n",
      "Requirement already satisfied: python-dateutil in c:\\tools\\anaconda3\\lib\\site-packages (from algorithmia-api-client==1.3.1->algorithmia) (2.8.1)\n",
      "Requirement already satisfied: chardet<4,>=3.0.2 in c:\\tools\\anaconda3\\lib\\site-packages (from requests->algorithmia) (3.0.4)\n",
      "Requirement already satisfied: idna<3,>=2.5 in c:\\tools\\anaconda3\\lib\\site-packages (from requests->algorithmia) (2.10)\n",
      "Requirement already satisfied: paramiko in c:\\tools\\anaconda3\\lib\\site-packages (2.7.2)\n",
      "Requirement already satisfied: pynacl>=1.0.1 in c:\\tools\\anaconda3\\lib\\site-packages (from paramiko) (1.4.0)\n",
      "Requirement already satisfied: cryptography>=2.5 in c:\\tools\\anaconda3\\lib\\site-packages (from paramiko) (3.1.1)\n",
      "Requirement already satisfied: bcrypt>=3.1.3 in c:\\tools\\anaconda3\\lib\\site-packages (from paramiko) (3.2.0)\n",
      "Requirement already satisfied: cffi>=1.4.1 in c:\\tools\\anaconda3\\lib\\site-packages (from pynacl>=1.0.1->paramiko) (1.14.3)\n",
      "Requirement already satisfied: six in c:\\tools\\anaconda3\\lib\\site-packages (from pynacl>=1.0.1->paramiko) (1.15.0)\n",
      "Requirement already satisfied: pycparser in c:\\tools\\anaconda3\\lib\\site-packages (from cffi>=1.4.1->pynacl>=1.0.1->paramiko) (2.20)\n",
      "Requirement already satisfied: gensim in c:\\tools\\anaconda3\\lib\\site-packages (4.0.1)\n",
      "Requirement already satisfied: numpy>=1.11.3 in c:\\tools\\anaconda3\\lib\\site-packages (from gensim) (1.19.2)\n",
      "Requirement already satisfied: Cython==0.29.21 in c:\\tools\\anaconda3\\lib\\site-packages (from gensim) (0.29.21)\n",
      "Requirement already satisfied: scipy>=0.18.1 in c:\\tools\\anaconda3\\lib\\site-packages (from gensim) (1.5.2)\n",
      "Requirement already satisfied: smart-open>=1.8.1 in c:\\tools\\anaconda3\\lib\\site-packages (from gensim) (5.1.0)\n"
     ]
    }
   ],
   "source": [
    "\n",
    "import sys\n",
    "!{sys.executable} -m pip install numpy\n",
    "!{sys.executable} -m pip install biopython\n",
    "!{sys.executable} -m pip install pandas\n",
    "!{sys.executable} -m pip install tensorflow\n",
    "!{sys.executable} -m pip install imblearn\n",
    "!{sys.executable} -m pip install sklearn\n",
    "!{sys.executable} -m pip install matplotlib\n",
    "!{sys.executable} -m pip install xgboost\n",
    "!{sys.executable} -m pip install pyod\n",
    "!{sys.executable} -m pip install lightgbm\n",
    "!{sys.executable} -m pip install catboost \n",
    "!{sys.executable} -m pip install plotly\n",
    "!{sys.executable} -m pip install cufflinks\n",
    "!{sys.executable} -m pip install pyclustering\n",
    "!{sys.executable} -m pip install beautifulsoup4\n",
    "!{sys.executable} -m pip install algorithmia\n",
    "!{sys.executable} -m pip install paramiko\n",
    "!{sys.executable} -m pip install gensim"
   ]
  },
  {
   "cell_type": "code",
   "execution_count": 9,
   "metadata": {},
   "outputs": [
    {
     "name": "stderr",
     "output_type": "stream",
     "text": [
      "[nltk_data] Downloading package wordnet to\n",
      "[nltk_data]     C:\\Users\\monju\\AppData\\Roaming\\nltk_data...\n",
      "[nltk_data]   Package wordnet is already up-to-date!\n",
      "[nltk_data] Downloading package stopwords to\n",
      "[nltk_data]     C:\\Users\\monju\\AppData\\Roaming\\nltk_data...\n",
      "[nltk_data]   Package stopwords is already up-to-date!\n",
      "[nltk_data] Downloading package punkt to\n",
      "[nltk_data]     C:\\Users\\monju\\AppData\\Roaming\\nltk_data...\n",
      "[nltk_data]   Package punkt is already up-to-date!\n"
     ]
    },
    {
     "data": {
      "text/plain": [
       "True"
      ]
     },
     "execution_count": 9,
     "metadata": {},
     "output_type": "execute_result"
    }
   ],
   "source": [
    "import nltk\n",
    "\n",
    "\n",
    "nltk.download('wordnet')\n",
    "nltk.download('stopwords')\n",
    "nltk.download('punkt')"
   ]
  },
  {
   "cell_type": "code",
   "execution_count": 11,
   "metadata": {},
   "outputs": [],
   "source": [
    "import pandas as pd\n",
    "import re\n",
    "\n",
    "import numpy as np\n",
    "from bs4 import BeautifulSoup\n",
    "import matplotlib.pyplot as plt\n",
    "import seaborn as sns\n",
    "from sklearn.preprocessing import LabelEncoder\n",
    "from sklearn.utils import resample\n",
    "from xgboost import XGBClassifier\n",
    "from sklearn.metrics import roc_auc_score,precision_recall_curve,roc_curve,plot_precision_recall_curve\n",
    "from sklearn.model_selection import train_test_split\n",
    "from sklearn.linear_model import LogisticRegression\n",
    "from sklearn.manifold import TSNE\n",
    "from nltk.tokenize import word_tokenize\n",
    "from nltk.stem import PorterStemmer\n",
    "from nltk.corpus import stopwords\n",
    "from nltk.stem import WordNetLemmatizer\n",
    "from sklearn.decomposition import PCA, TruncatedSVD\n",
    "import time\n",
    "import matplotlib.patches as mpatches\n",
    "from sklearn.metrics import confusion_matrix\n",
    "from sklearn.decomposition import LatentDirichletAllocation\n",
    "from sklearn.feature_extraction.text import CountVectorizer\n",
    "import gc\n",
    "\n",
    "from gensim.corpora import Dictionary\n",
    "from gensim.models import LsiModel\n",
    "gc.enable()\n"
   ]
  },
  {
   "cell_type": "code",
   "execution_count": null,
   "metadata": {},
   "outputs": [],
   "source": []
  },
  {
   "cell_type": "code",
   "execution_count": 14,
   "metadata": {},
   "outputs": [
    {
     "name": "stdout",
     "output_type": "stream",
     "text": [
      "          AcceptedAnswerId  AnswerCount  \\\n",
      "Id                                        \n",
      "1468404            1549052            3   \n",
      "1583856            1634592           14   \n",
      "1914947            1915407            4   \n",
      "1961341            1961838            1   \n",
      "2039387            2044192            4   \n",
      "...                    ...          ...   \n",
      "66394506          66397036            1   \n",
      "66394874          66394940            1   \n",
      "66400722          66400807            1   \n",
      "66402094          66403323            1   \n",
      "66405059          66405291            2   \n",
      "\n",
      "                                                       Body  \\\n",
      "Id                                                            \n",
      "1468404   <p>Does mono touch allow you to do cross iPhon...   \n",
      "1583856   <p>After sitting through a session today on Mo...   \n",
      "1914947   <p>What is the best approach to implement tabs...   \n",
      "1961341   <p>How can I check internet access with MonoTo...   \n",
      "2039387   <p>I'm new to MonoTouch and iPhone development...   \n",
      "...                                                     ...   \n",
      "66394506  <p>I am trying to change the text of a <code>T...   \n",
      "66394874  <p>I'm working on a Flutter app which needs up...   \n",
      "66400722  <p>I have Node.js app, served by express, with...   \n",
      "66402094  <p>I have birthdays as timestamp stored in my ...   \n",
      "66405059  <p>I have two lists of integers in Dart that a...   \n",
      "\n",
      "                       ClosedDate  CommentCount CommunityOwnedDate  \\\n",
      "Id                                                                   \n",
      "1468404                       NaN             0                NaN   \n",
      "1583856   2019-09-23 16:34:03.127             1                NaN   \n",
      "1914947                       NaN             0                NaN   \n",
      "1961341                       NaN             1                NaN   \n",
      "2039387                       NaN             1                NaN   \n",
      "...                           ...           ...                ...   \n",
      "66394506                      NaN             0                NaN   \n",
      "66394874                      NaN             0                NaN   \n",
      "66400722                      NaN             0                NaN   \n",
      "66402094                      NaN             2                NaN   \n",
      "66405059                      NaN             0                NaN   \n",
      "\n",
      "                     CreationDate  FavoriteCount         LastActivityDate  \\\n",
      "Id                                                                          \n",
      "1468404   2009-09-23 20:42:43.883              2  2009-10-10 20:52:40.330   \n",
      "1583856   2009-10-18 02:47:39.653             91  2019-09-23 14:03:02.387   \n",
      "1914947   2009-12-16 14:23:59.397              5  2019-05-21 10:06:27.997   \n",
      "1961341   2009-12-25 15:38:21.420              2  2012-05-23 07:10:33.650   \n",
      "2039387   2010-01-11 01:12:49.940              2  2014-01-19 15:43:12.283   \n",
      "...                           ...            ...                      ...   \n",
      "66394506  2021-02-27 00:40:10.913              0  2021-02-27 08:44:47.877   \n",
      "66394874  2021-02-27 01:51:18.910              0  2021-02-27 04:55:46.833   \n",
      "66400722  2021-02-27 16:08:10.713              0  2021-02-27 17:42:53.847   \n",
      "66402094  2021-02-27 18:27:54.570              0  2021-02-27 20:48:58.980   \n",
      "66405059  2021-02-28 01:23:23.327              0  2021-02-28 05:25:16.493   \n",
      "\n",
      "                     LastEditDate LastEditorDisplayName  LastEditorUserId  \\\n",
      "Id                                                                          \n",
      "1468404   2009-09-23 20:45:37.153                   NaN             25981   \n",
      "1583856   2012-03-07 16:08:46.430              user1228                 0   \n",
      "1914947   2019-05-21 10:06:27.997                   NaN           4751173   \n",
      "1961341   2009-12-25 18:33:38.633                   NaN             30618   \n",
      "2039387   2014-01-19 15:43:12.283                   NaN            578411   \n",
      "...                           ...                   ...               ...   \n",
      "66394506  2021-02-27 01:25:55.750                   NaN          15101910   \n",
      "66394874  2021-02-27 04:55:46.833                   NaN            209103   \n",
      "66400722  2021-02-27 17:42:53.847                   NaN          15249278   \n",
      "66402094                      NaN                   NaN                 0   \n",
      "66405059                      NaN                   NaN                 0   \n",
      "\n",
      "          OwnerUserId  ParentId  PostTypeId  Score  \\\n",
      "Id                                                   \n",
      "1468404        139096         0           1      3   \n",
      "1583856        142017         0           1    273   \n",
      "1914947         78101         0           1      6   \n",
      "1961341         34155         0           1     14   \n",
      "2039387        247706         0           1     14   \n",
      "...               ...       ...         ...    ...   \n",
      "66394506     15101910         0           1      0   \n",
      "66394874     13745697         0           1     -1   \n",
      "66400722     15249278         0           1      0   \n",
      "66402094      4338278         0           1      0   \n",
      "66405059        59195         0           1      0   \n",
      "\n",
      "                                                       Tags  \\\n",
      "Id                                                            \n",
      "1468404                <iphone><communication><xamarin.ios>   \n",
      "1583856                <c#><objective-c><mono><xamarin.ios>   \n",
      "1914947     <iphone><uiview><uiviewcontroller><xamarin.ios>   \n",
      "1961341                               <iphone><xamarin.ios>   \n",
      "2039387                               <iphone><xamarin.ios>   \n",
      "...                                                     ...   \n",
      "66394506  <c#><android><xamarin><xamarin.android><androi...   \n",
      "66394874  <flutter><google-cloud-firestore><async-await>...   \n",
      "66400722                        <node.js><reactjs><express>   \n",
      "66402094                           <google-cloud-firestore>   \n",
      "66405059                                             <dart>   \n",
      "\n",
      "                                                      Title  ViewCount  \n",
      "Id                                                                      \n",
      "1468404         Cross iPhone communication using mono touch       1464  \n",
      "1583856    How to decide between MonoTouch and Objective-C?      28366  \n",
      "1914947                        Web-like tabs for the iPhone       1053  \n",
      "1961341            Check for internet access with monotouch       5548  \n",
      "2039387    Images in Interface Builder when using MonoTouch       4257  \n",
      "...                                                     ...        ...  \n",
      "66394506       Change text of TextView on ImageButton click         47  \n",
      "66394874                  Why Flutter \"await\" doesn't wait?         38  \n",
      "66400722  Image from express static folder is not appear...         20  \n",
      "66402094  Firestore query for a date field where the yea...         10  \n",
      "66405059  How can I add the matching elements of two lis...         24  \n",
      "\n",
      "[265020 rows x 19 columns]\n",
      "Wall time: 4.67 s\n"
     ]
    },
    {
     "name": "stderr",
     "output_type": "stream",
     "text": [
      "<decorator-gen-55>:2: DtypeWarning: Columns (6) have mixed types.Specify dtype option on import or set low_memory=False.\n"
     ]
    }
   ],
   "source": [
    "%%time \n",
    "posts=pd.read_csv('D:\\so-data\\PostsChosenV1.csv' , index_col='Id', )\n",
    "# postTagsRawData = pd.read_csv('PostTagsV3.csv', chunksize=1000)\n",
    "# postTagsRawData = pd.read_excel('PostsTags2.xlsx')\n",
    "print(posts)"
   ]
  },
  {
   "cell_type": "code",
   "execution_count": 13,
   "metadata": {},
   "outputs": [],
   "source": [
    "#posts = posts.sample(10, replace=False).reset_index(drop=True)"
   ]
  },
  {
   "cell_type": "code",
   "execution_count": 67,
   "metadata": {},
   "outputs": [],
   "source": [
    "def transform_text(text): \n",
    "\n",
    "    soup = BeautifulSoup(text)\n",
    "    for elm in soup.find_all():\n",
    "        if '<code>'== str(elm)[0:6]:\n",
    "            elm.decompose()\n",
    "    textStr = str(soup.get_text())\n",
    "#     textStr = textStr.replace('<html>','')\n",
    "#     textStr = textStr.replace('</html>','')\n",
    "#     textStr = textStr.replace('<body>','')\n",
    "#     textStr = textStr.replace('</body>','')\n",
    "#     textStr = textStr.replace('<p>','')\n",
    "#     textStr = textStr.replace('</p>','')\n",
    "#     textStr = textStr.replace('<pre>','')\n",
    "#     textStr = textStr.replace('</pre>','')\n",
    "    \n",
    "    \n",
    "#     remove lines\n",
    "    textStr = textStr.strip()\n",
    "    # remove numbers\n",
    "    textStr = re.sub(r\"\\d\",\"\", textStr)\n",
    "    #lower document\n",
    "    tokens = word_tokenize(textStr.lower())\n",
    "    \n",
    "    # remove stop words\n",
    "    stop_words = set(stopwords.words('english'))\n",
    "    stop_words.update(['.',',','\"',\"'\",'?','!',':', \";\",', ',',  ',',   ', '(',')','[',']','{','}','#','...','--',\"'s\",'also',\n",
    "                      '&','-','--','=','known','mi','km','$',\"'\",'`'])\n",
    "    stopped_tokens = [token for token in tokens if token not in stop_words]\n",
    "    \n",
    "    # PorterStemmer is used to make the root word, like Paying to 'play'.\n",
    "    ps = PorterStemmer()\n",
    "    \n",
    "    stemmer = []\n",
    "    for s in stopped_tokens:\n",
    "        if s.isalpha():\n",
    "            stemmer.append(ps.stem(s))\n",
    "#     stemmer = [s for s in stopped_tokens ps.stem(s)]\n",
    "    \n",
    "    lemmatizer = WordNetLemmatizer()\n",
    "    \n",
    "    lemmatized_tokens = [lemmatizer.lemmatize(i, pos=\"n\") for i in stemmer]\n",
    "    \n",
    "    textStr = (\" \").join(lemmatized_tokens)\n",
    "    \n",
    "    return textStr"
   ]
  },
  {
   "cell_type": "code",
   "execution_count": 127,
   "metadata": {},
   "outputs": [
    {
     "name": "stdout",
     "output_type": "stream",
     "text": [
      "hello kill play cricket\n"
     ]
    }
   ],
   "source": [
    "print(transform_text('<p>hello there I will kill you. Then I will be playing cricket <code>I am inside code</code> </p>134'))"
   ]
  },
  {
   "cell_type": "code",
   "execution_count": 16,
   "metadata": {},
   "outputs": [],
   "source": [
    "transformedPosts = []\n",
    "\n",
    "for row in posts.itertuples(index=True, name='Pandas'):\n",
    "    transformedPosts.append(transform_text(row.Body))"
   ]
  },
  {
   "cell_type": "code",
   "execution_count": 68,
   "metadata": {},
   "outputs": [],
   "source": [
    "X = pd.Series(transformedPosts)"
   ]
  },
  {
   "cell_type": "code",
   "execution_count": 69,
   "metadata": {},
   "outputs": [
    {
     "data": {
      "text/plain": [
       "0    mono touch allow cross iphon commun iphon room...\n",
       "1    sit session today mono local event use monotou...\n",
       "2    best approach implement tab look like web appl...\n",
       "3    check internet access monotouch care internet ...\n",
       "4    new monotouch iphon develop imag png resourc f...\n",
       "5    realli program question plea bear relat ide us...\n",
       "6    question duplic way safer alloc intptr draw us...\n",
       "7    recent post john gruber note follow legales re...\n",
       "8    possibl implement long press javascript jqueri...\n",
       "9    ap serila data local offlin use ensur app alwa...\n",
       "dtype: object"
      ]
     },
     "execution_count": 69,
     "metadata": {},
     "output_type": "execute_result"
    }
   ],
   "source": [
    "X.head(10)"
   ]
  },
  {
   "cell_type": "code",
   "execution_count": 70,
   "metadata": {},
   "outputs": [],
   "source": [
    "count_vectorizer = CountVectorizer(ngram_range=(2, 2))\n",
    "\n",
    "transformed_vector = count_vectorizer.fit_transform(X)"
   ]
  },
  {
   "cell_type": "code",
   "execution_count": 71,
   "metadata": {},
   "outputs": [
    {
     "data": {
      "text/plain": [
       "(265020, 1789446)"
      ]
     },
     "execution_count": 71,
     "metadata": {},
     "output_type": "execute_result"
    }
   ],
   "source": [
    "transformed_vector.shape"
   ]
  },
  {
   "cell_type": "code",
   "execution_count": 72,
   "metadata": {},
   "outputs": [],
   "source": [
    "feature_names = count_vectorizer.get_feature_names()"
   ]
  },
  {
   "cell_type": "code",
   "execution_count": 73,
   "metadata": {},
   "outputs": [
    {
     "data": {
      "text/plain": [
       "1789446"
      ]
     },
     "execution_count": 73,
     "metadata": {},
     "output_type": "execute_result"
    }
   ],
   "source": [
    "len(feature_names)"
   ]
  },
  {
   "cell_type": "code",
   "execution_count": 23,
   "metadata": {},
   "outputs": [
    {
     "data": {
      "text/plain": [
       "['abil programmat', 'abil prop', 'abil properli', 'abil provid', 'abil push']"
      ]
     },
     "execution_count": 23,
     "metadata": {},
     "output_type": "execute_result"
    }
   ],
   "source": [
    "feature_names[1000:1005]"
   ]
  },
  {
   "cell_type": "code",
   "execution_count": 74,
   "metadata": {},
   "outputs": [],
   "source": [
    "NUM_TOPICS = 30\n",
    "\n",
    "lda_model = LatentDirichletAllocation(n_components=NUM_TOPICS, max_iter=20)\n",
    "\n",
    "lda = lda_model.fit_transform(transformed_vector)"
   ]
  },
  {
   "cell_type": "code",
   "execution_count": 25,
   "metadata": {},
   "outputs": [
    {
     "data": {
      "text/plain": [
       "(265020, 30)"
      ]
     },
     "execution_count": 25,
     "metadata": {},
     "output_type": "execute_result"
    }
   ],
   "source": [
    "lda.shape"
   ]
  },
  {
   "cell_type": "code",
   "execution_count": 26,
   "metadata": {},
   "outputs": [
    {
     "data": {
      "text/plain": [
       "array([[3.70370370e-03, 3.70370370e-03, 3.70370370e-03, 3.70370370e-03,\n",
       "        3.70370370e-03, 3.70370370e-03, 3.70370370e-03, 3.70370370e-03,\n",
       "        3.70370370e-03, 3.70370370e-03, 3.70370370e-03, 3.70370370e-03,\n",
       "        3.70370370e-03, 3.70370370e-03, 3.70370370e-03, 3.70370370e-03,\n",
       "        3.70370370e-03, 3.70370370e-03, 3.70370370e-03, 3.70370370e-03,\n",
       "        3.70370370e-03, 3.70370370e-03, 3.70370370e-03, 3.70370370e-03,\n",
       "        3.70370370e-03, 3.70370370e-03, 3.70370370e-03, 8.92592593e-01,\n",
       "        3.70370370e-03, 3.70370370e-03],\n",
       "       [7.75193799e-04, 7.75193799e-04, 7.75193799e-04, 7.75193799e-04,\n",
       "        7.75193799e-04, 7.75193799e-04, 7.75193799e-04, 7.75193799e-04,\n",
       "        7.75193799e-04, 9.77519380e-01, 7.75193799e-04, 7.75193799e-04,\n",
       "        7.75193799e-04, 7.75193799e-04, 7.75193799e-04, 7.75193799e-04,\n",
       "        7.75193799e-04, 7.75193799e-04, 7.75193799e-04, 7.75193799e-04,\n",
       "        7.75193799e-04, 7.75193799e-04, 7.75193799e-04, 7.75193799e-04,\n",
       "        7.75193799e-04, 7.75193799e-04, 7.75193799e-04, 7.75193799e-04,\n",
       "        7.75193799e-04, 7.75193799e-04]])"
      ]
     },
     "execution_count": 26,
     "metadata": {},
     "output_type": "execute_result"
    }
   ],
   "source": [
    "lda[:2]"
   ]
  },
  {
   "cell_type": "code",
   "execution_count": 34,
   "metadata": {},
   "outputs": [
    {
     "data": {
      "text/plain": [
       "numpy.ndarray"
      ]
     },
     "execution_count": 34,
     "metadata": {},
     "output_type": "execute_result"
    }
   ],
   "source": [
    "type(lda)"
   ]
  },
  {
   "cell_type": "code",
   "execution_count": 37,
   "metadata": {},
   "outputs": [
    {
     "data": {
      "text/plain": [
       "array([0.0037037 , 0.0037037 , 0.0037037 , 0.0037037 , 0.0037037 ,\n",
       "       0.0037037 , 0.0037037 , 0.0037037 , 0.0037037 , 0.0037037 ,\n",
       "       0.0037037 , 0.0037037 , 0.0037037 , 0.0037037 , 0.0037037 ,\n",
       "       0.0037037 , 0.0037037 , 0.0037037 , 0.0037037 , 0.0037037 ,\n",
       "       0.0037037 , 0.0037037 , 0.0037037 , 0.0037037 , 0.0037037 ,\n",
       "       0.0037037 , 0.0037037 , 0.89259259, 0.0037037 , 0.0037037 ])"
      ]
     },
     "execution_count": 37,
     "metadata": {},
     "output_type": "execute_result"
    }
   ],
   "source": [
    "lda[0]"
   ]
  },
  {
   "cell_type": "code",
   "execution_count": 1,
   "metadata": {},
   "outputs": [],
   "source": [
    "from sklearn.manifold import TSNE\n",
    "\n",
    "tsne = TSNE(n_components = 2, init = 'pca', random_state = 0)"
   ]
  },
  {
   "cell_type": "code",
   "execution_count": 141,
   "metadata": {},
   "outputs": [],
   "source": [
    "lda_2d_tsne = tsne.fit_transform(lda)"
   ]
  },
  {
   "cell_type": "code",
   "execution_count": 142,
   "metadata": {},
   "outputs": [
    {
     "data": {
      "text/plain": [
       "(265020, 2)"
      ]
     },
     "execution_count": 142,
     "metadata": {},
     "output_type": "execute_result"
    }
   ],
   "source": [
    "lda_df_tsne = pd.DataFrame(lda_2d_tsne)\n",
    "\n",
    "lda_df_tsne.shape"
   ]
  },
  {
   "cell_type": "code",
   "execution_count": 145,
   "metadata": {},
   "outputs": [
    {
     "ename": "ValueError",
     "evalue": "'c' argument must be a color, a sequence of colors, or a sequence of numbers, not Id\n1468404     <p>Does mono touch allow you to do cross iPhon...\n1583856     <p>After sitting through a session today on Mo...\n1914947     <p>What is the best approach to implement tabs...\n1961341     <p>How can I check internet access with MonoTo...\n2039387     <p>I'm new to MonoTouch and iPhone development...\n                                  ...                        \n66394506    <p>I am trying to change the text of a <code>T...\n66394874    <p>I'm working on a Flutter app which needs up...\n66400722    <p>I have Node.js app, served by express, with...\n66402094    <p>I have birthdays as timestamp stored in my ...\n66405059    <p>I have two lists of integers in Dart that a...\nName: Body, Length: 265020, dtype: object",
     "output_type": "error",
     "traceback": [
      "\u001b[1;31m---------------------------------------------------------------------------\u001b[0m",
      "\u001b[1;31mValueError\u001b[0m                                Traceback (most recent call last)",
      "\u001b[1;32mC:\\tools\\Anaconda3\\lib\\site-packages\\matplotlib\\axes\\_axes.py\u001b[0m in \u001b[0;36m_parse_scatter_color_args\u001b[1;34m(c, edgecolors, kwargs, xsize, get_next_color_func)\u001b[0m\n\u001b[0;32m   4290\u001b[0m             \u001b[1;32mtry\u001b[0m\u001b[1;33m:\u001b[0m  \u001b[1;31m# Is 'c' acceptable as PathCollection facecolors?\u001b[0m\u001b[1;33m\u001b[0m\u001b[1;33m\u001b[0m\u001b[0m\n\u001b[1;32m-> 4291\u001b[1;33m                 \u001b[0mcolors\u001b[0m \u001b[1;33m=\u001b[0m \u001b[0mmcolors\u001b[0m\u001b[1;33m.\u001b[0m\u001b[0mto_rgba_array\u001b[0m\u001b[1;33m(\u001b[0m\u001b[0mc\u001b[0m\u001b[1;33m)\u001b[0m\u001b[1;33m\u001b[0m\u001b[1;33m\u001b[0m\u001b[0m\n\u001b[0m\u001b[0;32m   4292\u001b[0m             \u001b[1;32mexcept\u001b[0m \u001b[1;33m(\u001b[0m\u001b[0mTypeError\u001b[0m\u001b[1;33m,\u001b[0m \u001b[0mValueError\u001b[0m\u001b[1;33m)\u001b[0m \u001b[1;32mas\u001b[0m \u001b[0merr\u001b[0m\u001b[1;33m:\u001b[0m\u001b[1;33m\u001b[0m\u001b[1;33m\u001b[0m\u001b[0m\n",
      "\u001b[1;32mC:\\tools\\Anaconda3\\lib\\site-packages\\matplotlib\\colors.py\u001b[0m in \u001b[0;36mto_rgba_array\u001b[1;34m(c, alpha)\u001b[0m\n\u001b[0;32m    340\u001b[0m     \u001b[1;32melse\u001b[0m\u001b[1;33m:\u001b[0m\u001b[1;33m\u001b[0m\u001b[1;33m\u001b[0m\u001b[0m\n\u001b[1;32m--> 341\u001b[1;33m         \u001b[1;32mreturn\u001b[0m \u001b[0mnp\u001b[0m\u001b[1;33m.\u001b[0m\u001b[0marray\u001b[0m\u001b[1;33m(\u001b[0m\u001b[1;33m[\u001b[0m\u001b[0mto_rgba\u001b[0m\u001b[1;33m(\u001b[0m\u001b[0mcc\u001b[0m\u001b[1;33m,\u001b[0m \u001b[0malpha\u001b[0m\u001b[1;33m)\u001b[0m \u001b[1;32mfor\u001b[0m \u001b[0mcc\u001b[0m \u001b[1;32min\u001b[0m \u001b[0mc\u001b[0m\u001b[1;33m]\u001b[0m\u001b[1;33m)\u001b[0m\u001b[1;33m\u001b[0m\u001b[1;33m\u001b[0m\u001b[0m\n\u001b[0m\u001b[0;32m    342\u001b[0m \u001b[1;33m\u001b[0m\u001b[0m\n",
      "\u001b[1;32mC:\\tools\\Anaconda3\\lib\\site-packages\\matplotlib\\colors.py\u001b[0m in \u001b[0;36m<listcomp>\u001b[1;34m(.0)\u001b[0m\n\u001b[0;32m    340\u001b[0m     \u001b[1;32melse\u001b[0m\u001b[1;33m:\u001b[0m\u001b[1;33m\u001b[0m\u001b[1;33m\u001b[0m\u001b[0m\n\u001b[1;32m--> 341\u001b[1;33m         \u001b[1;32mreturn\u001b[0m \u001b[0mnp\u001b[0m\u001b[1;33m.\u001b[0m\u001b[0marray\u001b[0m\u001b[1;33m(\u001b[0m\u001b[1;33m[\u001b[0m\u001b[0mto_rgba\u001b[0m\u001b[1;33m(\u001b[0m\u001b[0mcc\u001b[0m\u001b[1;33m,\u001b[0m \u001b[0malpha\u001b[0m\u001b[1;33m)\u001b[0m \u001b[1;32mfor\u001b[0m \u001b[0mcc\u001b[0m \u001b[1;32min\u001b[0m \u001b[0mc\u001b[0m\u001b[1;33m]\u001b[0m\u001b[1;33m)\u001b[0m\u001b[1;33m\u001b[0m\u001b[1;33m\u001b[0m\u001b[0m\n\u001b[0m\u001b[0;32m    342\u001b[0m \u001b[1;33m\u001b[0m\u001b[0m\n",
      "\u001b[1;32mC:\\tools\\Anaconda3\\lib\\site-packages\\matplotlib\\colors.py\u001b[0m in \u001b[0;36mto_rgba\u001b[1;34m(c, alpha)\u001b[0m\n\u001b[0;32m    188\u001b[0m     \u001b[1;32mif\u001b[0m \u001b[0mrgba\u001b[0m \u001b[1;32mis\u001b[0m \u001b[1;32mNone\u001b[0m\u001b[1;33m:\u001b[0m  \u001b[1;31m# Suppress exception chaining of cache lookup failure.\u001b[0m\u001b[1;33m\u001b[0m\u001b[1;33m\u001b[0m\u001b[0m\n\u001b[1;32m--> 189\u001b[1;33m         \u001b[0mrgba\u001b[0m \u001b[1;33m=\u001b[0m \u001b[0m_to_rgba_no_colorcycle\u001b[0m\u001b[1;33m(\u001b[0m\u001b[0mc\u001b[0m\u001b[1;33m,\u001b[0m \u001b[0malpha\u001b[0m\u001b[1;33m)\u001b[0m\u001b[1;33m\u001b[0m\u001b[1;33m\u001b[0m\u001b[0m\n\u001b[0m\u001b[0;32m    190\u001b[0m         \u001b[1;32mtry\u001b[0m\u001b[1;33m:\u001b[0m\u001b[1;33m\u001b[0m\u001b[1;33m\u001b[0m\u001b[0m\n",
      "\u001b[1;32mC:\\tools\\Anaconda3\\lib\\site-packages\\matplotlib\\colors.py\u001b[0m in \u001b[0;36m_to_rgba_no_colorcycle\u001b[1;34m(c, alpha)\u001b[0m\n\u001b[0;32m    259\u001b[0m             \u001b[1;32mreturn\u001b[0m \u001b[0mc\u001b[0m\u001b[1;33m,\u001b[0m \u001b[0mc\u001b[0m\u001b[1;33m,\u001b[0m \u001b[0mc\u001b[0m\u001b[1;33m,\u001b[0m \u001b[0malpha\u001b[0m \u001b[1;32mif\u001b[0m \u001b[0malpha\u001b[0m \u001b[1;32mis\u001b[0m \u001b[1;32mnot\u001b[0m \u001b[1;32mNone\u001b[0m \u001b[1;32melse\u001b[0m \u001b[1;36m1.\u001b[0m\u001b[1;33m\u001b[0m\u001b[1;33m\u001b[0m\u001b[0m\n\u001b[1;32m--> 260\u001b[1;33m         \u001b[1;32mraise\u001b[0m \u001b[0mValueError\u001b[0m\u001b[1;33m(\u001b[0m\u001b[1;34mf\"Invalid RGBA argument: {orig_c!r}\"\u001b[0m\u001b[1;33m)\u001b[0m\u001b[1;33m\u001b[0m\u001b[1;33m\u001b[0m\u001b[0m\n\u001b[0m\u001b[0;32m    261\u001b[0m     \u001b[1;31m# tuple color.\u001b[0m\u001b[1;33m\u001b[0m\u001b[1;33m\u001b[0m\u001b[1;33m\u001b[0m\u001b[0m\n",
      "\u001b[1;31mValueError\u001b[0m: Invalid RGBA argument: \"<p>Does mono touch allow you to do cross iPhone communication? (iPhones in the same room)\\nIf so, what's the API?</p>\\n\"",
      "\nThe above exception was the direct cause of the following exception:\n",
      "\u001b[1;31mValueError\u001b[0m                                Traceback (most recent call last)",
      "\u001b[1;32m<ipython-input-145-d9e84e2b48c4>\u001b[0m in \u001b[0;36m<module>\u001b[1;34m\u001b[0m\n\u001b[0;32m      2\u001b[0m \u001b[0mplt\u001b[0m\u001b[1;33m.\u001b[0m\u001b[0maxis\u001b[0m\u001b[1;33m(\u001b[0m\u001b[1;34m'equal'\u001b[0m\u001b[1;33m)\u001b[0m\u001b[1;33m;\u001b[0m\u001b[1;33m\u001b[0m\u001b[1;33m\u001b[0m\u001b[0m\n\u001b[0;32m      3\u001b[0m \u001b[1;33m\u001b[0m\u001b[0m\n\u001b[1;32m----> 4\u001b[1;33m \u001b[0mplt\u001b[0m\u001b[1;33m.\u001b[0m\u001b[0mscatter\u001b[0m\u001b[1;33m(\u001b[0m\u001b[0mlda_df_tsne\u001b[0m\u001b[1;33m[\u001b[0m\u001b[1;36m0\u001b[0m\u001b[1;33m]\u001b[0m\u001b[1;33m,\u001b[0m \u001b[0mlda_df_tsne\u001b[0m\u001b[1;33m[\u001b[0m\u001b[1;36m1\u001b[0m\u001b[1;33m]\u001b[0m\u001b[1;33m,\u001b[0m \u001b[0mc\u001b[0m \u001b[1;33m=\u001b[0m \u001b[0mposts\u001b[0m\u001b[1;33m[\u001b[0m\u001b[1;34m'Body'\u001b[0m\u001b[1;33m]\u001b[0m\u001b[1;33m,\u001b[0m \u001b[0mcmap\u001b[0m \u001b[1;33m=\u001b[0m \u001b[0mplt\u001b[0m\u001b[1;33m.\u001b[0m\u001b[0mcm\u001b[0m\u001b[1;33m.\u001b[0m\u001b[0mSpectral\u001b[0m\u001b[1;33m)\u001b[0m\u001b[1;33m\u001b[0m\u001b[1;33m\u001b[0m\u001b[0m\n\u001b[0m",
      "\u001b[1;32mC:\\tools\\Anaconda3\\lib\\site-packages\\matplotlib\\pyplot.py\u001b[0m in \u001b[0;36mscatter\u001b[1;34m(x, y, s, c, marker, cmap, norm, vmin, vmax, alpha, linewidths, verts, edgecolors, plotnonfinite, data, **kwargs)\u001b[0m\n\u001b[0;32m   2888\u001b[0m         \u001b[0mverts\u001b[0m\u001b[1;33m=\u001b[0m\u001b[0mcbook\u001b[0m\u001b[1;33m.\u001b[0m\u001b[0mdeprecation\u001b[0m\u001b[1;33m.\u001b[0m\u001b[0m_deprecated_parameter\u001b[0m\u001b[1;33m,\u001b[0m\u001b[1;33m\u001b[0m\u001b[1;33m\u001b[0m\u001b[0m\n\u001b[0;32m   2889\u001b[0m         edgecolors=None, *, plotnonfinite=False, data=None, **kwargs):\n\u001b[1;32m-> 2890\u001b[1;33m     __ret = gca().scatter(\n\u001b[0m\u001b[0;32m   2891\u001b[0m         \u001b[0mx\u001b[0m\u001b[1;33m,\u001b[0m \u001b[0my\u001b[0m\u001b[1;33m,\u001b[0m \u001b[0ms\u001b[0m\u001b[1;33m=\u001b[0m\u001b[0ms\u001b[0m\u001b[1;33m,\u001b[0m \u001b[0mc\u001b[0m\u001b[1;33m=\u001b[0m\u001b[0mc\u001b[0m\u001b[1;33m,\u001b[0m \u001b[0mmarker\u001b[0m\u001b[1;33m=\u001b[0m\u001b[0mmarker\u001b[0m\u001b[1;33m,\u001b[0m \u001b[0mcmap\u001b[0m\u001b[1;33m=\u001b[0m\u001b[0mcmap\u001b[0m\u001b[1;33m,\u001b[0m \u001b[0mnorm\u001b[0m\u001b[1;33m=\u001b[0m\u001b[0mnorm\u001b[0m\u001b[1;33m,\u001b[0m\u001b[1;33m\u001b[0m\u001b[1;33m\u001b[0m\u001b[0m\n\u001b[0;32m   2892\u001b[0m         \u001b[0mvmin\u001b[0m\u001b[1;33m=\u001b[0m\u001b[0mvmin\u001b[0m\u001b[1;33m,\u001b[0m \u001b[0mvmax\u001b[0m\u001b[1;33m=\u001b[0m\u001b[0mvmax\u001b[0m\u001b[1;33m,\u001b[0m \u001b[0malpha\u001b[0m\u001b[1;33m=\u001b[0m\u001b[0malpha\u001b[0m\u001b[1;33m,\u001b[0m \u001b[0mlinewidths\u001b[0m\u001b[1;33m=\u001b[0m\u001b[0mlinewidths\u001b[0m\u001b[1;33m,\u001b[0m\u001b[1;33m\u001b[0m\u001b[1;33m\u001b[0m\u001b[0m\n",
      "\u001b[1;32mC:\\tools\\Anaconda3\\lib\\site-packages\\matplotlib\\__init__.py\u001b[0m in \u001b[0;36minner\u001b[1;34m(ax, data, *args, **kwargs)\u001b[0m\n\u001b[0;32m   1436\u001b[0m     \u001b[1;32mdef\u001b[0m \u001b[0minner\u001b[0m\u001b[1;33m(\u001b[0m\u001b[0max\u001b[0m\u001b[1;33m,\u001b[0m \u001b[1;33m*\u001b[0m\u001b[0margs\u001b[0m\u001b[1;33m,\u001b[0m \u001b[0mdata\u001b[0m\u001b[1;33m=\u001b[0m\u001b[1;32mNone\u001b[0m\u001b[1;33m,\u001b[0m \u001b[1;33m**\u001b[0m\u001b[0mkwargs\u001b[0m\u001b[1;33m)\u001b[0m\u001b[1;33m:\u001b[0m\u001b[1;33m\u001b[0m\u001b[1;33m\u001b[0m\u001b[0m\n\u001b[0;32m   1437\u001b[0m         \u001b[1;32mif\u001b[0m \u001b[0mdata\u001b[0m \u001b[1;32mis\u001b[0m \u001b[1;32mNone\u001b[0m\u001b[1;33m:\u001b[0m\u001b[1;33m\u001b[0m\u001b[1;33m\u001b[0m\u001b[0m\n\u001b[1;32m-> 1438\u001b[1;33m             \u001b[1;32mreturn\u001b[0m \u001b[0mfunc\u001b[0m\u001b[1;33m(\u001b[0m\u001b[0max\u001b[0m\u001b[1;33m,\u001b[0m \u001b[1;33m*\u001b[0m\u001b[0mmap\u001b[0m\u001b[1;33m(\u001b[0m\u001b[0msanitize_sequence\u001b[0m\u001b[1;33m,\u001b[0m \u001b[0margs\u001b[0m\u001b[1;33m)\u001b[0m\u001b[1;33m,\u001b[0m \u001b[1;33m**\u001b[0m\u001b[0mkwargs\u001b[0m\u001b[1;33m)\u001b[0m\u001b[1;33m\u001b[0m\u001b[1;33m\u001b[0m\u001b[0m\n\u001b[0m\u001b[0;32m   1439\u001b[0m \u001b[1;33m\u001b[0m\u001b[0m\n\u001b[0;32m   1440\u001b[0m         \u001b[0mbound\u001b[0m \u001b[1;33m=\u001b[0m \u001b[0mnew_sig\u001b[0m\u001b[1;33m.\u001b[0m\u001b[0mbind\u001b[0m\u001b[1;33m(\u001b[0m\u001b[0max\u001b[0m\u001b[1;33m,\u001b[0m \u001b[1;33m*\u001b[0m\u001b[0margs\u001b[0m\u001b[1;33m,\u001b[0m \u001b[1;33m**\u001b[0m\u001b[0mkwargs\u001b[0m\u001b[1;33m)\u001b[0m\u001b[1;33m\u001b[0m\u001b[1;33m\u001b[0m\u001b[0m\n",
      "\u001b[1;32mC:\\tools\\Anaconda3\\lib\\site-packages\\matplotlib\\cbook\\deprecation.py\u001b[0m in \u001b[0;36mwrapper\u001b[1;34m(*inner_args, **inner_kwargs)\u001b[0m\n\u001b[0;32m    409\u001b[0m                          \u001b[1;32melse\u001b[0m \u001b[0mdeprecation_addendum\u001b[0m\u001b[1;33m,\u001b[0m\u001b[1;33m\u001b[0m\u001b[1;33m\u001b[0m\u001b[0m\n\u001b[0;32m    410\u001b[0m                 **kwargs)\n\u001b[1;32m--> 411\u001b[1;33m         \u001b[1;32mreturn\u001b[0m \u001b[0mfunc\u001b[0m\u001b[1;33m(\u001b[0m\u001b[1;33m*\u001b[0m\u001b[0minner_args\u001b[0m\u001b[1;33m,\u001b[0m \u001b[1;33m**\u001b[0m\u001b[0minner_kwargs\u001b[0m\u001b[1;33m)\u001b[0m\u001b[1;33m\u001b[0m\u001b[1;33m\u001b[0m\u001b[0m\n\u001b[0m\u001b[0;32m    412\u001b[0m \u001b[1;33m\u001b[0m\u001b[0m\n\u001b[0;32m    413\u001b[0m     \u001b[1;32mreturn\u001b[0m \u001b[0mwrapper\u001b[0m\u001b[1;33m\u001b[0m\u001b[1;33m\u001b[0m\u001b[0m\n",
      "\u001b[1;32mC:\\tools\\Anaconda3\\lib\\site-packages\\matplotlib\\axes\\_axes.py\u001b[0m in \u001b[0;36mscatter\u001b[1;34m(self, x, y, s, c, marker, cmap, norm, vmin, vmax, alpha, linewidths, verts, edgecolors, plotnonfinite, **kwargs)\u001b[0m\n\u001b[0;32m   4449\u001b[0m \u001b[1;33m\u001b[0m\u001b[0m\n\u001b[0;32m   4450\u001b[0m         \u001b[0mc\u001b[0m\u001b[1;33m,\u001b[0m \u001b[0mcolors\u001b[0m\u001b[1;33m,\u001b[0m \u001b[0medgecolors\u001b[0m \u001b[1;33m=\u001b[0m\u001b[0;31m \u001b[0m\u001b[0;31m\\\u001b[0m\u001b[1;33m\u001b[0m\u001b[1;33m\u001b[0m\u001b[0m\n\u001b[1;32m-> 4451\u001b[1;33m             self._parse_scatter_color_args(\n\u001b[0m\u001b[0;32m   4452\u001b[0m                 \u001b[0mc\u001b[0m\u001b[1;33m,\u001b[0m \u001b[0medgecolors\u001b[0m\u001b[1;33m,\u001b[0m \u001b[0mkwargs\u001b[0m\u001b[1;33m,\u001b[0m \u001b[0mx\u001b[0m\u001b[1;33m.\u001b[0m\u001b[0msize\u001b[0m\u001b[1;33m,\u001b[0m\u001b[1;33m\u001b[0m\u001b[1;33m\u001b[0m\u001b[0m\n\u001b[0;32m   4453\u001b[0m                 get_next_color_func=self._get_patches_for_fill.get_next_color)\n",
      "\u001b[1;32mC:\\tools\\Anaconda3\\lib\\site-packages\\matplotlib\\axes\\_axes.py\u001b[0m in \u001b[0;36m_parse_scatter_color_args\u001b[1;34m(c, edgecolors, kwargs, xsize, get_next_color_func)\u001b[0m\n\u001b[0;32m   4298\u001b[0m                     \u001b[1;31m# Both the mapping *and* the RGBA conversion failed: pretty\u001b[0m\u001b[1;33m\u001b[0m\u001b[1;33m\u001b[0m\u001b[1;33m\u001b[0m\u001b[0m\n\u001b[0;32m   4299\u001b[0m                     \u001b[1;31m# severe failure => one may appreciate a verbose feedback.\u001b[0m\u001b[1;33m\u001b[0m\u001b[1;33m\u001b[0m\u001b[1;33m\u001b[0m\u001b[0m\n\u001b[1;32m-> 4300\u001b[1;33m                     raise ValueError(\n\u001b[0m\u001b[0;32m   4301\u001b[0m                         \u001b[1;34mf\"'c' argument must be a color, a sequence of colors, \"\u001b[0m\u001b[1;33m\u001b[0m\u001b[1;33m\u001b[0m\u001b[0m\n\u001b[0;32m   4302\u001b[0m                         f\"or a sequence of numbers, not {c}\") from err\n",
      "\u001b[1;31mValueError\u001b[0m: 'c' argument must be a color, a sequence of colors, or a sequence of numbers, not Id\n1468404     <p>Does mono touch allow you to do cross iPhon...\n1583856     <p>After sitting through a session today on Mo...\n1914947     <p>What is the best approach to implement tabs...\n1961341     <p>How can I check internet access with MonoTo...\n2039387     <p>I'm new to MonoTouch and iPhone development...\n                                  ...                        \n66394506    <p>I am trying to change the text of a <code>T...\n66394874    <p>I'm working on a Flutter app which needs up...\n66400722    <p>I have Node.js app, served by express, with...\n66402094    <p>I have birthdays as timestamp stored in my ...\n66405059    <p>I have two lists of integers in Dart that a...\nName: Body, Length: 265020, dtype: object"
     ]
    },
    {
     "data": {
      "image/png": "[encoded data removed]",
      "text/plain": [
       "<Figure size 864x720 with 1 Axes>"
      ]
     },
     "metadata": {
      "needs_background": "light"
     },
     "output_type": "display_data"
    }
   ],
   "source": [
    "plt.subplots(figsize = (12, 10))\n",
    "plt.axis('equal');\n",
    "\n",
    "plt.scatter(lda_df_tsne[0], lda_df_tsne[1], c = posts['Body'], cmap = plt.cm.Spectral)"
   ]
  },
  {
   "cell_type": "code",
   "execution_count": 65,
   "metadata": {},
   "outputs": [],
   "source": [
    "topic_list = []\n",
    "\n",
    "def print_topic(identifier, top_words=15):\n",
    "    for topic_id, topic_word_probs in enumerate(lda.components_):\n",
    "        topics = ''\n",
    "        if topic_id == identifier:\n",
    "            print(\"Topic %d\" % (topic_id))\n",
    "            top_feature_names = [feature_names[i] for i in topic_word_probs.argsort()[:top_words-1:-1]]\n",
    "            topics = \" \".join(top_feature_names)\n",
    "            topic_list.append(topics)"
   ]
  },
  {
   "cell_type": "code",
   "execution_count": 66,
   "metadata": {
    "scrolled": true
   },
   "outputs": [
    {
     "ename": "AttributeError",
     "evalue": "'numpy.ndarray' object has no attribute 'components_'",
     "output_type": "error",
     "traceback": [
      "\u001b[1;31m---------------------------------------------------------------------------\u001b[0m",
      "\u001b[1;31mAttributeError\u001b[0m                            Traceback (most recent call last)",
      "\u001b[1;32m<ipython-input-66-22cb951dd7e5>\u001b[0m in \u001b[0;36m<module>\u001b[1;34m\u001b[0m\n\u001b[0;32m      1\u001b[0m \u001b[1;32mfor\u001b[0m \u001b[0mi\u001b[0m \u001b[1;32min\u001b[0m \u001b[0mrange\u001b[0m\u001b[1;33m(\u001b[0m\u001b[1;36m30000\u001b[0m\u001b[1;33m)\u001b[0m\u001b[1;33m:\u001b[0m\u001b[1;33m\u001b[0m\u001b[1;33m\u001b[0m\u001b[0m\n\u001b[1;32m----> 2\u001b[1;33m     \u001b[0mprint_topic\u001b[0m\u001b[1;33m(\u001b[0m\u001b[0mi\u001b[0m\u001b[1;33m,\u001b[0m \u001b[0mtop_words\u001b[0m\u001b[1;33m=\u001b[0m\u001b[1;36m15\u001b[0m\u001b[1;33m)\u001b[0m\u001b[1;33m\u001b[0m\u001b[1;33m\u001b[0m\u001b[0m\n\u001b[0m",
      "\u001b[1;32m<ipython-input-65-5263cb6771fd>\u001b[0m in \u001b[0;36mprint_topic\u001b[1;34m(identifier, top_words)\u001b[0m\n\u001b[0;32m      2\u001b[0m \u001b[1;33m\u001b[0m\u001b[0m\n\u001b[0;32m      3\u001b[0m \u001b[1;32mdef\u001b[0m \u001b[0mprint_topic\u001b[0m\u001b[1;33m(\u001b[0m\u001b[0midentifier\u001b[0m\u001b[1;33m,\u001b[0m \u001b[0mtop_words\u001b[0m\u001b[1;33m=\u001b[0m\u001b[1;36m15\u001b[0m\u001b[1;33m)\u001b[0m\u001b[1;33m:\u001b[0m\u001b[1;33m\u001b[0m\u001b[1;33m\u001b[0m\u001b[0m\n\u001b[1;32m----> 4\u001b[1;33m     \u001b[1;32mfor\u001b[0m \u001b[0mtopic_id\u001b[0m\u001b[1;33m,\u001b[0m \u001b[0mtopic_word_probs\u001b[0m \u001b[1;32min\u001b[0m \u001b[0menumerate\u001b[0m\u001b[1;33m(\u001b[0m\u001b[0mlda\u001b[0m\u001b[1;33m.\u001b[0m\u001b[0mcomponents_\u001b[0m\u001b[1;33m)\u001b[0m\u001b[1;33m:\u001b[0m\u001b[1;33m\u001b[0m\u001b[1;33m\u001b[0m\u001b[0m\n\u001b[0m\u001b[0;32m      5\u001b[0m         \u001b[0mtopics\u001b[0m \u001b[1;33m=\u001b[0m \u001b[1;34m''\u001b[0m\u001b[1;33m\u001b[0m\u001b[1;33m\u001b[0m\u001b[0m\n\u001b[0;32m      6\u001b[0m         \u001b[1;32mif\u001b[0m \u001b[0mtopic_id\u001b[0m \u001b[1;33m==\u001b[0m \u001b[0midentifier\u001b[0m\u001b[1;33m:\u001b[0m\u001b[1;33m\u001b[0m\u001b[1;33m\u001b[0m\u001b[0m\n",
      "\u001b[1;31mAttributeError\u001b[0m: 'numpy.ndarray' object has no attribute 'components_'"
     ]
    }
   ],
   "source": [
    "for i in range(30000):\n",
    "    print_topic(i, top_words=15)"
   ]
  },
  {
   "cell_type": "code",
   "execution_count": 64,
   "metadata": {},
   "outputs": [
    {
     "data": {
      "text/plain": [
       "array([[0.03333333, 0.03333333, 0.03333333, ..., 0.03333333, 0.03333333,\n",
       "        0.03333333],\n",
       "       [0.03333333, 0.03333333, 0.03333333, ..., 0.03333333, 0.03333333,\n",
       "        0.03333333],\n",
       "       [0.03333333, 0.03333333, 0.03333333, ..., 0.03333333, 0.03333333,\n",
       "        0.03333333],\n",
       "       ...,\n",
       "       [0.03333333, 0.03333333, 0.03333333, ..., 0.03333333, 0.03333333,\n",
       "        0.03333333],\n",
       "       [0.03333333, 0.03333333, 0.03333333, ..., 0.03333333, 0.03333333,\n",
       "        0.03333333],\n",
       "       [0.03333333, 0.03333333, 1.03333333, ..., 0.03333333, 0.03333333,\n",
       "        0.03333333]])"
      ]
     },
     "execution_count": 64,
     "metadata": {},
     "output_type": "execute_result"
    }
   ],
   "source": [
    "lda_model.components_"
   ]
  },
  {
   "cell_type": "code",
   "execution_count": 61,
   "metadata": {},
   "outputs": [],
   "source": [
    "df = pd.DataFrame(topic_list, columns=['Topic'])"
   ]
  },
  {
   "cell_type": "code",
   "execution_count": 62,
   "metadata": {},
   "outputs": [
    {
     "name": "stdout",
     "output_type": "stream",
     "text": [
      "                                                Topic\n",
      "0   look like thank advanc miss someth work fine s...\n",
      "1   look like thank advanc miss someth work fine s...\n",
      "2   check box checkbox check tri use click checkbo...\n",
      "3   background color chang color chang background ...\n",
      "4   look like would like someth like thank advanc ...\n",
      "5   read properti properti undefin typeerror read ...\n",
      "6   would like look like tri use tri creat someth ...\n",
      "7   would like someth like look like tri creat tha...\n",
      "8   thank advanc work fine key prop would like uni...\n",
      "9   push notif use firebas server side post reques...\n",
      "10  would like someth like hook call look like wor...\n",
      "11  would like tri use look like thank advanc get ...\n",
      "12  unknown sourc sourc unknown work fine look lik...\n",
      "13  react compon child compon parent compon use re...\n",
      "14  work fine tri use look like intptr intptr woul...\n",
      "15  list item look like radio button array object ...\n",
      "16  would like react nativ react navig navig scree...\n",
      "17  would like googl analyt firebas analyt someth ...\n",
      "18  get error look like imag descript unexpect tok...\n",
      "19  would like thank advanc tri use work fine tri ...\n",
      "20  exist type properti exist assign type npm err ...\n",
      "21  visual studio xamarin form use xamarin android...\n",
      "22  would like thank advanc plea help someth like ...\n",
      "23  someth like tri get someth wrong want use tri ...\n",
      "24  would like work fine look like someth like tha...\n",
      "25  packag packag npm err call null would like tri...\n",
      "26  user log user id cloud firestor user data use ...\n",
      "27  jqueri mobil click button use jqueri work fine...\n",
      "28  firebas storag upload imag upload file display...\n",
      "29  get error follow error work fine get follow re...\n",
      "30  firebas databas cloud function data firebas us...\n"
     ]
    }
   ],
   "source": [
    "print(df)"
   ]
  }
 ],
 "metadata": {
  "kernelspec": {
   "display_name": "Python 3",
   "language": "python",
   "name": "python3"
  },
  "language_info": {
   "codemirror_mode": {
    "name": "ipython",
    "version": 3
   },
   "file_extension": ".py",
   "mimetype": "text/x-python",
   "name": "python",
   "nbconvert_exporter": "python",
   "pygments_lexer": "ipython3",
   "version": "3.8.5"
  }
 },
 "nbformat": 4,
 "nbformat_minor": 4
}
