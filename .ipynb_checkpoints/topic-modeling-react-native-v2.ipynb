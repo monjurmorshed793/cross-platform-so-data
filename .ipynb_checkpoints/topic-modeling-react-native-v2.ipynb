{
 "cells": [
  {
   "cell_type": "code",
   "execution_count": 33,
   "outputs": [
    {
     "name": "stdout",
     "output_type": "stream",
     "text": [
      "Requirement already satisfied: gensim==3.8.1 in c:\\tools\\anaconda3\\lib\\site-packages (3.8.1)\n",
      "Requirement already satisfied: numpy>=1.11.3 in c:\\tools\\anaconda3\\lib\\site-packages (from gensim==3.8.1) (1.21.0)\n",
      "Requirement already satisfied: scipy>=0.18.1 in c:\\tools\\anaconda3\\lib\\site-packages (from gensim==3.8.1) (1.5.2)\n",
      "Requirement already satisfied: smart-open>=1.8.1 in c:\\tools\\anaconda3\\lib\\site-packages (from gensim==3.8.1) (5.1.0)\n",
      "Requirement already satisfied: six>=1.5.0 in c:\\tools\\anaconda3\\lib\\site-packages (from gensim==3.8.1) (1.15.0)\n",
      "Requirement already satisfied: vocab in c:\\tools\\anaconda3\\lib\\site-packages (0.0.5)\n",
      "Requirement already satisfied: scipy in c:\\tools\\anaconda3\\lib\\site-packages (1.5.2)\n",
      "Requirement already satisfied: numpy>=1.14.5 in c:\\tools\\anaconda3\\lib\\site-packages (from scipy) (1.21.0)\n",
      "Requirement already satisfied: pyldavis in c:\\tools\\anaconda3\\lib\\site-packages (3.3.1)\n",
      "Requirement already satisfied: future in c:\\tools\\anaconda3\\lib\\site-packages (from pyldavis) (0.18.2)\n",
      "Requirement already satisfied: joblib in c:\\tools\\anaconda3\\lib\\site-packages (from pyldavis) (0.17.0)\n",
      "Requirement already satisfied: sklearn in c:\\tools\\anaconda3\\lib\\site-packages (from pyldavis) (0.0)\n",
      "Requirement already satisfied: jinja2 in c:\\tools\\anaconda3\\lib\\site-packages (from pyldavis) (2.11.2)\n",
      "Requirement already satisfied: pandas>=1.2.0 in c:\\tools\\anaconda3\\lib\\site-packages (from pyldavis) (1.2.5)\n",
      "Requirement already satisfied: setuptools in c:\\tools\\anaconda3\\lib\\site-packages (from pyldavis) (50.3.1.post20201107)\n",
      "Requirement already satisfied: scipy in c:\\tools\\anaconda3\\lib\\site-packages (from pyldavis) (1.5.2)\n",
      "Requirement already satisfied: gensim in c:\\tools\\anaconda3\\lib\\site-packages (from pyldavis) (3.8.1)\n",
      "Requirement already satisfied: funcy in c:\\tools\\anaconda3\\lib\\site-packages (from pyldavis) (1.16)\n",
      "Requirement already satisfied: scikit-learn in c:\\tools\\anaconda3\\lib\\site-packages (from pyldavis) (0.24.2)\n",
      "Requirement already satisfied: numexpr in c:\\tools\\anaconda3\\lib\\site-packages (from pyldavis) (2.7.1)\n",
      "Requirement already satisfied: numpy>=1.20.0 in c:\\tools\\anaconda3\\lib\\site-packages (from pyldavis) (1.21.0)\n",
      "Requirement already satisfied: MarkupSafe>=0.23 in c:\\tools\\anaconda3\\lib\\site-packages (from jinja2->pyldavis) (1.1.1)\n",
      "Requirement already satisfied: pytz>=2017.3 in c:\\tools\\anaconda3\\lib\\site-packages (from pandas>=1.2.0->pyldavis) (2020.1)\n",
      "Requirement already satisfied: python-dateutil>=2.7.3 in c:\\tools\\anaconda3\\lib\\site-packages (from pandas>=1.2.0->pyldavis) (2.8.1)\n",
      "Requirement already satisfied: six>=1.5.0 in c:\\tools\\anaconda3\\lib\\site-packages (from gensim->pyldavis) (1.15.0)\n",
      "Requirement already satisfied: smart-open>=1.8.1 in c:\\tools\\anaconda3\\lib\\site-packages (from gensim->pyldavis) (5.1.0)\n",
      "Requirement already satisfied: threadpoolctl>=2.0.0 in c:\\tools\\anaconda3\\lib\\site-packages (from scikit-learn->pyldavis) (2.1.0)\n"
     ]
    }
   ],
   "source": [
    "!{sys.executable} -m pip install gensim==3.8.1\n",
    "!{sys.executable} -m pip install vocab\n",
    "!{sys.executable} -m pip install scipy\n",
    "!{sys.executable} -m pip install pyldavis"
   ],
   "metadata": {
    "collapsed": false,
    "pycharm": {
     "name": "#%%\n"
    }
   }
  },
  {
   "cell_type": "code",
   "execution_count": 34,
   "metadata": {
    "collapsed": true
   },
   "outputs": [],
   "source": [
    "import gensim\n",
    "import gensim.corpora as corpora\n",
    "import pprint\n",
    "import numpy\n",
    "import scipy"
   ]
  },
  {
   "cell_type": "code",
   "execution_count": 35,
   "outputs": [
    {
     "ename": "ImportError",
     "evalue": "cannot import name 'Vocab' from 'gensim.models.word2vec' (C:\\tools\\Anaconda3\\lib\\site-packages\\gensim\\models\\word2vec.py)",
     "output_type": "error",
     "traceback": [
      "\u001B[1;31m---------------------------------------------------------------------------\u001B[0m",
      "\u001B[1;31mImportError\u001B[0m                               Traceback (most recent call last)",
      "\u001B[1;32m<ipython-input-35-9430cfa41df0>\u001B[0m in \u001B[0;36m<module>\u001B[1;34m\u001B[0m\n\u001B[0;32m      2\u001B[0m \u001B[1;32mfrom\u001B[0m \u001B[0mgensim\u001B[0m \u001B[1;32mimport\u001B[0m \u001B[0mmodels\u001B[0m\u001B[1;33m\u001B[0m\u001B[1;33m\u001B[0m\u001B[0m\n\u001B[0;32m      3\u001B[0m \u001B[1;32mfrom\u001B[0m \u001B[0mgensim\u001B[0m\u001B[1;33m.\u001B[0m\u001B[0mmodels\u001B[0m \u001B[1;32mimport\u001B[0m \u001B[0mLdaModel\u001B[0m\u001B[1;33m,\u001B[0m \u001B[0mCoherenceModel\u001B[0m\u001B[1;33m\u001B[0m\u001B[1;33m\u001B[0m\u001B[0m\n\u001B[1;32m----> 4\u001B[1;33m \u001B[1;32mfrom\u001B[0m \u001B[0mgensim\u001B[0m\u001B[1;33m.\u001B[0m\u001B[0mmodels\u001B[0m\u001B[1;33m.\u001B[0m\u001B[0mwrappers\u001B[0m \u001B[1;32mimport\u001B[0m \u001B[0mLdaMallet\u001B[0m\u001B[1;33m\u001B[0m\u001B[1;33m\u001B[0m\u001B[0m\n\u001B[0m\u001B[0;32m      5\u001B[0m \u001B[1;33m\u001B[0m\u001B[0m\n",
      "\u001B[1;32mC:\\tools\\Anaconda3\\lib\\site-packages\\gensim\\models\\wrappers\\__init__.py\u001B[0m in \u001B[0;36m<module>\u001B[1;34m\u001B[0m\n\u001B[0;32m      8\u001B[0m \u001B[1;32mfrom\u001B[0m \u001B[1;33m.\u001B[0m\u001B[0mfasttext\u001B[0m \u001B[1;32mimport\u001B[0m \u001B[0mFastText\u001B[0m  \u001B[1;31m# noqa:F401\u001B[0m\u001B[1;33m\u001B[0m\u001B[1;33m\u001B[0m\u001B[0m\n\u001B[0;32m      9\u001B[0m \u001B[1;32mfrom\u001B[0m \u001B[1;33m.\u001B[0m\u001B[0mwordrank\u001B[0m \u001B[1;32mimport\u001B[0m \u001B[0mWordrank\u001B[0m  \u001B[1;31m# noqa:F401\u001B[0m\u001B[1;33m\u001B[0m\u001B[1;33m\u001B[0m\u001B[0m\n\u001B[1;32m---> 10\u001B[1;33m \u001B[1;32mfrom\u001B[0m \u001B[1;33m.\u001B[0m\u001B[0mvarembed\u001B[0m \u001B[1;32mimport\u001B[0m \u001B[0mVarEmbed\u001B[0m  \u001B[1;31m# noqa:F401\u001B[0m\u001B[1;33m\u001B[0m\u001B[1;33m\u001B[0m\u001B[0m\n\u001B[0m",
      "\u001B[1;32mC:\\tools\\Anaconda3\\lib\\site-packages\\gensim\\models\\wrappers\\varembed.py\u001B[0m in \u001B[0;36m<module>\u001B[1;34m\u001B[0m\n\u001B[0;32m     20\u001B[0m \u001B[1;32mfrom\u001B[0m \u001B[0mgensim\u001B[0m \u001B[1;32mimport\u001B[0m \u001B[0mutils\u001B[0m\u001B[1;33m\u001B[0m\u001B[1;33m\u001B[0m\u001B[0m\n\u001B[0;32m     21\u001B[0m \u001B[1;32mfrom\u001B[0m \u001B[0mgensim\u001B[0m\u001B[1;33m.\u001B[0m\u001B[0mmodels\u001B[0m\u001B[1;33m.\u001B[0m\u001B[0mkeyedvectors\u001B[0m \u001B[1;32mimport\u001B[0m \u001B[0mKeyedVectors\u001B[0m\u001B[1;33m\u001B[0m\u001B[1;33m\u001B[0m\u001B[0m\n\u001B[1;32m---> 22\u001B[1;33m \u001B[1;32mfrom\u001B[0m \u001B[0mgensim\u001B[0m\u001B[1;33m.\u001B[0m\u001B[0mmodels\u001B[0m\u001B[1;33m.\u001B[0m\u001B[0mword2vec\u001B[0m \u001B[1;32mimport\u001B[0m \u001B[0mVocab\u001B[0m\u001B[1;33m\u001B[0m\u001B[1;33m\u001B[0m\u001B[0m\n\u001B[0m\u001B[0;32m     23\u001B[0m \u001B[1;33m\u001B[0m\u001B[0m\n\u001B[0;32m     24\u001B[0m \u001B[0mlogger\u001B[0m \u001B[1;33m=\u001B[0m \u001B[0mlogging\u001B[0m\u001B[1;33m.\u001B[0m\u001B[0mgetLogger\u001B[0m\u001B[1;33m(\u001B[0m\u001B[0m__name__\u001B[0m\u001B[1;33m)\u001B[0m\u001B[1;33m\u001B[0m\u001B[1;33m\u001B[0m\u001B[0m\n",
      "\u001B[1;31mImportError\u001B[0m: cannot import name 'Vocab' from 'gensim.models.word2vec' (C:\\tools\\Anaconda3\\lib\\site-packages\\gensim\\models\\word2vec.py)"
     ]
    }
   ],
   "source": [
    "from gensim.utils import simple_preprocess\n",
    "from gensim import models\n",
    "from gensim.models import LdaModel, CoherenceModel\n",
    "from gensim.models.wrappers import LdaMallet"
   ],
   "metadata": {
    "collapsed": false,
    "pycharm": {
     "name": "#%%\n"
    }
   }
  },
  {
   "cell_type": "code",
   "execution_count": 27,
   "outputs": [
    {
     "ename": "ModuleNotFoundError",
     "evalue": "No module named 'spacy'",
     "output_type": "error",
     "traceback": [
      "\u001B[1;31m---------------------------------------------------------------------------\u001B[0m",
      "\u001B[1;31mModuleNotFoundError\u001B[0m                       Traceback (most recent call last)",
      "\u001B[1;32m<ipython-input-27-8f929498fe3b>\u001B[0m in \u001B[0;36m<module>\u001B[1;34m\u001B[0m\n\u001B[0;32m      1\u001B[0m \u001B[1;31m# spacy for lemmatization\u001B[0m\u001B[1;33m\u001B[0m\u001B[1;33m\u001B[0m\u001B[1;33m\u001B[0m\u001B[0m\n\u001B[1;32m----> 2\u001B[1;33m \u001B[1;32mimport\u001B[0m \u001B[0mspacy\u001B[0m\u001B[1;33m\u001B[0m\u001B[1;33m\u001B[0m\u001B[0m\n\u001B[0m\u001B[0;32m      3\u001B[0m \u001B[1;32mfrom\u001B[0m \u001B[0mspacy\u001B[0m\u001B[1;33m.\u001B[0m\u001B[0mlang\u001B[0m\u001B[1;33m.\u001B[0m\u001B[0men\u001B[0m \u001B[1;32mimport\u001B[0m \u001B[0mEnglish\u001B[0m\u001B[1;33m\u001B[0m\u001B[1;33m\u001B[0m\u001B[0m\n\u001B[0;32m      4\u001B[0m \u001B[1;33m\u001B[0m\u001B[0m\n",
      "\u001B[1;31mModuleNotFoundError\u001B[0m: No module named 'spacy'"
     ]
    }
   ],
   "source": [
    "# spacy for lemmatization\n",
    "import spacy\n",
    "from spacy.lang.en import English"
   ],
   "metadata": {
    "collapsed": false,
    "pycharm": {
     "name": "#%%\n"
    }
   }
  },
  {
   "cell_type": "code",
   "execution_count": 22,
   "outputs": [
    {
     "ename": "ModuleNotFoundError",
     "evalue": "No module named 'pyLDAvis'",
     "output_type": "error",
     "traceback": [
      "\u001B[1;31m---------------------------------------------------------------------------\u001B[0m",
      "\u001B[1;31mModuleNotFoundError\u001B[0m                       Traceback (most recent call last)",
      "\u001B[1;32m<ipython-input-22-d79bf724e5bb>\u001B[0m in \u001B[0;36m<module>\u001B[1;34m\u001B[0m\n\u001B[0;32m      1\u001B[0m \u001B[1;31m# Plotting tools\u001B[0m\u001B[1;33m\u001B[0m\u001B[1;33m\u001B[0m\u001B[1;33m\u001B[0m\u001B[0m\n\u001B[1;32m----> 2\u001B[1;33m \u001B[1;32mimport\u001B[0m \u001B[0mpyLDAvis\u001B[0m\u001B[1;33m\u001B[0m\u001B[1;33m\u001B[0m\u001B[0m\n\u001B[0m\u001B[0;32m      3\u001B[0m \u001B[1;32mimport\u001B[0m \u001B[0mpyLDAvis\u001B[0m\u001B[1;33m.\u001B[0m\u001B[0mgensim\u001B[0m\u001B[1;33m\u001B[0m\u001B[1;33m\u001B[0m\u001B[0m\n\u001B[0;32m      4\u001B[0m \u001B[1;32mimport\u001B[0m \u001B[0mmatplotlib\u001B[0m\u001B[1;33m.\u001B[0m\u001B[0mpyplot\u001B[0m \u001B[1;32mas\u001B[0m \u001B[0mplt\u001B[0m\u001B[1;33m\u001B[0m\u001B[1;33m\u001B[0m\u001B[0m\n\u001B[0;32m      5\u001B[0m \u001B[0mget_ipython\u001B[0m\u001B[1;33m(\u001B[0m\u001B[1;33m)\u001B[0m\u001B[1;33m.\u001B[0m\u001B[0mrun_line_magic\u001B[0m\u001B[1;33m(\u001B[0m\u001B[1;34m'matplotlib'\u001B[0m\u001B[1;33m,\u001B[0m \u001B[1;34m'inline'\u001B[0m\u001B[1;33m)\u001B[0m\u001B[1;33m\u001B[0m\u001B[1;33m\u001B[0m\u001B[0m\n",
      "\u001B[1;31mModuleNotFoundError\u001B[0m: No module named 'pyLDAvis'"
     ]
    }
   ],
   "source": [
    "# Plotting tools\n",
    "import pyLDAvis\n",
    "import pyLDAvis.gensim\n",
    "import matplotlib.pyplot as plt\n",
    "get_ipython().run_line_magic('matplotlib', 'inline')"
   ],
   "metadata": {
    "collapsed": false,
    "pycharm": {
     "name": "#%%\n"
    }
   }
  }
 ],
 "metadata": {
  "kernelspec": {
   "display_name": "Python 3",
   "language": "python",
   "name": "python3"
  },
  "language_info": {
   "codemirror_mode": {
    "name": "ipython",
    "version": 2
   },
   "file_extension": ".py",
   "mimetype": "text/x-python",
   "name": "python",
   "nbconvert_exporter": "python",
   "pygments_lexer": "ipython2",
   "version": "2.7.6"
  }
 },
 "nbformat": 4,
 "nbformat_minor": 0
}