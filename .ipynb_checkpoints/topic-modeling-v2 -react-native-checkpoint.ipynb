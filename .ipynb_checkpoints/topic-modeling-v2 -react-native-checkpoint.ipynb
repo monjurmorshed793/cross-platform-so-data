{
 "cells": [
  {
   "cell_type": "code",
   "execution_count": 1,
   "metadata": {
    "scrolled": true
   },
   "outputs": [],
   "source": [
    "import sys\n",
    "#!{sys.executable} -m pip install jupyterthemes\n",
    "# !{sys.executable} -m pip install spacy\n",
    "# !{sys.executable} -m pip install pyldavis\n",
    "# !{sys.executable} -m spacy download en\n",
    "# !{sys.executable} -m pip install numpy\n",
    "# !{sys.executable} -m pip install biopython\n",
    "# !{sys.executable} -m pip install pandas\n",
    "# !{sys.executable} -m pip install tensorflow\n",
    "# !{sys.executable} -m pip install imblearn\n",
    "# !{sys.executable} -m pip install sklearn\n",
    "# !{sys.executable} -m pip install matplotlib\n",
    "# !{sys.executable} -m pip install xgboost\n",
    "# !{sys.executable} -m pip install pyod\n",
    "# !{sys.executable} -m pip install lightgbm\n",
    "# !{sys.executable} -m pip install catboost \n",
    "# !{sys.executable} -m pip install plotly\n",
    "# !{sys.executable} -m pip install cufflinks\n",
    "# !{sys.executable} -m pip install pyclustering\n",
    "# !{sys.executable} -m pip install beautifulsoup4\n",
    "# !{sys.executable} -m pip install algorithmia\n",
    "# !{sys.executable} -m pip install paramiko\n",
    "# !{sys.executable} -m pip install gensim==3.8.3\n"
   ]
  },
  {
   "cell_type": "code",
   "execution_count": 15,
   "metadata": {},
   "outputs": [
    {
     "name": "stderr",
     "output_type": "stream",
     "text": [
      "C:\\ProgramData\\Anaconda3\\lib\\site-packages\\ipykernel\\ipkernel.py:287: DeprecationWarning: `should_run_async` will not call `transform_cell` automatically in the future. Please pass the result to `transformed_cell` argument and any exception that happen during thetransform in `preprocessing_exc_tuple` in IPython 7.17 and above.\n",
      "  and should_run_async(code)\n",
      "[nltk_data] Downloading package stopwords to\n",
      "[nltk_data]     C:\\Users\\monju\\AppData\\Roaming\\nltk_data...\n",
      "[nltk_data]   Package stopwords is already up-to-date!\n"
     ]
    },
    {
     "data": {
      "text/plain": [
       "True"
      ]
     },
     "execution_count": 15,
     "metadata": {},
     "output_type": "execute_result"
    }
   ],
   "source": [
    "# Gensim\n",
    "import gensim\n",
    "import gensim.corpora as corpora\n",
    "from gensim.utils import simple_preprocess\n",
    "from gensim import models\n",
    "from gensim.models import LdaModel, CoherenceModel\n",
    "from gensim.models.wrappers import LdaMallet\n",
    "import pprint\n",
    "\n",
    "# spacy for lemmatization\n",
    "import spacy\n",
    "from spacy.lang.en import English\n",
    "\n",
    "# Plotting tools\n",
    "import pyLDAvis\n",
    "import pyLDAvis.gensim_models\n",
    "import matplotlib.pyplot as plt\n",
    "get_ipython().run_line_magic('matplotlib', 'inline')\n",
    "\n",
    "import pandas as pd\n",
    "import numpy as np\n",
    "\n",
    "import nltk\n",
    "nltk.download('stopwords')"
   ]
  },
  {
   "cell_type": "code",
   "execution_count": 16,
   "metadata": {},
   "outputs": [
    {
     "name": "stderr",
     "output_type": "stream",
     "text": [
      "C:\\ProgramData\\Anaconda3\\lib\\site-packages\\ipykernel\\ipkernel.py:287: DeprecationWarning: `should_run_async` will not call `transform_cell` automatically in the future. Please pass the result to `transformed_cell` argument and any exception that happen during thetransform in `preprocessing_exc_tuple` in IPython 7.17 and above.\n",
      "  and should_run_async(code)\n"
     ]
    },
    {
     "name": "stdout",
     "output_type": "stream",
     "text": [
      "          Id  AcceptedAnswerId  AnswerCount  \\\n",
      "0   29925616          29930598            1   \n",
      "1   30028086          30028347            1   \n",
      "2   29970434          29971118            3   \n",
      "3   30113040          30113642            1   \n",
      "4   30012662          30012855            1   \n",
      "5   29290299          29304365            1   \n",
      "6   29291286          29301078            2   \n",
      "7   29300732          29300810            4   \n",
      "8   29308105          29308221            1   \n",
      "9   29966040          30008487            1   \n",
      "10  29309970          29310137            2   \n",
      "11  29840659          29850099            1   \n",
      "12  29294913          29304153            6   \n",
      "13  30202705          30202913           11   \n",
      "14  30023518          30030972            1   \n",
      "15  29287987          29305702           14   \n",
      "16  29316825          29318419            4   \n",
      "17  30203044          30204697            4   \n",
      "18  30228541          30243019            2   \n",
      "19  29317259          29317314            1   \n",
      "\n",
      "                                                 Body  \\\n",
      "0   <p>I have a row of controls/buttons, and each ...   \n",
      "1   <p>I am trying to re-render a component based ...   \n",
      "2   <p>For example, I wanna show a list of names. ...   \n",
      "3   <p>I'm attempting to display an image and call...   \n",
      "4   <p>Im playing with React Native, and have depl...   \n",
      "5   <p>After installing react-native and running t...   \n",
      "6   <p>Can an <code>iOS</code> app (built entirely...   \n",
      "7   <p>I'm trying to render a block with white tex...   \n",
      "8   <p>I'm getting an unexpected identifier error ...   \n",
      "9   <p>I have a react-native component with PanRes...   \n",
      "10  <p>I've been playing around with React Native ...   \n",
      "11  <p>Integration with Existing App</p>\\n\\n<p>The...   \n",
      "12  <p>I'm playing with <a href=\"https://github.co...   \n",
      "13  <p>I have NavigatorIOS under Navigator and wou...   \n",
      "14  <p>Just implemented a login page. </p>\\n\\n<p>A...   \n",
      "15  <p>First off, I don't know react, but I figure...   \n",
      "16  <p>I have existing Obj-C project with rich bus...   \n",
      "17  <p>I'm trying to use <code>fetch</code> in Rea...   \n",
      "18  <p>I want to load a different configuration de...   \n",
      "19  <p>Following the <a href=\"http://facebook.gith...   \n",
      "\n",
      "                 ClosedDate  CommentCount  CommunityOwnedDate  \\\n",
      "0                       NaN             2                 NaN   \n",
      "1                       NaN             0                 NaN   \n",
      "2                       NaN             0                 NaN   \n",
      "3                       NaN             0                 NaN   \n",
      "4                       NaN             0                 NaN   \n",
      "5                       NaN             1                 NaN   \n",
      "6                       NaN             0                 NaN   \n",
      "7                       NaN             1                 NaN   \n",
      "8                       NaN             4                 NaN   \n",
      "9                       NaN             1                 NaN   \n",
      "10  2015-09-04 12:34:44.710             0                 NaN   \n",
      "11                      NaN             0                 NaN   \n",
      "12                      NaN             0                 NaN   \n",
      "13                      NaN             1                 NaN   \n",
      "14                      NaN             7                 NaN   \n",
      "15                      NaN             0                 NaN   \n",
      "16                      NaN             0                 NaN   \n",
      "17                      NaN             3                 NaN   \n",
      "18                      NaN             0                 NaN   \n",
      "19                      NaN             4                 NaN   \n",
      "\n",
      "               CreationDate  FavoriteCount         LastActivityDate  ...  \\\n",
      "0   2015-04-28 17:02:31.543              0  2015-04-29 13:00:59.327  ...   \n",
      "1   2015-05-04 10:40:24.633              1  2015-05-04 10:55:14.610  ...   \n",
      "2   2015-04-30 14:28:18.983             10  2017-07-22 06:13:22.307  ...   \n",
      "3   2015-05-07 22:58:56.667              1  2015-05-08 05:01:34.900  ...   \n",
      "4   2015-05-03 10:17:05.960              1  2015-05-03 10:40:34.920  ...   \n",
      "5   2015-03-26 22:50:57.560              0  2018-04-02 14:50:36.677  ...   \n",
      "6   2015-03-27 00:26:46.613              0  2017-10-27 16:27:37.357  ...   \n",
      "7   2015-03-27 12:30:24.587             14  2021-02-01 10:03:12.467  ...   \n",
      "8   2015-03-27 18:50:08.083              0  2015-04-01 11:24:37.110  ...   \n",
      "9   2015-04-30 11:03:19.760              0  2015-05-02 23:07:08.673  ...   \n",
      "10  2015-03-27 20:49:46.810              4  2015-10-31 10:07:45.573  ...   \n",
      "11  2015-04-24 06:54:41.913              0  2015-04-24 14:27:29.133  ...   \n",
      "12  2015-03-27 06:52:29.557              8  2019-08-16 04:38:26.080  ...   \n",
      "13  2015-05-12 22:44:37.330              5  2020-09-04 13:32:11.807  ...   \n",
      "14  2015-05-04 06:03:32.123              0  2015-05-04 13:06:29.523  ...   \n",
      "15  2015-03-26 20:16:03.350              7  2020-10-24 17:14:54.237  ...   \n",
      "16  2015-03-28 11:51:21.133              1  2017-11-29 10:15:55.763  ...   \n",
      "17  2015-05-12 23:16:37.440             41  2018-06-14 20:00:11.477  ...   \n",
      "18  2015-05-14 03:00:58.250              0  2015-10-28 07:48:57.367  ...   \n",
      "19  2015-03-28 12:40:22.947              0  2015-03-28 12:46:03.023  ...   \n",
      "\n",
      "   Score                                               Tags  \\\n",
      "0      0                                     <react-native>   \n",
      "1      1                <javascript><reactjs><react-native>   \n",
      "2     48                          <react-native><react-jsx>   \n",
      "3      0                         <javascript><react-native>   \n",
      "4      1                                     <react-native>   \n",
      "5      3                                <ios><react-native>   \n",
      "6     10    <javascript><ios><xcode><cordova><react-native>   \n",
      "7     34                                <ios><react-native>   \n",
      "8      3  <javascript><reactjs><ecmascript-6><react-native>   \n",
      "9      0                <javascript><reactjs><react-native>   \n",
      "10     9                            <reactjs><react-native>   \n",
      "11     1                                <ios><react-native>   \n",
      "12    56                            <reactjs><react-native>   \n",
      "13    20          <javascript><react-native><navigationbar>   \n",
      "14     1                            <reactjs><react-native>   \n",
      "15    68                                <ios><react-native>   \n",
      "16     1                                     <react-native>   \n",
      "17   158   <javascript><oauth-2.0><react-native><fetch-api>   \n",
      "18     0                                     <react-native>   \n",
      "19     0                        <ios><xcode6><react-native>   \n",
      "\n",
      "                                                Title  ViewCount   post_id  \\\n",
      "0                How to repeat styles in React-native       1165  29925616   \n",
      "1              Component not updating on props update       3195  30028086   \n",
      "2   How to concatenate JSX components in React Native      35591  29970434   \n",
      "3      Can't call function on react-native-video item       1476  30113040   \n",
      "4   Refresh On IPhone Device Using React-Native Tools       1355  30012662   \n",
      "5   Error running the initialised React Native pro...       2077  29290299   \n",
      "6     Run a React Native app without launching Xcode?       4339  29291286   \n",
      "7   Render text box with transparent background on...      48648  29300732   \n",
      "8                React Native - unexpected identifier       3160  29308105   \n",
      "9                Styles not updating inside Component        865  29966040   \n",
      "10  How do I access the phone's camera with React ...       9669  29309970   \n",
      "11  ReactNative Integration with Existing App not ...        380  29840659   \n",
      "12  What folders should be git ignored in React Na...      47589  29294913   \n",
      "13             How to hide React Native NavigationBar      31741  30202705   \n",
      "14   How to switch to another module in react native?       1470  30023518   \n",
      "15  \"Invariant Violation: Application AwesomeProje...      54799  29287987   \n",
      "16  How my react js code can interact with existin...       1206  29316825   \n",
      "17  Using an authorization header with Fetch in Re...     302790  30203044   \n",
      "18  How to access iOS evironment variables or runt...        276  30228541   \n",
      "19  index.io.bundle not found while using iOS simu...        678  29317259   \n",
      "\n",
      "                                               Answer  \\\n",
      "0   <pre><code>&lt;View&gt;\\n  {['Left', 'Right', ...   \n",
      "1   <p>When <code>StoryContainer.handleClick</code...   \n",
      "2   <p>Figures I figure it out soon as I ask stack...   \n",
      "3   <p>When you return a component from an event h...   \n",
      "4   <p>Shaking the device should bring up the deve...   \n",
      "5   <p>To run on a device (which is your second pr...   \n",
      "6   <p>If you build the project once using Xcode, ...   \n",
      "7   <p><strong>PLEASE NOTE: This answer is now vas...   \n",
      "8   <p>You're treating the <code>class</code> cons...   \n",
      "9   <p>You're using React wrong.</p>\\n\\n<ol>\\n<li>...   \n",
      "10  <p>Right now, React Native doesn't have a way ...   \n",
      "11  <p>Just update the version to 0.4.0 </p>\\n\\n<p...   \n",
      "12  <p>If you look at the React Native examples:</...   \n",
      "13  <p>In your Navigator class  it looks like you'...   \n",
      "14  <p>You have to use the navigator. You could tr...   \n",
      "15  <p>I'm pretty sure @krazyeom's fix has nothing...   \n",
      "16  <p>It's not possible for React views to call n...   \n",
      "17  <p>It turns out, I was using the <code>fetch</...   \n",
      "18  <p>I think you should write a <a href=\"http://...   \n",
      "19  <p>I had another program listening to port <co...   \n",
      "\n",
      "                 AnswerDate AnswerDiff  \\\n",
      "0   2015-04-28 21:51:54.070    17363.0   \n",
      "1   2015-05-04 10:55:14.610      890.0   \n",
      "2   2015-04-30 14:59:07.690     1849.0   \n",
      "3   2015-05-08 00:03:51.627     3895.0   \n",
      "4   2015-05-03 10:40:34.920     1409.0   \n",
      "5   2015-03-27 15:27:44.870    59807.0   \n",
      "6   2015-03-27 12:47:52.890    44466.0   \n",
      "7   2015-03-27 12:35:04.077      280.0   \n",
      "8   2015-03-27 18:57:01.363      413.0   \n",
      "9   2015-05-02 23:07:08.673   216229.0   \n",
      "10  2015-03-27 21:01:20.780      694.0   \n",
      "11  2015-04-24 14:27:29.133    27168.0   \n",
      "12  2015-03-27 15:17:46.447    30317.0   \n",
      "13  2015-05-12 23:04:55.763     1218.0   \n",
      "14  2015-05-04 13:06:29.523    25377.0   \n",
      "15  2015-03-27 16:35:09.193    73146.0   \n",
      "16  2015-03-28 14:40:46.473    10165.0   \n",
      "17  2015-05-13 02:36:14.290    11977.0   \n",
      "18  2015-05-14 16:58:11.370    50233.0   \n",
      "19  2015-03-28 12:45:18.877      296.0   \n",
      "\n",
      "                                             Combined  AcceptedAnswerCount  \n",
      "0   How to repeat styles in React-native <p>I have...                    1  \n",
      "1   Component not updating on props update <p>I am...                    1  \n",
      "2   How to concatenate JSX components in React Nat...                    1  \n",
      "3   Can't call function on react-native-video item...                    1  \n",
      "4   Refresh On IPhone Device Using React-Native To...                    1  \n",
      "5   Error running the initialised React Native pro...                    1  \n",
      "6   Run a React Native app without launching Xcode...                    1  \n",
      "7   Render text box with transparent background on...                    1  \n",
      "8   React Native - unexpected identifier <p>I'm ge...                    1  \n",
      "9   Styles not updating inside Component <p>I have...                    1  \n",
      "10  How do I access the phone's camera with React ...                    1  \n",
      "11  ReactNative Integration with Existing App not ...                    1  \n",
      "12  What folders should be git ignored in React Na...                    1  \n",
      "13  How to hide React Native NavigationBar <p>I ha...                    1  \n",
      "14  How to switch to another module in react nativ...                    1  \n",
      "15  \"Invariant Violation: Application AwesomeProje...                    1  \n",
      "16  How my react js code can interact with existin...                    1  \n",
      "17  Using an authorization header with Fetch in Re...                    1  \n",
      "18  How to access iOS evironment variables or runt...                    1  \n",
      "19  index.io.bundle not found while using iOS simu...                    1  \n",
      "\n",
      "[20 rows x 26 columns]\n"
     ]
    }
   ],
   "source": [
    "#reviews_datasets=pd.read_csv('D:/so-data/react-native-posts.csv'  )\n",
    "reviews_datasets=pd.read_excel('D:/so-data/framework-related-posts-september/react_native.xlsx'  )\n",
    "# reviews_datasets=reviews_datasets.head(1000)\n",
    "# postTagsRawData = pd.read_csv('PostTagsV3.csv', chunksize=1000)\n",
    "# postTagsRawData = pd.read_excel('PostsTags2.xlsx')\n",
    "print(reviews_datasets.head(20))"
   ]
  },
  {
   "cell_type": "code",
   "execution_count": 17,
   "metadata": {},
   "outputs": [
    {
     "name": "stderr",
     "output_type": "stream",
     "text": [
      "C:\\ProgramData\\Anaconda3\\lib\\site-packages\\ipykernel\\ipkernel.py:287: DeprecationWarning: `should_run_async` will not call `transform_cell` automatically in the future. Please pass the result to `transformed_cell` argument and any exception that happen during thetransform in `preprocessing_exc_tuple` in IPython 7.17 and above.\n",
      "  and should_run_async(code)\n"
     ]
    }
   ],
   "source": [
    "reviews_datasets.dropna()\n",
    "\n",
    "# obody = reviews_datasets['Body']\n",
    "\n",
    "# changed to append both title and body\n",
    "reviews_datasets['CombinedTitleBody'] = reviews_datasets['Title'] +' '+reviews_datasets['Body']\n",
    "#reviews_datasets['CombinedTitleBody'] = reviews_datasets['Combined']\n",
    "obody = reviews_datasets['CombinedTitleBody']"
   ]
  },
  {
   "cell_type": "code",
   "execution_count": 9,
   "metadata": {},
   "outputs": [
    {
     "name": "stderr",
     "output_type": "stream",
     "text": [
      "C:\\tools\\Anaconda3\\lib\\site-packages\\ipykernel\\ipkernel.py:287: DeprecationWarning: `should_run_async` will not call `transform_cell` automatically in the future. Please pass the result to `transformed_cell` argument and any exception that happen during thetransform in `preprocessing_exc_tuple` in IPython 7.17 and above.\n",
      "  and should_run_async(code)\n"
     ]
    },
    {
     "data": {
      "text/html": [
       "<div>\n",
       "<style scoped>\n",
       "    .dataframe tbody tr th:only-of-type {\n",
       "        vertical-align: middle;\n",
       "    }\n",
       "\n",
       "    .dataframe tbody tr th {\n",
       "        vertical-align: top;\n",
       "    }\n",
       "\n",
       "    .dataframe thead th {\n",
       "        text-align: right;\n",
       "    }\n",
       "</style>\n",
       "<table border=\"1\" class=\"dataframe\">\n",
       "  <thead>\n",
       "    <tr style=\"text-align: right;\">\n",
       "      <th></th>\n",
       "      <th>Id</th>\n",
       "      <th>AcceptedAnswerId</th>\n",
       "      <th>AnswerCount</th>\n",
       "      <th>Body</th>\n",
       "      <th>ClosedDate</th>\n",
       "      <th>CommentCount</th>\n",
       "      <th>CommunityOwnedDate</th>\n",
       "      <th>CreationDate</th>\n",
       "      <th>FavoriteCount</th>\n",
       "      <th>LastActivityDate</th>\n",
       "      <th>...</th>\n",
       "      <th>ParentId</th>\n",
       "      <th>PostTypeId</th>\n",
       "      <th>Score</th>\n",
       "      <th>Tags</th>\n",
       "      <th>Title</th>\n",
       "      <th>ViewCount</th>\n",
       "      <th>Answer</th>\n",
       "      <th>AnswerDate</th>\n",
       "      <th>AnswerDiff</th>\n",
       "      <th>CombinedTitleBody</th>\n",
       "    </tr>\n",
       "  </thead>\n",
       "  <tbody>\n",
       "    <tr>\n",
       "      <th>0</th>\n",
       "      <td>29925616</td>\n",
       "      <td>29930598</td>\n",
       "      <td>1</td>\n",
       "      <td>&lt;p&gt;I have a row of controls/buttons, and each ...</td>\n",
       "      <td>NaN</td>\n",
       "      <td>2</td>\n",
       "      <td>NaN</td>\n",
       "      <td>2015-04-28 17:02:31.543</td>\n",
       "      <td>0</td>\n",
       "      <td>2015-04-29 13:00:59.327</td>\n",
       "      <td>...</td>\n",
       "      <td>0</td>\n",
       "      <td>1</td>\n",
       "      <td>0</td>\n",
       "      <td>&lt;react-native&gt;</td>\n",
       "      <td>How to repeat styles in React-native</td>\n",
       "      <td>1165</td>\n",
       "      <td>&lt;pre&gt;&lt;code&gt;&amp;lt;View&amp;gt;\\n  {['Left', 'Right', ...</td>\n",
       "      <td>2015-04-28 21:51:54.070</td>\n",
       "      <td>-4.0</td>\n",
       "      <td>How to repeat styles in React-native</td>\n",
       "    </tr>\n",
       "    <tr>\n",
       "      <th>1</th>\n",
       "      <td>30028086</td>\n",
       "      <td>30028347</td>\n",
       "      <td>1</td>\n",
       "      <td>&lt;p&gt;I am trying to re-render a component based ...</td>\n",
       "      <td>NaN</td>\n",
       "      <td>0</td>\n",
       "      <td>NaN</td>\n",
       "      <td>2015-05-04 10:40:24.633</td>\n",
       "      <td>1</td>\n",
       "      <td>2015-05-04 10:55:14.610</td>\n",
       "      <td>...</td>\n",
       "      <td>0</td>\n",
       "      <td>1</td>\n",
       "      <td>1</td>\n",
       "      <td>&lt;javascript&gt;&lt;reactjs&gt;&lt;react-native&gt;</td>\n",
       "      <td>Component not updating on props update</td>\n",
       "      <td>3195</td>\n",
       "      <td>&lt;p&gt;When &lt;code&gt;StoryContainer.handleClick&lt;/code...</td>\n",
       "      <td>2015-05-04 10:55:14.610</td>\n",
       "      <td>0.0</td>\n",
       "      <td>Component not updating on props update</td>\n",
       "    </tr>\n",
       "    <tr>\n",
       "      <th>2</th>\n",
       "      <td>29970434</td>\n",
       "      <td>29971118</td>\n",
       "      <td>3</td>\n",
       "      <td>&lt;p&gt;For example, I wanna show a list of names. ...</td>\n",
       "      <td>NaN</td>\n",
       "      <td>0</td>\n",
       "      <td>NaN</td>\n",
       "      <td>2015-04-30 14:28:18.983</td>\n",
       "      <td>10</td>\n",
       "      <td>2017-07-22 06:13:22.307</td>\n",
       "      <td>...</td>\n",
       "      <td>0</td>\n",
       "      <td>1</td>\n",
       "      <td>48</td>\n",
       "      <td>&lt;react-native&gt;&lt;react-jsx&gt;</td>\n",
       "      <td>How to concatenate JSX components in React Native</td>\n",
       "      <td>35591</td>\n",
       "      <td>&lt;p&gt;Figures I figure it out soon as I ask stack...</td>\n",
       "      <td>2015-04-30 14:59:07.690</td>\n",
       "      <td>0.0</td>\n",
       "      <td>How to concatenate JSX components in React Native</td>\n",
       "    </tr>\n",
       "    <tr>\n",
       "      <th>3</th>\n",
       "      <td>30113040</td>\n",
       "      <td>30113642</td>\n",
       "      <td>1</td>\n",
       "      <td>&lt;p&gt;I'm attempting to display an image and call...</td>\n",
       "      <td>NaN</td>\n",
       "      <td>0</td>\n",
       "      <td>NaN</td>\n",
       "      <td>2015-05-07 22:58:56.667</td>\n",
       "      <td>1</td>\n",
       "      <td>2015-05-08 05:01:34.900</td>\n",
       "      <td>...</td>\n",
       "      <td>0</td>\n",
       "      <td>1</td>\n",
       "      <td>0</td>\n",
       "      <td>&lt;javascript&gt;&lt;react-native&gt;</td>\n",
       "      <td>Can't call function on react-native-video item</td>\n",
       "      <td>1476</td>\n",
       "      <td>&lt;p&gt;When you return a component from an event h...</td>\n",
       "      <td>2015-05-08 00:03:51.627</td>\n",
       "      <td>-2.0</td>\n",
       "      <td>Can't call function on react-native-video item</td>\n",
       "    </tr>\n",
       "    <tr>\n",
       "      <th>4</th>\n",
       "      <td>30012662</td>\n",
       "      <td>30012855</td>\n",
       "      <td>1</td>\n",
       "      <td>&lt;p&gt;Im playing with React Native, and have depl...</td>\n",
       "      <td>NaN</td>\n",
       "      <td>0</td>\n",
       "      <td>NaN</td>\n",
       "      <td>2015-05-03 10:17:05.960</td>\n",
       "      <td>1</td>\n",
       "      <td>2015-05-03 10:40:34.920</td>\n",
       "      <td>...</td>\n",
       "      <td>0</td>\n",
       "      <td>1</td>\n",
       "      <td>1</td>\n",
       "      <td>&lt;react-native&gt;</td>\n",
       "      <td>Refresh On IPhone Device Using React-Native Tools</td>\n",
       "      <td>1355</td>\n",
       "      <td>&lt;p&gt;Shaking the device should bring up the deve...</td>\n",
       "      <td>2015-05-03 10:40:34.920</td>\n",
       "      <td>0.0</td>\n",
       "      <td>Refresh On IPhone Device Using React-Native Tools</td>\n",
       "    </tr>\n",
       "  </tbody>\n",
       "</table>\n",
       "<p>5 rows × 24 columns</p>\n",
       "</div>"
      ],
      "text/plain": [
       "         Id  AcceptedAnswerId  AnswerCount  \\\n",
       "0  29925616          29930598            1   \n",
       "1  30028086          30028347            1   \n",
       "2  29970434          29971118            3   \n",
       "3  30113040          30113642            1   \n",
       "4  30012662          30012855            1   \n",
       "\n",
       "                                                Body ClosedDate  CommentCount  \\\n",
       "0  <p>I have a row of controls/buttons, and each ...        NaN             2   \n",
       "1  <p>I am trying to re-render a component based ...        NaN             0   \n",
       "2  <p>For example, I wanna show a list of names. ...        NaN             0   \n",
       "3  <p>I'm attempting to display an image and call...        NaN             0   \n",
       "4  <p>Im playing with React Native, and have depl...        NaN             0   \n",
       "\n",
       "   CommunityOwnedDate             CreationDate  FavoriteCount  \\\n",
       "0                 NaN  2015-04-28 17:02:31.543              0   \n",
       "1                 NaN  2015-05-04 10:40:24.633              1   \n",
       "2                 NaN  2015-04-30 14:28:18.983             10   \n",
       "3                 NaN  2015-05-07 22:58:56.667              1   \n",
       "4                 NaN  2015-05-03 10:17:05.960              1   \n",
       "\n",
       "          LastActivityDate  ... ParentId PostTypeId  Score  \\\n",
       "0  2015-04-29 13:00:59.327  ...        0          1      0   \n",
       "1  2015-05-04 10:55:14.610  ...        0          1      1   \n",
       "2  2017-07-22 06:13:22.307  ...        0          1     48   \n",
       "3  2015-05-08 05:01:34.900  ...        0          1      0   \n",
       "4  2015-05-03 10:40:34.920  ...        0          1      1   \n",
       "\n",
       "                                  Tags  \\\n",
       "0                       <react-native>   \n",
       "1  <javascript><reactjs><react-native>   \n",
       "2            <react-native><react-jsx>   \n",
       "3           <javascript><react-native>   \n",
       "4                       <react-native>   \n",
       "\n",
       "                                               Title  ViewCount  \\\n",
       "0               How to repeat styles in React-native       1165   \n",
       "1             Component not updating on props update       3195   \n",
       "2  How to concatenate JSX components in React Native      35591   \n",
       "3     Can't call function on react-native-video item       1476   \n",
       "4  Refresh On IPhone Device Using React-Native Tools       1355   \n",
       "\n",
       "                                              Answer               AnswerDate  \\\n",
       "0  <pre><code>&lt;View&gt;\\n  {['Left', 'Right', ...  2015-04-28 21:51:54.070   \n",
       "1  <p>When <code>StoryContainer.handleClick</code...  2015-05-04 10:55:14.610   \n",
       "2  <p>Figures I figure it out soon as I ask stack...  2015-04-30 14:59:07.690   \n",
       "3  <p>When you return a component from an event h...  2015-05-08 00:03:51.627   \n",
       "4  <p>Shaking the device should bring up the deve...  2015-05-03 10:40:34.920   \n",
       "\n",
       "  AnswerDiff                                  CombinedTitleBody  \n",
       "0       -4.0               How to repeat styles in React-native  \n",
       "1        0.0             Component not updating on props update  \n",
       "2        0.0  How to concatenate JSX components in React Native  \n",
       "3       -2.0     Can't call function on react-native-video item  \n",
       "4        0.0  Refresh On IPhone Device Using React-Native Tools  \n",
       "\n",
       "[5 rows x 24 columns]"
      ]
     },
     "execution_count": 9,
     "metadata": {},
     "output_type": "execute_result"
    }
   ],
   "source": [
    "reviews_datasets.head()\n",
    "#print(obody)"
   ]
  },
  {
   "cell_type": "code",
   "execution_count": 18,
   "metadata": {},
   "outputs": [
    {
     "name": "stderr",
     "output_type": "stream",
     "text": [
      "C:\\ProgramData\\Anaconda3\\lib\\site-packages\\ipykernel\\ipkernel.py:287: DeprecationWarning: `should_run_async` will not call `transform_cell` automatically in the future. Please pass the result to `transformed_cell` argument and any exception that happen during thetransform in `preprocessing_exc_tuple` in IPython 7.17 and above.\n",
      "  and should_run_async(code)\n"
     ]
    }
   ],
   "source": [
    "from nltk import ngrams\n",
    "from nltk.tokenize import sent_tokenize\n",
    "import nltk\n",
    "\n",
    "import re\n",
    "from nltk.corpus import stopwords\n",
    "from nltk.tokenize import ToktokTokenizer\n",
    "from nltk.stem.snowball import SnowballStemmer\n",
    "from bs4 import BeautifulSoup\n",
    "\n",
    "tokenizer = ToktokTokenizer()\n",
    "stemmer = SnowballStemmer('english')\n",
    "stop_words = set(stopwords.words('english'))\n",
    "stop_words.update(['.',',','\"',\"'\",'?','!',':', \";\",', ',',  ',',   ', '(',')','[',']','{','}','#','...','--',\"'s\",'also',\n",
    "                      '&','-','--','=','known','mi','km','$',\"'\",'`','i'])"
   ]
  },
  {
   "cell_type": "code",
   "execution_count": 13,
   "metadata": {},
   "outputs": [
    {
     "name": "stdout",
     "output_type": "stream",
     "text": [
      "{\"shan't\", 'they', 'out', 'once', 'into', \"'\", 'had', 'than', \"aren't\", 'yourself', 'then', 'yourselves', 'does', 've', \"hasn't\", 'too', ',   ', 'couldn', '?', 'ourselves', \"you've\", 'we', 'over', 'won', 'hadn', 'which', ')', 'me', 'against', \"wasn't\", 'up', 'where', 'their', 'mightn', 'again', 's', 'when', '}', 'isn', 'that', 'those', 'and', 'weren', 'own', 'all', 'whom', 'our', '.', 'through', 'just', 'after', 'has', '...', '-', 'its', 'themselves', 'if', 'a', 'my', \"needn't\", 'there', ':', 'was', 'any', 'do', 'but', 'can', 'more', 'down', \"shouldn't\", \"won't\", 'to', 'as', 'at', 'ours', 'yours', ', ', \"mightn't\", 'is', 'nor', '=', 'wasn', \"weren't\", 'an', 'until', 'about', 'myself', \"should've\", 'are', 'be', 're', 'under', 'such', 'hers', \"don't\", '`', '--', '\"', 'now', 'mi', 'before', 'or', 'i', 'both', 'm', 'theirs', 'himself', \"haven't\", 'doing', 'wouldn', 'having', 'why', 'y', \"she's\", 'hasn', 'these', '{', 'because', \"wouldn't\", \"mustn't\", 'further', '&', 'don', 'you', 'for', 'here', 'doesn', 'mustn', 'her', 'ain', '[', 'with', 'll', 'same', '!', 'how', '(', 'on', 'some', 'needn', 'haven', 'in', 'being', 'aren', 'did', 'only', 'very', 'will', 'them', '#', \"doesn't\", 'who', '$', 'the', \"hadn't\", 'shan', 'd', 'most', 'ma', 'known', 'herself', 'each', \"couldn't\", 'from', 'no', 'didn', \"isn't\", 'other', \"'s\", 'shouldn', 'were', 'not', 'km', 'been', 'am', 't', 'itself', ']', 'him', 'few', 'between', 'it', 'below', 'she', \"didn't\", \"you'd\", 'also', ',', ',  ', 'while', 'his', 'have', 'of', 'o', 'during', 'what', 'by', 'above', \"you're\", \"that'll\", \"it's\", 'should', 'he', 'your', \"you'll\", ';', 'off', 'this', 'so'}\n"
     ]
    },
    {
     "name": "stderr",
     "output_type": "stream",
     "text": [
      "C:\\ProgramData\\Anaconda3\\lib\\site-packages\\ipykernel\\ipkernel.py:287: DeprecationWarning: `should_run_async` will not call `transform_cell` automatically in the future. Please pass the result to `transformed_cell` argument and any exception that happen during thetransform in `preprocessing_exc_tuple` in IPython 7.17 and above.\n",
      "  and should_run_async(code)\n"
     ]
    }
   ],
   "source": [
    "print(stop_words)"
   ]
  },
  {
   "cell_type": "code",
   "execution_count": 19,
   "metadata": {},
   "outputs": [
    {
     "name": "stderr",
     "output_type": "stream",
     "text": [
      "C:\\ProgramData\\Anaconda3\\lib\\site-packages\\ipykernel\\ipkernel.py:287: DeprecationWarning: `should_run_async` will not call `transform_cell` automatically in the future. Please pass the result to `transformed_cell` argument and any exception that happen during thetransform in `preprocessing_exc_tuple` in IPython 7.17 and above.\n",
      "  and should_run_async(code)\n"
     ]
    }
   ],
   "source": [
    "def transform_text(text): \n",
    "\n",
    "    soup = BeautifulSoup(text)\n",
    "    for elm in soup.find_all():\n",
    "        if '<code>'== str(elm)[0:6]:\n",
    "            elm.decompose()\n",
    "    textStr = str(soup.get_text())\n",
    "    textStr = textStr.replace('<html>','')\n",
    "    textStr = textStr.replace('</html>','')\n",
    "    textStr = textStr.replace('<body>','')\n",
    "    textStr = textStr.replace('</body>','')\n",
    "    textStr = textStr.replace('<p>','')\n",
    "    textStr = textStr.replace('</p>','')\n",
    "    textStr = textStr.replace('<pre>','')\n",
    "    textStr = textStr.replace('</pre>','')\n",
    "    \n",
    "    #     remove lines\n",
    "    textStr = textStr.strip()\n",
    "    # remove numbers\n",
    "    textStr = re.sub(r\"\\d\",\"\", textStr)\n",
    "    \n",
    "    return textStr"
   ]
  },
  {
   "cell_type": "code",
   "execution_count": 59,
   "metadata": {},
   "outputs": [
    {
     "name": "stdout",
     "output_type": "stream",
     "text": [
      "hello there I will kill you. Then I will be playing cricket  \n"
     ]
    },
    {
     "name": "stderr",
     "output_type": "stream",
     "text": [
      "C:\\tools\\Anaconda3\\lib\\site-packages\\ipykernel\\ipkernel.py:287: DeprecationWarning: `should_run_async` will not call `transform_cell` automatically in the future. Please pass the result to `transformed_cell` argument and any exception that happen during thetransform in `preprocessing_exc_tuple` in IPython 7.17 and above.\n",
      "  and should_run_async(code)\n"
     ]
    }
   ],
   "source": [
    "print(transform_text('<p>hello there I will kill you. Then I will be playing cricket <code>I am inside code</code> </p>134'))"
   ]
  },
  {
   "cell_type": "code",
   "execution_count": null,
   "metadata": {},
   "outputs": [
    {
     "name": "stderr",
     "output_type": "stream",
     "text": [
      "C:\\ProgramData\\Anaconda3\\lib\\site-packages\\ipykernel\\ipkernel.py:287: DeprecationWarning: `should_run_async` will not call `transform_cell` automatically in the future. Please pass the result to `transformed_cell` argument and any exception that happen during thetransform in `preprocessing_exc_tuple` in IPython 7.17 and above.\n",
      "  and should_run_async(code)\n"
     ]
    }
   ],
   "source": [
    "import re\n",
    "\n",
    "# Convert to list\n",
    "data = reviews_datasets.CombinedTitleBody.values.tolist()\n",
    "\n",
    "# Remove new line characters\n",
    "data = [re.sub(r'\\s+', ' ', sent) for sent in data]\n",
    "data = [transform_text(sent) for sent in data]\n",
    "\n",
    "# Remove distracting single and double quotes\n",
    "data = [re.sub(\"\\'\", \"\", sent) for sent in data]\n",
    "data = [re.sub('\\\", \"', '', sent) for sent in data]\n",
    "data = [re.sub('\\\\\"', '', sent) for sent in data]\n",
    "data = [re.sub('\\\"', '', sent) for sent in data]\n",
    "data = [re.sub('[\\\\:\"]', '', sent) for sent in data]\n",
    "\n",
    "# Remove web links\n",
    "data = [re.sub(r'^https?:\\/\\/.*[\\r\\n]*', '', sent) for sent in data]\n",
    "\n",
    "print(data[:3])"
   ]
  },
  {
   "cell_type": "code",
   "execution_count": null,
   "metadata": {
    "pycharm": {
     "is_executing": true
    }
   },
   "outputs": [],
   "source": [
    "# Tokenize words and text clean up\n",
    "def sent_to_words(sentences):\n",
    "    for sentence in sentences:\n",
    "        yield(gensim.utils.simple_preprocess(str(sentence), deacc=True))  # deacc=True removes punctuations\n",
    "\n",
    "data_words = list(sent_to_words(data))\n",
    "\n",
    "print(data_words[:3])"
   ]
  },
  {
   "cell_type": "code",
   "execution_count": null,
   "metadata": {
    "pycharm": {
     "is_executing": true
    }
   },
   "outputs": [],
   "source": [
    "# Build the bigram and trigram models\n",
    "bigram = gensim.models.Phrases(data_words, min_count=10, threshold=80) # higher threshold fewer phrases.\n",
    "trigram = gensim.models.Phrases(bigram[data_words], threshold=80)  \n"
   ]
  },
  {
   "cell_type": "code",
   "execution_count": null,
   "metadata": {
    "pycharm": {
     "is_executing": true
    }
   },
   "outputs": [],
   "source": [
    "# Faster way to get a sentence clubbed as a trigram/bigram\n",
    "bigram_mod = gensim.models.phrases.Phraser(bigram)\n",
    "trigram_mod = gensim.models.phrases.Phraser(trigram)"
   ]
  },
  {
   "cell_type": "code",
   "execution_count": 12,
   "metadata": {},
   "outputs": [
    {
     "name": "stdout",
     "output_type": "stream",
     "text": [
      "['cant', 'call', 'function', 'on', 'react', 'native', 'video', 'item', 'im', 'attempting', 'to', 'display', 'an', 'image', 'and', 'call', 'video', 'component', 'onpress', 'the', 'image', 'displays', 'fine', 'but', 'cannot', 'get', 'the', 'video', 'to', 'play', 'the', 'same', 'way', 'can', 'get', 'an', 'alert', 'to', 'show', 'two', 'images', 'are', 'displayed', 'if', 'one', 'is', 'clicked', 'then', 'an', 'alert', 'shows', 'this', 'works', 'fine', 'if', 'the', 'other', 'image', 'is', 'clicked', 'then', 'the', 'video', 'should', 'play']\n"
     ]
    },
    {
     "name": "stderr",
     "output_type": "stream",
     "text": [
      "C:\\ProgramData\\Anaconda3\\lib\\site-packages\\ipykernel\\ipkernel.py:287: DeprecationWarning: `should_run_async` will not call `transform_cell` automatically in the future. Please pass the result to `transformed_cell` argument and any exception that happen during thetransform in `preprocessing_exc_tuple` in IPython 7.17 and above.\n",
      "  and should_run_async(code)\n"
     ]
    }
   ],
   "source": [
    "# See trigram example\n",
    "print(trigram_mod[bigram_mod[data_words[3]]])"
   ]
  },
  {
   "cell_type": "code",
   "execution_count": null,
   "metadata": {
    "pycharm": {
     "is_executing": true
    }
   },
   "outputs": [],
   "source": [
    "# Define functions for stopwords, bigrams, trigrams and lemmatization\n",
    "def remove_stopwords(texts):\n",
    "    return [[word for word in simple_preprocess(str(doc)) if word not in stop_words] for doc in texts]\n",
    "\n",
    "def make_bigrams(texts):\n",
    "    return [bigram_mod[doc] for doc in texts]\n",
    "\n",
    "def make_trigrams(texts):\n",
    "    return [trigram_mod[bigram_mod[doc]] for doc in texts]\n",
    "\n",
    "def lemmatization(texts, allowed_postags=['NOUN', 'ADJ', 'VERB', 'ADV']):\n",
    "    \"\"\"https://spacy.io/api/annotation\"\"\"\n",
    "    texts_out = []\n",
    "    for sent in texts:\n",
    "        doc = nlp(\" \".join(sent)) \n",
    "        texts_out.append([token.lemma_ for token in doc if token.pos_ in allowed_postags])\n",
    "    return texts_out"
   ]
  },
  {
   "cell_type": "code",
   "execution_count": null,
   "metadata": {},
   "outputs": [],
   "source": [
    "spacy.load('en_core_web_sm')"
   ]
  },
  {
   "cell_type": "code",
   "execution_count": null,
   "metadata": {
    "pycharm": {
     "is_executing": true
    },
    "scrolled": true
   },
   "outputs": [],
   "source": [
    "data_words_nostops = remove_stopwords(data_words)\n",
    "\n",
    "# Form Bigrams\n",
    "data_words_bigrams = make_bigrams(data_words_nostops)\n",
    "\n",
    "# Initialize spacy 'en' model, keeping only tagger component (for efficiency)\n",
    "# python3 -m spacy download en\n",
    "nlp = spacy.load('en_core_web_sm', disable=['parser', 'ner'])\n",
    "#spacy.load('en_core_web_sm')\n",
    "\n",
    "# Do lemmatization keeping only noun, adj, vb, adv\n",
    "data_lemmatized = lemmatization(data_words_bigrams, allowed_postags=['NOUN', 'ADJ', 'VERB', 'ADV'])\n"
   ]
  },
  {
   "cell_type": "code",
   "execution_count": null,
   "metadata": {
    "pycharm": {
     "name": "#%%\n"
    },
    "scrolled": true
   },
   "outputs": [],
   "source": [
    "print(data_lemmatized)"
   ]
  },
  {
   "cell_type": "code",
   "execution_count": 17,
   "metadata": {
    "pycharm": {
     "is_executing": true
    }
   },
   "outputs": [
    {
     "name": "stdout",
     "output_type": "stream",
     "text": [
      "[['repeat', 'style', 'react', 'native', 'row', 'control', 'button', 'style', 'efficient', 'way', 'word', 'way', 'use', 'less', 'code', 'apply', 'style', 'use', 'style', 'attribute', 'component', 'think', 'create', 'array', 'object', 'control', 'mapping', 'repeat', 'control', 'i', 'd', 'rather', 'avoid'], ['component', 'update', 'prop', 'update', 'try', 'render', 'component', 'base', 'update', 'prop', 'parent', 'use', 'forceupdate', 'get', 'component', 'render', 'component', 'update', 'component', 'pass', 'child', 'component', 'class', 'pass', 'update', 'prop', 'spot', 'wrong', 'react', 'nb']]\n"
     ]
    },
    {
     "name": "stderr",
     "output_type": "stream",
     "text": [
      "C:\\tools\\Anaconda3\\lib\\site-packages\\ipykernel\\ipkernel.py:287: DeprecationWarning: `should_run_async` will not call `transform_cell` automatically in the future. Please pass the result to `transformed_cell` argument and any exception that happen during thetransform in `preprocessing_exc_tuple` in IPython 7.17 and above.\n",
      "  and should_run_async(code)\n"
     ]
    },
    {
     "data": {
      "text/html": [
       "<div>\n",
       "<style scoped>\n",
       "    .dataframe tbody tr th:only-of-type {\n",
       "        vertical-align: middle;\n",
       "    }\n",
       "\n",
       "    .dataframe tbody tr th {\n",
       "        vertical-align: top;\n",
       "    }\n",
       "\n",
       "    .dataframe thead th {\n",
       "        text-align: right;\n",
       "    }\n",
       "</style>\n",
       "<table border=\"1\" class=\"dataframe\">\n",
       "  <thead>\n",
       "    <tr style=\"text-align: right;\">\n",
       "      <th></th>\n",
       "      <th>Id</th>\n",
       "      <th>AcceptedAnswerId</th>\n",
       "      <th>AnswerCount</th>\n",
       "      <th>Body</th>\n",
       "      <th>ClosedDate</th>\n",
       "      <th>CommentCount</th>\n",
       "      <th>CommunityOwnedDate</th>\n",
       "      <th>CreationDate</th>\n",
       "      <th>FavoriteCount</th>\n",
       "      <th>LastActivityDate</th>\n",
       "      <th>...</th>\n",
       "      <th>ViewCount</th>\n",
       "      <th>post_id</th>\n",
       "      <th>Answer</th>\n",
       "      <th>AnswerDate</th>\n",
       "      <th>AnswerDiff</th>\n",
       "      <th>Combined</th>\n",
       "      <th>AcceptedAnswerCount</th>\n",
       "      <th>CombinedTitleBody</th>\n",
       "      <th>topics</th>\n",
       "      <th>obody</th>\n",
       "    </tr>\n",
       "  </thead>\n",
       "  <tbody>\n",
       "    <tr>\n",
       "      <th>0</th>\n",
       "      <td>29925616</td>\n",
       "      <td>29930598</td>\n",
       "      <td>1</td>\n",
       "      <td>&lt;p&gt;I have a row of controls/buttons, and each ...</td>\n",
       "      <td>NaN</td>\n",
       "      <td>2</td>\n",
       "      <td>NaN</td>\n",
       "      <td>2015-04-28 17:02:31.543</td>\n",
       "      <td>0</td>\n",
       "      <td>2015-04-29 13:00:59.327</td>\n",
       "      <td>...</td>\n",
       "      <td>1165</td>\n",
       "      <td>29925616</td>\n",
       "      <td>&lt;pre&gt;&lt;code&gt;&amp;lt;View&amp;gt;\\n  {['Left', 'Right', ...</td>\n",
       "      <td>2015-04-28 21:51:54.070</td>\n",
       "      <td>17363.0</td>\n",
       "      <td>How to repeat styles in React-native &lt;p&gt;I have...</td>\n",
       "      <td>1</td>\n",
       "      <td>How to repeat styles in React-native &lt;p&gt;I have...</td>\n",
       "      <td>[repeat, style, react, native, row, control, b...</td>\n",
       "      <td>How to repeat styles in React-native &lt;p&gt;I have...</td>\n",
       "    </tr>\n",
       "    <tr>\n",
       "      <th>1</th>\n",
       "      <td>30028086</td>\n",
       "      <td>30028347</td>\n",
       "      <td>1</td>\n",
       "      <td>&lt;p&gt;I am trying to re-render a component based ...</td>\n",
       "      <td>NaN</td>\n",
       "      <td>0</td>\n",
       "      <td>NaN</td>\n",
       "      <td>2015-05-04 10:40:24.633</td>\n",
       "      <td>1</td>\n",
       "      <td>2015-05-04 10:55:14.610</td>\n",
       "      <td>...</td>\n",
       "      <td>3195</td>\n",
       "      <td>30028086</td>\n",
       "      <td>&lt;p&gt;When &lt;code&gt;StoryContainer.handleClick&lt;/code...</td>\n",
       "      <td>2015-05-04 10:55:14.610</td>\n",
       "      <td>890.0</td>\n",
       "      <td>Component not updating on props update &lt;p&gt;I am...</td>\n",
       "      <td>1</td>\n",
       "      <td>Component not updating on props update &lt;p&gt;I am...</td>\n",
       "      <td>[component, update, prop, update, try, render,...</td>\n",
       "      <td>Component not updating on props update &lt;p&gt;I am...</td>\n",
       "    </tr>\n",
       "    <tr>\n",
       "      <th>2</th>\n",
       "      <td>29970434</td>\n",
       "      <td>29971118</td>\n",
       "      <td>3</td>\n",
       "      <td>&lt;p&gt;For example, I wanna show a list of names. ...</td>\n",
       "      <td>NaN</td>\n",
       "      <td>0</td>\n",
       "      <td>NaN</td>\n",
       "      <td>2015-04-30 14:28:18.983</td>\n",
       "      <td>10</td>\n",
       "      <td>2017-07-22 06:13:22.307</td>\n",
       "      <td>...</td>\n",
       "      <td>35591</td>\n",
       "      <td>29970434</td>\n",
       "      <td>&lt;p&gt;Figures I figure it out soon as I ask stack...</td>\n",
       "      <td>2015-04-30 14:59:07.690</td>\n",
       "      <td>1849.0</td>\n",
       "      <td>How to concatenate JSX components in React Nat...</td>\n",
       "      <td>1</td>\n",
       "      <td>How to concatenate JSX components in React Nat...</td>\n",
       "      <td>[concatenate, jsx, component, react, native, e...</td>\n",
       "      <td>How to concatenate JSX components in React Nat...</td>\n",
       "    </tr>\n",
       "    <tr>\n",
       "      <th>3</th>\n",
       "      <td>30113040</td>\n",
       "      <td>30113642</td>\n",
       "      <td>1</td>\n",
       "      <td>&lt;p&gt;I'm attempting to display an image and call...</td>\n",
       "      <td>NaN</td>\n",
       "      <td>0</td>\n",
       "      <td>NaN</td>\n",
       "      <td>2015-05-07 22:58:56.667</td>\n",
       "      <td>1</td>\n",
       "      <td>2015-05-08 05:01:34.900</td>\n",
       "      <td>...</td>\n",
       "      <td>1476</td>\n",
       "      <td>30113040</td>\n",
       "      <td>&lt;p&gt;When you return a component from an event h...</td>\n",
       "      <td>2015-05-08 00:03:51.627</td>\n",
       "      <td>3895.0</td>\n",
       "      <td>Can't call function on react-native-video item...</td>\n",
       "      <td>1</td>\n",
       "      <td>Can't call function on react-native-video item...</td>\n",
       "      <td>[call, function, react, native, video, item, m...</td>\n",
       "      <td>Can't call function on react-native-video item...</td>\n",
       "    </tr>\n",
       "    <tr>\n",
       "      <th>4</th>\n",
       "      <td>30012662</td>\n",
       "      <td>30012855</td>\n",
       "      <td>1</td>\n",
       "      <td>&lt;p&gt;Im playing with React Native, and have depl...</td>\n",
       "      <td>NaN</td>\n",
       "      <td>0</td>\n",
       "      <td>NaN</td>\n",
       "      <td>2015-05-03 10:17:05.960</td>\n",
       "      <td>1</td>\n",
       "      <td>2015-05-03 10:40:34.920</td>\n",
       "      <td>...</td>\n",
       "      <td>1355</td>\n",
       "      <td>30012662</td>\n",
       "      <td>&lt;p&gt;Shaking the device should bring up the deve...</td>\n",
       "      <td>2015-05-03 10:40:34.920</td>\n",
       "      <td>1409.0</td>\n",
       "      <td>Refresh On IPhone Device Using React-Native To...</td>\n",
       "      <td>1</td>\n",
       "      <td>Refresh On IPhone Device Using React-Native To...</td>\n",
       "      <td>[refresh, iphone, device, use, react, native, ...</td>\n",
       "      <td>Refresh On IPhone Device Using React-Native To...</td>\n",
       "    </tr>\n",
       "    <tr>\n",
       "      <th>5</th>\n",
       "      <td>29290299</td>\n",
       "      <td>29304365</td>\n",
       "      <td>1</td>\n",
       "      <td>&lt;p&gt;After installing react-native and running t...</td>\n",
       "      <td>NaN</td>\n",
       "      <td>1</td>\n",
       "      <td>NaN</td>\n",
       "      <td>2015-03-26 22:50:57.560</td>\n",
       "      <td>0</td>\n",
       "      <td>2018-04-02 14:50:36.677</td>\n",
       "      <td>...</td>\n",
       "      <td>2077</td>\n",
       "      <td>29290299</td>\n",
       "      <td>&lt;p&gt;To run on a device (which is your second pr...</td>\n",
       "      <td>2015-03-27 15:27:44.870</td>\n",
       "      <td>59807.0</td>\n",
       "      <td>Error running the initialised React Native pro...</td>\n",
       "      <td>1</td>\n",
       "      <td>Error running the initialised React Native pro...</td>\n",
       "      <td>[error, run, initialise, react, native, projec...</td>\n",
       "      <td>Error running the initialised React Native pro...</td>\n",
       "    </tr>\n",
       "    <tr>\n",
       "      <th>6</th>\n",
       "      <td>29291286</td>\n",
       "      <td>29301078</td>\n",
       "      <td>2</td>\n",
       "      <td>&lt;p&gt;Can an &lt;code&gt;iOS&lt;/code&gt; app (built entirely...</td>\n",
       "      <td>NaN</td>\n",
       "      <td>0</td>\n",
       "      <td>NaN</td>\n",
       "      <td>2015-03-27 00:26:46.613</td>\n",
       "      <td>0</td>\n",
       "      <td>2017-10-27 16:27:37.357</td>\n",
       "      <td>...</td>\n",
       "      <td>4339</td>\n",
       "      <td>29291286</td>\n",
       "      <td>&lt;p&gt;If you build the project once using Xcode, ...</td>\n",
       "      <td>2015-03-27 12:47:52.890</td>\n",
       "      <td>44466.0</td>\n",
       "      <td>Run a React Native app without launching Xcode...</td>\n",
       "      <td>1</td>\n",
       "      <td>Run a React Native app without launching Xcode...</td>\n",
       "      <td>[run, react, native, app, launch, xcode, app, ...</td>\n",
       "      <td>Run a React Native app without launching Xcode...</td>\n",
       "    </tr>\n",
       "    <tr>\n",
       "      <th>7</th>\n",
       "      <td>29300732</td>\n",
       "      <td>29300810</td>\n",
       "      <td>4</td>\n",
       "      <td>&lt;p&gt;I'm trying to render a block with white tex...</td>\n",
       "      <td>NaN</td>\n",
       "      <td>1</td>\n",
       "      <td>NaN</td>\n",
       "      <td>2015-03-27 12:30:24.587</td>\n",
       "      <td>14</td>\n",
       "      <td>2021-02-01 10:03:12.467</td>\n",
       "      <td>...</td>\n",
       "      <td>48648</td>\n",
       "      <td>29300732</td>\n",
       "      <td>&lt;p&gt;&lt;strong&gt;PLEASE NOTE: This answer is now vas...</td>\n",
       "      <td>2015-03-27 12:35:04.077</td>\n",
       "      <td>280.0</td>\n",
       "      <td>Render text box with transparent background on...</td>\n",
       "      <td>1</td>\n",
       "      <td>Render text box with transparent background on...</td>\n",
       "      <td>[render, text, box, transparent, background, t...</td>\n",
       "      <td>Render text box with transparent background on...</td>\n",
       "    </tr>\n",
       "    <tr>\n",
       "      <th>8</th>\n",
       "      <td>29308105</td>\n",
       "      <td>29308221</td>\n",
       "      <td>1</td>\n",
       "      <td>&lt;p&gt;I'm getting an unexpected identifier error ...</td>\n",
       "      <td>NaN</td>\n",
       "      <td>4</td>\n",
       "      <td>NaN</td>\n",
       "      <td>2015-03-27 18:50:08.083</td>\n",
       "      <td>0</td>\n",
       "      <td>2015-04-01 11:24:37.110</td>\n",
       "      <td>...</td>\n",
       "      <td>3160</td>\n",
       "      <td>29308105</td>\n",
       "      <td>&lt;p&gt;You're treating the &lt;code&gt;class&lt;/code&gt; cons...</td>\n",
       "      <td>2015-03-27 18:57:01.363</td>\n",
       "      <td>413.0</td>\n",
       "      <td>React Native - unexpected identifier &lt;p&gt;I'm ge...</td>\n",
       "      <td>1</td>\n",
       "      <td>React Native - unexpected identifier &lt;p&gt;I'm ge...</td>\n",
       "      <td>[react, native, unexpected_identifi, m, get, u...</td>\n",
       "      <td>React Native - unexpected identifier &lt;p&gt;I'm ge...</td>\n",
       "    </tr>\n",
       "    <tr>\n",
       "      <th>9</th>\n",
       "      <td>29966040</td>\n",
       "      <td>30008487</td>\n",
       "      <td>1</td>\n",
       "      <td>&lt;p&gt;I have a react-native component with PanRes...</td>\n",
       "      <td>NaN</td>\n",
       "      <td>1</td>\n",
       "      <td>NaN</td>\n",
       "      <td>2015-04-30 11:03:19.760</td>\n",
       "      <td>0</td>\n",
       "      <td>2015-05-02 23:07:08.673</td>\n",
       "      <td>...</td>\n",
       "      <td>865</td>\n",
       "      <td>29966040</td>\n",
       "      <td>&lt;p&gt;You're using React wrong.&lt;/p&gt;\\n\\n&lt;ol&gt;\\n&lt;li&gt;...</td>\n",
       "      <td>2015-05-02 23:07:08.673</td>\n",
       "      <td>216229.0</td>\n",
       "      <td>Styles not updating inside Component &lt;p&gt;I have...</td>\n",
       "      <td>1</td>\n",
       "      <td>Styles not updating inside Component &lt;p&gt;I have...</td>\n",
       "      <td>[style, update, inside, component, react, nati...</td>\n",
       "      <td>Styles not updating inside Component &lt;p&gt;I have...</td>\n",
       "    </tr>\n",
       "    <tr>\n",
       "      <th>10</th>\n",
       "      <td>29309970</td>\n",
       "      <td>29310137</td>\n",
       "      <td>2</td>\n",
       "      <td>&lt;p&gt;I've been playing around with React Native ...</td>\n",
       "      <td>2015-09-04 12:34:44.710</td>\n",
       "      <td>0</td>\n",
       "      <td>NaN</td>\n",
       "      <td>2015-03-27 20:49:46.810</td>\n",
       "      <td>4</td>\n",
       "      <td>2015-10-31 10:07:45.573</td>\n",
       "      <td>...</td>\n",
       "      <td>9669</td>\n",
       "      <td>29309970</td>\n",
       "      <td>&lt;p&gt;Right now, React Native doesn't have a way ...</td>\n",
       "      <td>2015-03-27 21:01:20.780</td>\n",
       "      <td>694.0</td>\n",
       "      <td>How do I access the phone's camera with React ...</td>\n",
       "      <td>1</td>\n",
       "      <td>How do I access the phone's camera with React ...</td>\n",
       "      <td>[access, phone, camera, react, native, io, ve,...</td>\n",
       "      <td>How do I access the phone's camera with React ...</td>\n",
       "    </tr>\n",
       "    <tr>\n",
       "      <th>11</th>\n",
       "      <td>29840659</td>\n",
       "      <td>29850099</td>\n",
       "      <td>1</td>\n",
       "      <td>&lt;p&gt;Integration with Existing App&lt;/p&gt;\\n\\n&lt;p&gt;The...</td>\n",
       "      <td>NaN</td>\n",
       "      <td>0</td>\n",
       "      <td>NaN</td>\n",
       "      <td>2015-04-24 06:54:41.913</td>\n",
       "      <td>0</td>\n",
       "      <td>2015-04-24 14:27:29.133</td>\n",
       "      <td>...</td>\n",
       "      <td>380</td>\n",
       "      <td>29840659</td>\n",
       "      <td>&lt;p&gt;Just update the version to 0.4.0 &lt;/p&gt;\\n\\n&lt;p...</td>\n",
       "      <td>2015-04-24 14:27:29.133</td>\n",
       "      <td>27168.0</td>\n",
       "      <td>ReactNative Integration with Existing App not ...</td>\n",
       "      <td>1</td>\n",
       "      <td>ReactNative Integration with Existing App not ...</td>\n",
       "      <td>[reactnative, integration, exist, app, macro, ...</td>\n",
       "      <td>ReactNative Integration with Existing App not ...</td>\n",
       "    </tr>\n",
       "    <tr>\n",
       "      <th>12</th>\n",
       "      <td>29294913</td>\n",
       "      <td>29304153</td>\n",
       "      <td>6</td>\n",
       "      <td>&lt;p&gt;I'm playing with &lt;a href=\"https://github.co...</td>\n",
       "      <td>NaN</td>\n",
       "      <td>0</td>\n",
       "      <td>NaN</td>\n",
       "      <td>2015-03-27 06:52:29.557</td>\n",
       "      <td>8</td>\n",
       "      <td>2019-08-16 04:38:26.080</td>\n",
       "      <td>...</td>\n",
       "      <td>47589</td>\n",
       "      <td>29294913</td>\n",
       "      <td>&lt;p&gt;If you look at the React Native examples:&lt;/...</td>\n",
       "      <td>2015-03-27 15:17:46.447</td>\n",
       "      <td>30317.0</td>\n",
       "      <td>What folders should be git ignored in React Na...</td>\n",
       "      <td>1</td>\n",
       "      <td>What folders should be git ignored in React Na...</td>\n",
       "      <td>[folder, git, ignore, react, native, project, ...</td>\n",
       "      <td>What folders should be git ignored in React Na...</td>\n",
       "    </tr>\n",
       "    <tr>\n",
       "      <th>13</th>\n",
       "      <td>30202705</td>\n",
       "      <td>30202913</td>\n",
       "      <td>11</td>\n",
       "      <td>&lt;p&gt;I have NavigatorIOS under Navigator and wou...</td>\n",
       "      <td>NaN</td>\n",
       "      <td>1</td>\n",
       "      <td>NaN</td>\n",
       "      <td>2015-05-12 22:44:37.330</td>\n",
       "      <td>5</td>\n",
       "      <td>2020-09-04 13:32:11.807</td>\n",
       "      <td>...</td>\n",
       "      <td>31741</td>\n",
       "      <td>30202705</td>\n",
       "      <td>&lt;p&gt;In your Navigator class  it looks like you'...</td>\n",
       "      <td>2015-05-12 23:04:55.763</td>\n",
       "      <td>1218.0</td>\n",
       "      <td>How to hide React Native NavigationBar &lt;p&gt;I ha...</td>\n",
       "      <td>1</td>\n",
       "      <td>How to hide React Native NavigationBar &lt;p&gt;I ha...</td>\n",
       "      <td>[hide, react, native, navigationbar, navigator...</td>\n",
       "      <td>How to hide React Native NavigationBar &lt;p&gt;I ha...</td>\n",
       "    </tr>\n",
       "    <tr>\n",
       "      <th>14</th>\n",
       "      <td>30023518</td>\n",
       "      <td>30030972</td>\n",
       "      <td>1</td>\n",
       "      <td>&lt;p&gt;Just implemented a login page. &lt;/p&gt;\\n\\n&lt;p&gt;A...</td>\n",
       "      <td>NaN</td>\n",
       "      <td>7</td>\n",
       "      <td>NaN</td>\n",
       "      <td>2015-05-04 06:03:32.123</td>\n",
       "      <td>0</td>\n",
       "      <td>2015-05-04 13:06:29.523</td>\n",
       "      <td>...</td>\n",
       "      <td>1470</td>\n",
       "      <td>30023518</td>\n",
       "      <td>&lt;p&gt;You have to use the navigator. You could tr...</td>\n",
       "      <td>2015-05-04 13:06:29.523</td>\n",
       "      <td>25377.0</td>\n",
       "      <td>How to switch to another module in react nativ...</td>\n",
       "      <td>1</td>\n",
       "      <td>How to switch to another module in react nativ...</td>\n",
       "      <td>[switch, module, react, native, implement, log...</td>\n",
       "      <td>How to switch to another module in react nativ...</td>\n",
       "    </tr>\n",
       "    <tr>\n",
       "      <th>15</th>\n",
       "      <td>29287987</td>\n",
       "      <td>29305702</td>\n",
       "      <td>14</td>\n",
       "      <td>&lt;p&gt;First off, I don't know react, but I figure...</td>\n",
       "      <td>NaN</td>\n",
       "      <td>0</td>\n",
       "      <td>NaN</td>\n",
       "      <td>2015-03-26 20:16:03.350</td>\n",
       "      <td>7</td>\n",
       "      <td>2020-10-24 17:14:54.237</td>\n",
       "      <td>...</td>\n",
       "      <td>54799</td>\n",
       "      <td>29287987</td>\n",
       "      <td>&lt;p&gt;I'm pretty sure @krazyeom's fix has nothing...</td>\n",
       "      <td>2015-03-27 16:35:09.193</td>\n",
       "      <td>73146.0</td>\n",
       "      <td>\"Invariant Violation: Application AwesomeProje...</td>\n",
       "      <td>1</td>\n",
       "      <td>\"Invariant Violation: Application AwesomeProje...</td>\n",
       "      <td>[invariant_violation, application, awesomeproj...</td>\n",
       "      <td>\"Invariant Violation: Application AwesomeProje...</td>\n",
       "    </tr>\n",
       "    <tr>\n",
       "      <th>16</th>\n",
       "      <td>29316825</td>\n",
       "      <td>29318419</td>\n",
       "      <td>4</td>\n",
       "      <td>&lt;p&gt;I have existing Obj-C project with rich bus...</td>\n",
       "      <td>NaN</td>\n",
       "      <td>0</td>\n",
       "      <td>NaN</td>\n",
       "      <td>2015-03-28 11:51:21.133</td>\n",
       "      <td>1</td>\n",
       "      <td>2017-11-29 10:15:55.763</td>\n",
       "      <td>...</td>\n",
       "      <td>1206</td>\n",
       "      <td>29316825</td>\n",
       "      <td>&lt;p&gt;It's not possible for React views to call n...</td>\n",
       "      <td>2015-03-28 14:40:46.473</td>\n",
       "      <td>10165.0</td>\n",
       "      <td>How my react js code can interact with existin...</td>\n",
       "      <td>1</td>\n",
       "      <td>How my react js code can interact with existin...</td>\n",
       "      <td>[react, code, interact, exist, obj, logic, exi...</td>\n",
       "      <td>How my react js code can interact with existin...</td>\n",
       "    </tr>\n",
       "    <tr>\n",
       "      <th>17</th>\n",
       "      <td>30203044</td>\n",
       "      <td>30204697</td>\n",
       "      <td>4</td>\n",
       "      <td>&lt;p&gt;I'm trying to use &lt;code&gt;fetch&lt;/code&gt; in Rea...</td>\n",
       "      <td>NaN</td>\n",
       "      <td>3</td>\n",
       "      <td>NaN</td>\n",
       "      <td>2015-05-12 23:16:37.440</td>\n",
       "      <td>41</td>\n",
       "      <td>2018-06-14 20:00:11.477</td>\n",
       "      <td>...</td>\n",
       "      <td>302790</td>\n",
       "      <td>30203044</td>\n",
       "      <td>&lt;p&gt;It turns out, I was using the &lt;code&gt;fetch&lt;/...</td>\n",
       "      <td>2015-05-13 02:36:14.290</td>\n",
       "      <td>11977.0</td>\n",
       "      <td>Using an authorization header with Fetch in Re...</td>\n",
       "      <td>1</td>\n",
       "      <td>Using an authorization header with Fetch in Re...</td>\n",
       "      <td>[use, authorization, header, fetch, react, nat...</td>\n",
       "      <td>Using an authorization header with Fetch in Re...</td>\n",
       "    </tr>\n",
       "    <tr>\n",
       "      <th>18</th>\n",
       "      <td>30228541</td>\n",
       "      <td>30243019</td>\n",
       "      <td>2</td>\n",
       "      <td>&lt;p&gt;I want to load a different configuration de...</td>\n",
       "      <td>NaN</td>\n",
       "      <td>0</td>\n",
       "      <td>NaN</td>\n",
       "      <td>2015-05-14 03:00:58.250</td>\n",
       "      <td>0</td>\n",
       "      <td>2015-10-28 07:48:57.367</td>\n",
       "      <td>...</td>\n",
       "      <td>276</td>\n",
       "      <td>30228541</td>\n",
       "      <td>&lt;p&gt;I think you should write a &lt;a href=\"http://...</td>\n",
       "      <td>2015-05-14 16:58:11.370</td>\n",
       "      <td>50233.0</td>\n",
       "      <td>How to access iOS evironment variables or runt...</td>\n",
       "      <td>1</td>\n",
       "      <td>How to access iOS evironment variables or runt...</td>\n",
       "      <td>[access, io, evironment, variable, runtime, ar...</td>\n",
       "      <td>How to access iOS evironment variables or runt...</td>\n",
       "    </tr>\n",
       "    <tr>\n",
       "      <th>19</th>\n",
       "      <td>29317259</td>\n",
       "      <td>29317314</td>\n",
       "      <td>1</td>\n",
       "      <td>&lt;p&gt;Following the &lt;a href=\"http://facebook.gith...</td>\n",
       "      <td>NaN</td>\n",
       "      <td>4</td>\n",
       "      <td>NaN</td>\n",
       "      <td>2015-03-28 12:40:22.947</td>\n",
       "      <td>0</td>\n",
       "      <td>2015-03-28 12:46:03.023</td>\n",
       "      <td>...</td>\n",
       "      <td>678</td>\n",
       "      <td>29317259</td>\n",
       "      <td>&lt;p&gt;I had another program listening to port &lt;co...</td>\n",
       "      <td>2015-03-28 12:45:18.877</td>\n",
       "      <td>296.0</td>\n",
       "      <td>index.io.bundle not found while using iOS simu...</td>\n",
       "      <td>1</td>\n",
       "      <td>index.io.bundle not found while using iOS simu...</td>\n",
       "      <td>[index, io, bundle, find, use, io, simulator, ...</td>\n",
       "      <td>index.io.bundle not found while using iOS simu...</td>\n",
       "    </tr>\n",
       "  </tbody>\n",
       "</table>\n",
       "<p>20 rows × 29 columns</p>\n",
       "</div>"
      ],
      "text/plain": [
       "          Id  AcceptedAnswerId  AnswerCount  \\\n",
       "0   29925616          29930598            1   \n",
       "1   30028086          30028347            1   \n",
       "2   29970434          29971118            3   \n",
       "3   30113040          30113642            1   \n",
       "4   30012662          30012855            1   \n",
       "5   29290299          29304365            1   \n",
       "6   29291286          29301078            2   \n",
       "7   29300732          29300810            4   \n",
       "8   29308105          29308221            1   \n",
       "9   29966040          30008487            1   \n",
       "10  29309970          29310137            2   \n",
       "11  29840659          29850099            1   \n",
       "12  29294913          29304153            6   \n",
       "13  30202705          30202913           11   \n",
       "14  30023518          30030972            1   \n",
       "15  29287987          29305702           14   \n",
       "16  29316825          29318419            4   \n",
       "17  30203044          30204697            4   \n",
       "18  30228541          30243019            2   \n",
       "19  29317259          29317314            1   \n",
       "\n",
       "                                                 Body  \\\n",
       "0   <p>I have a row of controls/buttons, and each ...   \n",
       "1   <p>I am trying to re-render a component based ...   \n",
       "2   <p>For example, I wanna show a list of names. ...   \n",
       "3   <p>I'm attempting to display an image and call...   \n",
       "4   <p>Im playing with React Native, and have depl...   \n",
       "5   <p>After installing react-native and running t...   \n",
       "6   <p>Can an <code>iOS</code> app (built entirely...   \n",
       "7   <p>I'm trying to render a block with white tex...   \n",
       "8   <p>I'm getting an unexpected identifier error ...   \n",
       "9   <p>I have a react-native component with PanRes...   \n",
       "10  <p>I've been playing around with React Native ...   \n",
       "11  <p>Integration with Existing App</p>\\n\\n<p>The...   \n",
       "12  <p>I'm playing with <a href=\"https://github.co...   \n",
       "13  <p>I have NavigatorIOS under Navigator and wou...   \n",
       "14  <p>Just implemented a login page. </p>\\n\\n<p>A...   \n",
       "15  <p>First off, I don't know react, but I figure...   \n",
       "16  <p>I have existing Obj-C project with rich bus...   \n",
       "17  <p>I'm trying to use <code>fetch</code> in Rea...   \n",
       "18  <p>I want to load a different configuration de...   \n",
       "19  <p>Following the <a href=\"http://facebook.gith...   \n",
       "\n",
       "                 ClosedDate  CommentCount  CommunityOwnedDate  \\\n",
       "0                       NaN             2                 NaN   \n",
       "1                       NaN             0                 NaN   \n",
       "2                       NaN             0                 NaN   \n",
       "3                       NaN             0                 NaN   \n",
       "4                       NaN             0                 NaN   \n",
       "5                       NaN             1                 NaN   \n",
       "6                       NaN             0                 NaN   \n",
       "7                       NaN             1                 NaN   \n",
       "8                       NaN             4                 NaN   \n",
       "9                       NaN             1                 NaN   \n",
       "10  2015-09-04 12:34:44.710             0                 NaN   \n",
       "11                      NaN             0                 NaN   \n",
       "12                      NaN             0                 NaN   \n",
       "13                      NaN             1                 NaN   \n",
       "14                      NaN             7                 NaN   \n",
       "15                      NaN             0                 NaN   \n",
       "16                      NaN             0                 NaN   \n",
       "17                      NaN             3                 NaN   \n",
       "18                      NaN             0                 NaN   \n",
       "19                      NaN             4                 NaN   \n",
       "\n",
       "               CreationDate  FavoriteCount         LastActivityDate  ...  \\\n",
       "0   2015-04-28 17:02:31.543              0  2015-04-29 13:00:59.327  ...   \n",
       "1   2015-05-04 10:40:24.633              1  2015-05-04 10:55:14.610  ...   \n",
       "2   2015-04-30 14:28:18.983             10  2017-07-22 06:13:22.307  ...   \n",
       "3   2015-05-07 22:58:56.667              1  2015-05-08 05:01:34.900  ...   \n",
       "4   2015-05-03 10:17:05.960              1  2015-05-03 10:40:34.920  ...   \n",
       "5   2015-03-26 22:50:57.560              0  2018-04-02 14:50:36.677  ...   \n",
       "6   2015-03-27 00:26:46.613              0  2017-10-27 16:27:37.357  ...   \n",
       "7   2015-03-27 12:30:24.587             14  2021-02-01 10:03:12.467  ...   \n",
       "8   2015-03-27 18:50:08.083              0  2015-04-01 11:24:37.110  ...   \n",
       "9   2015-04-30 11:03:19.760              0  2015-05-02 23:07:08.673  ...   \n",
       "10  2015-03-27 20:49:46.810              4  2015-10-31 10:07:45.573  ...   \n",
       "11  2015-04-24 06:54:41.913              0  2015-04-24 14:27:29.133  ...   \n",
       "12  2015-03-27 06:52:29.557              8  2019-08-16 04:38:26.080  ...   \n",
       "13  2015-05-12 22:44:37.330              5  2020-09-04 13:32:11.807  ...   \n",
       "14  2015-05-04 06:03:32.123              0  2015-05-04 13:06:29.523  ...   \n",
       "15  2015-03-26 20:16:03.350              7  2020-10-24 17:14:54.237  ...   \n",
       "16  2015-03-28 11:51:21.133              1  2017-11-29 10:15:55.763  ...   \n",
       "17  2015-05-12 23:16:37.440             41  2018-06-14 20:00:11.477  ...   \n",
       "18  2015-05-14 03:00:58.250              0  2015-10-28 07:48:57.367  ...   \n",
       "19  2015-03-28 12:40:22.947              0  2015-03-28 12:46:03.023  ...   \n",
       "\n",
       "   ViewCount   post_id                                             Answer  \\\n",
       "0       1165  29925616  <pre><code>&lt;View&gt;\\n  {['Left', 'Right', ...   \n",
       "1       3195  30028086  <p>When <code>StoryContainer.handleClick</code...   \n",
       "2      35591  29970434  <p>Figures I figure it out soon as I ask stack...   \n",
       "3       1476  30113040  <p>When you return a component from an event h...   \n",
       "4       1355  30012662  <p>Shaking the device should bring up the deve...   \n",
       "5       2077  29290299  <p>To run on a device (which is your second pr...   \n",
       "6       4339  29291286  <p>If you build the project once using Xcode, ...   \n",
       "7      48648  29300732  <p><strong>PLEASE NOTE: This answer is now vas...   \n",
       "8       3160  29308105  <p>You're treating the <code>class</code> cons...   \n",
       "9        865  29966040  <p>You're using React wrong.</p>\\n\\n<ol>\\n<li>...   \n",
       "10      9669  29309970  <p>Right now, React Native doesn't have a way ...   \n",
       "11       380  29840659  <p>Just update the version to 0.4.0 </p>\\n\\n<p...   \n",
       "12     47589  29294913  <p>If you look at the React Native examples:</...   \n",
       "13     31741  30202705  <p>In your Navigator class  it looks like you'...   \n",
       "14      1470  30023518  <p>You have to use the navigator. You could tr...   \n",
       "15     54799  29287987  <p>I'm pretty sure @krazyeom's fix has nothing...   \n",
       "16      1206  29316825  <p>It's not possible for React views to call n...   \n",
       "17    302790  30203044  <p>It turns out, I was using the <code>fetch</...   \n",
       "18       276  30228541  <p>I think you should write a <a href=\"http://...   \n",
       "19       678  29317259  <p>I had another program listening to port <co...   \n",
       "\n",
       "                 AnswerDate  AnswerDiff  \\\n",
       "0   2015-04-28 21:51:54.070     17363.0   \n",
       "1   2015-05-04 10:55:14.610       890.0   \n",
       "2   2015-04-30 14:59:07.690      1849.0   \n",
       "3   2015-05-08 00:03:51.627      3895.0   \n",
       "4   2015-05-03 10:40:34.920      1409.0   \n",
       "5   2015-03-27 15:27:44.870     59807.0   \n",
       "6   2015-03-27 12:47:52.890     44466.0   \n",
       "7   2015-03-27 12:35:04.077       280.0   \n",
       "8   2015-03-27 18:57:01.363       413.0   \n",
       "9   2015-05-02 23:07:08.673    216229.0   \n",
       "10  2015-03-27 21:01:20.780       694.0   \n",
       "11  2015-04-24 14:27:29.133     27168.0   \n",
       "12  2015-03-27 15:17:46.447     30317.0   \n",
       "13  2015-05-12 23:04:55.763      1218.0   \n",
       "14  2015-05-04 13:06:29.523     25377.0   \n",
       "15  2015-03-27 16:35:09.193     73146.0   \n",
       "16  2015-03-28 14:40:46.473     10165.0   \n",
       "17  2015-05-13 02:36:14.290     11977.0   \n",
       "18  2015-05-14 16:58:11.370     50233.0   \n",
       "19  2015-03-28 12:45:18.877       296.0   \n",
       "\n",
       "                                             Combined  AcceptedAnswerCount  \\\n",
       "0   How to repeat styles in React-native <p>I have...                    1   \n",
       "1   Component not updating on props update <p>I am...                    1   \n",
       "2   How to concatenate JSX components in React Nat...                    1   \n",
       "3   Can't call function on react-native-video item...                    1   \n",
       "4   Refresh On IPhone Device Using React-Native To...                    1   \n",
       "5   Error running the initialised React Native pro...                    1   \n",
       "6   Run a React Native app without launching Xcode...                    1   \n",
       "7   Render text box with transparent background on...                    1   \n",
       "8   React Native - unexpected identifier <p>I'm ge...                    1   \n",
       "9   Styles not updating inside Component <p>I have...                    1   \n",
       "10  How do I access the phone's camera with React ...                    1   \n",
       "11  ReactNative Integration with Existing App not ...                    1   \n",
       "12  What folders should be git ignored in React Na...                    1   \n",
       "13  How to hide React Native NavigationBar <p>I ha...                    1   \n",
       "14  How to switch to another module in react nativ...                    1   \n",
       "15  \"Invariant Violation: Application AwesomeProje...                    1   \n",
       "16  How my react js code can interact with existin...                    1   \n",
       "17  Using an authorization header with Fetch in Re...                    1   \n",
       "18  How to access iOS evironment variables or runt...                    1   \n",
       "19  index.io.bundle not found while using iOS simu...                    1   \n",
       "\n",
       "                                    CombinedTitleBody  \\\n",
       "0   How to repeat styles in React-native <p>I have...   \n",
       "1   Component not updating on props update <p>I am...   \n",
       "2   How to concatenate JSX components in React Nat...   \n",
       "3   Can't call function on react-native-video item...   \n",
       "4   Refresh On IPhone Device Using React-Native To...   \n",
       "5   Error running the initialised React Native pro...   \n",
       "6   Run a React Native app without launching Xcode...   \n",
       "7   Render text box with transparent background on...   \n",
       "8   React Native - unexpected identifier <p>I'm ge...   \n",
       "9   Styles not updating inside Component <p>I have...   \n",
       "10  How do I access the phone's camera with React ...   \n",
       "11  ReactNative Integration with Existing App not ...   \n",
       "12  What folders should be git ignored in React Na...   \n",
       "13  How to hide React Native NavigationBar <p>I ha...   \n",
       "14  How to switch to another module in react nativ...   \n",
       "15  \"Invariant Violation: Application AwesomeProje...   \n",
       "16  How my react js code can interact with existin...   \n",
       "17  Using an authorization header with Fetch in Re...   \n",
       "18  How to access iOS evironment variables or runt...   \n",
       "19  index.io.bundle not found while using iOS simu...   \n",
       "\n",
       "                                               topics  \\\n",
       "0   [repeat, style, react, native, row, control, b...   \n",
       "1   [component, update, prop, update, try, render,...   \n",
       "2   [concatenate, jsx, component, react, native, e...   \n",
       "3   [call, function, react, native, video, item, m...   \n",
       "4   [refresh, iphone, device, use, react, native, ...   \n",
       "5   [error, run, initialise, react, native, projec...   \n",
       "6   [run, react, native, app, launch, xcode, app, ...   \n",
       "7   [render, text, box, transparent, background, t...   \n",
       "8   [react, native, unexpected_identifi, m, get, u...   \n",
       "9   [style, update, inside, component, react, nati...   \n",
       "10  [access, phone, camera, react, native, io, ve,...   \n",
       "11  [reactnative, integration, exist, app, macro, ...   \n",
       "12  [folder, git, ignore, react, native, project, ...   \n",
       "13  [hide, react, native, navigationbar, navigator...   \n",
       "14  [switch, module, react, native, implement, log...   \n",
       "15  [invariant_violation, application, awesomeproj...   \n",
       "16  [react, code, interact, exist, obj, logic, exi...   \n",
       "17  [use, authorization, header, fetch, react, nat...   \n",
       "18  [access, io, evironment, variable, runtime, ar...   \n",
       "19  [index, io, bundle, find, use, io, simulator, ...   \n",
       "\n",
       "                                                obody  \n",
       "0   How to repeat styles in React-native <p>I have...  \n",
       "1   Component not updating on props update <p>I am...  \n",
       "2   How to concatenate JSX components in React Nat...  \n",
       "3   Can't call function on react-native-video item...  \n",
       "4   Refresh On IPhone Device Using React-Native To...  \n",
       "5   Error running the initialised React Native pro...  \n",
       "6   Run a React Native app without launching Xcode...  \n",
       "7   Render text box with transparent background on...  \n",
       "8   React Native - unexpected identifier <p>I'm ge...  \n",
       "9   Styles not updating inside Component <p>I have...  \n",
       "10  How do I access the phone's camera with React ...  \n",
       "11  ReactNative Integration with Existing App not ...  \n",
       "12  What folders should be git ignored in React Na...  \n",
       "13  How to hide React Native NavigationBar <p>I ha...  \n",
       "14  How to switch to another module in react nativ...  \n",
       "15  \"Invariant Violation: Application AwesomeProje...  \n",
       "16  How my react js code can interact with existin...  \n",
       "17  Using an authorization header with Fetch in Re...  \n",
       "18  How to access iOS evironment variables or runt...  \n",
       "19  index.io.bundle not found while using iOS simu...  \n",
       "\n",
       "[20 rows x 29 columns]"
      ]
     },
     "execution_count": 17,
     "metadata": {},
     "output_type": "execute_result"
    }
   ],
   "source": [
    "print(data_lemmatized[:2])\n",
    "\n",
    "reviews_datasets['topics']=data_lemmatized\n",
    "reviews_datasets['obody']=obody\n",
    "cview = reviews_datasets['ViewCount'].astype(int)\n",
    "avgfav = reviews_datasets['FavoriteCount'].astype(int)\n",
    "avgscore = reviews_datasets['Score'].astype(int)\n",
    "body = reviews_datasets['Body']\n",
    "titles = reviews_datasets['Title']\n",
    "caccepans = reviews_datasets['AcceptedAnswerCount']\n",
    "ansdelay = reviews_datasets['AnswerDiff']\n",
    "avgdelay = ansdelay.fillna(0)\n",
    "reviews_datasets.head(20)\n",
    "#reset option to default value"
   ]
  },
  {
   "cell_type": "code",
   "execution_count": 25,
   "metadata": {
    "pycharm": {
     "name": "#%%\n"
    }
   },
   "outputs": [
    {
     "name": "stderr",
     "output_type": "stream",
     "text": [
      "C:\\tools\\Anaconda3\\lib\\site-packages\\ipykernel\\ipkernel.py:287: DeprecationWarning: `should_run_async` will not call `transform_cell` automatically in the future. Please pass the result to `transformed_cell` argument and any exception that happen during thetransform in `preprocessing_exc_tuple` in IPython 7.17 and above.\n",
      "  and should_run_async(code)\n"
     ]
    }
   ],
   "source": [
    "reviews_datasets.to_csv(\"D:/so-data/output1.csv\")"
   ]
  },
  {
   "cell_type": "code",
   "execution_count": 18,
   "metadata": {
    "pycharm": {
     "is_executing": true
    }
   },
   "outputs": [
    {
     "name": "stderr",
     "output_type": "stream",
     "text": [
      "C:\\tools\\Anaconda3\\lib\\site-packages\\ipykernel\\ipkernel.py:287: DeprecationWarning: `should_run_async` will not call `transform_cell` automatically in the future. Please pass the result to `transformed_cell` argument and any exception that happen during thetransform in `preprocessing_exc_tuple` in IPython 7.17 and above.\n",
      "  and should_run_async(code)\n"
     ]
    }
   ],
   "source": [
    "# Create Dictionary\n",
    "id2word = corpora.Dictionary(data_lemmatized)\n",
    "\n",
    "# Create Corpus\n",
    "texts = data_lemmatized\n",
    "\n",
    "# Term Document Frequency\n",
    "corpus = [id2word.doc2bow(text) for text in texts]"
   ]
  },
  {
   "cell_type": "code",
   "execution_count": 19,
   "metadata": {
    "pycharm": {
     "is_executing": true,
     "name": "#%%\n"
    }
   },
   "outputs": [
    {
     "name": "stderr",
     "output_type": "stream",
     "text": [
      "C:\\tools\\Anaconda3\\lib\\site-packages\\ipykernel\\ipkernel.py:287: DeprecationWarning: `should_run_async` will not call `transform_cell` automatically in the future. Please pass the result to `transformed_cell` argument and any exception that happen during thetransform in `preprocessing_exc_tuple` in IPython 7.17 and above.\n",
      "  and should_run_async(code)\n"
     ]
    }
   ],
   "source": [
    "import os\n",
    "from gensim.models.wrappers import LdaMallet\n",
    "\n",
    "os.environ['MALLET_HOME'] = 'D:\\\\so-data\\\\mallet-2.0.8\\\\mallet-2.0.8'\n",
    "\n",
    "mallet_path = 'D:\\\\so-data\\\\mallet-2.0.8\\\\mallet-2.0.8\\\\bin\\\\mallet'"
   ]
  },
  {
   "cell_type": "code",
   "execution_count": 19,
   "metadata": {
    "pycharm": {
     "name": "#%%\n"
    }
   },
   "outputs": [
    {
     "name": "stderr",
     "output_type": "stream",
     "text": [
      "C:\\tools\\Anaconda3\\lib\\site-packages\\ipykernel\\ipkernel.py:287: DeprecationWarning: `should_run_async` will not call `transform_cell` automatically in the future. Please pass the result to `transformed_cell` argument and any exception that happen during thetransform in `preprocessing_exc_tuple` in IPython 7.17 and above.\n",
      "  and should_run_async(code)\n"
     ]
    }
   ],
   "source": [
    "# lda_mallet = gensim.models.wrappers.LdaMallet(mallet_path, corpus=corpus, num_topics=30, id2word=id2word, optimize_interval=10, iterations=1500)"
   ]
  },
  {
   "cell_type": "code",
   "execution_count": 20,
   "metadata": {},
   "outputs": [
    {
     "name": "stderr",
     "output_type": "stream",
     "text": [
      "C:\\tools\\Anaconda3\\lib\\site-packages\\ipykernel\\ipkernel.py:287: DeprecationWarning: `should_run_async` will not call `transform_cell` automatically in the future. Please pass the result to `transformed_cell` argument and any exception that happen during thetransform in `preprocessing_exc_tuple` in IPython 7.17 and above.\n",
      "  and should_run_async(code)\n"
     ]
    }
   ],
   "source": [
    "# gensim.models.LdaModel?"
   ]
  },
  {
   "cell_type": "code",
   "execution_count": 21,
   "metadata": {
    "pycharm": {
     "name": "#%%\n"
    }
   },
   "outputs": [
    {
     "name": "stderr",
     "output_type": "stream",
     "text": [
      "C:\\tools\\Anaconda3\\lib\\site-packages\\ipykernel\\ipkernel.py:287: DeprecationWarning: `should_run_async` will not call `transform_cell` automatically in the future. Please pass the result to `transformed_cell` argument and any exception that happen during thetransform in `preprocessing_exc_tuple` in IPython 7.17 and above.\n",
      "  and should_run_async(code)\n"
     ]
    }
   ],
   "source": [
    "# Compute Coherence Score\n",
    "# coherence_model_ldamallet = CoherenceModel(model=lda_mallet, texts=data_lemmatized, dictionary=id2word, coherence='c_v')\n",
    "# coherence_ldamallet = coherence_model_ldamallet.get_coherence()\n",
    "# print('\\nCoherence Score: ', coherence_ldamallet)"
   ]
  },
  {
   "cell_type": "code",
   "execution_count": 51,
   "metadata": {
    "pycharm": {
     "is_executing": true,
     "name": "#%%\n"
    }
   },
   "outputs": [
    {
     "name": "stderr",
     "output_type": "stream",
     "text": [
      "C:\\tools\\Anaconda3\\lib\\site-packages\\ipykernel\\ipkernel.py:287: DeprecationWarning: `should_run_async` will not call `transform_cell` automatically in the future. Please pass the result to `transformed_cell` argument and any exception that happen during thetransform in `preprocessing_exc_tuple` in IPython 7.17 and above.\n",
      "  and should_run_async(code)\n"
     ]
    }
   ],
   "source": [
    "def compute_coherence_values(dictionary, corpus, texts, limit, start=15, step=5):\n",
    "    \"\"\"\n",
    "    Compute c_v coherence for various number of topics\n",
    "    Parameters:\n",
    "    ----------\n",
    "    dictionary : Gensim dictionary\n",
    "    corpus : Gensim corpus\n",
    "    texts : List of input texts\n",
    "    limit : Max num of topics\n",
    "    Returns:\n",
    "    -------\n",
    "    model_list : List of LDA topic models\n",
    "    coherence_values : Coherence values corresponding to the LDA model with respective number of topics\n",
    "    \"\"\"\n",
    "    coherence_values = []\n",
    "    model_list = []\n",
    "    for num_topics in range(start, limit, step):\n",
    "        print(num_topics)\n",
    "        model = gensim.models.wrappers.LdaMallet(mallet_path, corpus=corpus, num_topics=num_topics, id2word=id2word)\n",
    "        model_list.append(model)\n",
    "        coherencemodel = CoherenceModel(model=model, texts=texts, dictionary=dictionary, coherence='c_v')\n",
    "        coherence_values.append(coherencemodel.get_coherence())\n",
    "\n",
    "    return model_list, coherence_values"
   ]
  },
  {
   "cell_type": "code",
   "execution_count": 52,
   "metadata": {
    "pycharm": {
     "name": "#%%\n"
    }
   },
   "outputs": [
    {
     "name": "stderr",
     "output_type": "stream",
     "text": [
      "C:\\tools\\Anaconda3\\lib\\site-packages\\ipykernel\\ipkernel.py:287: DeprecationWarning: `should_run_async` will not call `transform_cell` automatically in the future. Please pass the result to `transformed_cell` argument and any exception that happen during thetransform in `preprocessing_exc_tuple` in IPython 7.17 and above.\n",
      "  and should_run_async(code)\n"
     ]
    },
    {
     "name": "stdout",
     "output_type": "stream",
     "text": [
      "5\n",
      "10\n",
      "15\n",
      "20\n",
      "25\n",
      "30\n",
      "35\n",
      "40\n",
      "45\n",
      "50\n"
     ]
    }
   ],
   "source": [
    "\n",
    "\n",
    "model_list, coherence_values = compute_coherence_values(dictionary=id2word, corpus=corpus, texts=data_lemmatized, start=5, limit=55, step=5)"
   ]
  },
  {
   "cell_type": "code",
   "execution_count": 53,
   "metadata": {
    "pycharm": {
     "name": "#%%\n"
    }
   },
   "outputs": [
    {
     "name": "stderr",
     "output_type": "stream",
     "text": [
      "C:\\tools\\Anaconda3\\lib\\site-packages\\ipykernel\\ipkernel.py:287: DeprecationWarning: `should_run_async` will not call `transform_cell` automatically in the future. Please pass the result to `transformed_cell` argument and any exception that happen during thetransform in `preprocessing_exc_tuple` in IPython 7.17 and above.\n",
      "  and should_run_async(code)\n"
     ]
    },
    {
     "data": {
      "image/png": "[encoded data removed]",
      "text/plain": [
       "<Figure size 432x288 with 1 Axes>"
      ]
     },
     "metadata": {
      "needs_background": "light"
     },
     "output_type": "display_data"
    }
   ],
   "source": [
    "#Show graph\n",
    "limit=55; start=5; step=5;\n",
    "x = range(start, limit, step)\n",
    "plt.plot(x, coherence_values)\n",
    "plt.xlabel(\"Num Topics\")\n",
    "plt.ylabel(\"Coherence score\")\n",
    "plt.legend((\"coherence_values\"), loc='best')\n",
    "plt.show()"
   ]
  },
  {
   "cell_type": "code",
   "execution_count": 25,
   "metadata": {
    "pycharm": {
     "name": "#%%\n"
    }
   },
   "outputs": [
    {
     "name": "stderr",
     "output_type": "stream",
     "text": [
      "C:\\tools\\Anaconda3\\lib\\site-packages\\ipykernel\\ipkernel.py:287: DeprecationWarning: `should_run_async` will not call `transform_cell` automatically in the future. Please pass the result to `transformed_cell` argument and any exception that happen during thetransform in `preprocessing_exc_tuple` in IPython 7.17 and above.\n",
      "  and should_run_async(code)\n"
     ]
    }
   ],
   "source": [
    "# print(coherence_values)"
   ]
  },
  {
   "cell_type": "code",
   "execution_count": 20,
   "metadata": {
    "pycharm": {
     "is_executing": true,
     "name": "#%%\n"
    }
   },
   "outputs": [
    {
     "name": "stderr",
     "output_type": "stream",
     "text": [
      "C:\\tools\\Anaconda3\\lib\\site-packages\\ipykernel\\ipkernel.py:287: DeprecationWarning: `should_run_async` will not call `transform_cell` automatically in the future. Please pass the result to `transformed_cell` argument and any exception that happen during thetransform in `preprocessing_exc_tuple` in IPython 7.17 and above.\n",
      "  and should_run_async(code)\n"
     ]
    }
   ],
   "source": [
    "def calculate_best_iterations(number_of_topics, number_of_iterations):\n",
    "    print(number_of_iterations)\n",
    "    lda_mallet = gensim.models.wrappers.LdaMallet(mallet_path, corpus = corpus, num_topics= number_of_topics, id2word= id2word, iterations= number_of_iterations)\n",
    "    coherence_model_ldamallet = CoherenceModel(model=lda_mallet, texts=data_lemmatized, dictionary=id2word, coherence='c_v')\n",
    "    iterations.append(number_of_iterations)\n",
    "    iteration_based_coherence_values.append(coherence_model_ldamallet.get_coherence())"
   ]
  },
  {
   "cell_type": "code",
   "execution_count": 21,
   "metadata": {
    "pycharm": {
     "is_executing": true,
     "name": "#%%\n"
    }
   },
   "outputs": [
    {
     "name": "stderr",
     "output_type": "stream",
     "text": [
      "C:\\tools\\Anaconda3\\lib\\site-packages\\ipykernel\\ipkernel.py:287: DeprecationWarning: `should_run_async` will not call `transform_cell` automatically in the future. Please pass the result to `transformed_cell` argument and any exception that happen during thetransform in `preprocessing_exc_tuple` in IPython 7.17 and above.\n",
      "  and should_run_async(code)\n"
     ]
    },
    {
     "name": "stdout",
     "output_type": "stream",
     "text": [
      "500\n",
      "1000\n",
      "1500\n",
      "2000\n",
      "2500\n",
      "3000\n"
     ]
    },
    {
     "ename": "ValueError",
     "evalue": "x and y must have same first dimension, but have shapes (5,) and (6,)",
     "output_type": "error",
     "traceback": [
      "\u001b[1;31m---------------------------------------------------------------------------\u001b[0m",
      "\u001b[1;31mValueError\u001b[0m                                Traceback (most recent call last)",
      "\u001b[1;32m<ipython-input-21-ee8498b86ea5>\u001b[0m in \u001b[0;36m<module>\u001b[1;34m\u001b[0m\n\u001b[0;32m      8\u001b[0m \u001b[0mlimit\u001b[0m\u001b[1;33m=\u001b[0m\u001b[1;36m3000\u001b[0m\u001b[1;33m;\u001b[0m \u001b[0mstart\u001b[0m\u001b[1;33m=\u001b[0m\u001b[1;36m500\u001b[0m\u001b[1;33m;\u001b[0m \u001b[0mstep\u001b[0m\u001b[1;33m=\u001b[0m\u001b[1;36m500\u001b[0m\u001b[1;33m;\u001b[0m\u001b[1;33m\u001b[0m\u001b[1;33m\u001b[0m\u001b[0m\n\u001b[0;32m      9\u001b[0m \u001b[0mx\u001b[0m \u001b[1;33m=\u001b[0m \u001b[0mrange\u001b[0m\u001b[1;33m(\u001b[0m\u001b[0mstart\u001b[0m\u001b[1;33m,\u001b[0m \u001b[0mlimit\u001b[0m\u001b[1;33m,\u001b[0m \u001b[0mstep\u001b[0m\u001b[1;33m)\u001b[0m\u001b[1;33m\u001b[0m\u001b[1;33m\u001b[0m\u001b[0m\n\u001b[1;32m---> 10\u001b[1;33m \u001b[0mplt\u001b[0m\u001b[1;33m.\u001b[0m\u001b[0mplot\u001b[0m\u001b[1;33m(\u001b[0m\u001b[0mx\u001b[0m\u001b[1;33m,\u001b[0m \u001b[0miteration_based_coherence_values\u001b[0m\u001b[1;33m)\u001b[0m\u001b[1;33m\u001b[0m\u001b[1;33m\u001b[0m\u001b[0m\n\u001b[0m\u001b[0;32m     11\u001b[0m \u001b[0mplt\u001b[0m\u001b[1;33m.\u001b[0m\u001b[0mxlabel\u001b[0m\u001b[1;33m(\u001b[0m\u001b[1;34m\"Num of iterations\"\u001b[0m\u001b[1;33m)\u001b[0m\u001b[1;33m\u001b[0m\u001b[1;33m\u001b[0m\u001b[0m\n\u001b[0;32m     12\u001b[0m \u001b[0mplt\u001b[0m\u001b[1;33m.\u001b[0m\u001b[0mylabel\u001b[0m\u001b[1;33m(\u001b[0m\u001b[1;34m\"Coherence score\"\u001b[0m\u001b[1;33m)\u001b[0m\u001b[1;33m\u001b[0m\u001b[1;33m\u001b[0m\u001b[0m\n",
      "\u001b[1;32mC:\\tools\\Anaconda3\\lib\\site-packages\\matplotlib\\pyplot.py\u001b[0m in \u001b[0;36mplot\u001b[1;34m(scalex, scaley, data, *args, **kwargs)\u001b[0m\n\u001b[0;32m   2838\u001b[0m \u001b[1;33m@\u001b[0m\u001b[0m_copy_docstring_and_deprecators\u001b[0m\u001b[1;33m(\u001b[0m\u001b[0mAxes\u001b[0m\u001b[1;33m.\u001b[0m\u001b[0mplot\u001b[0m\u001b[1;33m)\u001b[0m\u001b[1;33m\u001b[0m\u001b[1;33m\u001b[0m\u001b[0m\n\u001b[0;32m   2839\u001b[0m \u001b[1;32mdef\u001b[0m \u001b[0mplot\u001b[0m\u001b[1;33m(\u001b[0m\u001b[1;33m*\u001b[0m\u001b[0margs\u001b[0m\u001b[1;33m,\u001b[0m \u001b[0mscalex\u001b[0m\u001b[1;33m=\u001b[0m\u001b[1;32mTrue\u001b[0m\u001b[1;33m,\u001b[0m \u001b[0mscaley\u001b[0m\u001b[1;33m=\u001b[0m\u001b[1;32mTrue\u001b[0m\u001b[1;33m,\u001b[0m \u001b[0mdata\u001b[0m\u001b[1;33m=\u001b[0m\u001b[1;32mNone\u001b[0m\u001b[1;33m,\u001b[0m \u001b[1;33m**\u001b[0m\u001b[0mkwargs\u001b[0m\u001b[1;33m)\u001b[0m\u001b[1;33m:\u001b[0m\u001b[1;33m\u001b[0m\u001b[1;33m\u001b[0m\u001b[0m\n\u001b[1;32m-> 2840\u001b[1;33m     return gca().plot(\n\u001b[0m\u001b[0;32m   2841\u001b[0m         \u001b[1;33m*\u001b[0m\u001b[0margs\u001b[0m\u001b[1;33m,\u001b[0m \u001b[0mscalex\u001b[0m\u001b[1;33m=\u001b[0m\u001b[0mscalex\u001b[0m\u001b[1;33m,\u001b[0m \u001b[0mscaley\u001b[0m\u001b[1;33m=\u001b[0m\u001b[0mscaley\u001b[0m\u001b[1;33m,\u001b[0m\u001b[1;33m\u001b[0m\u001b[1;33m\u001b[0m\u001b[0m\n\u001b[0;32m   2842\u001b[0m         **({\"data\": data} if data is not None else {}), **kwargs)\n",
      "\u001b[1;32mC:\\tools\\Anaconda3\\lib\\site-packages\\matplotlib\\axes\\_axes.py\u001b[0m in \u001b[0;36mplot\u001b[1;34m(self, scalex, scaley, data, *args, **kwargs)\u001b[0m\n\u001b[0;32m   1741\u001b[0m         \"\"\"\n\u001b[0;32m   1742\u001b[0m         \u001b[0mkwargs\u001b[0m \u001b[1;33m=\u001b[0m \u001b[0mcbook\u001b[0m\u001b[1;33m.\u001b[0m\u001b[0mnormalize_kwargs\u001b[0m\u001b[1;33m(\u001b[0m\u001b[0mkwargs\u001b[0m\u001b[1;33m,\u001b[0m \u001b[0mmlines\u001b[0m\u001b[1;33m.\u001b[0m\u001b[0mLine2D\u001b[0m\u001b[1;33m)\u001b[0m\u001b[1;33m\u001b[0m\u001b[1;33m\u001b[0m\u001b[0m\n\u001b[1;32m-> 1743\u001b[1;33m         \u001b[0mlines\u001b[0m \u001b[1;33m=\u001b[0m \u001b[1;33m[\u001b[0m\u001b[1;33m*\u001b[0m\u001b[0mself\u001b[0m\u001b[1;33m.\u001b[0m\u001b[0m_get_lines\u001b[0m\u001b[1;33m(\u001b[0m\u001b[1;33m*\u001b[0m\u001b[0margs\u001b[0m\u001b[1;33m,\u001b[0m \u001b[0mdata\u001b[0m\u001b[1;33m=\u001b[0m\u001b[0mdata\u001b[0m\u001b[1;33m,\u001b[0m \u001b[1;33m**\u001b[0m\u001b[0mkwargs\u001b[0m\u001b[1;33m)\u001b[0m\u001b[1;33m]\u001b[0m\u001b[1;33m\u001b[0m\u001b[1;33m\u001b[0m\u001b[0m\n\u001b[0m\u001b[0;32m   1744\u001b[0m         \u001b[1;32mfor\u001b[0m \u001b[0mline\u001b[0m \u001b[1;32min\u001b[0m \u001b[0mlines\u001b[0m\u001b[1;33m:\u001b[0m\u001b[1;33m\u001b[0m\u001b[1;33m\u001b[0m\u001b[0m\n\u001b[0;32m   1745\u001b[0m             \u001b[0mself\u001b[0m\u001b[1;33m.\u001b[0m\u001b[0madd_line\u001b[0m\u001b[1;33m(\u001b[0m\u001b[0mline\u001b[0m\u001b[1;33m)\u001b[0m\u001b[1;33m\u001b[0m\u001b[1;33m\u001b[0m\u001b[0m\n",
      "\u001b[1;32mC:\\tools\\Anaconda3\\lib\\site-packages\\matplotlib\\axes\\_base.py\u001b[0m in \u001b[0;36m__call__\u001b[1;34m(self, data, *args, **kwargs)\u001b[0m\n\u001b[0;32m    271\u001b[0m                 \u001b[0mthis\u001b[0m \u001b[1;33m+=\u001b[0m \u001b[0margs\u001b[0m\u001b[1;33m[\u001b[0m\u001b[1;36m0\u001b[0m\u001b[1;33m]\u001b[0m\u001b[1;33m,\u001b[0m\u001b[1;33m\u001b[0m\u001b[1;33m\u001b[0m\u001b[0m\n\u001b[0;32m    272\u001b[0m                 \u001b[0margs\u001b[0m \u001b[1;33m=\u001b[0m \u001b[0margs\u001b[0m\u001b[1;33m[\u001b[0m\u001b[1;36m1\u001b[0m\u001b[1;33m:\u001b[0m\u001b[1;33m]\u001b[0m\u001b[1;33m\u001b[0m\u001b[1;33m\u001b[0m\u001b[0m\n\u001b[1;32m--> 273\u001b[1;33m             \u001b[1;32myield\u001b[0m \u001b[1;32mfrom\u001b[0m \u001b[0mself\u001b[0m\u001b[1;33m.\u001b[0m\u001b[0m_plot_args\u001b[0m\u001b[1;33m(\u001b[0m\u001b[0mthis\u001b[0m\u001b[1;33m,\u001b[0m \u001b[0mkwargs\u001b[0m\u001b[1;33m)\u001b[0m\u001b[1;33m\u001b[0m\u001b[1;33m\u001b[0m\u001b[0m\n\u001b[0m\u001b[0;32m    274\u001b[0m \u001b[1;33m\u001b[0m\u001b[0m\n\u001b[0;32m    275\u001b[0m     \u001b[1;32mdef\u001b[0m \u001b[0mget_next_color\u001b[0m\u001b[1;33m(\u001b[0m\u001b[0mself\u001b[0m\u001b[1;33m)\u001b[0m\u001b[1;33m:\u001b[0m\u001b[1;33m\u001b[0m\u001b[1;33m\u001b[0m\u001b[0m\n",
      "\u001b[1;32mC:\\tools\\Anaconda3\\lib\\site-packages\\matplotlib\\axes\\_base.py\u001b[0m in \u001b[0;36m_plot_args\u001b[1;34m(self, tup, kwargs)\u001b[0m\n\u001b[0;32m    397\u001b[0m \u001b[1;33m\u001b[0m\u001b[0m\n\u001b[0;32m    398\u001b[0m         \u001b[1;32mif\u001b[0m \u001b[0mx\u001b[0m\u001b[1;33m.\u001b[0m\u001b[0mshape\u001b[0m\u001b[1;33m[\u001b[0m\u001b[1;36m0\u001b[0m\u001b[1;33m]\u001b[0m \u001b[1;33m!=\u001b[0m \u001b[0my\u001b[0m\u001b[1;33m.\u001b[0m\u001b[0mshape\u001b[0m\u001b[1;33m[\u001b[0m\u001b[1;36m0\u001b[0m\u001b[1;33m]\u001b[0m\u001b[1;33m:\u001b[0m\u001b[1;33m\u001b[0m\u001b[1;33m\u001b[0m\u001b[0m\n\u001b[1;32m--> 399\u001b[1;33m             raise ValueError(f\"x and y must have same first dimension, but \"\n\u001b[0m\u001b[0;32m    400\u001b[0m                              f\"have shapes {x.shape} and {y.shape}\")\n\u001b[0;32m    401\u001b[0m         \u001b[1;32mif\u001b[0m \u001b[0mx\u001b[0m\u001b[1;33m.\u001b[0m\u001b[0mndim\u001b[0m \u001b[1;33m>\u001b[0m \u001b[1;36m2\u001b[0m \u001b[1;32mor\u001b[0m \u001b[0my\u001b[0m\u001b[1;33m.\u001b[0m\u001b[0mndim\u001b[0m \u001b[1;33m>\u001b[0m \u001b[1;36m2\u001b[0m\u001b[1;33m:\u001b[0m\u001b[1;33m\u001b[0m\u001b[1;33m\u001b[0m\u001b[0m\n",
      "\u001b[1;31mValueError\u001b[0m: x and y must have same first dimension, but have shapes (5,) and (6,)"
     ]
    },
    {
     "data": {
      "image/png": "[encoded data removed]",
      "text/plain": [
       "<Figure size 432x288 with 1 Axes>"
      ]
     },
     "metadata": {
      "needs_background": "light"
     },
     "output_type": "display_data"
    }
   ],
   "source": [
    "iterations = []\n",
    "iteration_based_coherence_values = []\n",
    "\n",
    "for i in [500,1000,1500,2000,2500, 3000]:\n",
    "    calculate_best_iterations(20, i)\n",
    "\n",
    "#Show graph\n",
    "limit=3000; start=500; step=500;\n",
    "x = range(start, limit, step)\n",
    "plt.plot(x, iteration_based_coherence_values)\n",
    "plt.xlabel(\"Num of iterations\")\n",
    "plt.ylabel(\"Coherence score\")\n",
    "plt.legend((\"coherence_values\"), loc='best')\n",
    "plt.show()"
   ]
  },
  {
   "cell_type": "code",
   "execution_count": null,
   "metadata": {},
   "outputs": [],
   "source": []
  },
  {
   "cell_type": "code",
   "execution_count": 22,
   "metadata": {
    "pycharm": {
     "name": "#%%\n"
    }
   },
   "outputs": [
    {
     "name": "stdout",
     "output_type": "stream",
     "text": [
      "0.5588149805324384\n",
      "0.5600149684985709\n",
      "0.5489612406440963\n",
      "0.5788690736719415\n",
      "0.5704284708537619\n",
      "0.5799963899169895\n"
     ]
    },
    {
     "name": "stderr",
     "output_type": "stream",
     "text": [
      "C:\\tools\\Anaconda3\\lib\\site-packages\\ipykernel\\ipkernel.py:287: DeprecationWarning: `should_run_async` will not call `transform_cell` automatically in the future. Please pass the result to `transformed_cell` argument and any exception that happen during thetransform in `preprocessing_exc_tuple` in IPython 7.17 and above.\n",
      "  and should_run_async(code)\n"
     ]
    }
   ],
   "source": [
    "for i in iteration_based_coherence_values:\n",
    "    print(i)"
   ]
  },
  {
   "cell_type": "code",
   "execution_count": 40,
   "metadata": {
    "pycharm": {
     "name": "#%%\n"
    }
   },
   "outputs": [
    {
     "name": "stderr",
     "output_type": "stream",
     "text": [
      "C:\\tools\\Anaconda3\\lib\\site-packages\\ipykernel\\ipkernel.py:287: DeprecationWarning: `should_run_async` will not call `transform_cell` automatically in the future. Please pass the result to `transformed_cell` argument and any exception that happen during thetransform in `preprocessing_exc_tuple` in IPython 7.17 and above.\n",
      "  and should_run_async(code)\n"
     ]
    },
    {
     "ename": "ValueError",
     "evalue": "x and y must have same first dimension, but have shapes (5,) and (6,)",
     "output_type": "error",
     "traceback": [
      "\u001b[1;31m---------------------------------------------------------------------------\u001b[0m",
      "\u001b[1;31mValueError\u001b[0m                                Traceback (most recent call last)",
      "\u001b[1;32m<ipython-input-40-e77266a7b653>\u001b[0m in \u001b[0;36m<module>\u001b[1;34m\u001b[0m\n\u001b[0;32m      2\u001b[0m \u001b[0mlimit\u001b[0m\u001b[1;33m=\u001b[0m\u001b[1;36m3000\u001b[0m\u001b[1;33m;\u001b[0m \u001b[0mstart\u001b[0m\u001b[1;33m=\u001b[0m\u001b[1;36m500\u001b[0m\u001b[1;33m;\u001b[0m \u001b[0mstep\u001b[0m\u001b[1;33m=\u001b[0m\u001b[1;36m500\u001b[0m\u001b[1;33m;\u001b[0m\u001b[1;33m\u001b[0m\u001b[1;33m\u001b[0m\u001b[0m\n\u001b[0;32m      3\u001b[0m \u001b[0mx\u001b[0m \u001b[1;33m=\u001b[0m \u001b[0mrange\u001b[0m\u001b[1;33m(\u001b[0m\u001b[0mstart\u001b[0m\u001b[1;33m,\u001b[0m \u001b[0mlimit\u001b[0m\u001b[1;33m,\u001b[0m \u001b[0mstep\u001b[0m\u001b[1;33m)\u001b[0m\u001b[1;33m\u001b[0m\u001b[1;33m\u001b[0m\u001b[0m\n\u001b[1;32m----> 4\u001b[1;33m \u001b[0mplt\u001b[0m\u001b[1;33m.\u001b[0m\u001b[0mplot\u001b[0m\u001b[1;33m(\u001b[0m\u001b[0mx\u001b[0m\u001b[1;33m,\u001b[0m \u001b[0miteration_based_coherence_values\u001b[0m\u001b[1;33m)\u001b[0m\u001b[1;33m\u001b[0m\u001b[1;33m\u001b[0m\u001b[0m\n\u001b[0m\u001b[0;32m      5\u001b[0m \u001b[0mplt\u001b[0m\u001b[1;33m.\u001b[0m\u001b[0mxlabel\u001b[0m\u001b[1;33m(\u001b[0m\u001b[1;34m\"Num of iterations\"\u001b[0m\u001b[1;33m)\u001b[0m\u001b[1;33m\u001b[0m\u001b[1;33m\u001b[0m\u001b[0m\n\u001b[0;32m      6\u001b[0m \u001b[0mplt\u001b[0m\u001b[1;33m.\u001b[0m\u001b[0mylabel\u001b[0m\u001b[1;33m(\u001b[0m\u001b[1;34m\"Coherence score\"\u001b[0m\u001b[1;33m)\u001b[0m\u001b[1;33m\u001b[0m\u001b[1;33m\u001b[0m\u001b[0m\n",
      "\u001b[1;32mC:\\tools\\Anaconda3\\lib\\site-packages\\matplotlib\\pyplot.py\u001b[0m in \u001b[0;36mplot\u001b[1;34m(scalex, scaley, data, *args, **kwargs)\u001b[0m\n\u001b[0;32m   2838\u001b[0m \u001b[1;33m@\u001b[0m\u001b[0m_copy_docstring_and_deprecators\u001b[0m\u001b[1;33m(\u001b[0m\u001b[0mAxes\u001b[0m\u001b[1;33m.\u001b[0m\u001b[0mplot\u001b[0m\u001b[1;33m)\u001b[0m\u001b[1;33m\u001b[0m\u001b[1;33m\u001b[0m\u001b[0m\n\u001b[0;32m   2839\u001b[0m \u001b[1;32mdef\u001b[0m \u001b[0mplot\u001b[0m\u001b[1;33m(\u001b[0m\u001b[1;33m*\u001b[0m\u001b[0margs\u001b[0m\u001b[1;33m,\u001b[0m \u001b[0mscalex\u001b[0m\u001b[1;33m=\u001b[0m\u001b[1;32mTrue\u001b[0m\u001b[1;33m,\u001b[0m \u001b[0mscaley\u001b[0m\u001b[1;33m=\u001b[0m\u001b[1;32mTrue\u001b[0m\u001b[1;33m,\u001b[0m \u001b[0mdata\u001b[0m\u001b[1;33m=\u001b[0m\u001b[1;32mNone\u001b[0m\u001b[1;33m,\u001b[0m \u001b[1;33m**\u001b[0m\u001b[0mkwargs\u001b[0m\u001b[1;33m)\u001b[0m\u001b[1;33m:\u001b[0m\u001b[1;33m\u001b[0m\u001b[1;33m\u001b[0m\u001b[0m\n\u001b[1;32m-> 2840\u001b[1;33m     return gca().plot(\n\u001b[0m\u001b[0;32m   2841\u001b[0m         \u001b[1;33m*\u001b[0m\u001b[0margs\u001b[0m\u001b[1;33m,\u001b[0m \u001b[0mscalex\u001b[0m\u001b[1;33m=\u001b[0m\u001b[0mscalex\u001b[0m\u001b[1;33m,\u001b[0m \u001b[0mscaley\u001b[0m\u001b[1;33m=\u001b[0m\u001b[0mscaley\u001b[0m\u001b[1;33m,\u001b[0m\u001b[1;33m\u001b[0m\u001b[1;33m\u001b[0m\u001b[0m\n\u001b[0;32m   2842\u001b[0m         **({\"data\": data} if data is not None else {}), **kwargs)\n",
      "\u001b[1;32mC:\\tools\\Anaconda3\\lib\\site-packages\\matplotlib\\axes\\_axes.py\u001b[0m in \u001b[0;36mplot\u001b[1;34m(self, scalex, scaley, data, *args, **kwargs)\u001b[0m\n\u001b[0;32m   1741\u001b[0m         \"\"\"\n\u001b[0;32m   1742\u001b[0m         \u001b[0mkwargs\u001b[0m \u001b[1;33m=\u001b[0m \u001b[0mcbook\u001b[0m\u001b[1;33m.\u001b[0m\u001b[0mnormalize_kwargs\u001b[0m\u001b[1;33m(\u001b[0m\u001b[0mkwargs\u001b[0m\u001b[1;33m,\u001b[0m \u001b[0mmlines\u001b[0m\u001b[1;33m.\u001b[0m\u001b[0mLine2D\u001b[0m\u001b[1;33m)\u001b[0m\u001b[1;33m\u001b[0m\u001b[1;33m\u001b[0m\u001b[0m\n\u001b[1;32m-> 1743\u001b[1;33m         \u001b[0mlines\u001b[0m \u001b[1;33m=\u001b[0m \u001b[1;33m[\u001b[0m\u001b[1;33m*\u001b[0m\u001b[0mself\u001b[0m\u001b[1;33m.\u001b[0m\u001b[0m_get_lines\u001b[0m\u001b[1;33m(\u001b[0m\u001b[1;33m*\u001b[0m\u001b[0margs\u001b[0m\u001b[1;33m,\u001b[0m \u001b[0mdata\u001b[0m\u001b[1;33m=\u001b[0m\u001b[0mdata\u001b[0m\u001b[1;33m,\u001b[0m \u001b[1;33m**\u001b[0m\u001b[0mkwargs\u001b[0m\u001b[1;33m)\u001b[0m\u001b[1;33m]\u001b[0m\u001b[1;33m\u001b[0m\u001b[1;33m\u001b[0m\u001b[0m\n\u001b[0m\u001b[0;32m   1744\u001b[0m         \u001b[1;32mfor\u001b[0m \u001b[0mline\u001b[0m \u001b[1;32min\u001b[0m \u001b[0mlines\u001b[0m\u001b[1;33m:\u001b[0m\u001b[1;33m\u001b[0m\u001b[1;33m\u001b[0m\u001b[0m\n\u001b[0;32m   1745\u001b[0m             \u001b[0mself\u001b[0m\u001b[1;33m.\u001b[0m\u001b[0madd_line\u001b[0m\u001b[1;33m(\u001b[0m\u001b[0mline\u001b[0m\u001b[1;33m)\u001b[0m\u001b[1;33m\u001b[0m\u001b[1;33m\u001b[0m\u001b[0m\n",
      "\u001b[1;32mC:\\tools\\Anaconda3\\lib\\site-packages\\matplotlib\\axes\\_base.py\u001b[0m in \u001b[0;36m__call__\u001b[1;34m(self, data, *args, **kwargs)\u001b[0m\n\u001b[0;32m    271\u001b[0m                 \u001b[0mthis\u001b[0m \u001b[1;33m+=\u001b[0m \u001b[0margs\u001b[0m\u001b[1;33m[\u001b[0m\u001b[1;36m0\u001b[0m\u001b[1;33m]\u001b[0m\u001b[1;33m,\u001b[0m\u001b[1;33m\u001b[0m\u001b[1;33m\u001b[0m\u001b[0m\n\u001b[0;32m    272\u001b[0m                 \u001b[0margs\u001b[0m \u001b[1;33m=\u001b[0m \u001b[0margs\u001b[0m\u001b[1;33m[\u001b[0m\u001b[1;36m1\u001b[0m\u001b[1;33m:\u001b[0m\u001b[1;33m]\u001b[0m\u001b[1;33m\u001b[0m\u001b[1;33m\u001b[0m\u001b[0m\n\u001b[1;32m--> 273\u001b[1;33m             \u001b[1;32myield\u001b[0m \u001b[1;32mfrom\u001b[0m \u001b[0mself\u001b[0m\u001b[1;33m.\u001b[0m\u001b[0m_plot_args\u001b[0m\u001b[1;33m(\u001b[0m\u001b[0mthis\u001b[0m\u001b[1;33m,\u001b[0m \u001b[0mkwargs\u001b[0m\u001b[1;33m)\u001b[0m\u001b[1;33m\u001b[0m\u001b[1;33m\u001b[0m\u001b[0m\n\u001b[0m\u001b[0;32m    274\u001b[0m \u001b[1;33m\u001b[0m\u001b[0m\n\u001b[0;32m    275\u001b[0m     \u001b[1;32mdef\u001b[0m \u001b[0mget_next_color\u001b[0m\u001b[1;33m(\u001b[0m\u001b[0mself\u001b[0m\u001b[1;33m)\u001b[0m\u001b[1;33m:\u001b[0m\u001b[1;33m\u001b[0m\u001b[1;33m\u001b[0m\u001b[0m\n",
      "\u001b[1;32mC:\\tools\\Anaconda3\\lib\\site-packages\\matplotlib\\axes\\_base.py\u001b[0m in \u001b[0;36m_plot_args\u001b[1;34m(self, tup, kwargs)\u001b[0m\n\u001b[0;32m    397\u001b[0m \u001b[1;33m\u001b[0m\u001b[0m\n\u001b[0;32m    398\u001b[0m         \u001b[1;32mif\u001b[0m \u001b[0mx\u001b[0m\u001b[1;33m.\u001b[0m\u001b[0mshape\u001b[0m\u001b[1;33m[\u001b[0m\u001b[1;36m0\u001b[0m\u001b[1;33m]\u001b[0m \u001b[1;33m!=\u001b[0m \u001b[0my\u001b[0m\u001b[1;33m.\u001b[0m\u001b[0mshape\u001b[0m\u001b[1;33m[\u001b[0m\u001b[1;36m0\u001b[0m\u001b[1;33m]\u001b[0m\u001b[1;33m:\u001b[0m\u001b[1;33m\u001b[0m\u001b[1;33m\u001b[0m\u001b[0m\n\u001b[1;32m--> 399\u001b[1;33m             raise ValueError(f\"x and y must have same first dimension, but \"\n\u001b[0m\u001b[0;32m    400\u001b[0m                              f\"have shapes {x.shape} and {y.shape}\")\n\u001b[0;32m    401\u001b[0m         \u001b[1;32mif\u001b[0m \u001b[0mx\u001b[0m\u001b[1;33m.\u001b[0m\u001b[0mndim\u001b[0m \u001b[1;33m>\u001b[0m \u001b[1;36m2\u001b[0m \u001b[1;32mor\u001b[0m \u001b[0my\u001b[0m\u001b[1;33m.\u001b[0m\u001b[0mndim\u001b[0m \u001b[1;33m>\u001b[0m \u001b[1;36m2\u001b[0m\u001b[1;33m:\u001b[0m\u001b[1;33m\u001b[0m\u001b[1;33m\u001b[0m\u001b[0m\n",
      "\u001b[1;31mValueError\u001b[0m: x and y must have same first dimension, but have shapes (5,) and (6,)"
     ]
    },
    {
     "data": {
      "image/png": "[encoded data removed]",
      "text/plain": [
       "<Figure size 432x288 with 1 Axes>"
      ]
     },
     "metadata": {
      "needs_background": "light"
     },
     "output_type": "display_data"
    }
   ],
   "source": [
    "#Show graph\n",
    "limit=3000; start=500; step=500;\n",
    "x = range(start, limit, step)\n",
    "plt.plot(x, iteration_based_coherence_values)\n",
    "plt.xlabel(\"Num of iterations\")\n",
    "plt.ylabel(\"Coherence score\")\n",
    "plt.legend((\"coherence_values\"), loc='best')\n",
    "plt.show()"
   ]
  },
  {
   "cell_type": "code",
   "execution_count": 23,
   "metadata": {
    "pycharm": {
     "name": "#%%\n"
    }
   },
   "outputs": [
    {
     "name": "stderr",
     "output_type": "stream",
     "text": [
      "C:\\tools\\Anaconda3\\lib\\site-packages\\ipykernel\\ipkernel.py:287: DeprecationWarning: `should_run_async` will not call `transform_cell` automatically in the future. Please pass the result to `transformed_cell` argument and any exception that happen during thetransform in `preprocessing_exc_tuple` in IPython 7.17 and above.\n",
      "  and should_run_async(code)\n"
     ]
    }
   ],
   "source": [
    "lda_mallet = gensim.models.wrappers.LdaMallet(mallet_path, corpus=corpus, num_topics=20 ,iterations=3500, id2word=id2word,  alpha=5)"
   ]
  },
  {
   "cell_type": "code",
   "execution_count": 25,
   "metadata": {},
   "outputs": [
    {
     "name": "stderr",
     "output_type": "stream",
     "text": [
      "C:\\tools\\Anaconda3\\lib\\site-packages\\ipykernel\\ipkernel.py:287: DeprecationWarning: `should_run_async` will not call `transform_cell` automatically in the future. Please pass the result to `transformed_cell` argument and any exception that happen during thetransform in `preprocessing_exc_tuple` in IPython 7.17 and above.\n",
      "  and should_run_async(code)\n"
     ]
    }
   ],
   "source": [
    "#print topics\n",
    "\n",
    "#print(lda_mallet.show_topics(num_topics=-1, num_words=25, formatted=False))\n",
    "topic_number = []\n",
    "topics = []\n",
    "\n",
    "for i in lda_mallet.show_topics(num_topics=50, num_words=10, formatted=False):\n",
    "    value_map_keyword = {}\n",
    "    value_list = []\n",
    "    key_words_list = []\n",
    "    for j in i[1]:\n",
    "        value_map_keyword[j[1]] = j[0]\n",
    "        value_list.append(j[1])\n",
    "        key_words_list.append(j[0])\n",
    "   \n",
    "    topic_number.append(i[0]+1)\n",
    "    topics.append(',  '.join(map(str, key_words_list)))\n",
    "    \n",
    "topic_dataframe = pd.DataFrame({'Topic-Number': topic_number, 'Keywords': topics})\n",
    "topic_dataframe.to_excel(\"D:/so-data/final-data-september-framework/react_native_topic_keywords.xlsx\")"
   ]
  },
  {
   "cell_type": "code",
   "execution_count": 26,
   "metadata": {},
   "outputs": [
    {
     "name": "stderr",
     "output_type": "stream",
     "text": [
      "C:\\tools\\Anaconda3\\lib\\site-packages\\ipykernel\\ipkernel.py:287: DeprecationWarning: `should_run_async` will not call `transform_cell` automatically in the future. Please pass the result to `transformed_cell` argument and any exception that happen during thetransform in `preprocessing_exc_tuple` in IPython 7.17 and above.\n",
      "  and should_run_async(code)\n"
     ]
    },
    {
     "name": "stdout",
     "output_type": "stream",
     "text": [
      "\n",
      "Coherence Score:  0.5350560469653054\n"
     ]
    }
   ],
   "source": [
    "#Compute Coherence Score\n",
    "coherence_model_ldamallet = CoherenceModel(model=lda_mallet, texts=data_lemmatized, dictionary=id2word, coherence='c_v')\n",
    "coherence_ldamallet = coherence_model_ldamallet.get_coherence()\n",
    "print('\\nCoherence Score: ', coherence_ldamallet)"
   ]
  },
  {
   "cell_type": "code",
   "execution_count": 27,
   "metadata": {
    "pycharm": {
     "name": "#%%\n"
    }
   },
   "outputs": [
    {
     "name": "stderr",
     "output_type": "stream",
     "text": [
      "C:\\tools\\Anaconda3\\lib\\site-packages\\ipykernel\\ipkernel.py:287: DeprecationWarning: `should_run_async` will not call `transform_cell` automatically in the future. Please pass the result to `transformed_cell` argument and any exception that happen during thetransform in `preprocessing_exc_tuple` in IPython 7.17 and above.\n",
      "  and should_run_async(code)\n"
     ]
    }
   ],
   "source": [
    "###################################\n",
    "# topic development\n",
    "###################################\n",
    "\n",
    "def format_topics_sentences(ldamodel=lda_mallet, corpus=corpus, texts=data_lemmatized, title=data_lemmatized):\n",
    "    # Init output\n",
    "    sent_topics_df = pd.DataFrame()\n",
    "\n",
    "    # Get main topic in each document\n",
    "    for i, row in enumerate(ldamodel[corpus]):\n",
    "        row = sorted(row, key=lambda x: (x[1]), reverse=True)\n",
    "        # Get the Dominant topic, Perc Contribution and Keywords for each document\n",
    "        for j, (topic_num, prop_topic) in enumerate(row):\n",
    "            if j == 0:  # => dominant topic\n",
    "                wp = ldamodel.show_topic(topic_num)\n",
    "                topic_keywords = \", \".join([word for word, prop in wp])\n",
    "                sent_topics_df = sent_topics_df.append(pd.Series([int(topic_num), round(prop_topic,4), topic_keywords]), ignore_index=True)\n",
    "            else:\n",
    "                break\n",
    "    sent_topics_df.columns = ['Dominant_Topic', 'Perc_Contribution', 'Topic_Keywords']\n",
    "\n",
    "    # Add original text to the end of the output\n",
    "    contents = pd.Series(texts)\n",
    "    contents2 = pd.Series(title)\n",
    "    sent_topics_df = pd.concat([sent_topics_df, contents, contents2], axis=1)\n",
    "    return(sent_topics_df)"
   ]
  },
  {
   "cell_type": "code",
   "execution_count": 28,
   "metadata": {
    "pycharm": {
     "name": "#%%\n"
    }
   },
   "outputs": [
    {
     "name": "stderr",
     "output_type": "stream",
     "text": [
      "C:\\tools\\Anaconda3\\lib\\site-packages\\ipykernel\\ipkernel.py:287: DeprecationWarning: `should_run_async` will not call `transform_cell` automatically in the future. Please pass the result to `transformed_cell` argument and any exception that happen during thetransform in `preprocessing_exc_tuple` in IPython 7.17 and above.\n",
      "  and should_run_async(code)\n"
     ]
    }
   ],
   "source": [
    "df_topic_sents_keywords = format_topics_sentences(ldamodel=lda_mallet, corpus=corpus, texts=body, title=titles)"
   ]
  },
  {
   "cell_type": "code",
   "execution_count": 29,
   "metadata": {
    "pycharm": {
     "name": "#%%\n"
    }
   },
   "outputs": [
    {
     "name": "stderr",
     "output_type": "stream",
     "text": [
      "C:\\tools\\Anaconda3\\lib\\site-packages\\ipykernel\\ipkernel.py:287: DeprecationWarning: `should_run_async` will not call `transform_cell` automatically in the future. Please pass the result to `transformed_cell` argument and any exception that happen during thetransform in `preprocessing_exc_tuple` in IPython 7.17 and above.\n",
      "  and should_run_async(code)\n"
     ]
    }
   ],
   "source": [
    "# Format\n",
    "df_dominant_topic = df_topic_sents_keywords.reset_index()\n",
    "df_dominant_topic.columns = ['Document_No', 'Dominant_Topic', 'Topic_Perc_Contrib', 'Keywords', 'texts', 'title']\n",
    "df_dominant_topic.to_excel(\"D:/so-data/final-data-september-framework/final_topics_with_body_react_native.xlsx\")"
   ]
  }
 ],
 "metadata": {
  "kernelspec": {
   "display_name": "Python 3",
   "language": "python",
   "name": "python3"
  },
  "language_info": {
   "codemirror_mode": {
    "name": "ipython",
    "version": 3
   },
   "file_extension": ".py",
   "mimetype": "text/x-python",
   "name": "python",
   "nbconvert_exporter": "python",
   "pygments_lexer": "ipython3",
   "version": "3.8.8"
  }
 },
 "nbformat": 4,
 "nbformat_minor": 4
}
