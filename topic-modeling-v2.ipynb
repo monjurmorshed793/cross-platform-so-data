{
 "cells": [
  {
   "cell_type": "code",
   "execution_count": 1,
   "metadata": {
    "scrolled": true
   },
   "outputs": [
    {
     "name": "stdout",
     "output_type": "stream",
     "text": [
      "Requirement already satisfied: spacy in c:\\tools\\anaconda3\\lib\\site-packages (3.0.6)\n",
      "Requirement already satisfied: blis<0.8.0,>=0.4.0 in c:\\tools\\anaconda3\\lib\\site-packages (from spacy) (0.7.4)\n",
      "Requirement already satisfied: typer<0.4.0,>=0.3.0 in c:\\tools\\anaconda3\\lib\\site-packages (from spacy) (0.3.2)\n",
      "Requirement already satisfied: setuptools in c:\\tools\\anaconda3\\lib\\site-packages (from spacy) (50.3.1.post20201107)\n",
      "Requirement already satisfied: packaging>=20.0 in c:\\tools\\anaconda3\\lib\\site-packages (from spacy) (20.4)\n",
      "Requirement already satisfied: pathy>=0.3.5 in c:\\tools\\anaconda3\\lib\\site-packages (from spacy) (0.6.0)\n",
      "Requirement already satisfied: numpy>=1.15.0 in c:\\tools\\anaconda3\\lib\\site-packages (from spacy) (1.21.0)\n",
      "Requirement already satisfied: wasabi<1.1.0,>=0.8.1 in c:\\tools\\anaconda3\\lib\\site-packages (from spacy) (0.8.2)\n",
      "Requirement already satisfied: pydantic<1.8.0,>=1.7.1 in c:\\tools\\anaconda3\\lib\\site-packages (from spacy) (1.7.4)\n",
      "Requirement already satisfied: srsly<3.0.0,>=2.4.1 in c:\\tools\\anaconda3\\lib\\site-packages (from spacy) (2.4.1)\n",
      "Requirement already satisfied: preshed<3.1.0,>=3.0.2 in c:\\tools\\anaconda3\\lib\\site-packages (from spacy) (3.0.5)\n",
      "Requirement already satisfied: thinc<8.1.0,>=8.0.3 in c:\\tools\\anaconda3\\lib\\site-packages (from spacy) (8.0.6)\n",
      "Requirement already satisfied: jinja2 in c:\\tools\\anaconda3\\lib\\site-packages (from spacy) (2.11.2)\n",
      "Requirement already satisfied: murmurhash<1.1.0,>=0.28.0 in c:\\tools\\anaconda3\\lib\\site-packages (from spacy) (1.0.5)\n",
      "Requirement already satisfied: catalogue<2.1.0,>=2.0.3 in c:\\tools\\anaconda3\\lib\\site-packages (from spacy) (2.0.4)\n",
      "Requirement already satisfied: requests<3.0.0,>=2.13.0 in c:\\tools\\anaconda3\\lib\\site-packages (from spacy) (2.24.0)\n",
      "Requirement already satisfied: tqdm<5.0.0,>=4.38.0 in c:\\tools\\anaconda3\\lib\\site-packages (from spacy) (4.50.2)\n",
      "Requirement already satisfied: cymem<2.1.0,>=2.0.2 in c:\\tools\\anaconda3\\lib\\site-packages (from spacy) (2.0.5)\n",
      "Requirement already satisfied: spacy-legacy<3.1.0,>=3.0.4 in c:\\tools\\anaconda3\\lib\\site-packages (from spacy) (3.0.6)\n",
      "Requirement already satisfied: click<7.2.0,>=7.1.1 in c:\\tools\\anaconda3\\lib\\site-packages (from typer<0.4.0,>=0.3.0->spacy) (7.1.2)\n",
      "Requirement already satisfied: six in c:\\tools\\anaconda3\\lib\\site-packages (from packaging>=20.0->spacy) (1.15.0)\n",
      "Requirement already satisfied: pyparsing>=2.0.2 in c:\\tools\\anaconda3\\lib\\site-packages (from packaging>=20.0->spacy) (2.4.7)\n",
      "Requirement already satisfied: smart-open<6.0.0,>=5.0.0 in c:\\tools\\anaconda3\\lib\\site-packages (from pathy>=0.3.5->spacy) (5.1.0)\n",
      "Requirement already satisfied: MarkupSafe>=0.23 in c:\\tools\\anaconda3\\lib\\site-packages (from jinja2->spacy) (1.1.1)\n",
      "Requirement already satisfied: chardet<4,>=3.0.2 in c:\\tools\\anaconda3\\lib\\site-packages (from requests<3.0.0,>=2.13.0->spacy) (3.0.4)\n",
      "Requirement already satisfied: urllib3!=1.25.0,!=1.25.1,<1.26,>=1.21.1 in c:\\tools\\anaconda3\\lib\\site-packages (from requests<3.0.0,>=2.13.0->spacy) (1.25.11)\n",
      "Requirement already satisfied: certifi>=2017.4.17 in c:\\tools\\anaconda3\\lib\\site-packages (from requests<3.0.0,>=2.13.0->spacy) (2020.6.20)\n",
      "Requirement already satisfied: idna<3,>=2.5 in c:\\tools\\anaconda3\\lib\\site-packages (from requests<3.0.0,>=2.13.0->spacy) (2.10)\n",
      "Requirement already satisfied: pyldavis in c:\\tools\\anaconda3\\lib\\site-packages (3.3.1)\n",
      "Requirement already satisfied: sklearn in c:\\tools\\anaconda3\\lib\\site-packages (from pyldavis) (0.0)\n",
      "Requirement already satisfied: scikit-learn in c:\\tools\\anaconda3\\lib\\site-packages (from pyldavis) (0.24.2)\n",
      "Requirement already satisfied: pandas>=1.2.0 in c:\\tools\\anaconda3\\lib\\site-packages (from pyldavis) (1.2.5)\n",
      "Requirement already satisfied: joblib in c:\\tools\\anaconda3\\lib\\site-packages (from pyldavis) (0.17.0)\n",
      "Requirement already satisfied: numexpr in c:\\tools\\anaconda3\\lib\\site-packages (from pyldavis) (2.7.1)\n",
      "Requirement already satisfied: funcy in c:\\tools\\anaconda3\\lib\\site-packages (from pyldavis) (1.16)\n",
      "Requirement already satisfied: scipy in c:\\tools\\anaconda3\\lib\\site-packages (from pyldavis) (1.5.2)\n",
      "Requirement already satisfied: setuptools in c:\\tools\\anaconda3\\lib\\site-packages (from pyldavis) (50.3.1.post20201107)\n",
      "Requirement already satisfied: gensim in c:\\tools\\anaconda3\\lib\\site-packages (from pyldavis) (3.8.1)\n",
      "Requirement already satisfied: numpy>=1.20.0 in c:\\tools\\anaconda3\\lib\\site-packages (from pyldavis) (1.21.0)\n",
      "Requirement already satisfied: future in c:\\tools\\anaconda3\\lib\\site-packages (from pyldavis) (0.18.2)\n",
      "Requirement already satisfied: jinja2 in c:\\tools\\anaconda3\\lib\\site-packages (from pyldavis) (2.11.2)\n",
      "Requirement already satisfied: threadpoolctl>=2.0.0 in c:\\tools\\anaconda3\\lib\\site-packages (from scikit-learn->pyldavis) (2.1.0)\n",
      "Requirement already satisfied: python-dateutil>=2.7.3 in c:\\tools\\anaconda3\\lib\\site-packages (from pandas>=1.2.0->pyldavis) (2.8.1)\n",
      "Requirement already satisfied: pytz>=2017.3 in c:\\tools\\anaconda3\\lib\\site-packages (from pandas>=1.2.0->pyldavis) (2020.1)\n",
      "Requirement already satisfied: six>=1.5.0 in c:\\tools\\anaconda3\\lib\\site-packages (from gensim->pyldavis) (1.15.0)\n",
      "Requirement already satisfied: smart-open>=1.8.1 in c:\\tools\\anaconda3\\lib\\site-packages (from gensim->pyldavis) (5.1.0)\n",
      "Requirement already satisfied: MarkupSafe>=0.23 in c:\\tools\\anaconda3\\lib\\site-packages (from jinja2->pyldavis) (1.1.1)\n"
     ]
    }
   ],
   "source": [
    "import sys\n",
    "!{sys.executable} -m pip install spacy\n",
    "!{sys.executable} -m pip install pyldavis"
   ]
  },
  {
   "cell_type": "code",
   "execution_count": 10,
   "metadata": {},
   "outputs": [
    {
     "name": "stderr",
     "output_type": "stream",
     "text": [
      "C:\\tools\\Anaconda3\\lib\\site-packages\\ipykernel\\ipkernel.py:287: DeprecationWarning: `should_run_async` will not call `transform_cell` automatically in the future. Please pass the result to `transformed_cell` argument and any exception that happen during thetransform in `preprocessing_exc_tuple` in IPython 7.17 and above.\n",
      "  and should_run_async(code)\n"
     ]
    }
   ],
   "source": [
    "# Gensim\n",
    "import gensim\n",
    "import gensim.corpora as corpora\n",
    "from gensim.utils import simple_preprocess\n",
    "from gensim import models\n",
    "from gensim.models import LdaModel, CoherenceModel\n",
    "from gensim.models.wrappers import LdaMallet\n",
    "import pprint\n",
    "\n",
    "# spacy for lemmatization\n",
    "import spacy\n",
    "from spacy.lang.en import English\n",
    "\n",
    "# Plotting tools\n",
    "import pyLDAvis\n",
    "import pyLDAvis.gensim_models\n",
    "import matplotlib.pyplot as plt\n",
    "get_ipython().run_line_magic('matplotlib', 'inline')\n",
    "\n",
    "import pandas as pd\n",
    "import numpy as np"
   ]
  },
  {
   "cell_type": "code",
   "execution_count": 11,
   "metadata": {},
   "outputs": [
    {
     "name": "stderr",
     "output_type": "stream",
     "text": [
      "C:\\tools\\Anaconda3\\lib\\site-packages\\ipykernel\\ipkernel.py:287: DeprecationWarning: `should_run_async` will not call `transform_cell` automatically in the future. Please pass the result to `transformed_cell` argument and any exception that happen during thetransform in `preprocessing_exc_tuple` in IPython 7.17 and above.\n",
      "  and should_run_async(code)\n",
      "<unknown>:1: DeprecationWarning: invalid escape sequence \\s\n"
     ]
    },
    {
     "name": "stdout",
     "output_type": "stream",
     "text": [
      "          AcceptedAnswerId  AnswerCount  \\\n",
      "Id                                        \n",
      "1468404            1549052            3   \n",
      "1583856            1634592           14   \n",
      "1914947            1915407            4   \n",
      "1961341            1961838            1   \n",
      "2039387            2044192            4   \n",
      "...                    ...          ...   \n",
      "66394506          66397036            1   \n",
      "66394874          66394940            1   \n",
      "66400722          66400807            1   \n",
      "66402094          66403323            1   \n",
      "66405059          66405291            2   \n",
      "\n",
      "                                                       Body  \\\n",
      "Id                                                            \n",
      "1468404   <p>Does mono touch allow you to do cross iPhon...   \n",
      "1583856   <p>After sitting through a session today on Mo...   \n",
      "1914947   <p>What is the best approach to implement tabs...   \n",
      "1961341   <p>How can I check internet access with MonoTo...   \n",
      "2039387   <p>I'm new to MonoTouch and iPhone development...   \n",
      "...                                                     ...   \n",
      "66394506  <p>I am trying to change the text of a <code>T...   \n",
      "66394874  <p>I'm working on a Flutter app which needs up...   \n",
      "66400722  <p>I have Node.js app, served by express, with...   \n",
      "66402094  <p>I have birthdays as timestamp stored in my ...   \n",
      "66405059  <p>I have two lists of integers in Dart that a...   \n",
      "\n",
      "                       ClosedDate  CommentCount CommunityOwnedDate  \\\n",
      "Id                                                                   \n",
      "1468404                       NaN             0                NaN   \n",
      "1583856   2019-09-23 16:34:03.127             1                NaN   \n",
      "1914947                       NaN             0                NaN   \n",
      "1961341                       NaN             1                NaN   \n",
      "2039387                       NaN             1                NaN   \n",
      "...                           ...           ...                ...   \n",
      "66394506                      NaN             0                NaN   \n",
      "66394874                      NaN             0                NaN   \n",
      "66400722                      NaN             0                NaN   \n",
      "66402094                      NaN             2                NaN   \n",
      "66405059                      NaN             0                NaN   \n",
      "\n",
      "                     CreationDate  FavoriteCount         LastActivityDate  \\\n",
      "Id                                                                          \n",
      "1468404   2009-09-23 20:42:43.883              2  2009-10-10 20:52:40.330   \n",
      "1583856   2009-10-18 02:47:39.653             91  2019-09-23 14:03:02.387   \n",
      "1914947   2009-12-16 14:23:59.397              5  2019-05-21 10:06:27.997   \n",
      "1961341   2009-12-25 15:38:21.420              2  2012-05-23 07:10:33.650   \n",
      "2039387   2010-01-11 01:12:49.940              2  2014-01-19 15:43:12.283   \n",
      "...                           ...            ...                      ...   \n",
      "66394506  2021-02-27 00:40:10.913              0  2021-02-27 08:44:47.877   \n",
      "66394874  2021-02-27 01:51:18.910              0  2021-02-27 04:55:46.833   \n",
      "66400722  2021-02-27 16:08:10.713              0  2021-02-27 17:42:53.847   \n",
      "66402094  2021-02-27 18:27:54.570              0  2021-02-27 20:48:58.980   \n",
      "66405059  2021-02-28 01:23:23.327              0  2021-02-28 05:25:16.493   \n",
      "\n",
      "                     LastEditDate LastEditorDisplayName  LastEditorUserId  \\\n",
      "Id                                                                          \n",
      "1468404   2009-09-23 20:45:37.153                   NaN             25981   \n",
      "1583856   2012-03-07 16:08:46.430              user1228                 0   \n",
      "1914947   2019-05-21 10:06:27.997                   NaN           4751173   \n",
      "1961341   2009-12-25 18:33:38.633                   NaN             30618   \n",
      "2039387   2014-01-19 15:43:12.283                   NaN            578411   \n",
      "...                           ...                   ...               ...   \n",
      "66394506  2021-02-27 01:25:55.750                   NaN          15101910   \n",
      "66394874  2021-02-27 04:55:46.833                   NaN            209103   \n",
      "66400722  2021-02-27 17:42:53.847                   NaN          15249278   \n",
      "66402094                      NaN                   NaN                 0   \n",
      "66405059                      NaN                   NaN                 0   \n",
      "\n",
      "          OwnerUserId  ParentId  PostTypeId  Score  \\\n",
      "Id                                                   \n",
      "1468404        139096         0           1      3   \n",
      "1583856        142017         0           1    273   \n",
      "1914947         78101         0           1      6   \n",
      "1961341         34155         0           1     14   \n",
      "2039387        247706         0           1     14   \n",
      "...               ...       ...         ...    ...   \n",
      "66394506     15101910         0           1      0   \n",
      "66394874     13745697         0           1     -1   \n",
      "66400722     15249278         0           1      0   \n",
      "66402094      4338278         0           1      0   \n",
      "66405059        59195         0           1      0   \n",
      "\n",
      "                                                       Tags  \\\n",
      "Id                                                            \n",
      "1468404                <iphone><communication><xamarin.ios>   \n",
      "1583856                <c#><objective-c><mono><xamarin.ios>   \n",
      "1914947     <iphone><uiview><uiviewcontroller><xamarin.ios>   \n",
      "1961341                               <iphone><xamarin.ios>   \n",
      "2039387                               <iphone><xamarin.ios>   \n",
      "...                                                     ...   \n",
      "66394506  <c#><android><xamarin><xamarin.android><androi...   \n",
      "66394874  <flutter><google-cloud-firestore><async-await>...   \n",
      "66400722                        <node.js><reactjs><express>   \n",
      "66402094                           <google-cloud-firestore>   \n",
      "66405059                                             <dart>   \n",
      "\n",
      "                                                      Title  ViewCount  \n",
      "Id                                                                      \n",
      "1468404         Cross iPhone communication using mono touch       1464  \n",
      "1583856    How to decide between MonoTouch and Objective-C?      28366  \n",
      "1914947                        Web-like tabs for the iPhone       1053  \n",
      "1961341            Check for internet access with monotouch       5548  \n",
      "2039387    Images in Interface Builder when using MonoTouch       4257  \n",
      "...                                                     ...        ...  \n",
      "66394506       Change text of TextView on ImageButton click         47  \n",
      "66394874                  Why Flutter \"await\" doesn't wait?         38  \n",
      "66400722  Image from express static folder is not appear...         20  \n",
      "66402094  Firestore query for a date field where the yea...         10  \n",
      "66405059  How can I add the matching elements of two lis...         24  \n",
      "\n",
      "[265020 rows x 19 columns]\n",
      "Wall time: 6.27 s\n"
     ]
    },
    {
     "name": "stderr",
     "output_type": "stream",
     "text": [
      "<decorator-gen-55>:2: DtypeWarning: Columns (6) have mixed types.Specify dtype option on import or set low_memory=False.\n"
     ]
    }
   ],
   "source": [
    "%%time \n",
    "reviews_datasets=pd.read_csv('D:\\so-data\\PostsChosenV1.csv' , index_col='Id', )\n",
    "# postTagsRawData = pd.read_csv('PostTagsV3.csv', chunksize=1000)\n",
    "# postTagsRawData = pd.read_excel('PostsTags2.xlsx')\n",
    "print(reviews_datasets)"
   ]
  },
  {
   "cell_type": "code",
   "execution_count": 12,
   "metadata": {},
   "outputs": [
    {
     "name": "stderr",
     "output_type": "stream",
     "text": [
      "C:\\tools\\Anaconda3\\lib\\site-packages\\ipykernel\\ipkernel.py:287: DeprecationWarning: `should_run_async` will not call `transform_cell` automatically in the future. Please pass the result to `transformed_cell` argument and any exception that happen during thetransform in `preprocessing_exc_tuple` in IPython 7.17 and above.\n",
      "  and should_run_async(code)\n"
     ]
    }
   ],
   "source": [
    "reviews_datasets.dropna()\n",
    "obody = reviews_datasets['Body']"
   ]
  },
  {
   "cell_type": "code",
   "execution_count": 13,
   "metadata": {},
   "outputs": [
    {
     "name": "stderr",
     "output_type": "stream",
     "text": [
      "C:\\tools\\Anaconda3\\lib\\site-packages\\ipykernel\\ipkernel.py:287: DeprecationWarning: `should_run_async` will not call `transform_cell` automatically in the future. Please pass the result to `transformed_cell` argument and any exception that happen during thetransform in `preprocessing_exc_tuple` in IPython 7.17 and above.\n",
      "  and should_run_async(code)\n"
     ]
    },
    {
     "data": {
      "text/plain": "         AcceptedAnswerId  AnswerCount  \\\nId                                       \n1468404           1549052            3   \n1583856           1634592           14   \n1914947           1915407            4   \n1961341           1961838            1   \n2039387           2044192            4   \n\n                                                      Body  \\\nId                                                           \n1468404  <p>Does mono touch allow you to do cross iPhon...   \n1583856  <p>After sitting through a session today on Mo...   \n1914947  <p>What is the best approach to implement tabs...   \n1961341  <p>How can I check internet access with MonoTo...   \n2039387  <p>I'm new to MonoTouch and iPhone development...   \n\n                      ClosedDate  CommentCount CommunityOwnedDate  \\\nId                                                                  \n1468404                      NaN             0                NaN   \n1583856  2019-09-23 16:34:03.127             1                NaN   \n1914947                      NaN             0                NaN   \n1961341                      NaN             1                NaN   \n2039387                      NaN             1                NaN   \n\n                    CreationDate  FavoriteCount         LastActivityDate  \\\nId                                                                         \n1468404  2009-09-23 20:42:43.883              2  2009-10-10 20:52:40.330   \n1583856  2009-10-18 02:47:39.653             91  2019-09-23 14:03:02.387   \n1914947  2009-12-16 14:23:59.397              5  2019-05-21 10:06:27.997   \n1961341  2009-12-25 15:38:21.420              2  2012-05-23 07:10:33.650   \n2039387  2010-01-11 01:12:49.940              2  2014-01-19 15:43:12.283   \n\n                    LastEditDate LastEditorDisplayName  LastEditorUserId  \\\nId                                                                         \n1468404  2009-09-23 20:45:37.153                   NaN             25981   \n1583856  2012-03-07 16:08:46.430              user1228                 0   \n1914947  2019-05-21 10:06:27.997                   NaN           4751173   \n1961341  2009-12-25 18:33:38.633                   NaN             30618   \n2039387  2014-01-19 15:43:12.283                   NaN            578411   \n\n         OwnerUserId  ParentId  PostTypeId  Score  \\\nId                                                  \n1468404       139096         0           1      3   \n1583856       142017         0           1    273   \n1914947        78101         0           1      6   \n1961341        34155         0           1     14   \n2039387       247706         0           1     14   \n\n                                                    Tags  \\\nId                                                         \n1468404             <iphone><communication><xamarin.ios>   \n1583856             <c#><objective-c><mono><xamarin.ios>   \n1914947  <iphone><uiview><uiviewcontroller><xamarin.ios>   \n1961341                            <iphone><xamarin.ios>   \n2039387                            <iphone><xamarin.ios>   \n\n                                                    Title  ViewCount  \nId                                                                    \n1468404       Cross iPhone communication using mono touch       1464  \n1583856  How to decide between MonoTouch and Objective-C?      28366  \n1914947                      Web-like tabs for the iPhone       1053  \n1961341          Check for internet access with monotouch       5548  \n2039387  Images in Interface Builder when using MonoTouch       4257  ",
      "text/html": "<div>\n<style scoped>\n    .dataframe tbody tr th:only-of-type {\n        vertical-align: middle;\n    }\n\n    .dataframe tbody tr th {\n        vertical-align: top;\n    }\n\n    .dataframe thead th {\n        text-align: right;\n    }\n</style>\n<table border=\"1\" class=\"dataframe\">\n  <thead>\n    <tr style=\"text-align: right;\">\n      <th></th>\n      <th>AcceptedAnswerId</th>\n      <th>AnswerCount</th>\n      <th>Body</th>\n      <th>ClosedDate</th>\n      <th>CommentCount</th>\n      <th>CommunityOwnedDate</th>\n      <th>CreationDate</th>\n      <th>FavoriteCount</th>\n      <th>LastActivityDate</th>\n      <th>LastEditDate</th>\n      <th>LastEditorDisplayName</th>\n      <th>LastEditorUserId</th>\n      <th>OwnerUserId</th>\n      <th>ParentId</th>\n      <th>PostTypeId</th>\n      <th>Score</th>\n      <th>Tags</th>\n      <th>Title</th>\n      <th>ViewCount</th>\n    </tr>\n    <tr>\n      <th>Id</th>\n      <th></th>\n      <th></th>\n      <th></th>\n      <th></th>\n      <th></th>\n      <th></th>\n      <th></th>\n      <th></th>\n      <th></th>\n      <th></th>\n      <th></th>\n      <th></th>\n      <th></th>\n      <th></th>\n      <th></th>\n      <th></th>\n      <th></th>\n      <th></th>\n      <th></th>\n    </tr>\n  </thead>\n  <tbody>\n    <tr>\n      <th>1468404</th>\n      <td>1549052</td>\n      <td>3</td>\n      <td>&lt;p&gt;Does mono touch allow you to do cross iPhon...</td>\n      <td>NaN</td>\n      <td>0</td>\n      <td>NaN</td>\n      <td>2009-09-23 20:42:43.883</td>\n      <td>2</td>\n      <td>2009-10-10 20:52:40.330</td>\n      <td>2009-09-23 20:45:37.153</td>\n      <td>NaN</td>\n      <td>25981</td>\n      <td>139096</td>\n      <td>0</td>\n      <td>1</td>\n      <td>3</td>\n      <td>&lt;iphone&gt;&lt;communication&gt;&lt;xamarin.ios&gt;</td>\n      <td>Cross iPhone communication using mono touch</td>\n      <td>1464</td>\n    </tr>\n    <tr>\n      <th>1583856</th>\n      <td>1634592</td>\n      <td>14</td>\n      <td>&lt;p&gt;After sitting through a session today on Mo...</td>\n      <td>2019-09-23 16:34:03.127</td>\n      <td>1</td>\n      <td>NaN</td>\n      <td>2009-10-18 02:47:39.653</td>\n      <td>91</td>\n      <td>2019-09-23 14:03:02.387</td>\n      <td>2012-03-07 16:08:46.430</td>\n      <td>user1228</td>\n      <td>0</td>\n      <td>142017</td>\n      <td>0</td>\n      <td>1</td>\n      <td>273</td>\n      <td>&lt;c#&gt;&lt;objective-c&gt;&lt;mono&gt;&lt;xamarin.ios&gt;</td>\n      <td>How to decide between MonoTouch and Objective-C?</td>\n      <td>28366</td>\n    </tr>\n    <tr>\n      <th>1914947</th>\n      <td>1915407</td>\n      <td>4</td>\n      <td>&lt;p&gt;What is the best approach to implement tabs...</td>\n      <td>NaN</td>\n      <td>0</td>\n      <td>NaN</td>\n      <td>2009-12-16 14:23:59.397</td>\n      <td>5</td>\n      <td>2019-05-21 10:06:27.997</td>\n      <td>2019-05-21 10:06:27.997</td>\n      <td>NaN</td>\n      <td>4751173</td>\n      <td>78101</td>\n      <td>0</td>\n      <td>1</td>\n      <td>6</td>\n      <td>&lt;iphone&gt;&lt;uiview&gt;&lt;uiviewcontroller&gt;&lt;xamarin.ios&gt;</td>\n      <td>Web-like tabs for the iPhone</td>\n      <td>1053</td>\n    </tr>\n    <tr>\n      <th>1961341</th>\n      <td>1961838</td>\n      <td>1</td>\n      <td>&lt;p&gt;How can I check internet access with MonoTo...</td>\n      <td>NaN</td>\n      <td>1</td>\n      <td>NaN</td>\n      <td>2009-12-25 15:38:21.420</td>\n      <td>2</td>\n      <td>2012-05-23 07:10:33.650</td>\n      <td>2009-12-25 18:33:38.633</td>\n      <td>NaN</td>\n      <td>30618</td>\n      <td>34155</td>\n      <td>0</td>\n      <td>1</td>\n      <td>14</td>\n      <td>&lt;iphone&gt;&lt;xamarin.ios&gt;</td>\n      <td>Check for internet access with monotouch</td>\n      <td>5548</td>\n    </tr>\n    <tr>\n      <th>2039387</th>\n      <td>2044192</td>\n      <td>4</td>\n      <td>&lt;p&gt;I'm new to MonoTouch and iPhone development...</td>\n      <td>NaN</td>\n      <td>1</td>\n      <td>NaN</td>\n      <td>2010-01-11 01:12:49.940</td>\n      <td>2</td>\n      <td>2014-01-19 15:43:12.283</td>\n      <td>2014-01-19 15:43:12.283</td>\n      <td>NaN</td>\n      <td>578411</td>\n      <td>247706</td>\n      <td>0</td>\n      <td>1</td>\n      <td>14</td>\n      <td>&lt;iphone&gt;&lt;xamarin.ios&gt;</td>\n      <td>Images in Interface Builder when using MonoTouch</td>\n      <td>4257</td>\n    </tr>\n  </tbody>\n</table>\n</div>"
     },
     "execution_count": 13,
     "metadata": {},
     "output_type": "execute_result"
    }
   ],
   "source": [
    "reviews_datasets.head()\n",
    "#print(obody)"
   ]
  },
  {
   "cell_type": "code",
   "execution_count": 14,
   "metadata": {},
   "outputs": [
    {
     "name": "stderr",
     "output_type": "stream",
     "text": [
      "C:\\tools\\Anaconda3\\lib\\site-packages\\ipykernel\\ipkernel.py:287: DeprecationWarning: `should_run_async` will not call `transform_cell` automatically in the future. Please pass the result to `transformed_cell` argument and any exception that happen during thetransform in `preprocessing_exc_tuple` in IPython 7.17 and above.\n",
      "  and should_run_async(code)\n"
     ]
    }
   ],
   "source": [
    "from nltk import ngrams\n",
    "from nltk.tokenize import sent_tokenize\n",
    "import nltk\n",
    "\n",
    "import re\n",
    "from nltk.corpus import stopwords\n",
    "from nltk.tokenize import ToktokTokenizer\n",
    "from nltk.stem.snowball import SnowballStemmer\n",
    "\n",
    "tokenizer = ToktokTokenizer()\n",
    "stemmer = SnowballStemmer('english')\n",
    "stop_words = set(stopwords.words('english'))"
   ]
  },
  {
   "cell_type": "code",
   "execution_count": 15,
   "metadata": {},
   "outputs": [
    {
     "name": "stderr",
     "output_type": "stream",
     "text": [
      "C:\\tools\\Anaconda3\\lib\\site-packages\\ipykernel\\ipkernel.py:287: DeprecationWarning: `should_run_async` will not call `transform_cell` automatically in the future. Please pass the result to `transformed_cell` argument and any exception that happen during thetransform in `preprocessing_exc_tuple` in IPython 7.17 and above.\n",
      "  and should_run_async(code)\n"
     ]
    },
    {
     "ename": "KeyboardInterrupt",
     "evalue": "",
     "output_type": "error",
     "traceback": [
      "\u001B[1;31m---------------------------------------------------------------------------\u001B[0m",
      "\u001B[1;31mKeyboardInterrupt\u001B[0m                         Traceback (most recent call last)",
      "\u001B[1;32m<ipython-input-15-84e8b8b2f3ad>\u001B[0m in \u001B[0;36m<module>\u001B[1;34m\u001B[0m\n\u001B[0;32m      5\u001B[0m \u001B[1;33m\u001B[0m\u001B[0m\n\u001B[0;32m      6\u001B[0m \u001B[1;31m# Remove new line characters\u001B[0m\u001B[1;33m\u001B[0m\u001B[1;33m\u001B[0m\u001B[1;33m\u001B[0m\u001B[0m\n\u001B[1;32m----> 7\u001B[1;33m \u001B[0mdata\u001B[0m \u001B[1;33m=\u001B[0m \u001B[1;33m[\u001B[0m\u001B[0mre\u001B[0m\u001B[1;33m.\u001B[0m\u001B[0msub\u001B[0m\u001B[1;33m(\u001B[0m\u001B[1;34mr'\\s+'\u001B[0m\u001B[1;33m,\u001B[0m \u001B[1;34m' '\u001B[0m\u001B[1;33m,\u001B[0m \u001B[0msent\u001B[0m\u001B[1;33m)\u001B[0m \u001B[1;32mfor\u001B[0m \u001B[0msent\u001B[0m \u001B[1;32min\u001B[0m \u001B[0mdata\u001B[0m\u001B[1;33m]\u001B[0m\u001B[1;33m\u001B[0m\u001B[1;33m\u001B[0m\u001B[0m\n\u001B[0m\u001B[0;32m      8\u001B[0m \u001B[1;33m\u001B[0m\u001B[0m\n\u001B[0;32m      9\u001B[0m \u001B[1;31m# Remove distracting single and double quotes\u001B[0m\u001B[1;33m\u001B[0m\u001B[1;33m\u001B[0m\u001B[1;33m\u001B[0m\u001B[0m\n",
      "\u001B[1;32m<ipython-input-15-84e8b8b2f3ad>\u001B[0m in \u001B[0;36m<listcomp>\u001B[1;34m(.0)\u001B[0m\n\u001B[0;32m      5\u001B[0m \u001B[1;33m\u001B[0m\u001B[0m\n\u001B[0;32m      6\u001B[0m \u001B[1;31m# Remove new line characters\u001B[0m\u001B[1;33m\u001B[0m\u001B[1;33m\u001B[0m\u001B[1;33m\u001B[0m\u001B[0m\n\u001B[1;32m----> 7\u001B[1;33m \u001B[0mdata\u001B[0m \u001B[1;33m=\u001B[0m \u001B[1;33m[\u001B[0m\u001B[0mre\u001B[0m\u001B[1;33m.\u001B[0m\u001B[0msub\u001B[0m\u001B[1;33m(\u001B[0m\u001B[1;34mr'\\s+'\u001B[0m\u001B[1;33m,\u001B[0m \u001B[1;34m' '\u001B[0m\u001B[1;33m,\u001B[0m \u001B[0msent\u001B[0m\u001B[1;33m)\u001B[0m \u001B[1;32mfor\u001B[0m \u001B[0msent\u001B[0m \u001B[1;32min\u001B[0m \u001B[0mdata\u001B[0m\u001B[1;33m]\u001B[0m\u001B[1;33m\u001B[0m\u001B[1;33m\u001B[0m\u001B[0m\n\u001B[0m\u001B[0;32m      8\u001B[0m \u001B[1;33m\u001B[0m\u001B[0m\n\u001B[0;32m      9\u001B[0m \u001B[1;31m# Remove distracting single and double quotes\u001B[0m\u001B[1;33m\u001B[0m\u001B[1;33m\u001B[0m\u001B[1;33m\u001B[0m\u001B[0m\n",
      "\u001B[1;31mKeyboardInterrupt\u001B[0m: "
     ]
    }
   ],
   "source": [
    "import re\n",
    "\n",
    "# Convert to list\n",
    "data = reviews_datasets.Body.values.tolist()\n",
    "\n",
    "# Remove new line characters\n",
    "data = [re.sub(r'\\s+', ' ', sent) for sent in data]\n",
    "\n",
    "# Remove distracting single and double quotes\n",
    "data = [re.sub(\"\\'\", \"\", sent) for sent in data]\n",
    "data = [re.sub('\\\", \"', '', sent) for sent in data]\n",
    "data = [re.sub('\\\\\"', '', sent) for sent in data]\n",
    "data = [re.sub('\\\"', '', sent) for sent in data]\n",
    "data = [re.sub('[\\\\:\"]', '', sent) for sent in data]\n",
    "\n",
    "# Remove web links\n",
    "data = [re.sub(r'^https?:\\/\\/.*[\\r\\n]*', '', sent) for sent in data]\n",
    "\n",
    "print(data[:3])"
   ]
  },
  {
   "cell_type": "code",
   "execution_count": 8,
   "metadata": {},
   "outputs": [
    {
     "name": "stderr",
     "output_type": "stream",
     "text": [
      "C:\\tools\\Anaconda3\\lib\\site-packages\\ipykernel\\ipkernel.py:287: DeprecationWarning: `should_run_async` will not call `transform_cell` automatically in the future. Please pass the result to `transformed_cell` argument and any exception that happen during thetransform in `preprocessing_exc_tuple` in IPython 7.17 and above.\n",
      "  and should_run_async(code)\n"
     ]
    },
    {
     "name": "stdout",
     "output_type": "stream",
     "text": [
      "[['does', 'mono', 'touch', 'allow', 'you', 'to', 'do', 'cross', 'iphone', 'communication', 'iphones', 'in', 'the', 'same', 'room', 'if', 'so', 'whats', 'the', 'api'], ['after', 'sitting', 'through', 'session', 'today', 'on', 'mono', 'at', 'local', 'net', 'event', 'the', 'use', 'of', 'monotouch', 'was', 'touched', 'upon', 'as', 'an', 'alternative', 'for', 'iphone', 'development', 'being', 'very', 'comfortable', 'in', 'and', 'net', 'it', 'seems', 'like', 'an', 'appealing', 'option', 'despite', 'some', 'of', 'the', 'quirkiness', 'of', 'the', 'mono', 'stack', 'however', 'since', 'monotouch', 'costs', 'im', 'somewhat', 'torn', 'on', 'if', 'this', 'is', 'the', 'way', 'to', 'go', 'for', 'iphone', 'development', 'anyone', 'have', 'an', 'experience', 'developing', 'with', 'monotouch', 'and', 'objective', 'and', 'if', 'so', 'is', 'developing', 'with', 'monotouch', 'that', 'much', 'simpler', 'and', 'quicker', 'than', 'learning', 'objective', 'and', 'in', 'turn', 'worth', 'the'], ['what', 'is', 'the', 'best', 'approach', 'to', 'implement', 'tabs', 'that', 'look', 'like', 'web', 'applications', 'on', 'the', 'iphone', 'like', 'the', 'screenshot', 'below', 'notice', 'the', 'checkin', 'info', 'friends', 'tabs', 'these', 'are', 'not', 'part', 'of', 'the', 'uikit', 'standard', 'library', 'but', 'seems', 'to', 'be', 'very', 'common', 'lately', 'ive', 'spent', 'considerable', 'time', 'developing', 'applications', 'for', 'the', 'iphone', 'but', 'not', 'developing', 'controls', 'like', 'that', 'one', 'what', 'would', 'be', 'the', 'best', 'approach', 'here', 'ul', 'li', 'create', 'new', 'uiview', 'for', 'each', 'tab', 'content', 'and', 'add', 'the', 'three', 'subviews', 'to', 'the', 'mainview', 'straight', 'away', 'li', 'li', 'create', 'new', 'uiviews', 'only', 'when', 'the', 'user', 'clicks', 'on', 'each', 'of', 'the', 'tabs', 'li', 'li', 'put', 'all', 'the', 'content', 'in', 'uiscrollview', 'and', 'just', 'change', 'the', 'page', 'as', 'the', 'user', 'clicks', 'on', 'each', 'tab', 'li', 'ul', 'maybe', 'there', 'are', 'open', 'source', 'controls', 'for', 'this', 'out', 'there', 'couldnt', 'find', 'anything', 'href', 'https', 'stack', 'imgur', 'com', 'crg', 'jpg', 'rel', 'nofollow', 'noreferrer', 'img', 'src', 'https', 'stack', 'imgur', 'com', 'crg', 'jpg', 'alt', 'alt', 'text', 'br', 'sub', 'source', 'href', 'http', 'www', 'foursquaregame', 'com', 'foursquare', 'game', 'images', 'foursquare', 'game', 'mobile', 'app', 'jpg', 'rel', 'nofollow', 'noreferrer', 'foursquaregame', 'com', 'sub']]\n"
     ]
    }
   ],
   "source": [
    "# Tokenize words and text clean up\n",
    "def sent_to_words(sentences):\n",
    "    for sentence in sentences:\n",
    "        yield(gensim.utils.simple_preprocess(str(sentence), deacc=True))  # deacc=True removes punctuations\n",
    "\n",
    "data_words = list(sent_to_words(data))\n",
    "\n",
    "print(data_words[:3])"
   ]
  },
  {
   "cell_type": "code",
   "execution_count": 9,
   "metadata": {},
   "outputs": [
    {
     "name": "stderr",
     "output_type": "stream",
     "text": [
      "C:\\tools\\Anaconda3\\lib\\site-packages\\ipykernel\\ipkernel.py:287: DeprecationWarning: `should_run_async` will not call `transform_cell` automatically in the future. Please pass the result to `transformed_cell` argument and any exception that happen during thetransform in `preprocessing_exc_tuple` in IPython 7.17 and above.\n",
      "  and should_run_async(code)\n",
      "ERROR:root:Internal Python error in the inspect module.\n",
      "Below is the traceback from this internal error.\n",
      "\n"
     ]
    },
    {
     "name": "stdout",
     "output_type": "stream",
     "text": [
      "Traceback (most recent call last):\n",
      "  File \"C:\\tools\\Anaconda3\\lib\\site-packages\\IPython\\core\\interactiveshell.py\", line 3418, in run_code\n",
      "    exec(code_obj, self.user_global_ns, self.user_ns)\n",
      "  File \"<ipython-input-9-7a2a774a9fb7>\", line 3, in <module>\n",
      "    trigram = gensim.models.Phrases(bigram[data_words], threshold=75)\n",
      "  File \"C:\\tools\\Anaconda3\\lib\\site-packages\\gensim\\models\\phrases.py\", line 419, in __init__\n",
      "    self.add_vocab(sentences)\n",
      "  File \"C:\\tools\\Anaconda3\\lib\\site-packages\\gensim\\models\\phrases.py\", line 565, in add_vocab\n",
      "    min_reduce, vocab, total_words = self.learn_vocab(\n",
      "  File \"C:\\tools\\Anaconda3\\lib\\site-packages\\gensim\\models\\phrases.py\", line 500, in learn_vocab\n",
      "    for sentence_no, sentence in enumerate(sentences):\n",
      "  File \"C:\\tools\\Anaconda3\\lib\\site-packages\\gensim\\interfaces.py\", line 181, in __iter__\n",
      "    yield self.obj[doc]\n",
      "  File \"C:\\tools\\Anaconda3\\lib\\site-packages\\gensim\\models\\phrases.py\", line 682, in __getitem__\n",
      "    return _sentence2token(self, sentence)\n",
      "  File \"C:\\tools\\Anaconda3\\lib\\site-packages\\gensim\\models\\phrases.py\", line 304, in _sentence2token\n",
      "    for words, score in bigrams:\n",
      "  File \"C:\\tools\\Anaconda3\\lib\\site-packages\\gensim\\models\\phrases.py\", line 185, in analyze_sentence\n",
      "    score = self.score_item(\n",
      "  File \"C:\\tools\\Anaconda3\\lib\\site-packages\\gensim\\models\\phrases.py\", line 144, in score_item\n",
      "    bigram = self.delimiter.join(components)\n",
      "KeyboardInterrupt\n",
      "\n",
      "During handling of the above exception, another exception occurred:\n",
      "\n",
      "Traceback (most recent call last):\n",
      "  File \"C:\\tools\\Anaconda3\\lib\\site-packages\\IPython\\core\\interactiveshell.py\", line 2045, in showtraceback\n",
      "    stb = value._render_traceback_()\n",
      "AttributeError: 'KeyboardInterrupt' object has no attribute '_render_traceback_'\n",
      "\n",
      "During handling of the above exception, another exception occurred:\n",
      "\n",
      "Traceback (most recent call last):\n",
      "  File \"C:\\tools\\Anaconda3\\lib\\site-packages\\IPython\\core\\ultratb.py\", line 1170, in get_records\n",
      "    return _fixed_getinnerframes(etb, number_of_lines_of_context, tb_offset)\n",
      "  File \"C:\\tools\\Anaconda3\\lib\\site-packages\\IPython\\core\\ultratb.py\", line 316, in wrapped\n",
      "    return f(*args, **kwargs)\n",
      "  File \"C:\\tools\\Anaconda3\\lib\\site-packages\\IPython\\core\\ultratb.py\", line 350, in _fixed_getinnerframes\n",
      "    records = fix_frame_records_filenames(inspect.getinnerframes(etb, context))\n",
      "  File \"C:\\tools\\Anaconda3\\lib\\inspect.py\", line 1503, in getinnerframes\n",
      "    frameinfo = (tb.tb_frame,) + getframeinfo(tb, context)\n",
      "  File \"C:\\tools\\Anaconda3\\lib\\inspect.py\", line 1461, in getframeinfo\n",
      "    filename = getsourcefile(frame) or getfile(frame)\n",
      "  File \"C:\\tools\\Anaconda3\\lib\\inspect.py\", line 708, in getsourcefile\n",
      "    if getattr(getmodule(object, filename), '__loader__', None) is not None:\n",
      "  File \"C:\\tools\\Anaconda3\\lib\\inspect.py\", line 754, in getmodule\n",
      "    os.path.realpath(f)] = module.__name__\n",
      "  File \"C:\\tools\\Anaconda3\\lib\\ntpath.py\", line 647, in realpath\n",
      "    path = _getfinalpathname(path)\n",
      "KeyboardInterrupt\n"
     ]
    },
    {
     "ename": "TypeError",
     "evalue": "object of type 'NoneType' has no len()",
     "output_type": "error",
     "traceback": [
      "\u001B[1;31m---------------------------------------------------------------------------\u001B[0m",
      "\u001B[1;31mKeyboardInterrupt\u001B[0m                         Traceback (most recent call last)",
      "    \u001B[1;31m[... skipping hidden 1 frame]\u001B[0m\n",
      "\u001B[1;32m<ipython-input-9-7a2a774a9fb7>\u001B[0m in \u001B[0;36m<module>\u001B[1;34m\u001B[0m\n\u001B[0;32m      2\u001B[0m \u001B[0mbigram\u001B[0m \u001B[1;33m=\u001B[0m \u001B[0mgensim\u001B[0m\u001B[1;33m.\u001B[0m\u001B[0mmodels\u001B[0m\u001B[1;33m.\u001B[0m\u001B[0mPhrases\u001B[0m\u001B[1;33m(\u001B[0m\u001B[0mdata_words\u001B[0m\u001B[1;33m,\u001B[0m \u001B[0mmin_count\u001B[0m\u001B[1;33m=\u001B[0m\u001B[1;36m5\u001B[0m\u001B[1;33m,\u001B[0m \u001B[0mthreshold\u001B[0m\u001B[1;33m=\u001B[0m\u001B[1;36m75\u001B[0m\u001B[1;33m)\u001B[0m \u001B[1;31m# higher threshold fewer phrases.\u001B[0m\u001B[1;33m\u001B[0m\u001B[1;33m\u001B[0m\u001B[0m\n\u001B[1;32m----> 3\u001B[1;33m \u001B[0mtrigram\u001B[0m \u001B[1;33m=\u001B[0m \u001B[0mgensim\u001B[0m\u001B[1;33m.\u001B[0m\u001B[0mmodels\u001B[0m\u001B[1;33m.\u001B[0m\u001B[0mPhrases\u001B[0m\u001B[1;33m(\u001B[0m\u001B[0mbigram\u001B[0m\u001B[1;33m[\u001B[0m\u001B[0mdata_words\u001B[0m\u001B[1;33m]\u001B[0m\u001B[1;33m,\u001B[0m \u001B[0mthreshold\u001B[0m\u001B[1;33m=\u001B[0m\u001B[1;36m75\u001B[0m\u001B[1;33m)\u001B[0m\u001B[1;33m\u001B[0m\u001B[1;33m\u001B[0m\u001B[0m\n\u001B[0m\u001B[0;32m      4\u001B[0m \u001B[1;33m\u001B[0m\u001B[0m\n",
      "\u001B[1;32mC:\\tools\\Anaconda3\\lib\\site-packages\\gensim\\models\\phrases.py\u001B[0m in \u001B[0;36m__init__\u001B[1;34m(self, sentences, min_count, threshold, max_vocab_size, delimiter, progress_per, scoring, common_terms)\u001B[0m\n\u001B[0;32m    418\u001B[0m         \u001B[1;32mif\u001B[0m \u001B[0msentences\u001B[0m \u001B[1;32mis\u001B[0m \u001B[1;32mnot\u001B[0m \u001B[1;32mNone\u001B[0m\u001B[1;33m:\u001B[0m\u001B[1;33m\u001B[0m\u001B[1;33m\u001B[0m\u001B[0m\n\u001B[1;32m--> 419\u001B[1;33m             \u001B[0mself\u001B[0m\u001B[1;33m.\u001B[0m\u001B[0madd_vocab\u001B[0m\u001B[1;33m(\u001B[0m\u001B[0msentences\u001B[0m\u001B[1;33m)\u001B[0m\u001B[1;33m\u001B[0m\u001B[1;33m\u001B[0m\u001B[0m\n\u001B[0m\u001B[0;32m    420\u001B[0m \u001B[1;33m\u001B[0m\u001B[0m\n",
      "\u001B[1;32mC:\\tools\\Anaconda3\\lib\\site-packages\\gensim\\models\\phrases.py\u001B[0m in \u001B[0;36madd_vocab\u001B[1;34m(self, sentences)\u001B[0m\n\u001B[0;32m    564\u001B[0m         \u001B[1;31m# counts collected in previous learn_vocab runs.\u001B[0m\u001B[1;33m\u001B[0m\u001B[1;33m\u001B[0m\u001B[1;33m\u001B[0m\u001B[0m\n\u001B[1;32m--> 565\u001B[1;33m         min_reduce, vocab, total_words = self.learn_vocab(\n\u001B[0m\u001B[0;32m    566\u001B[0m             sentences, self.max_vocab_size, self.delimiter, self.progress_per, self.common_terms)\n",
      "\u001B[1;32mC:\\tools\\Anaconda3\\lib\\site-packages\\gensim\\models\\phrases.py\u001B[0m in \u001B[0;36mlearn_vocab\u001B[1;34m(sentences, max_vocab_size, delimiter, progress_per, common_terms)\u001B[0m\n\u001B[0;32m    499\u001B[0m         \u001B[0mmin_reduce\u001B[0m \u001B[1;33m=\u001B[0m \u001B[1;36m1\u001B[0m\u001B[1;33m\u001B[0m\u001B[1;33m\u001B[0m\u001B[0m\n\u001B[1;32m--> 500\u001B[1;33m         \u001B[1;32mfor\u001B[0m \u001B[0msentence_no\u001B[0m\u001B[1;33m,\u001B[0m \u001B[0msentence\u001B[0m \u001B[1;32min\u001B[0m \u001B[0menumerate\u001B[0m\u001B[1;33m(\u001B[0m\u001B[0msentences\u001B[0m\u001B[1;33m)\u001B[0m\u001B[1;33m:\u001B[0m\u001B[1;33m\u001B[0m\u001B[1;33m\u001B[0m\u001B[0m\n\u001B[0m\u001B[0;32m    501\u001B[0m             \u001B[1;32mif\u001B[0m \u001B[0msentence_no\u001B[0m \u001B[1;33m%\u001B[0m \u001B[0mprogress_per\u001B[0m \u001B[1;33m==\u001B[0m \u001B[1;36m0\u001B[0m\u001B[1;33m:\u001B[0m\u001B[1;33m\u001B[0m\u001B[1;33m\u001B[0m\u001B[0m\n",
      "\u001B[1;32mC:\\tools\\Anaconda3\\lib\\site-packages\\gensim\\interfaces.py\u001B[0m in \u001B[0;36m__iter__\u001B[1;34m(self)\u001B[0m\n\u001B[0;32m    180\u001B[0m             \u001B[1;32mfor\u001B[0m \u001B[0mdoc\u001B[0m \u001B[1;32min\u001B[0m \u001B[0mself\u001B[0m\u001B[1;33m.\u001B[0m\u001B[0mcorpus\u001B[0m\u001B[1;33m:\u001B[0m\u001B[1;33m\u001B[0m\u001B[1;33m\u001B[0m\u001B[0m\n\u001B[1;32m--> 181\u001B[1;33m                 \u001B[1;32myield\u001B[0m \u001B[0mself\u001B[0m\u001B[1;33m.\u001B[0m\u001B[0mobj\u001B[0m\u001B[1;33m[\u001B[0m\u001B[0mdoc\u001B[0m\u001B[1;33m]\u001B[0m\u001B[1;33m\u001B[0m\u001B[1;33m\u001B[0m\u001B[0m\n\u001B[0m\u001B[0;32m    182\u001B[0m \u001B[1;33m\u001B[0m\u001B[0m\n",
      "\u001B[1;32mC:\\tools\\Anaconda3\\lib\\site-packages\\gensim\\models\\phrases.py\u001B[0m in \u001B[0;36m__getitem__\u001B[1;34m(self, sentence)\u001B[0m\n\u001B[0;32m    681\u001B[0m         \"\"\"\n\u001B[1;32m--> 682\u001B[1;33m         \u001B[1;32mreturn\u001B[0m \u001B[0m_sentence2token\u001B[0m\u001B[1;33m(\u001B[0m\u001B[0mself\u001B[0m\u001B[1;33m,\u001B[0m \u001B[0msentence\u001B[0m\u001B[1;33m)\u001B[0m\u001B[1;33m\u001B[0m\u001B[1;33m\u001B[0m\u001B[0m\n\u001B[0m\u001B[0;32m    683\u001B[0m \u001B[1;33m\u001B[0m\u001B[0m\n",
      "\u001B[1;32mC:\\tools\\Anaconda3\\lib\\site-packages\\gensim\\models\\phrases.py\u001B[0m in \u001B[0;36m_sentence2token\u001B[1;34m(phrase_class, sentence)\u001B[0m\n\u001B[0;32m    303\u001B[0m     \u001B[0mnew_s\u001B[0m \u001B[1;33m=\u001B[0m \u001B[1;33m[\u001B[0m\u001B[1;33m]\u001B[0m\u001B[1;33m\u001B[0m\u001B[1;33m\u001B[0m\u001B[0m\n\u001B[1;32m--> 304\u001B[1;33m     \u001B[1;32mfor\u001B[0m \u001B[0mwords\u001B[0m\u001B[1;33m,\u001B[0m \u001B[0mscore\u001B[0m \u001B[1;32min\u001B[0m \u001B[0mbigrams\u001B[0m\u001B[1;33m:\u001B[0m\u001B[1;33m\u001B[0m\u001B[1;33m\u001B[0m\u001B[0m\n\u001B[0m\u001B[0;32m    305\u001B[0m         \u001B[1;32mif\u001B[0m \u001B[0mscore\u001B[0m \u001B[1;32mis\u001B[0m \u001B[1;32mnot\u001B[0m \u001B[1;32mNone\u001B[0m\u001B[1;33m:\u001B[0m\u001B[1;33m\u001B[0m\u001B[1;33m\u001B[0m\u001B[0m\n",
      "\u001B[1;32mC:\\tools\\Anaconda3\\lib\\site-packages\\gensim\\models\\phrases.py\u001B[0m in \u001B[0;36manalyze_sentence\u001B[1;34m(self, sentence, threshold, common_terms, scorer)\u001B[0m\n\u001B[0;32m    184\u001B[0m                 \u001B[1;31m# test between last_uncommon\u001B[0m\u001B[1;33m\u001B[0m\u001B[1;33m\u001B[0m\u001B[1;33m\u001B[0m\u001B[0m\n\u001B[1;32m--> 185\u001B[1;33m                 score = self.score_item(\n\u001B[0m\u001B[0;32m    186\u001B[0m                     \u001B[0mworda\u001B[0m\u001B[1;33m=\u001B[0m\u001B[0mlast_uncommon\u001B[0m\u001B[1;33m,\u001B[0m\u001B[1;33m\u001B[0m\u001B[1;33m\u001B[0m\u001B[0m\n",
      "\u001B[1;32mC:\\tools\\Anaconda3\\lib\\site-packages\\gensim\\models\\phrases.py\u001B[0m in \u001B[0;36mscore_item\u001B[1;34m(self, worda, wordb, components, scorer)\u001B[0m\n\u001B[0;32m    143\u001B[0m         \u001B[1;32mif\u001B[0m \u001B[0mworda\u001B[0m \u001B[1;32min\u001B[0m \u001B[0mvocab\u001B[0m \u001B[1;32mand\u001B[0m \u001B[0mwordb\u001B[0m \u001B[1;32min\u001B[0m \u001B[0mvocab\u001B[0m\u001B[1;33m:\u001B[0m\u001B[1;33m\u001B[0m\u001B[1;33m\u001B[0m\u001B[0m\n\u001B[1;32m--> 144\u001B[1;33m             \u001B[0mbigram\u001B[0m \u001B[1;33m=\u001B[0m \u001B[0mself\u001B[0m\u001B[1;33m.\u001B[0m\u001B[0mdelimiter\u001B[0m\u001B[1;33m.\u001B[0m\u001B[0mjoin\u001B[0m\u001B[1;33m(\u001B[0m\u001B[0mcomponents\u001B[0m\u001B[1;33m)\u001B[0m\u001B[1;33m\u001B[0m\u001B[1;33m\u001B[0m\u001B[0m\n\u001B[0m\u001B[0;32m    145\u001B[0m             \u001B[1;32mif\u001B[0m \u001B[0mbigram\u001B[0m \u001B[1;32min\u001B[0m \u001B[0mvocab\u001B[0m\u001B[1;33m:\u001B[0m\u001B[1;33m\u001B[0m\u001B[1;33m\u001B[0m\u001B[0m\n",
      "\u001B[1;31mKeyboardInterrupt\u001B[0m: ",
      "\nDuring handling of the above exception, another exception occurred:\n",
      "\u001B[1;31mAttributeError\u001B[0m                            Traceback (most recent call last)",
      "\u001B[1;32mC:\\tools\\Anaconda3\\lib\\site-packages\\IPython\\core\\interactiveshell.py\u001B[0m in \u001B[0;36mshowtraceback\u001B[1;34m(self, exc_tuple, filename, tb_offset, exception_only, running_compiled_code)\u001B[0m\n\u001B[0;32m   2044\u001B[0m                         \u001B[1;31m# in the engines. This should return a list of strings.\u001B[0m\u001B[1;33m\u001B[0m\u001B[1;33m\u001B[0m\u001B[1;33m\u001B[0m\u001B[0m\n\u001B[1;32m-> 2045\u001B[1;33m                         \u001B[0mstb\u001B[0m \u001B[1;33m=\u001B[0m \u001B[0mvalue\u001B[0m\u001B[1;33m.\u001B[0m\u001B[0m_render_traceback_\u001B[0m\u001B[1;33m(\u001B[0m\u001B[1;33m)\u001B[0m\u001B[1;33m\u001B[0m\u001B[1;33m\u001B[0m\u001B[0m\n\u001B[0m\u001B[0;32m   2046\u001B[0m                     \u001B[1;32mexcept\u001B[0m \u001B[0mException\u001B[0m\u001B[1;33m:\u001B[0m\u001B[1;33m\u001B[0m\u001B[1;33m\u001B[0m\u001B[0m\n",
      "\u001B[1;31mAttributeError\u001B[0m: 'KeyboardInterrupt' object has no attribute '_render_traceback_'",
      "\nDuring handling of the above exception, another exception occurred:\n",
      "\u001B[1;31mTypeError\u001B[0m                                 Traceback (most recent call last)",
      "    \u001B[1;31m[... skipping hidden 1 frame]\u001B[0m\n",
      "\u001B[1;32mC:\\tools\\Anaconda3\\lib\\site-packages\\IPython\\core\\interactiveshell.py\u001B[0m in \u001B[0;36mshowtraceback\u001B[1;34m(self, exc_tuple, filename, tb_offset, exception_only, running_compiled_code)\u001B[0m\n\u001B[0;32m   2045\u001B[0m                         \u001B[0mstb\u001B[0m \u001B[1;33m=\u001B[0m \u001B[0mvalue\u001B[0m\u001B[1;33m.\u001B[0m\u001B[0m_render_traceback_\u001B[0m\u001B[1;33m(\u001B[0m\u001B[1;33m)\u001B[0m\u001B[1;33m\u001B[0m\u001B[1;33m\u001B[0m\u001B[0m\n\u001B[0;32m   2046\u001B[0m                     \u001B[1;32mexcept\u001B[0m \u001B[0mException\u001B[0m\u001B[1;33m:\u001B[0m\u001B[1;33m\u001B[0m\u001B[1;33m\u001B[0m\u001B[0m\n\u001B[1;32m-> 2047\u001B[1;33m                         stb = self.InteractiveTB.structured_traceback(etype,\n\u001B[0m\u001B[0;32m   2048\u001B[0m                                             value, tb, tb_offset=tb_offset)\n\u001B[0;32m   2049\u001B[0m \u001B[1;33m\u001B[0m\u001B[0m\n",
      "\u001B[1;32mC:\\tools\\Anaconda3\\lib\\site-packages\\IPython\\core\\ultratb.py\u001B[0m in \u001B[0;36mstructured_traceback\u001B[1;34m(self, etype, value, tb, tb_offset, number_of_lines_of_context)\u001B[0m\n\u001B[0;32m   1434\u001B[0m         \u001B[1;32melse\u001B[0m\u001B[1;33m:\u001B[0m\u001B[1;33m\u001B[0m\u001B[1;33m\u001B[0m\u001B[0m\n\u001B[0;32m   1435\u001B[0m             \u001B[0mself\u001B[0m\u001B[1;33m.\u001B[0m\u001B[0mtb\u001B[0m \u001B[1;33m=\u001B[0m \u001B[0mtb\u001B[0m\u001B[1;33m\u001B[0m\u001B[1;33m\u001B[0m\u001B[0m\n\u001B[1;32m-> 1436\u001B[1;33m         return FormattedTB.structured_traceback(\n\u001B[0m\u001B[0;32m   1437\u001B[0m             self, etype, value, tb, tb_offset, number_of_lines_of_context)\n\u001B[0;32m   1438\u001B[0m \u001B[1;33m\u001B[0m\u001B[0m\n",
      "\u001B[1;32mC:\\tools\\Anaconda3\\lib\\site-packages\\IPython\\core\\ultratb.py\u001B[0m in \u001B[0;36mstructured_traceback\u001B[1;34m(self, etype, value, tb, tb_offset, number_of_lines_of_context)\u001B[0m\n\u001B[0;32m   1334\u001B[0m         \u001B[1;32mif\u001B[0m \u001B[0mmode\u001B[0m \u001B[1;32min\u001B[0m \u001B[0mself\u001B[0m\u001B[1;33m.\u001B[0m\u001B[0mverbose_modes\u001B[0m\u001B[1;33m:\u001B[0m\u001B[1;33m\u001B[0m\u001B[1;33m\u001B[0m\u001B[0m\n\u001B[0;32m   1335\u001B[0m             \u001B[1;31m# Verbose modes need a full traceback\u001B[0m\u001B[1;33m\u001B[0m\u001B[1;33m\u001B[0m\u001B[1;33m\u001B[0m\u001B[0m\n\u001B[1;32m-> 1336\u001B[1;33m             return VerboseTB.structured_traceback(\n\u001B[0m\u001B[0;32m   1337\u001B[0m                 \u001B[0mself\u001B[0m\u001B[1;33m,\u001B[0m \u001B[0metype\u001B[0m\u001B[1;33m,\u001B[0m \u001B[0mvalue\u001B[0m\u001B[1;33m,\u001B[0m \u001B[0mtb\u001B[0m\u001B[1;33m,\u001B[0m \u001B[0mtb_offset\u001B[0m\u001B[1;33m,\u001B[0m \u001B[0mnumber_of_lines_of_context\u001B[0m\u001B[1;33m\u001B[0m\u001B[1;33m\u001B[0m\u001B[0m\n\u001B[0;32m   1338\u001B[0m             )\n",
      "\u001B[1;32mC:\\tools\\Anaconda3\\lib\\site-packages\\IPython\\core\\ultratb.py\u001B[0m in \u001B[0;36mstructured_traceback\u001B[1;34m(self, etype, evalue, etb, tb_offset, number_of_lines_of_context)\u001B[0m\n\u001B[0;32m   1191\u001B[0m         \u001B[1;34m\"\"\"Return a nice text document describing the traceback.\"\"\"\u001B[0m\u001B[1;33m\u001B[0m\u001B[1;33m\u001B[0m\u001B[0m\n\u001B[0;32m   1192\u001B[0m \u001B[1;33m\u001B[0m\u001B[0m\n\u001B[1;32m-> 1193\u001B[1;33m         formatted_exception = self.format_exception_as_a_whole(etype, evalue, etb, number_of_lines_of_context,\n\u001B[0m\u001B[0;32m   1194\u001B[0m                                                                tb_offset)\n\u001B[0;32m   1195\u001B[0m \u001B[1;33m\u001B[0m\u001B[0m\n",
      "\u001B[1;32mC:\\tools\\Anaconda3\\lib\\site-packages\\IPython\\core\\ultratb.py\u001B[0m in \u001B[0;36mformat_exception_as_a_whole\u001B[1;34m(self, etype, evalue, etb, number_of_lines_of_context, tb_offset)\u001B[0m\n\u001B[0;32m   1149\u001B[0m \u001B[1;33m\u001B[0m\u001B[0m\n\u001B[0;32m   1150\u001B[0m \u001B[1;33m\u001B[0m\u001B[0m\n\u001B[1;32m-> 1151\u001B[1;33m         \u001B[0mlast_unique\u001B[0m\u001B[1;33m,\u001B[0m \u001B[0mrecursion_repeat\u001B[0m \u001B[1;33m=\u001B[0m \u001B[0mfind_recursion\u001B[0m\u001B[1;33m(\u001B[0m\u001B[0morig_etype\u001B[0m\u001B[1;33m,\u001B[0m \u001B[0mevalue\u001B[0m\u001B[1;33m,\u001B[0m \u001B[0mrecords\u001B[0m\u001B[1;33m)\u001B[0m\u001B[1;33m\u001B[0m\u001B[1;33m\u001B[0m\u001B[0m\n\u001B[0m\u001B[0;32m   1152\u001B[0m \u001B[1;33m\u001B[0m\u001B[0m\n\u001B[0;32m   1153\u001B[0m         \u001B[0mframes\u001B[0m \u001B[1;33m=\u001B[0m \u001B[0mself\u001B[0m\u001B[1;33m.\u001B[0m\u001B[0mformat_records\u001B[0m\u001B[1;33m(\u001B[0m\u001B[0mrecords\u001B[0m\u001B[1;33m,\u001B[0m \u001B[0mlast_unique\u001B[0m\u001B[1;33m,\u001B[0m \u001B[0mrecursion_repeat\u001B[0m\u001B[1;33m)\u001B[0m\u001B[1;33m\u001B[0m\u001B[1;33m\u001B[0m\u001B[0m\n",
      "\u001B[1;32mC:\\tools\\Anaconda3\\lib\\site-packages\\IPython\\core\\ultratb.py\u001B[0m in \u001B[0;36mfind_recursion\u001B[1;34m(etype, value, records)\u001B[0m\n\u001B[0;32m    449\u001B[0m     \u001B[1;31m# first frame (from in to out) that looks different.\u001B[0m\u001B[1;33m\u001B[0m\u001B[1;33m\u001B[0m\u001B[1;33m\u001B[0m\u001B[0m\n\u001B[0;32m    450\u001B[0m     \u001B[1;32mif\u001B[0m \u001B[1;32mnot\u001B[0m \u001B[0mis_recursion_error\u001B[0m\u001B[1;33m(\u001B[0m\u001B[0metype\u001B[0m\u001B[1;33m,\u001B[0m \u001B[0mvalue\u001B[0m\u001B[1;33m,\u001B[0m \u001B[0mrecords\u001B[0m\u001B[1;33m)\u001B[0m\u001B[1;33m:\u001B[0m\u001B[1;33m\u001B[0m\u001B[1;33m\u001B[0m\u001B[0m\n\u001B[1;32m--> 451\u001B[1;33m         \u001B[1;32mreturn\u001B[0m \u001B[0mlen\u001B[0m\u001B[1;33m(\u001B[0m\u001B[0mrecords\u001B[0m\u001B[1;33m)\u001B[0m\u001B[1;33m,\u001B[0m \u001B[1;36m0\u001B[0m\u001B[1;33m\u001B[0m\u001B[1;33m\u001B[0m\u001B[0m\n\u001B[0m\u001B[0;32m    452\u001B[0m \u001B[1;33m\u001B[0m\u001B[0m\n\u001B[0;32m    453\u001B[0m     \u001B[1;31m# Select filename, lineno, func_name to track frames with\u001B[0m\u001B[1;33m\u001B[0m\u001B[1;33m\u001B[0m\u001B[1;33m\u001B[0m\u001B[0m\n",
      "\u001B[1;31mTypeError\u001B[0m: object of type 'NoneType' has no len()"
     ]
    }
   ],
   "source": [
    "# Build the bigram and trigram models\n",
    "bigram = gensim.models.Phrases(data_words, min_count=5, threshold=75) # higher threshold fewer phrases.\n",
    "trigram = gensim.models.Phrases(bigram[data_words], threshold=75)  \n"
   ]
  },
  {
   "cell_type": "code",
   "execution_count": null,
   "metadata": {},
   "outputs": [],
   "source": [
    "# Faster way to get a sentence clubbed as a trigram/bigram\n",
    "bigram_mod = gensim.models.phrases.Phraser(bigram)\n",
    "trigram_mod = gensim.models.phrases.Phraser(trigram)"
   ]
  },
  {
   "cell_type": "code",
   "execution_count": null,
   "metadata": {},
   "outputs": [],
   "source": [
    "# See trigram example\n",
    "print(trigram_mod[bigram_mod[data_words[3]]])"
   ]
  },
  {
   "cell_type": "code",
   "execution_count": null,
   "metadata": {},
   "outputs": [],
   "source": [
    "# Define functions for stopwords, bigrams, trigrams and lemmatization\n",
    "def remove_stopwords(texts):\n",
    "    return [[word for word in simple_preprocess(str(doc)) if word not in stop_words] for doc in texts]\n",
    "\n",
    "def make_bigrams(texts):\n",
    "    return [bigram_mod[doc] for doc in texts]\n",
    "\n",
    "def make_trigrams(texts):\n",
    "    return [trigram_mod[bigram_mod[doc]] for doc in texts]\n",
    "\n",
    "def lemmatization(texts, allowed_postags=['NOUN', 'ADJ', 'VERB', 'ADV']):\n",
    "    \"\"\"https://spacy.io/api/annotation\"\"\"\n",
    "    texts_out = []\n",
    "    for sent in texts:\n",
    "        doc = nlp(\" \".join(sent)) \n",
    "        texts_out.append([token.lemma_ for token in doc if token.pos_ in allowed_postags])\n",
    "    return texts_out"
   ]
  },
  {
   "cell_type": "code",
   "execution_count": null,
   "metadata": {
    "scrolled": true
   },
   "outputs": [],
   "source": [
    "data_words_nostops = remove_stopwords(data_words)\n",
    "\n",
    "# Form Bigrams\n",
    "data_words_bigrams = make_bigrams(data_words_nostops)\n",
    "\n",
    "# Initialize spacy 'en' model, keeping only tagger component (for efficiency)\n",
    "# python3 -m spacy download en\n",
    "nlp = spacy.load('en_core_web_sm', disable=['parser', 'ner'])\n",
    "#spacy.load('en_core_web_sm')\n",
    "\n",
    "# Do lemmatization keeping only noun, adj, vb, adv\n",
    "data_lemmatized = lemmatization(data_words_bigrams, allowed_postags=['NOUN', 'ADJ', 'VERB', 'ADV'])"
   ]
  },
  {
   "cell_type": "code",
   "execution_count": null,
   "metadata": {},
   "outputs": [],
   "source": [
    "print(data_lemmatized[:2])\n",
    "\n",
    "reviews_datasets['topics']=data_lemmatized\n",
    "reviews_datasets['obody']=obody\n",
    "reviews_datasets.head(20)\n",
    "#reset option to default value\n",
    "\n",
    "\n",
    "reviews_datasets.to_csv(\"E:\\\\so-data\\\\output1.csv\")"
   ]
  },
  {
   "cell_type": "code",
   "execution_count": null,
   "metadata": {},
   "outputs": [],
   "source": [
    "# Create Dictionary\n",
    "id2word = corpora.Dictionary(data_lemmatized)\n",
    "\n",
    "# Create Corpus\n",
    "texts = data_lemmatized\n",
    "\n",
    "# Term Document Frequency\n",
    "corpus = [id2word.doc2bow(text) for text in texts]"
   ]
  }
 ],
 "metadata": {
  "kernelspec": {
   "display_name": "Python 3",
   "language": "python",
   "name": "python3"
  },
  "language_info": {
   "codemirror_mode": {
    "name": "ipython",
    "version": 3
   },
   "file_extension": ".py",
   "mimetype": "text/x-python",
   "name": "python",
   "nbconvert_exporter": "python",
   "pygments_lexer": "ipython3",
   "version": "3.8.5"
  }
 },
 "nbformat": 4,
 "nbformat_minor": 4
}