{
 "cells": [
  {
   "cell_type": "code",
   "execution_count": 15,
   "metadata": {
    "scrolled": true
   },
   "outputs": [
    {
     "name": "stderr",
     "output_type": "stream",
     "text": [
      "C:\\tools\\Anaconda3\\lib\\site-packages\\ipykernel\\ipkernel.py:287: DeprecationWarning: `should_run_async` will not call `transform_cell` automatically in the future. Please pass the result to `transformed_cell` argument and any exception that happen during thetransform in `preprocessing_exc_tuple` in IPython 7.17 and above.\n",
      "  and should_run_async(code)\n"
     ]
    }
   ],
   "source": [
    "import sys\n",
    "# !{sys.executable} -m pip install spacy\n",
    "# !{sys.executable} -m pip install pyldavis\n",
    "# !{sys.executable} -m spacy download en"
   ]
  },
  {
   "cell_type": "code",
   "execution_count": 16,
   "metadata": {},
   "outputs": [
    {
     "name": "stderr",
     "output_type": "stream",
     "text": [
      "C:\\tools\\Anaconda3\\lib\\site-packages\\ipykernel\\ipkernel.py:287: DeprecationWarning: `should_run_async` will not call `transform_cell` automatically in the future. Please pass the result to `transformed_cell` argument and any exception that happen during thetransform in `preprocessing_exc_tuple` in IPython 7.17 and above.\n",
      "  and should_run_async(code)\n"
     ]
    }
   ],
   "source": [
    "# Gensim\n",
    "import gensim\n",
    "import gensim.corpora as corpora\n",
    "from gensim.utils import simple_preprocess\n",
    "from gensim import models\n",
    "from gensim.models import LdaModel, CoherenceModel\n",
    "from gensim.models.wrappers import LdaMallet\n",
    "import pprint\n",
    "\n",
    "# spacy for lemmatization\n",
    "import spacy\n",
    "from spacy.lang.en import English\n",
    "\n",
    "# Plotting tools\n",
    "import pyLDAvis\n",
    "import pyLDAvis.gensim_models\n",
    "import matplotlib.pyplot as plt\n",
    "get_ipython().run_line_magic('matplotlib', 'inline')\n",
    "\n",
    "import pandas as pd\n",
    "import numpy as np"
   ]
  },
  {
   "cell_type": "code",
   "execution_count": null,
   "metadata": {
    "pycharm": {
     "is_executing": true
    }
   },
   "outputs": [],
   "source": [
    "reviews_datasets=pd.read_csv('E:/so-data/flutter-posts.csv' , index_col='Id' )\n",
    "# reviews_datasets=reviews_datasets.head(1000)\n",
    "# postTagsRawData = pd.read_csv('PostTagsV3.csv', chunksize=1000)\n",
    "# postTagsRawData = pd.read_excel('PostsTags2.xlsx')\n",
    "print(reviews_datasets.head(20))"
   ]
  },
  {
   "cell_type": "code",
   "execution_count": 18,
   "metadata": {},
   "outputs": [
    {
     "name": "stderr",
     "output_type": "stream",
     "text": [
      "C:\\tools\\Anaconda3\\lib\\site-packages\\ipykernel\\ipkernel.py:287: DeprecationWarning: `should_run_async` will not call `transform_cell` automatically in the future. Please pass the result to `transformed_cell` argument and any exception that happen during thetransform in `preprocessing_exc_tuple` in IPython 7.17 and above.\n",
      "  and should_run_async(code)\n"
     ]
    }
   ],
   "source": [
    "reviews_datasets.dropna()\n",
    "\n",
    "# obody = reviews_datasets['Body']\n",
    "\n",
    "# changed to append both title and body\n",
    "reviews_datasets['CombinedTitleBody'] = reviews_datasets['Body']+' '+reviews_datasets['Title']+ ' '+ reviews_datasets['Answer']\n",
    "obody = reviews_datasets['CombinedTitleBody']"
   ]
  },
  {
   "cell_type": "code",
   "execution_count": 19,
   "metadata": {},
   "outputs": [
    {
     "name": "stderr",
     "output_type": "stream",
     "text": [
      "C:\\tools\\Anaconda3\\lib\\site-packages\\ipykernel\\ipkernel.py:287: DeprecationWarning: `should_run_async` will not call `transform_cell` automatically in the future. Please pass the result to `transformed_cell` argument and any exception that happen during thetransform in `preprocessing_exc_tuple` in IPython 7.17 and above.\n",
      "  and should_run_async(code)\n"
     ]
    },
    {
     "data": {
      "text/plain": "         AcceptedAnswerId  AnswerCount  \\\nId                                       \n7818138           7818152            1   \n7546412           7546460            3   \n9084026           9085832            1   \n9515398           9516060            1   \n7732962           7825428            4   \n\n                                                      Body ClosedDate  \\\nId                                                                      \n7818138  <p>I'm trying to build Dart on Windows XP (acc...        NaN   \n7546412  <p>I've read <a href=\"https://gist.github.com/...        NaN   \n9084026  <p>As mention in <a href=\"https://stackoverflo...        NaN   \n9515398  <p>Are we going to be able to use dart not onl...        NaN   \n7732962  <p>How can I run a Dart application? Do I need...        NaN   \n\n         CommentCount CommunityOwnedDate             CreationDate  \\\nId                                                                  \n7818138             0                NaN  2011-10-19 07:50:54.907   \n7546412             2                NaN  2011-09-25 15:16:11.123   \n9084026             0                NaN  2012-01-31 17:25:13.167   \n9515398             0                NaN  2012-03-01 11:32:24.067   \n7732962             0                NaN  2011-10-11 21:50:30.927   \n\n         FavoriteCount         LastActivityDate             LastEditDate  ...  \\\nId                                                                        ...   \n7818138              0  2011-10-19 11:48:08.637  2011-10-19 11:48:08.637  ...   \n7546412              1  2013-04-27 03:27:57.863  2013-04-27 03:27:57.863  ...   \n9084026              0  2014-02-01 16:12:24.047  2017-05-23 12:20:01.823  ...   \n9515398             13  2015-09-23 22:20:52.207  2015-09-23 22:20:52.207  ...   \n7732962              1  2018-07-02 08:22:13.587  2011-10-18 22:20:02.017  ...   \n\n        ParentId  PostTypeId  Score                              Tags  \\\nId                                                                      \n7818138        0           1      1           <python><windows><dart>   \n7546412        0           1      7   <javascript><performance><dart>   \n9084026        0           1      1  <dart><local-storage><dart-html>   \n9515398        0           1     32                      <html><dart>   \n7732962        0           1      6                   <windows><dart>   \n\n                                                     Title  ViewCount  \\\nId                                                                      \n7818138           Python error on building Dart on Windows        163   \n7546412      How can Google's Dart get better performance?       3360   \n9084026            How to get all objects in Darts Storage        381   \n9515398         Will Dart support server side development?       4428   \n7732962  Where can I find the interpreter/compiler of D...       2933   \n\n                                                    Answer  \\\nId                                                           \n7818138  <p>Python 3 removes the <code>print</code> key...   \n7546412  <p>One example is <a href=\"http://en.wikipedia...   \n9084026  <p>You can get the keys and values from Dart's...   \n9515398  <p>Short answer <strong>yes</strong>. </p>\\n\\n...   \n7732962  <p>You can download Dart binaries for Windows ...   \n\n                      AnswerDate  AnswerDiff  \\\nId                                             \n7818138  2011-10-19 07:52:37.587       103.0   \n7546412  2011-09-25 15:24:01.120       470.0   \n9084026  2012-01-31 19:42:36.837      8243.0   \n9515398  2012-03-01 12:16:24.527      2640.0   \n7732962  2011-10-19 17:28:20.577    675470.0   \n\n                                         CombinedTitleBody  \nId                                                          \n7818138  <p>I'm trying to build Dart on Windows XP (acc...  \n7546412  <p>I've read <a href=\"https://gist.github.com/...  \n9084026  <p>As mention in <a href=\"https://stackoverflo...  \n9515398  <p>Are we going to be able to use dart not onl...  \n7732962  <p>How can I run a Dart application? Do I need...  \n\n[5 rows x 23 columns]",
      "text/html": "<div>\n<style scoped>\n    .dataframe tbody tr th:only-of-type {\n        vertical-align: middle;\n    }\n\n    .dataframe tbody tr th {\n        vertical-align: top;\n    }\n\n    .dataframe thead th {\n        text-align: right;\n    }\n</style>\n<table border=\"1\" class=\"dataframe\">\n  <thead>\n    <tr style=\"text-align: right;\">\n      <th></th>\n      <th>AcceptedAnswerId</th>\n      <th>AnswerCount</th>\n      <th>Body</th>\n      <th>ClosedDate</th>\n      <th>CommentCount</th>\n      <th>CommunityOwnedDate</th>\n      <th>CreationDate</th>\n      <th>FavoriteCount</th>\n      <th>LastActivityDate</th>\n      <th>LastEditDate</th>\n      <th>...</th>\n      <th>ParentId</th>\n      <th>PostTypeId</th>\n      <th>Score</th>\n      <th>Tags</th>\n      <th>Title</th>\n      <th>ViewCount</th>\n      <th>Answer</th>\n      <th>AnswerDate</th>\n      <th>AnswerDiff</th>\n      <th>CombinedTitleBody</th>\n    </tr>\n    <tr>\n      <th>Id</th>\n      <th></th>\n      <th></th>\n      <th></th>\n      <th></th>\n      <th></th>\n      <th></th>\n      <th></th>\n      <th></th>\n      <th></th>\n      <th></th>\n      <th></th>\n      <th></th>\n      <th></th>\n      <th></th>\n      <th></th>\n      <th></th>\n      <th></th>\n      <th></th>\n      <th></th>\n      <th></th>\n      <th></th>\n    </tr>\n  </thead>\n  <tbody>\n    <tr>\n      <th>7818138</th>\n      <td>7818152</td>\n      <td>1</td>\n      <td>&lt;p&gt;I'm trying to build Dart on Windows XP (acc...</td>\n      <td>NaN</td>\n      <td>0</td>\n      <td>NaN</td>\n      <td>2011-10-19 07:50:54.907</td>\n      <td>0</td>\n      <td>2011-10-19 11:48:08.637</td>\n      <td>2011-10-19 11:48:08.637</td>\n      <td>...</td>\n      <td>0</td>\n      <td>1</td>\n      <td>1</td>\n      <td>&lt;python&gt;&lt;windows&gt;&lt;dart&gt;</td>\n      <td>Python error on building Dart on Windows</td>\n      <td>163</td>\n      <td>&lt;p&gt;Python 3 removes the &lt;code&gt;print&lt;/code&gt; key...</td>\n      <td>2011-10-19 07:52:37.587</td>\n      <td>103.0</td>\n      <td>&lt;p&gt;I'm trying to build Dart on Windows XP (acc...</td>\n    </tr>\n    <tr>\n      <th>7546412</th>\n      <td>7546460</td>\n      <td>3</td>\n      <td>&lt;p&gt;I've read &lt;a href=\"https://gist.github.com/...</td>\n      <td>NaN</td>\n      <td>2</td>\n      <td>NaN</td>\n      <td>2011-09-25 15:16:11.123</td>\n      <td>1</td>\n      <td>2013-04-27 03:27:57.863</td>\n      <td>2013-04-27 03:27:57.863</td>\n      <td>...</td>\n      <td>0</td>\n      <td>1</td>\n      <td>7</td>\n      <td>&lt;javascript&gt;&lt;performance&gt;&lt;dart&gt;</td>\n      <td>How can Google's Dart get better performance?</td>\n      <td>3360</td>\n      <td>&lt;p&gt;One example is &lt;a href=\"http://en.wikipedia...</td>\n      <td>2011-09-25 15:24:01.120</td>\n      <td>470.0</td>\n      <td>&lt;p&gt;I've read &lt;a href=\"https://gist.github.com/...</td>\n    </tr>\n    <tr>\n      <th>9084026</th>\n      <td>9085832</td>\n      <td>1</td>\n      <td>&lt;p&gt;As mention in &lt;a href=\"https://stackoverflo...</td>\n      <td>NaN</td>\n      <td>0</td>\n      <td>NaN</td>\n      <td>2012-01-31 17:25:13.167</td>\n      <td>0</td>\n      <td>2014-02-01 16:12:24.047</td>\n      <td>2017-05-23 12:20:01.823</td>\n      <td>...</td>\n      <td>0</td>\n      <td>1</td>\n      <td>1</td>\n      <td>&lt;dart&gt;&lt;local-storage&gt;&lt;dart-html&gt;</td>\n      <td>How to get all objects in Darts Storage</td>\n      <td>381</td>\n      <td>&lt;p&gt;You can get the keys and values from Dart's...</td>\n      <td>2012-01-31 19:42:36.837</td>\n      <td>8243.0</td>\n      <td>&lt;p&gt;As mention in &lt;a href=\"https://stackoverflo...</td>\n    </tr>\n    <tr>\n      <th>9515398</th>\n      <td>9516060</td>\n      <td>1</td>\n      <td>&lt;p&gt;Are we going to be able to use dart not onl...</td>\n      <td>NaN</td>\n      <td>0</td>\n      <td>NaN</td>\n      <td>2012-03-01 11:32:24.067</td>\n      <td>13</td>\n      <td>2015-09-23 22:20:52.207</td>\n      <td>2015-09-23 22:20:52.207</td>\n      <td>...</td>\n      <td>0</td>\n      <td>1</td>\n      <td>32</td>\n      <td>&lt;html&gt;&lt;dart&gt;</td>\n      <td>Will Dart support server side development?</td>\n      <td>4428</td>\n      <td>&lt;p&gt;Short answer &lt;strong&gt;yes&lt;/strong&gt;. &lt;/p&gt;\\n\\n...</td>\n      <td>2012-03-01 12:16:24.527</td>\n      <td>2640.0</td>\n      <td>&lt;p&gt;Are we going to be able to use dart not onl...</td>\n    </tr>\n    <tr>\n      <th>7732962</th>\n      <td>7825428</td>\n      <td>4</td>\n      <td>&lt;p&gt;How can I run a Dart application? Do I need...</td>\n      <td>NaN</td>\n      <td>0</td>\n      <td>NaN</td>\n      <td>2011-10-11 21:50:30.927</td>\n      <td>1</td>\n      <td>2018-07-02 08:22:13.587</td>\n      <td>2011-10-18 22:20:02.017</td>\n      <td>...</td>\n      <td>0</td>\n      <td>1</td>\n      <td>6</td>\n      <td>&lt;windows&gt;&lt;dart&gt;</td>\n      <td>Where can I find the interpreter/compiler of D...</td>\n      <td>2933</td>\n      <td>&lt;p&gt;You can download Dart binaries for Windows ...</td>\n      <td>2011-10-19 17:28:20.577</td>\n      <td>675470.0</td>\n      <td>&lt;p&gt;How can I run a Dart application? Do I need...</td>\n    </tr>\n  </tbody>\n</table>\n<p>5 rows × 23 columns</p>\n</div>"
     },
     "execution_count": 19,
     "metadata": {},
     "output_type": "execute_result"
    }
   ],
   "source": [
    "reviews_datasets.head()\n",
    "#print(obody)"
   ]
  },
  {
   "cell_type": "code",
   "execution_count": 20,
   "metadata": {},
   "outputs": [
    {
     "name": "stderr",
     "output_type": "stream",
     "text": [
      "C:\\tools\\Anaconda3\\lib\\site-packages\\ipykernel\\ipkernel.py:287: DeprecationWarning: `should_run_async` will not call `transform_cell` automatically in the future. Please pass the result to `transformed_cell` argument and any exception that happen during thetransform in `preprocessing_exc_tuple` in IPython 7.17 and above.\n",
      "  and should_run_async(code)\n"
     ]
    }
   ],
   "source": [
    "from nltk import ngrams\n",
    "from nltk.tokenize import sent_tokenize\n",
    "import nltk\n",
    "\n",
    "import re\n",
    "from nltk.corpus import stopwords\n",
    "from nltk.tokenize import ToktokTokenizer\n",
    "from nltk.stem.snowball import SnowballStemmer\n",
    "\n",
    "tokenizer = ToktokTokenizer()\n",
    "stemmer = SnowballStemmer('english')\n",
    "stop_words = set(stopwords.words('english'))"
   ]
  },
  {
   "cell_type": "code",
   "execution_count": 21,
   "metadata": {},
   "outputs": [
    {
     "name": "stderr",
     "output_type": "stream",
     "text": [
      "C:\\tools\\Anaconda3\\lib\\site-packages\\ipykernel\\ipkernel.py:287: DeprecationWarning: `should_run_async` will not call `transform_cell` automatically in the future. Please pass the result to `transformed_cell` argument and any exception that happen during thetransform in `preprocessing_exc_tuple` in IPython 7.17 and above.\n",
      "  and should_run_async(code)\n"
     ]
    },
    {
     "name": "stdout",
     "output_type": "stream",
     "text": [
      "['<p>Im trying to build Dart on Windows XP (according to the docs) but while using Python to do it, it encounters an error in the script file</p> <pre><code>D\\\\Documents and settings\\\\xxx\\\\Mes documents\\\\Google_Dart\\\\dart&gt;python tools/bui ld.py --arch=ia32 File tools/build.py, line 51 print Unknown mode %s % mode ^ SyntaxError invalid syntax </code></pre> <p>Any hint on how to solve this? Can the problem be that my version of Python is too recent? (3.2.2)</p> ', '<p>Ive read <a href=https//gist.github.com/1208618 rel=nofollow>the article about Googles upcoming DASH/DART language</a>, which I found quite interesting.</p> <p>One thing I stumbled upon is that they say they will remove the inherent performance problems of JavaScript. But what are these performance problems exactly? There arent any examples in the text. This is all it says</p> <blockquote> <ul> <li>Performance -- Dash is designed with performance characteristics in mind, so that it is possible to create VMs that do not have the performance problems that all EcmaScript VMs must have.</li> </ul> </blockquote> <p>Do you have any ideas about what those inherent performance problems are?</p> ', '<p>As mention in <a href=https//stackoverflow.com/questions/8419354/get-html5-localstorage-keys>this SO</a>, this is the way t get all objects stored in a localstorage</p> <pre class=lang-dart prettyprint-override><code>for (var key in localStorage){ console.log(key) } </code></pre> <p>How would I do the same in Dart?</p> ']\n"
     ]
    }
   ],
   "source": [
    "import re\n",
    "\n",
    "# Convert to list\n",
    "data = reviews_datasets.CombinedTitleBody.values.tolist()\n",
    "\n",
    "# Remove new line characters\n",
    "data = [re.sub(r'\\s+', ' ', sent) for sent in data]\n",
    "\n",
    "# Remove distracting single and double quotes\n",
    "data = [re.sub(\"\\'\", \"\", sent) for sent in data]\n",
    "data = [re.sub('\\\", \"', '', sent) for sent in data]\n",
    "data = [re.sub('\\\\\"', '', sent) for sent in data]\n",
    "data = [re.sub('\\\"', '', sent) for sent in data]\n",
    "data = [re.sub('[\\\\:\"]', '', sent) for sent in data]\n",
    "\n",
    "# Remove web links\n",
    "data = [re.sub(r'^https?:\\/\\/.*[\\r\\n]*', '', sent) for sent in data]\n",
    "\n",
    "print(data[:3])"
   ]
  },
  {
   "cell_type": "code",
   "execution_count": 22,
   "metadata": {},
   "outputs": [
    {
     "name": "stderr",
     "output_type": "stream",
     "text": [
      "C:\\tools\\Anaconda3\\lib\\site-packages\\ipykernel\\ipkernel.py:287: DeprecationWarning: `should_run_async` will not call `transform_cell` automatically in the future. Please pass the result to `transformed_cell` argument and any exception that happen during thetransform in `preprocessing_exc_tuple` in IPython 7.17 and above.\n",
      "  and should_run_async(code)\n"
     ]
    },
    {
     "name": "stdout",
     "output_type": "stream",
     "text": [
      "[['im', 'trying', 'to', 'build', 'dart', 'on', 'windows', 'xp', 'according', 'to', 'the', 'docs', 'but', 'while', 'using', 'python', 'to', 'do', 'it', 'it', 'encounters', 'an', 'error', 'in', 'the', 'script', 'file', 'pre', 'code', 'documents', 'and', 'settings', 'xxx', 'mes', 'documents', 'google_dart', 'dart', 'gt', 'python', 'tools', 'bui', 'ld', 'py', 'arch', 'ia', 'file', 'tools', 'build', 'py', 'line', 'print', 'unknown', 'mode', 'mode', 'syntaxerror', 'invalid', 'syntax', 'code', 'pre', 'any', 'hint', 'on', 'how', 'to', 'solve', 'this', 'can', 'the', 'problem', 'be', 'that', 'my', 'version', 'of', 'python', 'is', 'too', 'recent'], ['ive', 'read', 'href', 'https', 'gist', 'github', 'com', 'rel', 'nofollow', 'the', 'article', 'about', 'googles', 'upcoming', 'dash', 'dart', 'language', 'which', 'found', 'quite', 'interesting', 'one', 'thing', 'stumbled', 'upon', 'is', 'that', 'they', 'say', 'they', 'will', 'remove', 'the', 'inherent', 'performance', 'problems', 'of', 'javascript', 'but', 'what', 'are', 'these', 'performance', 'problems', 'exactly', 'there', 'arent', 'any', 'examples', 'in', 'the', 'text', 'this', 'is', 'all', 'it', 'says', 'blockquote', 'ul', 'li', 'performance', 'dash', 'is', 'designed', 'with', 'performance', 'characteristics', 'in', 'mind', 'so', 'that', 'it', 'is', 'possible', 'to', 'create', 'vms', 'that', 'do', 'not', 'have', 'the', 'performance', 'problems', 'that', 'all', 'ecmascript', 'vms', 'must', 'have', 'li', 'ul', 'blockquote', 'do', 'you', 'have', 'any', 'ideas', 'about', 'what', 'those', 'inherent', 'performance', 'problems', 'are'], ['as', 'mention', 'in', 'href', 'https', 'stackoverflow', 'com', 'questions', 'get', 'html', 'localstorage', 'keys', 'this', 'so', 'this', 'is', 'the', 'way', 'get', 'all', 'objects', 'stored', 'in', 'localstorage', 'pre', 'class', 'lang', 'dart', 'prettyprint', 'override', 'code', 'for', 'var', 'key', 'in', 'localstorage', 'console', 'log', 'key', 'code', 'pre', 'how', 'would', 'do', 'the', 'same', 'in', 'dart']]\n"
     ]
    }
   ],
   "source": [
    "# Tokenize words and text clean up\n",
    "def sent_to_words(sentences):\n",
    "    for sentence in sentences:\n",
    "        yield(gensim.utils.simple_preprocess(str(sentence), deacc=True))  # deacc=True removes punctuations\n",
    "\n",
    "data_words = list(sent_to_words(data))\n",
    "\n",
    "print(data_words[:3])"
   ]
  },
  {
   "cell_type": "code",
   "execution_count": 23,
   "metadata": {},
   "outputs": [
    {
     "name": "stderr",
     "output_type": "stream",
     "text": [
      "C:\\tools\\Anaconda3\\lib\\site-packages\\ipykernel\\ipkernel.py:287: DeprecationWarning: `should_run_async` will not call `transform_cell` automatically in the future. Please pass the result to `transformed_cell` argument and any exception that happen during thetransform in `preprocessing_exc_tuple` in IPython 7.17 and above.\n",
      "  and should_run_async(code)\n"
     ]
    }
   ],
   "source": [
    "# Build the bigram and trigram models\n",
    "bigram = gensim.models.Phrases(data_words, min_count=5, threshold=75) # higher threshold fewer phrases.\n",
    "trigram = gensim.models.Phrases(bigram[data_words], threshold=75)  \n"
   ]
  },
  {
   "cell_type": "code",
   "execution_count": 24,
   "metadata": {},
   "outputs": [
    {
     "name": "stderr",
     "output_type": "stream",
     "text": [
      "C:\\tools\\Anaconda3\\lib\\site-packages\\ipykernel\\ipkernel.py:287: DeprecationWarning: `should_run_async` will not call `transform_cell` automatically in the future. Please pass the result to `transformed_cell` argument and any exception that happen during thetransform in `preprocessing_exc_tuple` in IPython 7.17 and above.\n",
      "  and should_run_async(code)\n"
     ]
    }
   ],
   "source": [
    "# Faster way to get a sentence clubbed as a trigram/bigram\n",
    "bigram_mod = gensim.models.phrases.Phraser(bigram)\n",
    "trigram_mod = gensim.models.phrases.Phraser(trigram)"
   ]
  },
  {
   "cell_type": "code",
   "execution_count": 11,
   "metadata": {},
   "outputs": [
    {
     "name": "stdout",
     "output_type": "stream",
     "text": [
      "['how', 'can', 'check', 'internet', 'access', 'with', 'monotouch', 'dont', 'care', 'if', 'the', 'internet', 'comes', 'from', 'wifi', 'or', 'the', 'cell', 'network', 'all', 'care', 'is', 'whether', 'there', 'is', 'internet', 'access', 'or', 'not']\n"
     ]
    },
    {
     "name": "stderr",
     "output_type": "stream",
     "text": [
      "C:\\tools\\Anaconda3\\lib\\site-packages\\ipykernel\\ipkernel.py:287: DeprecationWarning: `should_run_async` will not call `transform_cell` automatically in the future. Please pass the result to `transformed_cell` argument and any exception that happen during thetransform in `preprocessing_exc_tuple` in IPython 7.17 and above.\n",
      "  and should_run_async(code)\n"
     ]
    }
   ],
   "source": [
    "# See trigram example\n",
    "print(trigram_mod[bigram_mod[data_words[3]]])"
   ]
  },
  {
   "cell_type": "code",
   "execution_count": 25,
   "metadata": {},
   "outputs": [
    {
     "name": "stderr",
     "output_type": "stream",
     "text": [
      "C:\\tools\\Anaconda3\\lib\\site-packages\\ipykernel\\ipkernel.py:287: DeprecationWarning: `should_run_async` will not call `transform_cell` automatically in the future. Please pass the result to `transformed_cell` argument and any exception that happen during thetransform in `preprocessing_exc_tuple` in IPython 7.17 and above.\n",
      "  and should_run_async(code)\n"
     ]
    }
   ],
   "source": [
    "# Define functions for stopwords, bigrams, trigrams and lemmatization\n",
    "def remove_stopwords(texts):\n",
    "    return [[word for word in simple_preprocess(str(doc)) if word not in stop_words] for doc in texts]\n",
    "\n",
    "def make_bigrams(texts):\n",
    "    return [bigram_mod[doc] for doc in texts]\n",
    "\n",
    "def make_trigrams(texts):\n",
    "    return [trigram_mod[bigram_mod[doc]] for doc in texts]\n",
    "\n",
    "def lemmatization(texts, allowed_postags=['NOUN', 'ADJ', 'VERB', 'ADV']):\n",
    "    \"\"\"https://spacy.io/api/annotation\"\"\"\n",
    "    texts_out = []\n",
    "    for sent in texts:\n",
    "        doc = nlp(\" \".join(sent)) \n",
    "        texts_out.append([token.lemma_ for token in doc if token.pos_ in allowed_postags])\n",
    "    return texts_out"
   ]
  },
  {
   "cell_type": "code",
   "execution_count": 26,
   "metadata": {},
   "outputs": [
    {
     "name": "stderr",
     "output_type": "stream",
     "text": [
      "C:\\tools\\Anaconda3\\lib\\site-packages\\ipykernel\\ipkernel.py:287: DeprecationWarning: `should_run_async` will not call `transform_cell` automatically in the future. Please pass the result to `transformed_cell` argument and any exception that happen during thetransform in `preprocessing_exc_tuple` in IPython 7.17 and above.\n",
      "  and should_run_async(code)\n"
     ]
    },
    {
     "data": {
      "text/plain": "<spacy.lang.en.English at 0x1c647998400>"
     },
     "execution_count": 26,
     "metadata": {},
     "output_type": "execute_result"
    }
   ],
   "source": [
    "spacy.load('en_core_web_sm')"
   ]
  },
  {
   "cell_type": "code",
   "execution_count": null,
   "metadata": {
    "scrolled": true,
    "pycharm": {
     "is_executing": true
    }
   },
   "outputs": [
    {
     "name": "stderr",
     "output_type": "stream",
     "text": [
      "C:\\tools\\Anaconda3\\lib\\site-packages\\ipykernel\\ipkernel.py:287: DeprecationWarning: `should_run_async` will not call `transform_cell` automatically in the future. Please pass the result to `transformed_cell` argument and any exception that happen during thetransform in `preprocessing_exc_tuple` in IPython 7.17 and above.\n",
      "  and should_run_async(code)\n"
     ]
    }
   ],
   "source": [
    "data_words_nostops = remove_stopwords(data_words)\n",
    "\n",
    "# Form Bigrams\n",
    "data_words_bigrams = make_bigrams(data_words_nostops)\n",
    "\n",
    "# Initialize spacy 'en' model, keeping only tagger component (for efficiency)\n",
    "# python3 -m spacy download en\n",
    "nlp = spacy.load('en_core_web_sm', disable=['parser', 'ner'])\n",
    "#spacy.load('en_core_web_sm')\n",
    "\n",
    "# Do lemmatization keeping only noun, adj, vb, adv\n",
    "data_lemmatized = lemmatization(data_words_bigrams, allowed_postags=['NOUN', 'ADJ', 'VERB', 'ADV'])\n"
   ]
  },
  {
   "cell_type": "code",
   "execution_count": 32,
   "outputs": [
    {
     "name": "stderr",
     "output_type": "stream",
     "text": [
      "C:\\tools\\Anaconda3\\lib\\site-packages\\ipykernel\\ipkernel.py:287: DeprecationWarning: `should_run_async` will not call `transform_cell` automatically in the future. Please pass the result to `transformed_cell` argument and any exception that happen during thetransform in `preprocessing_exc_tuple` in IPython 7.17 and above.\n",
      "  and should_run_async(code)\n"
     ]
    },
    {
     "data": {
      "text/plain": "         AcceptedAnswerId  AnswerCount  \\\nId                                       \n1468404           1549052            3   \n1583856           1634592           14   \n1914947           1915407            4   \n1961341           1961838            1   \n2039387           2044192            4   \n2583326           2583456            1   \n2597198           2597594            1   \n2604033           2604075           18   \n2625210           2625240           19   \n2855574           2858108            1   \n2920069           4503153            1   \n3155711           3156721            1   \n3813715           3813880            2   \n3819748           3819855            2   \n4028356           4093283            1   \n4105249           4105267            2   \n4239115           4437224            1   \n4278606           4285903            2   \n4455224           4500915            1   \n4517228           5799982            3   \n\n                                                      Body  \\\nId                                                           \n1468404  <p>Does mono touch allow you to do cross iPhon...   \n1583856  <p>After sitting through a session today on Mo...   \n1914947  <p>What is the best approach to implement tabs...   \n1961341  <p>How can I check internet access with MonoTo...   \n2039387  <p>I'm new to MonoTouch and iPhone development...   \n2583326  <p>This is not a really Programming Question, ...   \n2597198  <p>This question is a duplicate of <a href=\"ht...   \n2604033  <p>A recent post by <a href=\"http://daringfire...   \n2625210  <p>Is it possible to implement \"long press\" in...   \n2855574  <p>In my ap we serilaize the data locally for ...   \n2920069  <p>I'm trying to use the code posted here: <a ...   \n3155711  <p>With the new additions to the OS and the ha...   \n3813715  <p>Monotouch compiles the app into the native ...   \n3819748  <p>Is it possible to use 3rd party libraries w...   \n4028356  <p>I am using MonoTouch.Dialog's OwnerDrawnEle...   \n4105249  <p>I have created a small iPhone app using Mon...   \n4239115  <p>new to jquery and jquerymobile.</p>\\n\\n<p>A...   \n4278606  <p>Is it possible to get both the MonoTouch an...   \n4455224  <p>Is there a quick way to populate a UIPicker...   \n4517228  <p>I working on a multicolumn layout in Jquery...   \n\n                      ClosedDate  CommentCount CommunityOwnedDate  \\\nId                                                                  \n1468404                      NaN             0                NaN   \n1583856  2019-09-23 16:34:03.127             1                NaN   \n1914947                      NaN             0                NaN   \n1961341                      NaN             1                NaN   \n2039387                      NaN             1                NaN   \n2583326                      NaN             2                NaN   \n2597198                      NaN             0                NaN   \n2604033  2012-12-05 12:52:02.217             6                NaN   \n2625210                      NaN             2                NaN   \n2855574                      NaN             0                NaN   \n2920069                      NaN             0                NaN   \n3155711                      NaN             0                NaN   \n3813715                      NaN             0                NaN   \n3819748                      NaN             0                NaN   \n4028356                      NaN             0                NaN   \n4105249                      NaN             0                NaN   \n4239115                      NaN             0                NaN   \n4278606                      NaN             0                NaN   \n4455224                      NaN             0                NaN   \n4517228                      NaN             0                NaN   \n\n                    CreationDate  FavoriteCount         LastActivityDate  \\\nId                                                                         \n1468404  2009-09-23 20:42:43.883              2  2009-10-10 20:52:40.330   \n1583856  2009-10-18 02:47:39.653             91  2019-09-23 14:03:02.387   \n1914947  2009-12-16 14:23:59.397              5  2019-05-21 10:06:27.997   \n1961341  2009-12-25 15:38:21.420              2  2012-05-23 07:10:33.650   \n2039387  2010-01-11 01:12:49.940              2  2014-01-19 15:43:12.283   \n2583326  2010-04-06 07:39:54.897              0  2010-04-06 14:38:38.320   \n2597198  2010-04-08 02:28:41.863              2  2010-04-08 04:34:30.573   \n2604033  2010-04-08 23:02:26.587             28  2017-11-07 07:51:04.140   \n2625210  2010-04-12 20:29:23.897             57  2019-12-17 06:36:51.870   \n2855574  2010-05-18 08:23:12.677              0  2010-05-18 14:22:17.367   \n2920069  2010-05-27 09:56:29.943              0  2010-12-21 19:32:07.280   \n3155711  2010-07-01 07:10:25.257              0  2010-07-01 09:58:30.393   \n3813715  2010-09-28 14:20:47.650              0  2011-04-06 19:58:24.213   \n3819748  2010-09-29 07:59:50.230              2  2011-11-24 16:35:57.680   \n4028356  2010-10-26 21:55:19.683              0  2010-11-04 02:01:09.413   \n4105249  2010-11-05 10:58:53.267              1  2010-11-05 14:12:56.453   \n4239115  2010-11-21 17:14:22.267              0  2011-02-01 18:38:52.697   \n4278606  2010-11-25 15:28:08.910              0  2011-04-16 16:52:32.440   \n4455224  2010-12-15 21:41:46.617              0  2010-12-21 15:31:59.493   \n4517228  2010-12-23 09:05:40.800              3  2012-05-04 14:58:57.910   \n\n                    LastEditDate  ... OwnerUserId  ParentId  PostTypeId  \\\nId                                ...                                     \n1468404  2009-09-23 20:45:37.153  ...      139096         0           1   \n1583856  2012-03-07 16:08:46.430  ...      142017         0           1   \n1914947  2019-05-21 10:06:27.997  ...       78101         0           1   \n1961341  2009-12-25 18:33:38.633  ...       34155         0           1   \n2039387  2014-01-19 15:43:12.283  ...      247706         0           1   \n2583326  2010-04-06 08:21:45.890  ...       28004         0           1   \n2597198  2017-05-23 11:50:42.387  ...       10116         0           1   \n2604033  2012-12-05 12:52:27.283  ...      139096         0           1   \n2625210  2019-07-22 21:08:33.480  ...      313632         0           1   \n2855574                      NaN  ...           0         0           1   \n2920069                      NaN  ...           0         0           1   \n3155711                      NaN  ...           0         0           1   \n3813715                      NaN  ...      437039         0           1   \n3819748  2011-11-24 16:35:57.680  ...      390198         0           1   \n4028356                      NaN  ...      488160         0           1   \n4105249                      NaN  ...      258354         0           1   \n4239115  2010-11-21 19:49:47.460  ...      216135         0           1   \n4278606                      NaN  ...      335794         0           1   \n4455224                      NaN  ...      382140         0           1   \n4517228                      NaN  ...      536768         0           1   \n\n         Score                                               Tags  \\\nId                                                                  \n1468404      3               <iphone><communication><xamarin.ios>   \n1583856    273               <c#><objective-c><mono><xamarin.ios>   \n1914947      6    <iphone><uiview><uiviewcontroller><xamarin.ios>   \n1961341     14                              <iphone><xamarin.ios>   \n2039387     14                              <iphone><xamarin.ios>   \n2583326      1        <iphone><project><xamarin.ios><monodevelop>   \n2597198      2       <uikit><uiimage><xamarin.ios><pixel><unsafe>   \n2604033    155                              <iphone><xamarin.ios>   \n2625210    121  <javascript><jquery><jquery-ui><jquery-mobile>...   \n2855574      0                                 <wcf><xamarin.ios>   \n2920069      1                   <xamarin.ios><augmented-reality>   \n3155711      0  <iphone><objective-c><xamarin.ios><augmented-r...   \n3813715      2                                      <xamarin.ios>   \n3819748      2                     <c#><objective-c><xamarin.ios>   \n4028356      3                              <dialog><xamarin.ios>   \n4105249      0                              <iphone><xamarin.ios>   \n4239115      1                            <jquery><jquery-mobile>   \n4278606      0        <xamarin.ios><license-key><xamarin.android>   \n4455224      2                        <xamarin.ios><uipickerview>   \n4517228      4                            <jquery><jquery-mobile>   \n\n                                                     Title ViewCount  \\\nId                                                                     \n1468404        Cross iPhone communication using mono touch      1464   \n1583856   How to decide between MonoTouch and Objective-C?     28366   \n1914947                       Web-like tabs for the iPhone      1053   \n1961341           Check for internet access with monotouch      5548   \n2039387   Images in Interface Builder when using MonoTouch      4257   \n2583326                            Can't run MonoTouch App       849   \n2597198  Retrieving a pixel alpha value for a UIImage (...      2657   \n2604033             Is MonoTouch now banned on the iPhone?     12385   \n2625210                          Long Press in JavaScript?    174737   \n2855574                  monotouch - updating data locally       119   \n2920069                        Monotouch Augmented Reality       580   \n3155711  iPhone Augmented reality with iOS4 obj c + and...       881   \n3813715  How can Apple tell if an app was built in Mono...       659   \n3819748                  3rd party libraries in MonoTouch?      1035   \n4028356  MonoTouch.Dialog's OwnerDrawnElement highlight...       626   \n4105249  iPhone App using MonoTouch - which files/folde...       789   \n4239115      Help with making menu button for jQueryMobile      3434   \n4278606  Buy licenses for MonoTouch and MonoDroid together       812   \n4455224                Monotouch - Populate a UIViewPicker      1658   \n4517228  jquery-mobile - how can I bind disable ajax li...      7667   \n\n                                         CombinedTitleBody  \\\nId                                                           \n1468404  <p>Does mono touch allow you to do cross iPhon...   \n1583856  <p>After sitting through a session today on Mo...   \n1914947  <p>What is the best approach to implement tabs...   \n1961341  <p>How can I check internet access with MonoTo...   \n2039387  <p>I'm new to MonoTouch and iPhone development...   \n2583326  <p>This is not a really Programming Question, ...   \n2597198  <p>This question is a duplicate of <a href=\"ht...   \n2604033  <p>A recent post by <a href=\"http://daringfire...   \n2625210  <p>Is it possible to implement \"long press\" in...   \n2855574  <p>In my ap we serilaize the data locally for ...   \n2920069  <p>I'm trying to use the code posted here: <a ...   \n3155711  <p>With the new additions to the OS and the ha...   \n3813715  <p>Monotouch compiles the app into the native ...   \n3819748  <p>Is it possible to use 3rd party libraries w...   \n4028356  <p>I am using MonoTouch.Dialog's OwnerDrawnEle...   \n4105249  <p>I have created a small iPhone app using Mon...   \n4239115  <p>new to jquery and jquerymobile.</p>\\n\\n<p>A...   \n4278606  <p>Is it possible to get both the MonoTouch an...   \n4455224  <p>Is there a quick way to populate a UIPicker...   \n4517228  <p>I working on a multicolumn layout in Jquery...   \n\n                                                    topics  \\\nId                                                           \n1468404  [mono, touch, allow, cross, iphone, communicat...   \n1583856  [sit, session, today, mono, local, net, event,...   \n1914947  [good, approach, implement, tab, look, web, ap...   \n1961341  [check, internet, access, monotouch, do, care,...   \n2039387  [m, new, monotouch, iphone, development, image...   \n2583326  [really, program, question, please_bear, relat...   \n2597198  [question, duplicate, href, https, stackoverfl...   \n2604033  [recent, post, href, http, daringfireball, net...   \n2625210  [possible, implement, long, press, javascript,...   \n2855574  [serilaize, datum, locally, offline, use, ensu...   \n2920069  [m, try, use, code, post, href, http, seanho, ...   \n3155711  [new, addition, hardware, iphone, app, serious...   \n3813715  [monotouch, compile, app, native, code, apple,...   \n3819748  [possible, use, rd_party, library, write, mono...   \n4028356  [use, monotouch, dialog, do, seem, allow, user...   \n4105249  [create, small, iphone, app, use, monotouch, g...   \n4239115  [new, jquery, jquerymobile, want, hide, main, ...   \n4278606  [possible, get, monotouch, monodroid, license,...   \n4455224  [quick, way, populate, uipickerview, value, pi...   \n4517228  [work, multicolumn, layout, jquery_mobile, use...   \n\n                                                     obody  \nId                                                          \n1468404  <p>Does mono touch allow you to do cross iPhon...  \n1583856  <p>After sitting through a session today on Mo...  \n1914947  <p>What is the best approach to implement tabs...  \n1961341  <p>How can I check internet access with MonoTo...  \n2039387  <p>I'm new to MonoTouch and iPhone development...  \n2583326  <p>This is not a really Programming Question, ...  \n2597198  <p>This question is a duplicate of <a href=\"ht...  \n2604033  <p>A recent post by <a href=\"http://daringfire...  \n2625210  <p>Is it possible to implement \"long press\" in...  \n2855574  <p>In my ap we serilaize the data locally for ...  \n2920069  <p>I'm trying to use the code posted here: <a ...  \n3155711  <p>With the new additions to the OS and the ha...  \n3813715  <p>Monotouch compiles the app into the native ...  \n3819748  <p>Is it possible to use 3rd party libraries w...  \n4028356  <p>I am using MonoTouch.Dialog's OwnerDrawnEle...  \n4105249  <p>I have created a small iPhone app using Mon...  \n4239115  <p>new to jquery and jquerymobile.</p>\\n\\n<p>A...  \n4278606  <p>Is it possible to get both the MonoTouch an...  \n4455224  <p>Is there a quick way to populate a UIPicker...  \n4517228  <p>I working on a multicolumn layout in Jquery...  \n\n[20 rows x 22 columns]",
      "text/html": "<div>\n<style scoped>\n    .dataframe tbody tr th:only-of-type {\n        vertical-align: middle;\n    }\n\n    .dataframe tbody tr th {\n        vertical-align: top;\n    }\n\n    .dataframe thead th {\n        text-align: right;\n    }\n</style>\n<table border=\"1\" class=\"dataframe\">\n  <thead>\n    <tr style=\"text-align: right;\">\n      <th></th>\n      <th>AcceptedAnswerId</th>\n      <th>AnswerCount</th>\n      <th>Body</th>\n      <th>ClosedDate</th>\n      <th>CommentCount</th>\n      <th>CommunityOwnedDate</th>\n      <th>CreationDate</th>\n      <th>FavoriteCount</th>\n      <th>LastActivityDate</th>\n      <th>LastEditDate</th>\n      <th>...</th>\n      <th>OwnerUserId</th>\n      <th>ParentId</th>\n      <th>PostTypeId</th>\n      <th>Score</th>\n      <th>Tags</th>\n      <th>Title</th>\n      <th>ViewCount</th>\n      <th>CombinedTitleBody</th>\n      <th>topics</th>\n      <th>obody</th>\n    </tr>\n    <tr>\n      <th>Id</th>\n      <th></th>\n      <th></th>\n      <th></th>\n      <th></th>\n      <th></th>\n      <th></th>\n      <th></th>\n      <th></th>\n      <th></th>\n      <th></th>\n      <th></th>\n      <th></th>\n      <th></th>\n      <th></th>\n      <th></th>\n      <th></th>\n      <th></th>\n      <th></th>\n      <th></th>\n      <th></th>\n      <th></th>\n    </tr>\n  </thead>\n  <tbody>\n    <tr>\n      <th>1468404</th>\n      <td>1549052</td>\n      <td>3</td>\n      <td>&lt;p&gt;Does mono touch allow you to do cross iPhon...</td>\n      <td>NaN</td>\n      <td>0</td>\n      <td>NaN</td>\n      <td>2009-09-23 20:42:43.883</td>\n      <td>2</td>\n      <td>2009-10-10 20:52:40.330</td>\n      <td>2009-09-23 20:45:37.153</td>\n      <td>...</td>\n      <td>139096</td>\n      <td>0</td>\n      <td>1</td>\n      <td>3</td>\n      <td>&lt;iphone&gt;&lt;communication&gt;&lt;xamarin.ios&gt;</td>\n      <td>Cross iPhone communication using mono touch</td>\n      <td>1464</td>\n      <td>&lt;p&gt;Does mono touch allow you to do cross iPhon...</td>\n      <td>[mono, touch, allow, cross, iphone, communicat...</td>\n      <td>&lt;p&gt;Does mono touch allow you to do cross iPhon...</td>\n    </tr>\n    <tr>\n      <th>1583856</th>\n      <td>1634592</td>\n      <td>14</td>\n      <td>&lt;p&gt;After sitting through a session today on Mo...</td>\n      <td>2019-09-23 16:34:03.127</td>\n      <td>1</td>\n      <td>NaN</td>\n      <td>2009-10-18 02:47:39.653</td>\n      <td>91</td>\n      <td>2019-09-23 14:03:02.387</td>\n      <td>2012-03-07 16:08:46.430</td>\n      <td>...</td>\n      <td>142017</td>\n      <td>0</td>\n      <td>1</td>\n      <td>273</td>\n      <td>&lt;c#&gt;&lt;objective-c&gt;&lt;mono&gt;&lt;xamarin.ios&gt;</td>\n      <td>How to decide between MonoTouch and Objective-C?</td>\n      <td>28366</td>\n      <td>&lt;p&gt;After sitting through a session today on Mo...</td>\n      <td>[sit, session, today, mono, local, net, event,...</td>\n      <td>&lt;p&gt;After sitting through a session today on Mo...</td>\n    </tr>\n    <tr>\n      <th>1914947</th>\n      <td>1915407</td>\n      <td>4</td>\n      <td>&lt;p&gt;What is the best approach to implement tabs...</td>\n      <td>NaN</td>\n      <td>0</td>\n      <td>NaN</td>\n      <td>2009-12-16 14:23:59.397</td>\n      <td>5</td>\n      <td>2019-05-21 10:06:27.997</td>\n      <td>2019-05-21 10:06:27.997</td>\n      <td>...</td>\n      <td>78101</td>\n      <td>0</td>\n      <td>1</td>\n      <td>6</td>\n      <td>&lt;iphone&gt;&lt;uiview&gt;&lt;uiviewcontroller&gt;&lt;xamarin.ios&gt;</td>\n      <td>Web-like tabs for the iPhone</td>\n      <td>1053</td>\n      <td>&lt;p&gt;What is the best approach to implement tabs...</td>\n      <td>[good, approach, implement, tab, look, web, ap...</td>\n      <td>&lt;p&gt;What is the best approach to implement tabs...</td>\n    </tr>\n    <tr>\n      <th>1961341</th>\n      <td>1961838</td>\n      <td>1</td>\n      <td>&lt;p&gt;How can I check internet access with MonoTo...</td>\n      <td>NaN</td>\n      <td>1</td>\n      <td>NaN</td>\n      <td>2009-12-25 15:38:21.420</td>\n      <td>2</td>\n      <td>2012-05-23 07:10:33.650</td>\n      <td>2009-12-25 18:33:38.633</td>\n      <td>...</td>\n      <td>34155</td>\n      <td>0</td>\n      <td>1</td>\n      <td>14</td>\n      <td>&lt;iphone&gt;&lt;xamarin.ios&gt;</td>\n      <td>Check for internet access with monotouch</td>\n      <td>5548</td>\n      <td>&lt;p&gt;How can I check internet access with MonoTo...</td>\n      <td>[check, internet, access, monotouch, do, care,...</td>\n      <td>&lt;p&gt;How can I check internet access with MonoTo...</td>\n    </tr>\n    <tr>\n      <th>2039387</th>\n      <td>2044192</td>\n      <td>4</td>\n      <td>&lt;p&gt;I'm new to MonoTouch and iPhone development...</td>\n      <td>NaN</td>\n      <td>1</td>\n      <td>NaN</td>\n      <td>2010-01-11 01:12:49.940</td>\n      <td>2</td>\n      <td>2014-01-19 15:43:12.283</td>\n      <td>2014-01-19 15:43:12.283</td>\n      <td>...</td>\n      <td>247706</td>\n      <td>0</td>\n      <td>1</td>\n      <td>14</td>\n      <td>&lt;iphone&gt;&lt;xamarin.ios&gt;</td>\n      <td>Images in Interface Builder when using MonoTouch</td>\n      <td>4257</td>\n      <td>&lt;p&gt;I'm new to MonoTouch and iPhone development...</td>\n      <td>[m, new, monotouch, iphone, development, image...</td>\n      <td>&lt;p&gt;I'm new to MonoTouch and iPhone development...</td>\n    </tr>\n    <tr>\n      <th>2583326</th>\n      <td>2583456</td>\n      <td>1</td>\n      <td>&lt;p&gt;This is not a really Programming Question, ...</td>\n      <td>NaN</td>\n      <td>2</td>\n      <td>NaN</td>\n      <td>2010-04-06 07:39:54.897</td>\n      <td>0</td>\n      <td>2010-04-06 14:38:38.320</td>\n      <td>2010-04-06 08:21:45.890</td>\n      <td>...</td>\n      <td>28004</td>\n      <td>0</td>\n      <td>1</td>\n      <td>1</td>\n      <td>&lt;iphone&gt;&lt;project&gt;&lt;xamarin.ios&gt;&lt;monodevelop&gt;</td>\n      <td>Can't run MonoTouch App</td>\n      <td>849</td>\n      <td>&lt;p&gt;This is not a really Programming Question, ...</td>\n      <td>[really, program, question, please_bear, relat...</td>\n      <td>&lt;p&gt;This is not a really Programming Question, ...</td>\n    </tr>\n    <tr>\n      <th>2597198</th>\n      <td>2597594</td>\n      <td>1</td>\n      <td>&lt;p&gt;This question is a duplicate of &lt;a href=\"ht...</td>\n      <td>NaN</td>\n      <td>0</td>\n      <td>NaN</td>\n      <td>2010-04-08 02:28:41.863</td>\n      <td>2</td>\n      <td>2010-04-08 04:34:30.573</td>\n      <td>2017-05-23 11:50:42.387</td>\n      <td>...</td>\n      <td>10116</td>\n      <td>0</td>\n      <td>1</td>\n      <td>2</td>\n      <td>&lt;uikit&gt;&lt;uiimage&gt;&lt;xamarin.ios&gt;&lt;pixel&gt;&lt;unsafe&gt;</td>\n      <td>Retrieving a pixel alpha value for a UIImage (...</td>\n      <td>2657</td>\n      <td>&lt;p&gt;This question is a duplicate of &lt;a href=\"ht...</td>\n      <td>[question, duplicate, href, https, stackoverfl...</td>\n      <td>&lt;p&gt;This question is a duplicate of &lt;a href=\"ht...</td>\n    </tr>\n    <tr>\n      <th>2604033</th>\n      <td>2604075</td>\n      <td>18</td>\n      <td>&lt;p&gt;A recent post by &lt;a href=\"http://daringfire...</td>\n      <td>2012-12-05 12:52:02.217</td>\n      <td>6</td>\n      <td>NaN</td>\n      <td>2010-04-08 23:02:26.587</td>\n      <td>28</td>\n      <td>2017-11-07 07:51:04.140</td>\n      <td>2012-12-05 12:52:27.283</td>\n      <td>...</td>\n      <td>139096</td>\n      <td>0</td>\n      <td>1</td>\n      <td>155</td>\n      <td>&lt;iphone&gt;&lt;xamarin.ios&gt;</td>\n      <td>Is MonoTouch now banned on the iPhone?</td>\n      <td>12385</td>\n      <td>&lt;p&gt;A recent post by &lt;a href=\"http://daringfire...</td>\n      <td>[recent, post, href, http, daringfireball, net...</td>\n      <td>&lt;p&gt;A recent post by &lt;a href=\"http://daringfire...</td>\n    </tr>\n    <tr>\n      <th>2625210</th>\n      <td>2625240</td>\n      <td>19</td>\n      <td>&lt;p&gt;Is it possible to implement \"long press\" in...</td>\n      <td>NaN</td>\n      <td>2</td>\n      <td>NaN</td>\n      <td>2010-04-12 20:29:23.897</td>\n      <td>57</td>\n      <td>2019-12-17 06:36:51.870</td>\n      <td>2019-07-22 21:08:33.480</td>\n      <td>...</td>\n      <td>313632</td>\n      <td>0</td>\n      <td>1</td>\n      <td>121</td>\n      <td>&lt;javascript&gt;&lt;jquery&gt;&lt;jquery-ui&gt;&lt;jquery-mobile&gt;...</td>\n      <td>Long Press in JavaScript?</td>\n      <td>174737</td>\n      <td>&lt;p&gt;Is it possible to implement \"long press\" in...</td>\n      <td>[possible, implement, long, press, javascript,...</td>\n      <td>&lt;p&gt;Is it possible to implement \"long press\" in...</td>\n    </tr>\n    <tr>\n      <th>2855574</th>\n      <td>2858108</td>\n      <td>1</td>\n      <td>&lt;p&gt;In my ap we serilaize the data locally for ...</td>\n      <td>NaN</td>\n      <td>0</td>\n      <td>NaN</td>\n      <td>2010-05-18 08:23:12.677</td>\n      <td>0</td>\n      <td>2010-05-18 14:22:17.367</td>\n      <td>NaN</td>\n      <td>...</td>\n      <td>0</td>\n      <td>0</td>\n      <td>1</td>\n      <td>0</td>\n      <td>&lt;wcf&gt;&lt;xamarin.ios&gt;</td>\n      <td>monotouch - updating data locally</td>\n      <td>119</td>\n      <td>&lt;p&gt;In my ap we serilaize the data locally for ...</td>\n      <td>[serilaize, datum, locally, offline, use, ensu...</td>\n      <td>&lt;p&gt;In my ap we serilaize the data locally for ...</td>\n    </tr>\n    <tr>\n      <th>2920069</th>\n      <td>4503153</td>\n      <td>1</td>\n      <td>&lt;p&gt;I'm trying to use the code posted here: &lt;a ...</td>\n      <td>NaN</td>\n      <td>0</td>\n      <td>NaN</td>\n      <td>2010-05-27 09:56:29.943</td>\n      <td>0</td>\n      <td>2010-12-21 19:32:07.280</td>\n      <td>NaN</td>\n      <td>...</td>\n      <td>0</td>\n      <td>0</td>\n      <td>1</td>\n      <td>1</td>\n      <td>&lt;xamarin.ios&gt;&lt;augmented-reality&gt;</td>\n      <td>Monotouch Augmented Reality</td>\n      <td>580</td>\n      <td>&lt;p&gt;I'm trying to use the code posted here: &lt;a ...</td>\n      <td>[m, try, use, code, post, href, http, seanho, ...</td>\n      <td>&lt;p&gt;I'm trying to use the code posted here: &lt;a ...</td>\n    </tr>\n    <tr>\n      <th>3155711</th>\n      <td>3156721</td>\n      <td>1</td>\n      <td>&lt;p&gt;With the new additions to the OS and the ha...</td>\n      <td>NaN</td>\n      <td>0</td>\n      <td>NaN</td>\n      <td>2010-07-01 07:10:25.257</td>\n      <td>0</td>\n      <td>2010-07-01 09:58:30.393</td>\n      <td>NaN</td>\n      <td>...</td>\n      <td>0</td>\n      <td>0</td>\n      <td>1</td>\n      <td>0</td>\n      <td>&lt;iphone&gt;&lt;objective-c&gt;&lt;xamarin.ios&gt;&lt;augmented-r...</td>\n      <td>iPhone Augmented reality with iOS4 obj c + and...</td>\n      <td>881</td>\n      <td>&lt;p&gt;With the new additions to the OS and the ha...</td>\n      <td>[new, addition, hardware, iphone, app, serious...</td>\n      <td>&lt;p&gt;With the new additions to the OS and the ha...</td>\n    </tr>\n    <tr>\n      <th>3813715</th>\n      <td>3813880</td>\n      <td>2</td>\n      <td>&lt;p&gt;Monotouch compiles the app into the native ...</td>\n      <td>NaN</td>\n      <td>0</td>\n      <td>NaN</td>\n      <td>2010-09-28 14:20:47.650</td>\n      <td>0</td>\n      <td>2011-04-06 19:58:24.213</td>\n      <td>NaN</td>\n      <td>...</td>\n      <td>437039</td>\n      <td>0</td>\n      <td>1</td>\n      <td>2</td>\n      <td>&lt;xamarin.ios&gt;</td>\n      <td>How can Apple tell if an app was built in Mono...</td>\n      <td>659</td>\n      <td>&lt;p&gt;Monotouch compiles the app into the native ...</td>\n      <td>[monotouch, compile, app, native, code, apple,...</td>\n      <td>&lt;p&gt;Monotouch compiles the app into the native ...</td>\n    </tr>\n    <tr>\n      <th>3819748</th>\n      <td>3819855</td>\n      <td>2</td>\n      <td>&lt;p&gt;Is it possible to use 3rd party libraries w...</td>\n      <td>NaN</td>\n      <td>0</td>\n      <td>NaN</td>\n      <td>2010-09-29 07:59:50.230</td>\n      <td>2</td>\n      <td>2011-11-24 16:35:57.680</td>\n      <td>2011-11-24 16:35:57.680</td>\n      <td>...</td>\n      <td>390198</td>\n      <td>0</td>\n      <td>1</td>\n      <td>2</td>\n      <td>&lt;c#&gt;&lt;objective-c&gt;&lt;xamarin.ios&gt;</td>\n      <td>3rd party libraries in MonoTouch?</td>\n      <td>1035</td>\n      <td>&lt;p&gt;Is it possible to use 3rd party libraries w...</td>\n      <td>[possible, use, rd_party, library, write, mono...</td>\n      <td>&lt;p&gt;Is it possible to use 3rd party libraries w...</td>\n    </tr>\n    <tr>\n      <th>4028356</th>\n      <td>4093283</td>\n      <td>1</td>\n      <td>&lt;p&gt;I am using MonoTouch.Dialog's OwnerDrawnEle...</td>\n      <td>NaN</td>\n      <td>0</td>\n      <td>NaN</td>\n      <td>2010-10-26 21:55:19.683</td>\n      <td>0</td>\n      <td>2010-11-04 02:01:09.413</td>\n      <td>NaN</td>\n      <td>...</td>\n      <td>488160</td>\n      <td>0</td>\n      <td>1</td>\n      <td>3</td>\n      <td>&lt;dialog&gt;&lt;xamarin.ios&gt;</td>\n      <td>MonoTouch.Dialog's OwnerDrawnElement highlight...</td>\n      <td>626</td>\n      <td>&lt;p&gt;I am using MonoTouch.Dialog's OwnerDrawnEle...</td>\n      <td>[use, monotouch, dialog, do, seem, allow, user...</td>\n      <td>&lt;p&gt;I am using MonoTouch.Dialog's OwnerDrawnEle...</td>\n    </tr>\n    <tr>\n      <th>4105249</th>\n      <td>4105267</td>\n      <td>2</td>\n      <td>&lt;p&gt;I have created a small iPhone app using Mon...</td>\n      <td>NaN</td>\n      <td>0</td>\n      <td>NaN</td>\n      <td>2010-11-05 10:58:53.267</td>\n      <td>1</td>\n      <td>2010-11-05 14:12:56.453</td>\n      <td>NaN</td>\n      <td>...</td>\n      <td>258354</td>\n      <td>0</td>\n      <td>1</td>\n      <td>0</td>\n      <td>&lt;iphone&gt;&lt;xamarin.ios&gt;</td>\n      <td>iPhone App using MonoTouch - which files/folde...</td>\n      <td>789</td>\n      <td>&lt;p&gt;I have created a small iPhone app using Mon...</td>\n      <td>[create, small, iphone, app, use, monotouch, g...</td>\n      <td>&lt;p&gt;I have created a small iPhone app using Mon...</td>\n    </tr>\n    <tr>\n      <th>4239115</th>\n      <td>4437224</td>\n      <td>1</td>\n      <td>&lt;p&gt;new to jquery and jquerymobile.&lt;/p&gt;\\n\\n&lt;p&gt;A...</td>\n      <td>NaN</td>\n      <td>0</td>\n      <td>NaN</td>\n      <td>2010-11-21 17:14:22.267</td>\n      <td>0</td>\n      <td>2011-02-01 18:38:52.697</td>\n      <td>2010-11-21 19:49:47.460</td>\n      <td>...</td>\n      <td>216135</td>\n      <td>0</td>\n      <td>1</td>\n      <td>1</td>\n      <td>&lt;jquery&gt;&lt;jquery-mobile&gt;</td>\n      <td>Help with making menu button for jQueryMobile</td>\n      <td>3434</td>\n      <td>&lt;p&gt;new to jquery and jquerymobile.&lt;/p&gt;\\n\\n&lt;p&gt;A...</td>\n      <td>[new, jquery, jquerymobile, want, hide, main, ...</td>\n      <td>&lt;p&gt;new to jquery and jquerymobile.&lt;/p&gt;\\n\\n&lt;p&gt;A...</td>\n    </tr>\n    <tr>\n      <th>4278606</th>\n      <td>4285903</td>\n      <td>2</td>\n      <td>&lt;p&gt;Is it possible to get both the MonoTouch an...</td>\n      <td>NaN</td>\n      <td>0</td>\n      <td>NaN</td>\n      <td>2010-11-25 15:28:08.910</td>\n      <td>0</td>\n      <td>2011-04-16 16:52:32.440</td>\n      <td>NaN</td>\n      <td>...</td>\n      <td>335794</td>\n      <td>0</td>\n      <td>1</td>\n      <td>0</td>\n      <td>&lt;xamarin.ios&gt;&lt;license-key&gt;&lt;xamarin.android&gt;</td>\n      <td>Buy licenses for MonoTouch and MonoDroid together</td>\n      <td>812</td>\n      <td>&lt;p&gt;Is it possible to get both the MonoTouch an...</td>\n      <td>[possible, get, monotouch, monodroid, license,...</td>\n      <td>&lt;p&gt;Is it possible to get both the MonoTouch an...</td>\n    </tr>\n    <tr>\n      <th>4455224</th>\n      <td>4500915</td>\n      <td>1</td>\n      <td>&lt;p&gt;Is there a quick way to populate a UIPicker...</td>\n      <td>NaN</td>\n      <td>0</td>\n      <td>NaN</td>\n      <td>2010-12-15 21:41:46.617</td>\n      <td>0</td>\n      <td>2010-12-21 15:31:59.493</td>\n      <td>NaN</td>\n      <td>...</td>\n      <td>382140</td>\n      <td>0</td>\n      <td>1</td>\n      <td>2</td>\n      <td>&lt;xamarin.ios&gt;&lt;uipickerview&gt;</td>\n      <td>Monotouch - Populate a UIViewPicker</td>\n      <td>1658</td>\n      <td>&lt;p&gt;Is there a quick way to populate a UIPicker...</td>\n      <td>[quick, way, populate, uipickerview, value, pi...</td>\n      <td>&lt;p&gt;Is there a quick way to populate a UIPicker...</td>\n    </tr>\n    <tr>\n      <th>4517228</th>\n      <td>5799982</td>\n      <td>3</td>\n      <td>&lt;p&gt;I working on a multicolumn layout in Jquery...</td>\n      <td>NaN</td>\n      <td>0</td>\n      <td>NaN</td>\n      <td>2010-12-23 09:05:40.800</td>\n      <td>3</td>\n      <td>2012-05-04 14:58:57.910</td>\n      <td>NaN</td>\n      <td>...</td>\n      <td>536768</td>\n      <td>0</td>\n      <td>1</td>\n      <td>4</td>\n      <td>&lt;jquery&gt;&lt;jquery-mobile&gt;</td>\n      <td>jquery-mobile - how can I bind disable ajax li...</td>\n      <td>7667</td>\n      <td>&lt;p&gt;I working on a multicolumn layout in Jquery...</td>\n      <td>[work, multicolumn, layout, jquery_mobile, use...</td>\n      <td>&lt;p&gt;I working on a multicolumn layout in Jquery...</td>\n    </tr>\n  </tbody>\n</table>\n<p>20 rows × 22 columns</p>\n</div>"
     },
     "execution_count": 32,
     "metadata": {},
     "output_type": "execute_result"
    }
   ],
   "source": [
    "reviews_datasets.head(20)"
   ],
   "metadata": {
    "collapsed": false,
    "pycharm": {
     "name": "#%%\n"
    }
   }
  },
  {
   "cell_type": "code",
   "execution_count": 34,
   "metadata": {},
   "outputs": [
    {
     "name": "stderr",
     "output_type": "stream",
     "text": [
      "C:\\tools\\Anaconda3\\lib\\site-packages\\ipykernel\\ipkernel.py:287: DeprecationWarning: `should_run_async` will not call `transform_cell` automatically in the future. Please pass the result to `transformed_cell` argument and any exception that happen during thetransform in `preprocessing_exc_tuple` in IPython 7.17 and above.\n",
      "  and should_run_async(code)\n"
     ]
    },
    {
     "name": "stdout",
     "output_type": "stream",
     "text": [
      "[['mono', 'touch', 'allow', 'cross', 'iphone', 'communication', 'iphone', 'room', 's', 'api'], ['sit', 'session', 'today', 'mono', 'local', 'net', 'event', 'use', 'monotouch', 'touch', 'alternative', 'iphone', 'development', 'comfortable', 'net', 'seem', 'appeal', 'option', 'quirkiness', 'mono', 'stack', 'however', 'monotouch', 'cost', 'm', 'somewhat', 'torn', 'way', 'go', 'iphone', 'development', 'experience', 'develop', 'monotouch', 'objective', 'develop', 'monotouch', 'much', 'simple', 'quick', 'learn', 'objective', 'turn', 'worth']]\n"
     ]
    },
    {
     "data": {
      "text/plain": "         AcceptedAnswerId  AnswerCount  \\\nId                                       \n1468404           1549052            3   \n1583856           1634592           14   \n1914947           1915407            4   \n1961341           1961838            1   \n2039387           2044192            4   \n2583326           2583456            1   \n2597198           2597594            1   \n2604033           2604075           18   \n2625210           2625240           19   \n2855574           2858108            1   \n2920069           4503153            1   \n3155711           3156721            1   \n3813715           3813880            2   \n3819748           3819855            2   \n4028356           4093283            1   \n4105249           4105267            2   \n4239115           4437224            1   \n4278606           4285903            2   \n4455224           4500915            1   \n4517228           5799982            3   \n\n                                                      Body  \\\nId                                                           \n1468404  <p>Does mono touch allow you to do cross iPhon...   \n1583856  <p>After sitting through a session today on Mo...   \n1914947  <p>What is the best approach to implement tabs...   \n1961341  <p>How can I check internet access with MonoTo...   \n2039387  <p>I'm new to MonoTouch and iPhone development...   \n2583326  <p>This is not a really Programming Question, ...   \n2597198  <p>This question is a duplicate of <a href=\"ht...   \n2604033  <p>A recent post by <a href=\"http://daringfire...   \n2625210  <p>Is it possible to implement \"long press\" in...   \n2855574  <p>In my ap we serilaize the data locally for ...   \n2920069  <p>I'm trying to use the code posted here: <a ...   \n3155711  <p>With the new additions to the OS and the ha...   \n3813715  <p>Monotouch compiles the app into the native ...   \n3819748  <p>Is it possible to use 3rd party libraries w...   \n4028356  <p>I am using MonoTouch.Dialog's OwnerDrawnEle...   \n4105249  <p>I have created a small iPhone app using Mon...   \n4239115  <p>new to jquery and jquerymobile.</p>\\n\\n<p>A...   \n4278606  <p>Is it possible to get both the MonoTouch an...   \n4455224  <p>Is there a quick way to populate a UIPicker...   \n4517228  <p>I working on a multicolumn layout in Jquery...   \n\n                      ClosedDate  CommentCount CommunityOwnedDate  \\\nId                                                                  \n1468404                      NaN             0                NaN   \n1583856  2019-09-23 16:34:03.127             1                NaN   \n1914947                      NaN             0                NaN   \n1961341                      NaN             1                NaN   \n2039387                      NaN             1                NaN   \n2583326                      NaN             2                NaN   \n2597198                      NaN             0                NaN   \n2604033  2012-12-05 12:52:02.217             6                NaN   \n2625210                      NaN             2                NaN   \n2855574                      NaN             0                NaN   \n2920069                      NaN             0                NaN   \n3155711                      NaN             0                NaN   \n3813715                      NaN             0                NaN   \n3819748                      NaN             0                NaN   \n4028356                      NaN             0                NaN   \n4105249                      NaN             0                NaN   \n4239115                      NaN             0                NaN   \n4278606                      NaN             0                NaN   \n4455224                      NaN             0                NaN   \n4517228                      NaN             0                NaN   \n\n                    CreationDate  FavoriteCount         LastActivityDate  \\\nId                                                                         \n1468404  2009-09-23 20:42:43.883              2  2009-10-10 20:52:40.330   \n1583856  2009-10-18 02:47:39.653             91  2019-09-23 14:03:02.387   \n1914947  2009-12-16 14:23:59.397              5  2019-05-21 10:06:27.997   \n1961341  2009-12-25 15:38:21.420              2  2012-05-23 07:10:33.650   \n2039387  2010-01-11 01:12:49.940              2  2014-01-19 15:43:12.283   \n2583326  2010-04-06 07:39:54.897              0  2010-04-06 14:38:38.320   \n2597198  2010-04-08 02:28:41.863              2  2010-04-08 04:34:30.573   \n2604033  2010-04-08 23:02:26.587             28  2017-11-07 07:51:04.140   \n2625210  2010-04-12 20:29:23.897             57  2019-12-17 06:36:51.870   \n2855574  2010-05-18 08:23:12.677              0  2010-05-18 14:22:17.367   \n2920069  2010-05-27 09:56:29.943              0  2010-12-21 19:32:07.280   \n3155711  2010-07-01 07:10:25.257              0  2010-07-01 09:58:30.393   \n3813715  2010-09-28 14:20:47.650              0  2011-04-06 19:58:24.213   \n3819748  2010-09-29 07:59:50.230              2  2011-11-24 16:35:57.680   \n4028356  2010-10-26 21:55:19.683              0  2010-11-04 02:01:09.413   \n4105249  2010-11-05 10:58:53.267              1  2010-11-05 14:12:56.453   \n4239115  2010-11-21 17:14:22.267              0  2011-02-01 18:38:52.697   \n4278606  2010-11-25 15:28:08.910              0  2011-04-16 16:52:32.440   \n4455224  2010-12-15 21:41:46.617              0  2010-12-21 15:31:59.493   \n4517228  2010-12-23 09:05:40.800              3  2012-05-04 14:58:57.910   \n\n                    LastEditDate  ... OwnerUserId  ParentId  PostTypeId  \\\nId                                ...                                     \n1468404  2009-09-23 20:45:37.153  ...      139096         0           1   \n1583856  2012-03-07 16:08:46.430  ...      142017         0           1   \n1914947  2019-05-21 10:06:27.997  ...       78101         0           1   \n1961341  2009-12-25 18:33:38.633  ...       34155         0           1   \n2039387  2014-01-19 15:43:12.283  ...      247706         0           1   \n2583326  2010-04-06 08:21:45.890  ...       28004         0           1   \n2597198  2017-05-23 11:50:42.387  ...       10116         0           1   \n2604033  2012-12-05 12:52:27.283  ...      139096         0           1   \n2625210  2019-07-22 21:08:33.480  ...      313632         0           1   \n2855574                      NaN  ...           0         0           1   \n2920069                      NaN  ...           0         0           1   \n3155711                      NaN  ...           0         0           1   \n3813715                      NaN  ...      437039         0           1   \n3819748  2011-11-24 16:35:57.680  ...      390198         0           1   \n4028356                      NaN  ...      488160         0           1   \n4105249                      NaN  ...      258354         0           1   \n4239115  2010-11-21 19:49:47.460  ...      216135         0           1   \n4278606                      NaN  ...      335794         0           1   \n4455224                      NaN  ...      382140         0           1   \n4517228                      NaN  ...      536768         0           1   \n\n         Score                                               Tags  \\\nId                                                                  \n1468404      3               <iphone><communication><xamarin.ios>   \n1583856    273               <c#><objective-c><mono><xamarin.ios>   \n1914947      6    <iphone><uiview><uiviewcontroller><xamarin.ios>   \n1961341     14                              <iphone><xamarin.ios>   \n2039387     14                              <iphone><xamarin.ios>   \n2583326      1        <iphone><project><xamarin.ios><monodevelop>   \n2597198      2       <uikit><uiimage><xamarin.ios><pixel><unsafe>   \n2604033    155                              <iphone><xamarin.ios>   \n2625210    121  <javascript><jquery><jquery-ui><jquery-mobile>...   \n2855574      0                                 <wcf><xamarin.ios>   \n2920069      1                   <xamarin.ios><augmented-reality>   \n3155711      0  <iphone><objective-c><xamarin.ios><augmented-r...   \n3813715      2                                      <xamarin.ios>   \n3819748      2                     <c#><objective-c><xamarin.ios>   \n4028356      3                              <dialog><xamarin.ios>   \n4105249      0                              <iphone><xamarin.ios>   \n4239115      1                            <jquery><jquery-mobile>   \n4278606      0        <xamarin.ios><license-key><xamarin.android>   \n4455224      2                        <xamarin.ios><uipickerview>   \n4517228      4                            <jquery><jquery-mobile>   \n\n                                                     Title ViewCount  \\\nId                                                                     \n1468404        Cross iPhone communication using mono touch      1464   \n1583856   How to decide between MonoTouch and Objective-C?     28366   \n1914947                       Web-like tabs for the iPhone      1053   \n1961341           Check for internet access with monotouch      5548   \n2039387   Images in Interface Builder when using MonoTouch      4257   \n2583326                            Can't run MonoTouch App       849   \n2597198  Retrieving a pixel alpha value for a UIImage (...      2657   \n2604033             Is MonoTouch now banned on the iPhone?     12385   \n2625210                          Long Press in JavaScript?    174737   \n2855574                  monotouch - updating data locally       119   \n2920069                        Monotouch Augmented Reality       580   \n3155711  iPhone Augmented reality with iOS4 obj c + and...       881   \n3813715  How can Apple tell if an app was built in Mono...       659   \n3819748                  3rd party libraries in MonoTouch?      1035   \n4028356  MonoTouch.Dialog's OwnerDrawnElement highlight...       626   \n4105249  iPhone App using MonoTouch - which files/folde...       789   \n4239115      Help with making menu button for jQueryMobile      3434   \n4278606  Buy licenses for MonoTouch and MonoDroid together       812   \n4455224                Monotouch - Populate a UIViewPicker      1658   \n4517228  jquery-mobile - how can I bind disable ajax li...      7667   \n\n                                         CombinedTitleBody  \\\nId                                                           \n1468404  <p>Does mono touch allow you to do cross iPhon...   \n1583856  <p>After sitting through a session today on Mo...   \n1914947  <p>What is the best approach to implement tabs...   \n1961341  <p>How can I check internet access with MonoTo...   \n2039387  <p>I'm new to MonoTouch and iPhone development...   \n2583326  <p>This is not a really Programming Question, ...   \n2597198  <p>This question is a duplicate of <a href=\"ht...   \n2604033  <p>A recent post by <a href=\"http://daringfire...   \n2625210  <p>Is it possible to implement \"long press\" in...   \n2855574  <p>In my ap we serilaize the data locally for ...   \n2920069  <p>I'm trying to use the code posted here: <a ...   \n3155711  <p>With the new additions to the OS and the ha...   \n3813715  <p>Monotouch compiles the app into the native ...   \n3819748  <p>Is it possible to use 3rd party libraries w...   \n4028356  <p>I am using MonoTouch.Dialog's OwnerDrawnEle...   \n4105249  <p>I have created a small iPhone app using Mon...   \n4239115  <p>new to jquery and jquerymobile.</p>\\n\\n<p>A...   \n4278606  <p>Is it possible to get both the MonoTouch an...   \n4455224  <p>Is there a quick way to populate a UIPicker...   \n4517228  <p>I working on a multicolumn layout in Jquery...   \n\n                                                    topics  \\\nId                                                           \n1468404  [mono, touch, allow, cross, iphone, communicat...   \n1583856  [sit, session, today, mono, local, net, event,...   \n1914947  [good, approach, implement, tab, look, web, ap...   \n1961341  [check, internet, access, monotouch, do, care,...   \n2039387  [m, new, monotouch, iphone, development, image...   \n2583326  [really, program, question, please_bear, relat...   \n2597198  [question, duplicate, href, https, stackoverfl...   \n2604033  [recent, post, href, http, daringfireball, net...   \n2625210  [possible, implement, long, press, javascript,...   \n2855574  [serilaize, datum, locally, offline, use, ensu...   \n2920069  [m, try, use, code, post, href, http, seanho, ...   \n3155711  [new, addition, hardware, iphone, app, serious...   \n3813715  [monotouch, compile, app, native, code, apple,...   \n3819748  [possible, use, rd_party, library, write, mono...   \n4028356  [use, monotouch, dialog, do, seem, allow, user...   \n4105249  [create, small, iphone, app, use, monotouch, g...   \n4239115  [new, jquery, jquerymobile, want, hide, main, ...   \n4278606  [possible, get, monotouch, monodroid, license,...   \n4455224  [quick, way, populate, uipickerview, value, pi...   \n4517228  [work, multicolumn, layout, jquery_mobile, use...   \n\n                                                     obody  \nId                                                          \n1468404  <p>Does mono touch allow you to do cross iPhon...  \n1583856  <p>After sitting through a session today on Mo...  \n1914947  <p>What is the best approach to implement tabs...  \n1961341  <p>How can I check internet access with MonoTo...  \n2039387  <p>I'm new to MonoTouch and iPhone development...  \n2583326  <p>This is not a really Programming Question, ...  \n2597198  <p>This question is a duplicate of <a href=\"ht...  \n2604033  <p>A recent post by <a href=\"http://daringfire...  \n2625210  <p>Is it possible to implement \"long press\" in...  \n2855574  <p>In my ap we serilaize the data locally for ...  \n2920069  <p>I'm trying to use the code posted here: <a ...  \n3155711  <p>With the new additions to the OS and the ha...  \n3813715  <p>Monotouch compiles the app into the native ...  \n3819748  <p>Is it possible to use 3rd party libraries w...  \n4028356  <p>I am using MonoTouch.Dialog's OwnerDrawnEle...  \n4105249  <p>I have created a small iPhone app using Mon...  \n4239115  <p>new to jquery and jquerymobile.</p>\\n\\n<p>A...  \n4278606  <p>Is it possible to get both the MonoTouch an...  \n4455224  <p>Is there a quick way to populate a UIPicker...  \n4517228  <p>I working on a multicolumn layout in Jquery...  \n\n[20 rows x 22 columns]",
      "text/html": "<div>\n<style scoped>\n    .dataframe tbody tr th:only-of-type {\n        vertical-align: middle;\n    }\n\n    .dataframe tbody tr th {\n        vertical-align: top;\n    }\n\n    .dataframe thead th {\n        text-align: right;\n    }\n</style>\n<table border=\"1\" class=\"dataframe\">\n  <thead>\n    <tr style=\"text-align: right;\">\n      <th></th>\n      <th>AcceptedAnswerId</th>\n      <th>AnswerCount</th>\n      <th>Body</th>\n      <th>ClosedDate</th>\n      <th>CommentCount</th>\n      <th>CommunityOwnedDate</th>\n      <th>CreationDate</th>\n      <th>FavoriteCount</th>\n      <th>LastActivityDate</th>\n      <th>LastEditDate</th>\n      <th>...</th>\n      <th>OwnerUserId</th>\n      <th>ParentId</th>\n      <th>PostTypeId</th>\n      <th>Score</th>\n      <th>Tags</th>\n      <th>Title</th>\n      <th>ViewCount</th>\n      <th>CombinedTitleBody</th>\n      <th>topics</th>\n      <th>obody</th>\n    </tr>\n    <tr>\n      <th>Id</th>\n      <th></th>\n      <th></th>\n      <th></th>\n      <th></th>\n      <th></th>\n      <th></th>\n      <th></th>\n      <th></th>\n      <th></th>\n      <th></th>\n      <th></th>\n      <th></th>\n      <th></th>\n      <th></th>\n      <th></th>\n      <th></th>\n      <th></th>\n      <th></th>\n      <th></th>\n      <th></th>\n      <th></th>\n    </tr>\n  </thead>\n  <tbody>\n    <tr>\n      <th>1468404</th>\n      <td>1549052</td>\n      <td>3</td>\n      <td>&lt;p&gt;Does mono touch allow you to do cross iPhon...</td>\n      <td>NaN</td>\n      <td>0</td>\n      <td>NaN</td>\n      <td>2009-09-23 20:42:43.883</td>\n      <td>2</td>\n      <td>2009-10-10 20:52:40.330</td>\n      <td>2009-09-23 20:45:37.153</td>\n      <td>...</td>\n      <td>139096</td>\n      <td>0</td>\n      <td>1</td>\n      <td>3</td>\n      <td>&lt;iphone&gt;&lt;communication&gt;&lt;xamarin.ios&gt;</td>\n      <td>Cross iPhone communication using mono touch</td>\n      <td>1464</td>\n      <td>&lt;p&gt;Does mono touch allow you to do cross iPhon...</td>\n      <td>[mono, touch, allow, cross, iphone, communicat...</td>\n      <td>&lt;p&gt;Does mono touch allow you to do cross iPhon...</td>\n    </tr>\n    <tr>\n      <th>1583856</th>\n      <td>1634592</td>\n      <td>14</td>\n      <td>&lt;p&gt;After sitting through a session today on Mo...</td>\n      <td>2019-09-23 16:34:03.127</td>\n      <td>1</td>\n      <td>NaN</td>\n      <td>2009-10-18 02:47:39.653</td>\n      <td>91</td>\n      <td>2019-09-23 14:03:02.387</td>\n      <td>2012-03-07 16:08:46.430</td>\n      <td>...</td>\n      <td>142017</td>\n      <td>0</td>\n      <td>1</td>\n      <td>273</td>\n      <td>&lt;c#&gt;&lt;objective-c&gt;&lt;mono&gt;&lt;xamarin.ios&gt;</td>\n      <td>How to decide between MonoTouch and Objective-C?</td>\n      <td>28366</td>\n      <td>&lt;p&gt;After sitting through a session today on Mo...</td>\n      <td>[sit, session, today, mono, local, net, event,...</td>\n      <td>&lt;p&gt;After sitting through a session today on Mo...</td>\n    </tr>\n    <tr>\n      <th>1914947</th>\n      <td>1915407</td>\n      <td>4</td>\n      <td>&lt;p&gt;What is the best approach to implement tabs...</td>\n      <td>NaN</td>\n      <td>0</td>\n      <td>NaN</td>\n      <td>2009-12-16 14:23:59.397</td>\n      <td>5</td>\n      <td>2019-05-21 10:06:27.997</td>\n      <td>2019-05-21 10:06:27.997</td>\n      <td>...</td>\n      <td>78101</td>\n      <td>0</td>\n      <td>1</td>\n      <td>6</td>\n      <td>&lt;iphone&gt;&lt;uiview&gt;&lt;uiviewcontroller&gt;&lt;xamarin.ios&gt;</td>\n      <td>Web-like tabs for the iPhone</td>\n      <td>1053</td>\n      <td>&lt;p&gt;What is the best approach to implement tabs...</td>\n      <td>[good, approach, implement, tab, look, web, ap...</td>\n      <td>&lt;p&gt;What is the best approach to implement tabs...</td>\n    </tr>\n    <tr>\n      <th>1961341</th>\n      <td>1961838</td>\n      <td>1</td>\n      <td>&lt;p&gt;How can I check internet access with MonoTo...</td>\n      <td>NaN</td>\n      <td>1</td>\n      <td>NaN</td>\n      <td>2009-12-25 15:38:21.420</td>\n      <td>2</td>\n      <td>2012-05-23 07:10:33.650</td>\n      <td>2009-12-25 18:33:38.633</td>\n      <td>...</td>\n      <td>34155</td>\n      <td>0</td>\n      <td>1</td>\n      <td>14</td>\n      <td>&lt;iphone&gt;&lt;xamarin.ios&gt;</td>\n      <td>Check for internet access with monotouch</td>\n      <td>5548</td>\n      <td>&lt;p&gt;How can I check internet access with MonoTo...</td>\n      <td>[check, internet, access, monotouch, do, care,...</td>\n      <td>&lt;p&gt;How can I check internet access with MonoTo...</td>\n    </tr>\n    <tr>\n      <th>2039387</th>\n      <td>2044192</td>\n      <td>4</td>\n      <td>&lt;p&gt;I'm new to MonoTouch and iPhone development...</td>\n      <td>NaN</td>\n      <td>1</td>\n      <td>NaN</td>\n      <td>2010-01-11 01:12:49.940</td>\n      <td>2</td>\n      <td>2014-01-19 15:43:12.283</td>\n      <td>2014-01-19 15:43:12.283</td>\n      <td>...</td>\n      <td>247706</td>\n      <td>0</td>\n      <td>1</td>\n      <td>14</td>\n      <td>&lt;iphone&gt;&lt;xamarin.ios&gt;</td>\n      <td>Images in Interface Builder when using MonoTouch</td>\n      <td>4257</td>\n      <td>&lt;p&gt;I'm new to MonoTouch and iPhone development...</td>\n      <td>[m, new, monotouch, iphone, development, image...</td>\n      <td>&lt;p&gt;I'm new to MonoTouch and iPhone development...</td>\n    </tr>\n    <tr>\n      <th>2583326</th>\n      <td>2583456</td>\n      <td>1</td>\n      <td>&lt;p&gt;This is not a really Programming Question, ...</td>\n      <td>NaN</td>\n      <td>2</td>\n      <td>NaN</td>\n      <td>2010-04-06 07:39:54.897</td>\n      <td>0</td>\n      <td>2010-04-06 14:38:38.320</td>\n      <td>2010-04-06 08:21:45.890</td>\n      <td>...</td>\n      <td>28004</td>\n      <td>0</td>\n      <td>1</td>\n      <td>1</td>\n      <td>&lt;iphone&gt;&lt;project&gt;&lt;xamarin.ios&gt;&lt;monodevelop&gt;</td>\n      <td>Can't run MonoTouch App</td>\n      <td>849</td>\n      <td>&lt;p&gt;This is not a really Programming Question, ...</td>\n      <td>[really, program, question, please_bear, relat...</td>\n      <td>&lt;p&gt;This is not a really Programming Question, ...</td>\n    </tr>\n    <tr>\n      <th>2597198</th>\n      <td>2597594</td>\n      <td>1</td>\n      <td>&lt;p&gt;This question is a duplicate of &lt;a href=\"ht...</td>\n      <td>NaN</td>\n      <td>0</td>\n      <td>NaN</td>\n      <td>2010-04-08 02:28:41.863</td>\n      <td>2</td>\n      <td>2010-04-08 04:34:30.573</td>\n      <td>2017-05-23 11:50:42.387</td>\n      <td>...</td>\n      <td>10116</td>\n      <td>0</td>\n      <td>1</td>\n      <td>2</td>\n      <td>&lt;uikit&gt;&lt;uiimage&gt;&lt;xamarin.ios&gt;&lt;pixel&gt;&lt;unsafe&gt;</td>\n      <td>Retrieving a pixel alpha value for a UIImage (...</td>\n      <td>2657</td>\n      <td>&lt;p&gt;This question is a duplicate of &lt;a href=\"ht...</td>\n      <td>[question, duplicate, href, https, stackoverfl...</td>\n      <td>&lt;p&gt;This question is a duplicate of &lt;a href=\"ht...</td>\n    </tr>\n    <tr>\n      <th>2604033</th>\n      <td>2604075</td>\n      <td>18</td>\n      <td>&lt;p&gt;A recent post by &lt;a href=\"http://daringfire...</td>\n      <td>2012-12-05 12:52:02.217</td>\n      <td>6</td>\n      <td>NaN</td>\n      <td>2010-04-08 23:02:26.587</td>\n      <td>28</td>\n      <td>2017-11-07 07:51:04.140</td>\n      <td>2012-12-05 12:52:27.283</td>\n      <td>...</td>\n      <td>139096</td>\n      <td>0</td>\n      <td>1</td>\n      <td>155</td>\n      <td>&lt;iphone&gt;&lt;xamarin.ios&gt;</td>\n      <td>Is MonoTouch now banned on the iPhone?</td>\n      <td>12385</td>\n      <td>&lt;p&gt;A recent post by &lt;a href=\"http://daringfire...</td>\n      <td>[recent, post, href, http, daringfireball, net...</td>\n      <td>&lt;p&gt;A recent post by &lt;a href=\"http://daringfire...</td>\n    </tr>\n    <tr>\n      <th>2625210</th>\n      <td>2625240</td>\n      <td>19</td>\n      <td>&lt;p&gt;Is it possible to implement \"long press\" in...</td>\n      <td>NaN</td>\n      <td>2</td>\n      <td>NaN</td>\n      <td>2010-04-12 20:29:23.897</td>\n      <td>57</td>\n      <td>2019-12-17 06:36:51.870</td>\n      <td>2019-07-22 21:08:33.480</td>\n      <td>...</td>\n      <td>313632</td>\n      <td>0</td>\n      <td>1</td>\n      <td>121</td>\n      <td>&lt;javascript&gt;&lt;jquery&gt;&lt;jquery-ui&gt;&lt;jquery-mobile&gt;...</td>\n      <td>Long Press in JavaScript?</td>\n      <td>174737</td>\n      <td>&lt;p&gt;Is it possible to implement \"long press\" in...</td>\n      <td>[possible, implement, long, press, javascript,...</td>\n      <td>&lt;p&gt;Is it possible to implement \"long press\" in...</td>\n    </tr>\n    <tr>\n      <th>2855574</th>\n      <td>2858108</td>\n      <td>1</td>\n      <td>&lt;p&gt;In my ap we serilaize the data locally for ...</td>\n      <td>NaN</td>\n      <td>0</td>\n      <td>NaN</td>\n      <td>2010-05-18 08:23:12.677</td>\n      <td>0</td>\n      <td>2010-05-18 14:22:17.367</td>\n      <td>NaN</td>\n      <td>...</td>\n      <td>0</td>\n      <td>0</td>\n      <td>1</td>\n      <td>0</td>\n      <td>&lt;wcf&gt;&lt;xamarin.ios&gt;</td>\n      <td>monotouch - updating data locally</td>\n      <td>119</td>\n      <td>&lt;p&gt;In my ap we serilaize the data locally for ...</td>\n      <td>[serilaize, datum, locally, offline, use, ensu...</td>\n      <td>&lt;p&gt;In my ap we serilaize the data locally for ...</td>\n    </tr>\n    <tr>\n      <th>2920069</th>\n      <td>4503153</td>\n      <td>1</td>\n      <td>&lt;p&gt;I'm trying to use the code posted here: &lt;a ...</td>\n      <td>NaN</td>\n      <td>0</td>\n      <td>NaN</td>\n      <td>2010-05-27 09:56:29.943</td>\n      <td>0</td>\n      <td>2010-12-21 19:32:07.280</td>\n      <td>NaN</td>\n      <td>...</td>\n      <td>0</td>\n      <td>0</td>\n      <td>1</td>\n      <td>1</td>\n      <td>&lt;xamarin.ios&gt;&lt;augmented-reality&gt;</td>\n      <td>Monotouch Augmented Reality</td>\n      <td>580</td>\n      <td>&lt;p&gt;I'm trying to use the code posted here: &lt;a ...</td>\n      <td>[m, try, use, code, post, href, http, seanho, ...</td>\n      <td>&lt;p&gt;I'm trying to use the code posted here: &lt;a ...</td>\n    </tr>\n    <tr>\n      <th>3155711</th>\n      <td>3156721</td>\n      <td>1</td>\n      <td>&lt;p&gt;With the new additions to the OS and the ha...</td>\n      <td>NaN</td>\n      <td>0</td>\n      <td>NaN</td>\n      <td>2010-07-01 07:10:25.257</td>\n      <td>0</td>\n      <td>2010-07-01 09:58:30.393</td>\n      <td>NaN</td>\n      <td>...</td>\n      <td>0</td>\n      <td>0</td>\n      <td>1</td>\n      <td>0</td>\n      <td>&lt;iphone&gt;&lt;objective-c&gt;&lt;xamarin.ios&gt;&lt;augmented-r...</td>\n      <td>iPhone Augmented reality with iOS4 obj c + and...</td>\n      <td>881</td>\n      <td>&lt;p&gt;With the new additions to the OS and the ha...</td>\n      <td>[new, addition, hardware, iphone, app, serious...</td>\n      <td>&lt;p&gt;With the new additions to the OS and the ha...</td>\n    </tr>\n    <tr>\n      <th>3813715</th>\n      <td>3813880</td>\n      <td>2</td>\n      <td>&lt;p&gt;Monotouch compiles the app into the native ...</td>\n      <td>NaN</td>\n      <td>0</td>\n      <td>NaN</td>\n      <td>2010-09-28 14:20:47.650</td>\n      <td>0</td>\n      <td>2011-04-06 19:58:24.213</td>\n      <td>NaN</td>\n      <td>...</td>\n      <td>437039</td>\n      <td>0</td>\n      <td>1</td>\n      <td>2</td>\n      <td>&lt;xamarin.ios&gt;</td>\n      <td>How can Apple tell if an app was built in Mono...</td>\n      <td>659</td>\n      <td>&lt;p&gt;Monotouch compiles the app into the native ...</td>\n      <td>[monotouch, compile, app, native, code, apple,...</td>\n      <td>&lt;p&gt;Monotouch compiles the app into the native ...</td>\n    </tr>\n    <tr>\n      <th>3819748</th>\n      <td>3819855</td>\n      <td>2</td>\n      <td>&lt;p&gt;Is it possible to use 3rd party libraries w...</td>\n      <td>NaN</td>\n      <td>0</td>\n      <td>NaN</td>\n      <td>2010-09-29 07:59:50.230</td>\n      <td>2</td>\n      <td>2011-11-24 16:35:57.680</td>\n      <td>2011-11-24 16:35:57.680</td>\n      <td>...</td>\n      <td>390198</td>\n      <td>0</td>\n      <td>1</td>\n      <td>2</td>\n      <td>&lt;c#&gt;&lt;objective-c&gt;&lt;xamarin.ios&gt;</td>\n      <td>3rd party libraries in MonoTouch?</td>\n      <td>1035</td>\n      <td>&lt;p&gt;Is it possible to use 3rd party libraries w...</td>\n      <td>[possible, use, rd_party, library, write, mono...</td>\n      <td>&lt;p&gt;Is it possible to use 3rd party libraries w...</td>\n    </tr>\n    <tr>\n      <th>4028356</th>\n      <td>4093283</td>\n      <td>1</td>\n      <td>&lt;p&gt;I am using MonoTouch.Dialog's OwnerDrawnEle...</td>\n      <td>NaN</td>\n      <td>0</td>\n      <td>NaN</td>\n      <td>2010-10-26 21:55:19.683</td>\n      <td>0</td>\n      <td>2010-11-04 02:01:09.413</td>\n      <td>NaN</td>\n      <td>...</td>\n      <td>488160</td>\n      <td>0</td>\n      <td>1</td>\n      <td>3</td>\n      <td>&lt;dialog&gt;&lt;xamarin.ios&gt;</td>\n      <td>MonoTouch.Dialog's OwnerDrawnElement highlight...</td>\n      <td>626</td>\n      <td>&lt;p&gt;I am using MonoTouch.Dialog's OwnerDrawnEle...</td>\n      <td>[use, monotouch, dialog, do, seem, allow, user...</td>\n      <td>&lt;p&gt;I am using MonoTouch.Dialog's OwnerDrawnEle...</td>\n    </tr>\n    <tr>\n      <th>4105249</th>\n      <td>4105267</td>\n      <td>2</td>\n      <td>&lt;p&gt;I have created a small iPhone app using Mon...</td>\n      <td>NaN</td>\n      <td>0</td>\n      <td>NaN</td>\n      <td>2010-11-05 10:58:53.267</td>\n      <td>1</td>\n      <td>2010-11-05 14:12:56.453</td>\n      <td>NaN</td>\n      <td>...</td>\n      <td>258354</td>\n      <td>0</td>\n      <td>1</td>\n      <td>0</td>\n      <td>&lt;iphone&gt;&lt;xamarin.ios&gt;</td>\n      <td>iPhone App using MonoTouch - which files/folde...</td>\n      <td>789</td>\n      <td>&lt;p&gt;I have created a small iPhone app using Mon...</td>\n      <td>[create, small, iphone, app, use, monotouch, g...</td>\n      <td>&lt;p&gt;I have created a small iPhone app using Mon...</td>\n    </tr>\n    <tr>\n      <th>4239115</th>\n      <td>4437224</td>\n      <td>1</td>\n      <td>&lt;p&gt;new to jquery and jquerymobile.&lt;/p&gt;\\n\\n&lt;p&gt;A...</td>\n      <td>NaN</td>\n      <td>0</td>\n      <td>NaN</td>\n      <td>2010-11-21 17:14:22.267</td>\n      <td>0</td>\n      <td>2011-02-01 18:38:52.697</td>\n      <td>2010-11-21 19:49:47.460</td>\n      <td>...</td>\n      <td>216135</td>\n      <td>0</td>\n      <td>1</td>\n      <td>1</td>\n      <td>&lt;jquery&gt;&lt;jquery-mobile&gt;</td>\n      <td>Help with making menu button for jQueryMobile</td>\n      <td>3434</td>\n      <td>&lt;p&gt;new to jquery and jquerymobile.&lt;/p&gt;\\n\\n&lt;p&gt;A...</td>\n      <td>[new, jquery, jquerymobile, want, hide, main, ...</td>\n      <td>&lt;p&gt;new to jquery and jquerymobile.&lt;/p&gt;\\n\\n&lt;p&gt;A...</td>\n    </tr>\n    <tr>\n      <th>4278606</th>\n      <td>4285903</td>\n      <td>2</td>\n      <td>&lt;p&gt;Is it possible to get both the MonoTouch an...</td>\n      <td>NaN</td>\n      <td>0</td>\n      <td>NaN</td>\n      <td>2010-11-25 15:28:08.910</td>\n      <td>0</td>\n      <td>2011-04-16 16:52:32.440</td>\n      <td>NaN</td>\n      <td>...</td>\n      <td>335794</td>\n      <td>0</td>\n      <td>1</td>\n      <td>0</td>\n      <td>&lt;xamarin.ios&gt;&lt;license-key&gt;&lt;xamarin.android&gt;</td>\n      <td>Buy licenses for MonoTouch and MonoDroid together</td>\n      <td>812</td>\n      <td>&lt;p&gt;Is it possible to get both the MonoTouch an...</td>\n      <td>[possible, get, monotouch, monodroid, license,...</td>\n      <td>&lt;p&gt;Is it possible to get both the MonoTouch an...</td>\n    </tr>\n    <tr>\n      <th>4455224</th>\n      <td>4500915</td>\n      <td>1</td>\n      <td>&lt;p&gt;Is there a quick way to populate a UIPicker...</td>\n      <td>NaN</td>\n      <td>0</td>\n      <td>NaN</td>\n      <td>2010-12-15 21:41:46.617</td>\n      <td>0</td>\n      <td>2010-12-21 15:31:59.493</td>\n      <td>NaN</td>\n      <td>...</td>\n      <td>382140</td>\n      <td>0</td>\n      <td>1</td>\n      <td>2</td>\n      <td>&lt;xamarin.ios&gt;&lt;uipickerview&gt;</td>\n      <td>Monotouch - Populate a UIViewPicker</td>\n      <td>1658</td>\n      <td>&lt;p&gt;Is there a quick way to populate a UIPicker...</td>\n      <td>[quick, way, populate, uipickerview, value, pi...</td>\n      <td>&lt;p&gt;Is there a quick way to populate a UIPicker...</td>\n    </tr>\n    <tr>\n      <th>4517228</th>\n      <td>5799982</td>\n      <td>3</td>\n      <td>&lt;p&gt;I working on a multicolumn layout in Jquery...</td>\n      <td>NaN</td>\n      <td>0</td>\n      <td>NaN</td>\n      <td>2010-12-23 09:05:40.800</td>\n      <td>3</td>\n      <td>2012-05-04 14:58:57.910</td>\n      <td>NaN</td>\n      <td>...</td>\n      <td>536768</td>\n      <td>0</td>\n      <td>1</td>\n      <td>4</td>\n      <td>&lt;jquery&gt;&lt;jquery-mobile&gt;</td>\n      <td>jquery-mobile - how can I bind disable ajax li...</td>\n      <td>7667</td>\n      <td>&lt;p&gt;I working on a multicolumn layout in Jquery...</td>\n      <td>[work, multicolumn, layout, jquery_mobile, use...</td>\n      <td>&lt;p&gt;I working on a multicolumn layout in Jquery...</td>\n    </tr>\n  </tbody>\n</table>\n<p>20 rows × 22 columns</p>\n</div>"
     },
     "execution_count": 34,
     "metadata": {},
     "output_type": "execute_result"
    }
   ],
   "source": [
    "print(data_lemmatized[:2])\n",
    "\n",
    "reviews_datasets['topics']=data_lemmatized\n",
    "reviews_datasets['obody']=obody\n",
    "cview = reviews_datasets['ViewCount'].astype(int)\n",
    "avgfav = reviews_datasets['FavoriteCount'].astype(int)\n",
    "avgscore = reviews_datasets['Score'].astype(int)\n",
    "body = reviews_datasets['Body']\n",
    "titles = reviews_datasets['Title']\n",
    "# caccepans = reviews_datasets['AnswerCount']\n",
    "# ansdelay = reviews_datasets['answerdelay']\n",
    "# avgdelay = ansdelay.fillna(0)\n",
    "reviews_datasets.head(20)\n",
    "#reset option to default value"
   ]
  },
  {
   "cell_type": "code",
   "execution_count": 16,
   "metadata": {
    "pycharm": {
     "name": "#%%\n"
    }
   },
   "outputs": [
    {
     "name": "stderr",
     "output_type": "stream",
     "text": [
      "C:\\tools\\Anaconda3\\lib\\site-packages\\ipykernel\\ipkernel.py:287: DeprecationWarning: `should_run_async` will not call `transform_cell` automatically in the future. Please pass the result to `transformed_cell` argument and any exception that happen during thetransform in `preprocessing_exc_tuple` in IPython 7.17 and above.\n",
      "  and should_run_async(code)\n"
     ]
    }
   ],
   "source": [
    "reviews_datasets.to_csv(\"E:/so-data/output1.csv\")"
   ]
  },
  {
   "cell_type": "code",
   "execution_count": 17,
   "metadata": {},
   "outputs": [
    {
     "name": "stderr",
     "output_type": "stream",
     "text": [
      "C:\\tools\\Anaconda3\\lib\\site-packages\\ipykernel\\ipkernel.py:287: DeprecationWarning: `should_run_async` will not call `transform_cell` automatically in the future. Please pass the result to `transformed_cell` argument and any exception that happen during thetransform in `preprocessing_exc_tuple` in IPython 7.17 and above.\n",
      "  and should_run_async(code)\n"
     ]
    }
   ],
   "source": [
    "# Create Dictionary\n",
    "id2word = corpora.Dictionary(data_lemmatized)\n",
    "\n",
    "# Create Corpus\n",
    "texts = data_lemmatized\n",
    "\n",
    "# Term Document Frequency\n",
    "corpus = [id2word.doc2bow(text) for text in texts]"
   ]
  },
  {
   "cell_type": "code",
   "execution_count": 18,
   "metadata": {
    "pycharm": {
     "name": "#%%\n"
    }
   },
   "outputs": [
    {
     "name": "stderr",
     "output_type": "stream",
     "text": [
      "C:\\tools\\Anaconda3\\lib\\site-packages\\ipykernel\\ipkernel.py:287: DeprecationWarning: `should_run_async` will not call `transform_cell` automatically in the future. Please pass the result to `transformed_cell` argument and any exception that happen during thetransform in `preprocessing_exc_tuple` in IPython 7.17 and above.\n",
      "  and should_run_async(code)\n"
     ]
    }
   ],
   "source": [
    "import os\n",
    "from gensim.models.wrappers import LdaMallet\n",
    "\n",
    "os.environ['MALLET_HOME'] = 'E:\\\\so-data\\\\mallet-2.0.8\\\\mallet-2.0.8'\n",
    "\n",
    "mallet_path = 'E:\\\\so-data\\\\mallet-2.0.8\\\\mallet-2.0.8\\\\bin\\\\mallet'"
   ]
  },
  {
   "cell_type": "code",
   "execution_count": 19,
   "metadata": {
    "pycharm": {
     "name": "#%%\n"
    }
   },
   "outputs": [
    {
     "name": "stderr",
     "output_type": "stream",
     "text": [
      "C:\\tools\\Anaconda3\\lib\\site-packages\\ipykernel\\ipkernel.py:287: DeprecationWarning: `should_run_async` will not call `transform_cell` automatically in the future. Please pass the result to `transformed_cell` argument and any exception that happen during thetransform in `preprocessing_exc_tuple` in IPython 7.17 and above.\n",
      "  and should_run_async(code)\n"
     ]
    }
   ],
   "source": [
    "# lda_mallet = gensim.models.wrappers.LdaMallet(mallet_path, corpus=corpus, num_topics=30, id2word=id2word, optimize_interval=10, iterations=1500)"
   ]
  },
  {
   "cell_type": "code",
   "execution_count": 20,
   "metadata": {},
   "outputs": [
    {
     "name": "stderr",
     "output_type": "stream",
     "text": [
      "C:\\tools\\Anaconda3\\lib\\site-packages\\ipykernel\\ipkernel.py:287: DeprecationWarning: `should_run_async` will not call `transform_cell` automatically in the future. Please pass the result to `transformed_cell` argument and any exception that happen during thetransform in `preprocessing_exc_tuple` in IPython 7.17 and above.\n",
      "  and should_run_async(code)\n"
     ]
    }
   ],
   "source": [
    "# gensim.models.LdaModel?"
   ]
  },
  {
   "cell_type": "code",
   "execution_count": 21,
   "metadata": {
    "pycharm": {
     "name": "#%%\n"
    }
   },
   "outputs": [
    {
     "name": "stderr",
     "output_type": "stream",
     "text": [
      "C:\\tools\\Anaconda3\\lib\\site-packages\\ipykernel\\ipkernel.py:287: DeprecationWarning: `should_run_async` will not call `transform_cell` automatically in the future. Please pass the result to `transformed_cell` argument and any exception that happen during thetransform in `preprocessing_exc_tuple` in IPython 7.17 and above.\n",
      "  and should_run_async(code)\n"
     ]
    }
   ],
   "source": [
    "# Compute Coherence Score\n",
    "# coherence_model_ldamallet = CoherenceModel(model=lda_mallet, texts=data_lemmatized, dictionary=id2word, coherence='c_v')\n",
    "# coherence_ldamallet = coherence_model_ldamallet.get_coherence()\n",
    "# print('\\nCoherence Score: ', coherence_ldamallet)"
   ]
  },
  {
   "cell_type": "code",
   "execution_count": 22,
   "metadata": {
    "pycharm": {
     "name": "#%%\n"
    }
   },
   "outputs": [
    {
     "name": "stderr",
     "output_type": "stream",
     "text": [
      "C:\\tools\\Anaconda3\\lib\\site-packages\\ipykernel\\ipkernel.py:287: DeprecationWarning: `should_run_async` will not call `transform_cell` automatically in the future. Please pass the result to `transformed_cell` argument and any exception that happen during thetransform in `preprocessing_exc_tuple` in IPython 7.17 and above.\n",
      "  and should_run_async(code)\n"
     ]
    }
   ],
   "source": [
    "def compute_coherence_values(dictionary, corpus, texts, limit, start=15, step=5):\n",
    "    \"\"\"\n",
    "    Compute c_v coherence for various number of topics\n",
    "    Parameters:\n",
    "    ----------\n",
    "    dictionary : Gensim dictionary\n",
    "    corpus : Gensim corpus\n",
    "    texts : List of input texts\n",
    "    limit : Max num of topics\n",
    "    Returns:\n",
    "    -------\n",
    "    model_list : List of LDA topic models\n",
    "    coherence_values : Coherence values corresponding to the LDA model with respective number of topics\n",
    "    \"\"\"\n",
    "    coherence_values = []\n",
    "    model_list = []\n",
    "    for num_topics in range(start, limit, step):\n",
    "        print(num_topics)\n",
    "        model = gensim.models.wrappers.LdaMallet(mallet_path, corpus=corpus, num_topics=num_topics, id2word=id2word)\n",
    "        model_list.append(model)\n",
    "        coherencemodel = CoherenceModel(model=model, texts=texts, dictionary=dictionary, coherence='c_v')\n",
    "        coherence_values.append(coherencemodel.get_coherence())\n",
    "\n",
    "    return model_list, coherence_values"
   ]
  },
  {
   "cell_type": "code",
   "execution_count": 23,
   "metadata": {
    "pycharm": {
     "name": "#%%\n"
    }
   },
   "outputs": [
    {
     "name": "stderr",
     "output_type": "stream",
     "text": [
      "C:\\tools\\Anaconda3\\lib\\site-packages\\ipykernel\\ipkernel.py:287: DeprecationWarning: `should_run_async` will not call `transform_cell` automatically in the future. Please pass the result to `transformed_cell` argument and any exception that happen during thetransform in `preprocessing_exc_tuple` in IPython 7.17 and above.\n",
      "  and should_run_async(code)\n"
     ]
    }
   ],
   "source": [
    "#model_list, coherence_values = compute_coherence_values(dictionary=id2word, corpus=corpus, texts=data_lemmatized, start=15, limit=45, step=5)"
   ]
  },
  {
   "cell_type": "code",
   "execution_count": 24,
   "outputs": [
    {
     "name": "stderr",
     "output_type": "stream",
     "text": [
      "C:\\tools\\Anaconda3\\lib\\site-packages\\ipykernel\\ipkernel.py:287: DeprecationWarning: `should_run_async` will not call `transform_cell` automatically in the future. Please pass the result to `transformed_cell` argument and any exception that happen during thetransform in `preprocessing_exc_tuple` in IPython 7.17 and above.\n",
      "  and should_run_async(code)\n"
     ]
    }
   ],
   "source": [
    "# #Show graph\n",
    "# limit=45; start=15; step=5;\n",
    "# x = range(start, limit, step)\n",
    "# plt.plot(x, coherence_values)\n",
    "# plt.xlabel(\"Num Topics\")\n",
    "# plt.ylabel(\"Coherence score\")\n",
    "# plt.legend((\"coherence_values\"), loc='best')\n",
    "# plt.show()"
   ],
   "metadata": {
    "collapsed": false,
    "pycharm": {
     "name": "#%%\n"
    }
   }
  },
  {
   "cell_type": "code",
   "execution_count": 25,
   "outputs": [
    {
     "name": "stderr",
     "output_type": "stream",
     "text": [
      "C:\\tools\\Anaconda3\\lib\\site-packages\\ipykernel\\ipkernel.py:287: DeprecationWarning: `should_run_async` will not call `transform_cell` automatically in the future. Please pass the result to `transformed_cell` argument and any exception that happen during thetransform in `preprocessing_exc_tuple` in IPython 7.17 and above.\n",
      "  and should_run_async(code)\n"
     ]
    }
   ],
   "source": [
    "# print(coherence_values)"
   ],
   "metadata": {
    "collapsed": false,
    "pycharm": {
     "name": "#%%\n"
    }
   }
  },
  {
   "cell_type": "code",
   "execution_count": 26,
   "outputs": [
    {
     "name": "stderr",
     "output_type": "stream",
     "text": [
      "C:\\tools\\Anaconda3\\lib\\site-packages\\ipykernel\\ipkernel.py:287: DeprecationWarning: `should_run_async` will not call `transform_cell` automatically in the future. Please pass the result to `transformed_cell` argument and any exception that happen during thetransform in `preprocessing_exc_tuple` in IPython 7.17 and above.\n",
      "  and should_run_async(code)\n"
     ]
    }
   ],
   "source": [
    "def calculate_best_iterations(number_of_topics, number_of_iterations):\n",
    "    print(number_of_iterations)\n",
    "    lda_mallet = gensim.models.wrappers.LdaMallet(mallet_path, corpus = corpus, num_topics= number_of_topics, id2word= id2word, optimize_interval=10, iterations= number_of_iterations)\n",
    "    coherence_model_ldamallet = CoherenceModel(model=lda_mallet, texts=data_lemmatized, dictionary=id2word, coherence='c_v')\n",
    "    iterations.append(number_of_iterations)\n",
    "    iteration_based_coherence_values.append(coherence_model_ldamallet.get_coherence())"
   ],
   "metadata": {
    "collapsed": false,
    "pycharm": {
     "name": "#%%\n"
    }
   }
  },
  {
   "cell_type": "code",
   "execution_count": 27,
   "outputs": [
    {
     "name": "stderr",
     "output_type": "stream",
     "text": [
      "C:\\tools\\Anaconda3\\lib\\site-packages\\ipykernel\\ipkernel.py:287: DeprecationWarning: `should_run_async` will not call `transform_cell` automatically in the future. Please pass the result to `transformed_cell` argument and any exception that happen during thetransform in `preprocessing_exc_tuple` in IPython 7.17 and above.\n",
      "  and should_run_async(code)\n"
     ]
    },
    {
     "name": "stdout",
     "output_type": "stream",
     "text": [
      "500\n"
     ]
    },
    {
     "ename": "KeyboardInterrupt",
     "evalue": "",
     "output_type": "error",
     "traceback": [
      "\u001B[1;31m---------------------------------------------------------------------------\u001B[0m",
      "\u001B[1;31mKeyboardInterrupt\u001B[0m                         Traceback (most recent call last)",
      "\u001B[1;32m<ipython-input-27-37b5fbabff2c>\u001B[0m in \u001B[0;36m<module>\u001B[1;34m\u001B[0m\n\u001B[0;32m      3\u001B[0m \u001B[1;33m\u001B[0m\u001B[0m\n\u001B[0;32m      4\u001B[0m \u001B[1;32mfor\u001B[0m \u001B[0mi\u001B[0m \u001B[1;32min\u001B[0m \u001B[1;33m[\u001B[0m\u001B[1;36m500\u001B[0m\u001B[1;33m,\u001B[0m\u001B[1;36m1000\u001B[0m\u001B[1;33m,\u001B[0m\u001B[1;36m1500\u001B[0m\u001B[1;33m,\u001B[0m\u001B[1;36m2000\u001B[0m\u001B[1;33m,\u001B[0m\u001B[1;36m2500\u001B[0m\u001B[1;33m,\u001B[0m \u001B[1;36m3000\u001B[0m\u001B[1;33m]\u001B[0m\u001B[1;33m:\u001B[0m\u001B[1;33m\u001B[0m\u001B[1;33m\u001B[0m\u001B[0m\n\u001B[1;32m----> 5\u001B[1;33m     \u001B[0mcalculate_best_iterations\u001B[0m\u001B[1;33m(\u001B[0m\u001B[1;36m35\u001B[0m\u001B[1;33m,\u001B[0m \u001B[0mi\u001B[0m\u001B[1;33m)\u001B[0m\u001B[1;33m\u001B[0m\u001B[1;33m\u001B[0m\u001B[0m\n\u001B[0m\u001B[0;32m      6\u001B[0m \u001B[1;33m\u001B[0m\u001B[0m\n\u001B[0;32m      7\u001B[0m \u001B[1;31m#Show graph\u001B[0m\u001B[1;33m\u001B[0m\u001B[1;33m\u001B[0m\u001B[1;33m\u001B[0m\u001B[0m\n",
      "\u001B[1;32m<ipython-input-26-69999c974bf1>\u001B[0m in \u001B[0;36mcalculate_best_iterations\u001B[1;34m(number_of_topics, number_of_iterations)\u001B[0m\n\u001B[0;32m      1\u001B[0m \u001B[1;32mdef\u001B[0m \u001B[0mcalculate_best_iterations\u001B[0m\u001B[1;33m(\u001B[0m\u001B[0mnumber_of_topics\u001B[0m\u001B[1;33m,\u001B[0m \u001B[0mnumber_of_iterations\u001B[0m\u001B[1;33m)\u001B[0m\u001B[1;33m:\u001B[0m\u001B[1;33m\u001B[0m\u001B[1;33m\u001B[0m\u001B[0m\n\u001B[0;32m      2\u001B[0m     \u001B[0mprint\u001B[0m\u001B[1;33m(\u001B[0m\u001B[0mnumber_of_iterations\u001B[0m\u001B[1;33m)\u001B[0m\u001B[1;33m\u001B[0m\u001B[1;33m\u001B[0m\u001B[0m\n\u001B[1;32m----> 3\u001B[1;33m     \u001B[0mlda_mallet\u001B[0m \u001B[1;33m=\u001B[0m \u001B[0mgensim\u001B[0m\u001B[1;33m.\u001B[0m\u001B[0mmodels\u001B[0m\u001B[1;33m.\u001B[0m\u001B[0mwrappers\u001B[0m\u001B[1;33m.\u001B[0m\u001B[0mLdaMallet\u001B[0m\u001B[1;33m(\u001B[0m\u001B[0mmallet_path\u001B[0m\u001B[1;33m,\u001B[0m \u001B[0mcorpus\u001B[0m \u001B[1;33m=\u001B[0m \u001B[0mcorpus\u001B[0m\u001B[1;33m,\u001B[0m \u001B[0mnum_topics\u001B[0m\u001B[1;33m=\u001B[0m \u001B[0mnumber_of_topics\u001B[0m\u001B[1;33m,\u001B[0m \u001B[0mid2word\u001B[0m\u001B[1;33m=\u001B[0m \u001B[0mid2word\u001B[0m\u001B[1;33m,\u001B[0m \u001B[0moptimize_interval\u001B[0m\u001B[1;33m=\u001B[0m\u001B[1;36m10\u001B[0m\u001B[1;33m,\u001B[0m \u001B[0miterations\u001B[0m\u001B[1;33m=\u001B[0m \u001B[0mnumber_of_iterations\u001B[0m\u001B[1;33m)\u001B[0m\u001B[1;33m\u001B[0m\u001B[1;33m\u001B[0m\u001B[0m\n\u001B[0m\u001B[0;32m      4\u001B[0m     \u001B[0mcoherence_model_ldamallet\u001B[0m \u001B[1;33m=\u001B[0m \u001B[0mCoherenceModel\u001B[0m\u001B[1;33m(\u001B[0m\u001B[0mmodel\u001B[0m\u001B[1;33m=\u001B[0m\u001B[0mlda_mallet\u001B[0m\u001B[1;33m,\u001B[0m \u001B[0mtexts\u001B[0m\u001B[1;33m=\u001B[0m\u001B[0mdata_lemmatized\u001B[0m\u001B[1;33m,\u001B[0m \u001B[0mdictionary\u001B[0m\u001B[1;33m=\u001B[0m\u001B[0mid2word\u001B[0m\u001B[1;33m,\u001B[0m \u001B[0mcoherence\u001B[0m\u001B[1;33m=\u001B[0m\u001B[1;34m'c_v'\u001B[0m\u001B[1;33m)\u001B[0m\u001B[1;33m\u001B[0m\u001B[1;33m\u001B[0m\u001B[0m\n\u001B[0;32m      5\u001B[0m     \u001B[0miterations\u001B[0m\u001B[1;33m.\u001B[0m\u001B[0mappend\u001B[0m\u001B[1;33m(\u001B[0m\u001B[0mnumber_of_iterations\u001B[0m\u001B[1;33m)\u001B[0m\u001B[1;33m\u001B[0m\u001B[1;33m\u001B[0m\u001B[0m\n",
      "\u001B[1;32mC:\\tools\\Anaconda3\\lib\\site-packages\\gensim\\models\\wrappers\\ldamallet.py\u001B[0m in \u001B[0;36m__init__\u001B[1;34m(self, mallet_path, corpus, num_topics, alpha, id2word, workers, prefix, optimize_interval, iterations, topic_threshold, random_seed)\u001B[0m\n\u001B[0;32m    129\u001B[0m         \u001B[0mself\u001B[0m\u001B[1;33m.\u001B[0m\u001B[0mrandom_seed\u001B[0m \u001B[1;33m=\u001B[0m \u001B[0mrandom_seed\u001B[0m\u001B[1;33m\u001B[0m\u001B[1;33m\u001B[0m\u001B[0m\n\u001B[0;32m    130\u001B[0m         \u001B[1;32mif\u001B[0m \u001B[0mcorpus\u001B[0m \u001B[1;32mis\u001B[0m \u001B[1;32mnot\u001B[0m \u001B[1;32mNone\u001B[0m\u001B[1;33m:\u001B[0m\u001B[1;33m\u001B[0m\u001B[1;33m\u001B[0m\u001B[0m\n\u001B[1;32m--> 131\u001B[1;33m             \u001B[0mself\u001B[0m\u001B[1;33m.\u001B[0m\u001B[0mtrain\u001B[0m\u001B[1;33m(\u001B[0m\u001B[0mcorpus\u001B[0m\u001B[1;33m)\u001B[0m\u001B[1;33m\u001B[0m\u001B[1;33m\u001B[0m\u001B[0m\n\u001B[0m\u001B[0;32m    132\u001B[0m \u001B[1;33m\u001B[0m\u001B[0m\n\u001B[0;32m    133\u001B[0m     \u001B[1;32mdef\u001B[0m \u001B[0mfinferencer\u001B[0m\u001B[1;33m(\u001B[0m\u001B[0mself\u001B[0m\u001B[1;33m)\u001B[0m\u001B[1;33m:\u001B[0m\u001B[1;33m\u001B[0m\u001B[1;33m\u001B[0m\u001B[0m\n",
      "\u001B[1;32mC:\\tools\\Anaconda3\\lib\\site-packages\\gensim\\models\\wrappers\\ldamallet.py\u001B[0m in \u001B[0;36mtrain\u001B[1;34m(self, corpus)\u001B[0m\n\u001B[0;32m    282\u001B[0m         \u001B[1;31m# NOTE \"--keep-sequence-bigrams\" / \"--use-ngrams true\" poorer results + runs out of memory\u001B[0m\u001B[1;33m\u001B[0m\u001B[1;33m\u001B[0m\u001B[1;33m\u001B[0m\u001B[0m\n\u001B[0;32m    283\u001B[0m         \u001B[0mlogger\u001B[0m\u001B[1;33m.\u001B[0m\u001B[0minfo\u001B[0m\u001B[1;33m(\u001B[0m\u001B[1;34m\"training MALLET LDA with %s\"\u001B[0m\u001B[1;33m,\u001B[0m \u001B[0mcmd\u001B[0m\u001B[1;33m)\u001B[0m\u001B[1;33m\u001B[0m\u001B[1;33m\u001B[0m\u001B[0m\n\u001B[1;32m--> 284\u001B[1;33m         \u001B[0mcheck_output\u001B[0m\u001B[1;33m(\u001B[0m\u001B[0margs\u001B[0m\u001B[1;33m=\u001B[0m\u001B[0mcmd\u001B[0m\u001B[1;33m,\u001B[0m \u001B[0mshell\u001B[0m\u001B[1;33m=\u001B[0m\u001B[1;32mTrue\u001B[0m\u001B[1;33m)\u001B[0m\u001B[1;33m\u001B[0m\u001B[1;33m\u001B[0m\u001B[0m\n\u001B[0m\u001B[0;32m    285\u001B[0m         \u001B[0mself\u001B[0m\u001B[1;33m.\u001B[0m\u001B[0mword_topics\u001B[0m \u001B[1;33m=\u001B[0m \u001B[0mself\u001B[0m\u001B[1;33m.\u001B[0m\u001B[0mload_word_topics\u001B[0m\u001B[1;33m(\u001B[0m\u001B[1;33m)\u001B[0m\u001B[1;33m\u001B[0m\u001B[1;33m\u001B[0m\u001B[0m\n\u001B[0;32m    286\u001B[0m         \u001B[1;31m# NOTE - we are still keeping the wordtopics variable to not break backward compatibility.\u001B[0m\u001B[1;33m\u001B[0m\u001B[1;33m\u001B[0m\u001B[1;33m\u001B[0m\u001B[0m\n",
      "\u001B[1;32mC:\\tools\\Anaconda3\\lib\\site-packages\\gensim\\utils.py\u001B[0m in \u001B[0;36mcheck_output\u001B[1;34m(stdout, *popenargs, **kwargs)\u001B[0m\n\u001B[0;32m   1908\u001B[0m         \u001B[0mlogger\u001B[0m\u001B[1;33m.\u001B[0m\u001B[0mdebug\u001B[0m\u001B[1;33m(\u001B[0m\u001B[1;34m\"COMMAND: %s %s\"\u001B[0m\u001B[1;33m,\u001B[0m \u001B[0mpopenargs\u001B[0m\u001B[1;33m,\u001B[0m \u001B[0mkwargs\u001B[0m\u001B[1;33m)\u001B[0m\u001B[1;33m\u001B[0m\u001B[1;33m\u001B[0m\u001B[0m\n\u001B[0;32m   1909\u001B[0m         \u001B[0mprocess\u001B[0m \u001B[1;33m=\u001B[0m \u001B[0msubprocess\u001B[0m\u001B[1;33m.\u001B[0m\u001B[0mPopen\u001B[0m\u001B[1;33m(\u001B[0m\u001B[0mstdout\u001B[0m\u001B[1;33m=\u001B[0m\u001B[0mstdout\u001B[0m\u001B[1;33m,\u001B[0m \u001B[1;33m*\u001B[0m\u001B[0mpopenargs\u001B[0m\u001B[1;33m,\u001B[0m \u001B[1;33m**\u001B[0m\u001B[0mkwargs\u001B[0m\u001B[1;33m)\u001B[0m\u001B[1;33m\u001B[0m\u001B[1;33m\u001B[0m\u001B[0m\n\u001B[1;32m-> 1910\u001B[1;33m         \u001B[0moutput\u001B[0m\u001B[1;33m,\u001B[0m \u001B[0munused_err\u001B[0m \u001B[1;33m=\u001B[0m \u001B[0mprocess\u001B[0m\u001B[1;33m.\u001B[0m\u001B[0mcommunicate\u001B[0m\u001B[1;33m(\u001B[0m\u001B[1;33m)\u001B[0m\u001B[1;33m\u001B[0m\u001B[1;33m\u001B[0m\u001B[0m\n\u001B[0m\u001B[0;32m   1911\u001B[0m         \u001B[0mretcode\u001B[0m \u001B[1;33m=\u001B[0m \u001B[0mprocess\u001B[0m\u001B[1;33m.\u001B[0m\u001B[0mpoll\u001B[0m\u001B[1;33m(\u001B[0m\u001B[1;33m)\u001B[0m\u001B[1;33m\u001B[0m\u001B[1;33m\u001B[0m\u001B[0m\n\u001B[0;32m   1912\u001B[0m         \u001B[1;32mif\u001B[0m \u001B[0mretcode\u001B[0m\u001B[1;33m:\u001B[0m\u001B[1;33m\u001B[0m\u001B[1;33m\u001B[0m\u001B[0m\n",
      "\u001B[1;32mC:\\tools\\Anaconda3\\lib\\subprocess.py\u001B[0m in \u001B[0;36mcommunicate\u001B[1;34m(self, input, timeout)\u001B[0m\n\u001B[0;32m   1009\u001B[0m                 \u001B[0mself\u001B[0m\u001B[1;33m.\u001B[0m\u001B[0m_stdin_write\u001B[0m\u001B[1;33m(\u001B[0m\u001B[0minput\u001B[0m\u001B[1;33m)\u001B[0m\u001B[1;33m\u001B[0m\u001B[1;33m\u001B[0m\u001B[0m\n\u001B[0;32m   1010\u001B[0m             \u001B[1;32melif\u001B[0m \u001B[0mself\u001B[0m\u001B[1;33m.\u001B[0m\u001B[0mstdout\u001B[0m\u001B[1;33m:\u001B[0m\u001B[1;33m\u001B[0m\u001B[1;33m\u001B[0m\u001B[0m\n\u001B[1;32m-> 1011\u001B[1;33m                 \u001B[0mstdout\u001B[0m \u001B[1;33m=\u001B[0m \u001B[0mself\u001B[0m\u001B[1;33m.\u001B[0m\u001B[0mstdout\u001B[0m\u001B[1;33m.\u001B[0m\u001B[0mread\u001B[0m\u001B[1;33m(\u001B[0m\u001B[1;33m)\u001B[0m\u001B[1;33m\u001B[0m\u001B[1;33m\u001B[0m\u001B[0m\n\u001B[0m\u001B[0;32m   1012\u001B[0m                 \u001B[0mself\u001B[0m\u001B[1;33m.\u001B[0m\u001B[0mstdout\u001B[0m\u001B[1;33m.\u001B[0m\u001B[0mclose\u001B[0m\u001B[1;33m(\u001B[0m\u001B[1;33m)\u001B[0m\u001B[1;33m\u001B[0m\u001B[1;33m\u001B[0m\u001B[0m\n\u001B[0;32m   1013\u001B[0m             \u001B[1;32melif\u001B[0m \u001B[0mself\u001B[0m\u001B[1;33m.\u001B[0m\u001B[0mstderr\u001B[0m\u001B[1;33m:\u001B[0m\u001B[1;33m\u001B[0m\u001B[1;33m\u001B[0m\u001B[0m\n",
      "\u001B[1;31mKeyboardInterrupt\u001B[0m: "
     ]
    }
   ],
   "source": [
    "iterations = []\n",
    "iteration_based_coherence_values = []t\n",
    "\n",
    "for i in [500,1000,1500,2000,2500, 3000]:\n",
    "    calculate_best_iterations(35, i)\n",
    "\n",
    "#Show graph\n",
    "limit=3000; start=500; step=500;\n",
    "x = range(start, limit, step)\n",
    "plt.plot(x, iteration_based_coherence_values)\n",
    "plt.xlabel(\"Num of iterations\")\n",
    "plt.ylabel(\"Coherence score\")\n",
    "plt.legend((\"coherence_values\"), loc='best')\n",
    "plt.show()"
   ],
   "metadata": {
    "collapsed": false,
    "pycharm": {
     "name": "#%%\n"
    }
   }
  },
  {
   "cell_type": "code",
   "execution_count": null,
   "outputs": [],
   "source": [
    "for i in iteration_based_coherence_values:\n",
    "    print(i)"
   ],
   "metadata": {
    "collapsed": false,
    "pycharm": {
     "name": "#%%\n"
    }
   }
  },
  {
   "cell_type": "code",
   "execution_count": null,
   "outputs": [],
   "source": [
    "#Show graph\n",
    "limit=3000; start=500; step=500;\n",
    "x = range(start, limit, step)\n",
    "plt.plot(x, iteration_based_coherence_values)\n",
    "plt.xlabel(\"Num of iterations\")\n",
    "plt.ylabel(\"Coherence score\")\n",
    "plt.legend((\"coherence_values\"), loc='best')\n",
    "plt.show()"
   ],
   "metadata": {
    "collapsed": false,
    "pycharm": {
     "name": "#%%\n"
    }
   }
  },
  {
   "cell_type": "code",
   "execution_count": 28,
   "outputs": [
    {
     "name": "stderr",
     "output_type": "stream",
     "text": [
      "C:\\tools\\Anaconda3\\lib\\site-packages\\ipykernel\\ipkernel.py:287: DeprecationWarning: `should_run_async` will not call `transform_cell` automatically in the future. Please pass the result to `transformed_cell` argument and any exception that happen during thetransform in `preprocessing_exc_tuple` in IPython 7.17 and above.\n",
      "  and should_run_async(code)\n"
     ]
    }
   ],
   "source": [
    "lda_mallet = gensim.models.wrappers.LdaMallet(mallet_path, corpus=corpus, num_topics=35, id2word=id2word, optimize_interval=10, iterations=1000, alpha=5)"
   ],
   "metadata": {
    "collapsed": false,
    "pycharm": {
     "name": "#%%\n"
    }
   }
  },
  {
   "cell_type": "code",
   "execution_count": 35,
   "outputs": [
    {
     "name": "stderr",
     "output_type": "stream",
     "text": [
      "C:\\tools\\Anaconda3\\lib\\site-packages\\ipykernel\\ipkernel.py:287: DeprecationWarning: `should_run_async` will not call `transform_cell` automatically in the future. Please pass the result to `transformed_cell` argument and any exception that happen during thetransform in `preprocessing_exc_tuple` in IPython 7.17 and above.\n",
      "  and should_run_async(code)\n"
     ]
    }
   ],
   "source": [
    "###################################\n",
    "# topic development\n",
    "###################################\n",
    "\n",
    "def format_topics_sentences(ldamodel=lda_mallet, corpus=corpus, texts=data_lemmatized, title=data_lemmatized):\n",
    "    # Init output\n",
    "    sent_topics_df = pd.DataFrame()\n",
    "\n",
    "    # Get main topic in each document\n",
    "    for i, row in enumerate(ldamodel[corpus]):\n",
    "        row = sorted(row, key=lambda x: (x[1]), reverse=True)\n",
    "        # Get the Dominant topic, Perc Contribution and Keywords for each document\n",
    "        for j, (topic_num, prop_topic) in enumerate(row):\n",
    "            if j == 0:  # => dominant topic\n",
    "                wp = ldamodel.show_topic(topic_num)\n",
    "                topic_keywords = \", \".join([word for word, prop in wp])\n",
    "                sent_topics_df = sent_topics_df.append(pd.Series([int(topic_num), round(prop_topic,4), topic_keywords]), ignore_index=True)\n",
    "            else:\n",
    "                break\n",
    "    sent_topics_df.columns = ['Dominant_Topic', 'Perc_Contribution', 'Topic_Keywords']\n",
    "\n",
    "    # Add original text to the end of the output\n",
    "    contents = pd.Series(texts)\n",
    "    contents2 = pd.Series(title)\n",
    "    sent_topics_df = pd.concat([sent_topics_df, contents, contents2], axis=1)\n",
    "    return(sent_topics_df)"
   ],
   "metadata": {
    "collapsed": false,
    "pycharm": {
     "name": "#%%\n"
    }
   }
  },
  {
   "cell_type": "code",
   "execution_count": 36,
   "outputs": [
    {
     "name": "stderr",
     "output_type": "stream",
     "text": [
      "C:\\tools\\Anaconda3\\lib\\site-packages\\ipykernel\\ipkernel.py:287: DeprecationWarning: `should_run_async` will not call `transform_cell` automatically in the future. Please pass the result to `transformed_cell` argument and any exception that happen during thetransform in `preprocessing_exc_tuple` in IPython 7.17 and above.\n",
      "  and should_run_async(code)\n"
     ]
    }
   ],
   "source": [
    "df_topic_sents_keywords = format_topics_sentences(ldamodel=lda_mallet, corpus=corpus, texts=body, title=titles)"
   ],
   "metadata": {
    "collapsed": false,
    "pycharm": {
     "name": "#%%\n"
    }
   }
  },
  {
   "cell_type": "code",
   "execution_count": null,
   "outputs": [],
   "source": [
    "# Format\n",
    "df_dominant_topic = df_topic_sents_keywords.reset_index()\n",
    "df_dominant_topic.columns = ['Document_No', 'Dominant_Topic', 'Topic_Perc_Contrib', 'Keywords', 'texts', 'title']\n",
    "df_dominant_topic.to_csv(\"E:/so-data/final_topics_with_body_23042021_500.csv\")"
   ],
   "metadata": {
    "collapsed": false,
    "pycharm": {
     "name": "#%%\n"
    }
   }
  }
 ],
 "metadata": {
  "kernelspec": {
   "display_name": "Python 3",
   "language": "python",
   "name": "python3"
  },
  "language_info": {
   "codemirror_mode": {
    "name": "ipython",
    "version": 3
   },
   "file_extension": ".py",
   "mimetype": "text/x-python",
   "name": "python",
   "nbconvert_exporter": "python",
   "pygments_lexer": "ipython3",
   "version": "3.8.5"
  }
 },
 "nbformat": 4,
 "nbformat_minor": 4
}